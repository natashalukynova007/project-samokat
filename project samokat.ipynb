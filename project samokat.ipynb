{
 "cells": [
  {
   "cell_type": "markdown",
   "id": "85b6e390",
   "metadata": {},
   "source": [
    "# Статистический анализ о прокате самокатов."
   ]
  },
  {
   "cell_type": "markdown",
   "id": "ca8de6cd",
   "metadata": {},
   "source": [
    "Вы аналитик популярного сервиса аренды самокатов GoFast. Вам передали данные о некоторых пользователях из нескольких городов, а также об их поездках. Проанализируйте данные и проверьте некоторые гипотезы, которые могут помочь бизнесу вырасти.\n",
    "Чтобы совершать поездки по городу, пользователи сервиса GoFast пользуются мобильным приложением. Сервисом можно пользоваться:\n",
    "\n",
    "    без подписки\n",
    "        абонентская плата отсутствует;\n",
    "        стоимость одной минуты поездки — 8 рублей;\n",
    "        стоимость старта (начала поездки) — 50 рублей;\n",
    "    \n",
    "    с подпиской Ultra\n",
    "        абонентская плата — 199 рублей в месяц;\n",
    "        стоимость одной минуты поездки — 6 рублей;\n",
    "        стоимость старта — бесплатно.\n",
    "        \n",
    "        Цели исследования проверить гипотезы:\n",
    "    6.1 Важно понять, тратят ли пользователи с подпиской больше времени на поездки? Если да, то пользователи с подпиской могут быть «выгоднее» для компании. Проверьте гипотезу. Используйте исходные данные о продолжительности каждой сессии — отдельно для подписчиков и тех, у кого нет подписки.\n",
    "    6.2 Расстояние одной поездки в 3130 метров — оптимальное с точки зрения износа самоката. Можно ли сказать, что расстояние, которое проезжают пользователи с подпиской за одну поездку, не превышает 3130 метров? Проверьте гипотезу и сделайте выводы.\n",
    "    6.3. Проверьте гипотезу о том, будет ли помесячная выручка от пользователей с подпиской по месяцам выше, чем выручка от пользователей без подписки. Сделайте вывод.\n",
    "    6.4. Представьте такую ситуацию: техническая команда сервиса обновила сервера, с которыми взаимодействует мобильное приложение. Она надеется, что из-за этого количество обращений в техподдержку значимо снизилось. Некоторый файл содержит для каждого пользователя данные о количестве обращений до обновления и после него. Какой тест вам понадобился бы для проверки этой гипотезы?\n",
    "        \n",
    "**Ход исследования**\n",
    "        \n",
    "        Данные о прокате самокатов я получу из 3 файлов, где есть информация о пользователях, их поездках и подписках. О качестве данных ничего не известно. Поэтому перед тем как приступать к целям, понадобится обзор данных.\n",
    "        \n",
    "        Я проверю данные на ошибки и оценю их влияние на исследование. Затем, на этапе предообработки я по возможности исправлю все ошибки в данных, которые не приведут к искажению конечного результата. Далее создам необходимые столбцы, и приступлю к проведению анализа.\n",
    "        \n",
    "        Таким образом, мой анализ пройдет в несколько этапов:\n",
    "        \n",
    "        - обзор данных;\n",
    "        - предообработка данных;\n",
    "        - расчеты и добавление результатов в таблицу;\n",
    "        - проведение анализа для категории с подпиской и без подписки;\n",
    "        - проверка гипотез;\n",
    "        - написание общего вывода."
   ]
  },
  {
   "cell_type": "code",
   "execution_count": 1,
   "id": "72576667",
   "metadata": {},
   "outputs": [],
   "source": [
    "import pandas as pd # импорт библиотек\n",
    "import numpy as np\n",
    "import matplotlib.pyplot as plt\n",
    "import seaborn as sns\n",
    "from scipy import stats as st"
   ]
  },
  {
   "cell_type": "code",
   "execution_count": 7,
   "id": "2349ae7d",
   "metadata": {},
   "outputs": [],
   "source": [
    "def info_head(file):\n",
    "    '''Информация о данных и первые 5 строк, переменная файл'''\n",
    "    \n",
    "    print(\"=== Информация о данных (info) ===\")\n",
    "    file.info()\n",
    "    print(\"\\n=== Первые 5 строк (head) ===\")\n",
    "    display(file.head())"
   ]
  },
  {
   "cell_type": "code",
   "execution_count": 27,
   "id": "8416835e",
   "metadata": {},
   "outputs": [],
   "source": [
    "def diagram_pie(file, column):\n",
    "    '''для построения круговой диаграммы категориальных признаков в файле'''\n",
    "    \n",
    "    plt.figure(figsize=(6, 4))\n",
    "    \n",
    "    # Построение круговой диаграммы\n",
    "    file[column].value_counts().plot(\n",
    "        kind='pie',\n",
    "        colors=sns.color_palette('pastel')[0:len(file[column].unique())],\n",
    "        autopct=\"%.1f%%\",\n",
    "        ylabel=\"\",\n",
    "        textprops={'fontsize': 12}\n",
    "    )\n",
    "    \n",
    "    plt.title(f'Соотношение по: \"{column}\"', fontsize=16)\n",
    "    plt.tight_layout()\n",
    "    plt.show()"
   ]
  },
  {
   "cell_type": "code",
   "execution_count": 31,
   "id": "d0fc5521",
   "metadata": {},
   "outputs": [],
   "source": [
    "def hist_and_box(file, col):\n",
    "    '''функция для построения гистограммы и ящика, переменные файл и категория'''\n",
    "    \n",
    "    fig, axes = plt.subplots(nrows=1, ncols=2, figsize=(12, 4))\n",
    "\n",
    "    # Гистограмма\n",
    "    sns.histplot(file[col], ax=axes[0], color='#B57EDC')\n",
    "    axes[0].set_title(f'Гистограмма по \"{col}\"')\n",
    "    axes[0].set_ylabel('Частота')\n",
    "    axes[0].set_xlabel(col)\n",
    "\n",
    "    # Boxplot\n",
    "    sns.boxplot(x=file[col], ax=axes[1], color='#B57EDC')\n",
    "    axes[1].set_title('Boxplot')\n",
    "    \n",
    "    plt.tight_layout()\n",
    "    plt.show()"
   ]
  },
  {
   "cell_type": "markdown",
   "id": "c42cbe00",
   "metadata": {},
   "source": [
    "#### Загрузка данных"
   ]
  },
  {
   "cell_type": "code",
   "execution_count": 3,
   "id": "eff9f206",
   "metadata": {},
   "outputs": [],
   "source": [
    "users = pd.read_csv('https://code.s3.yandex.net/datasets/users_go.csv') # чтение файла о пользователях"
   ]
  },
  {
   "cell_type": "code",
   "execution_count": 4,
   "id": "1535095b",
   "metadata": {},
   "outputs": [],
   "source": [
    "rides = pd.read_csv('https://code.s3.yandex.net/datasets/rides_go.csv') # чтение файла о поездках"
   ]
  },
  {
   "cell_type": "code",
   "execution_count": 5,
   "id": "dcbac358",
   "metadata": {},
   "outputs": [],
   "source": [
    "subscriptions = pd.read_csv('https://code.s3.yandex.net/datasets/subscriptions_go.csv') # чтение файла о тарифах"
   ]
  },
  {
   "cell_type": "code",
   "execution_count": 8,
   "id": "df21a1c3",
   "metadata": {},
   "outputs": [
    {
     "name": "stdout",
     "output_type": "stream",
     "text": [
      "=== Информация о данных (info) ===\n",
      "<class 'pandas.core.frame.DataFrame'>\n",
      "RangeIndex: 1565 entries, 0 to 1564\n",
      "Data columns (total 5 columns):\n",
      " #   Column             Non-Null Count  Dtype \n",
      "---  ------             --------------  ----- \n",
      " 0   user_id            1565 non-null   int64 \n",
      " 1   name               1565 non-null   object\n",
      " 2   age                1565 non-null   int64 \n",
      " 3   city               1565 non-null   object\n",
      " 4   subscription_type  1565 non-null   object\n",
      "dtypes: int64(2), object(3)\n",
      "memory usage: 61.3+ KB\n",
      "\n",
      "=== Первые 5 строк (head) ===\n"
     ]
    },
    {
     "data": {
      "text/html": [
       "<div>\n",
       "<style scoped>\n",
       "    .dataframe tbody tr th:only-of-type {\n",
       "        vertical-align: middle;\n",
       "    }\n",
       "\n",
       "    .dataframe tbody tr th {\n",
       "        vertical-align: top;\n",
       "    }\n",
       "\n",
       "    .dataframe thead th {\n",
       "        text-align: right;\n",
       "    }\n",
       "</style>\n",
       "<table border=\"1\" class=\"dataframe\">\n",
       "  <thead>\n",
       "    <tr style=\"text-align: right;\">\n",
       "      <th></th>\n",
       "      <th>user_id</th>\n",
       "      <th>name</th>\n",
       "      <th>age</th>\n",
       "      <th>city</th>\n",
       "      <th>subscription_type</th>\n",
       "    </tr>\n",
       "  </thead>\n",
       "  <tbody>\n",
       "    <tr>\n",
       "      <th>0</th>\n",
       "      <td>1</td>\n",
       "      <td>Кира</td>\n",
       "      <td>22</td>\n",
       "      <td>Тюмень</td>\n",
       "      <td>ultra</td>\n",
       "    </tr>\n",
       "    <tr>\n",
       "      <th>1</th>\n",
       "      <td>2</td>\n",
       "      <td>Станислав</td>\n",
       "      <td>31</td>\n",
       "      <td>Омск</td>\n",
       "      <td>ultra</td>\n",
       "    </tr>\n",
       "    <tr>\n",
       "      <th>2</th>\n",
       "      <td>3</td>\n",
       "      <td>Алексей</td>\n",
       "      <td>20</td>\n",
       "      <td>Москва</td>\n",
       "      <td>ultra</td>\n",
       "    </tr>\n",
       "    <tr>\n",
       "      <th>3</th>\n",
       "      <td>4</td>\n",
       "      <td>Константин</td>\n",
       "      <td>26</td>\n",
       "      <td>Ростов-на-Дону</td>\n",
       "      <td>ultra</td>\n",
       "    </tr>\n",
       "    <tr>\n",
       "      <th>4</th>\n",
       "      <td>5</td>\n",
       "      <td>Адель</td>\n",
       "      <td>28</td>\n",
       "      <td>Омск</td>\n",
       "      <td>ultra</td>\n",
       "    </tr>\n",
       "  </tbody>\n",
       "</table>\n",
       "</div>"
      ],
      "text/plain": [
       "   user_id        name  age            city subscription_type\n",
       "0        1        Кира   22          Тюмень             ultra\n",
       "1        2   Станислав   31            Омск             ultra\n",
       "2        3     Алексей   20          Москва             ultra\n",
       "3        4  Константин   26  Ростов-на-Дону             ultra\n",
       "4        5       Адель   28            Омск             ultra"
      ]
     },
     "metadata": {},
     "output_type": "display_data"
    }
   ],
   "source": [
    "info_head(users) # общая информация о пользователях"
   ]
  },
  {
   "cell_type": "code",
   "execution_count": 9,
   "id": "7388ff14",
   "metadata": {},
   "outputs": [
    {
     "name": "stdout",
     "output_type": "stream",
     "text": [
      "=== Информация о данных (info) ===\n",
      "<class 'pandas.core.frame.DataFrame'>\n",
      "RangeIndex: 18068 entries, 0 to 18067\n",
      "Data columns (total 4 columns):\n",
      " #   Column    Non-Null Count  Dtype  \n",
      "---  ------    --------------  -----  \n",
      " 0   user_id   18068 non-null  int64  \n",
      " 1   distance  18068 non-null  float64\n",
      " 2   duration  18068 non-null  float64\n",
      " 3   date      18068 non-null  object \n",
      "dtypes: float64(2), int64(1), object(1)\n",
      "memory usage: 564.8+ KB\n",
      "\n",
      "=== Первые 5 строк (head) ===\n"
     ]
    },
    {
     "data": {
      "text/html": [
       "<div>\n",
       "<style scoped>\n",
       "    .dataframe tbody tr th:only-of-type {\n",
       "        vertical-align: middle;\n",
       "    }\n",
       "\n",
       "    .dataframe tbody tr th {\n",
       "        vertical-align: top;\n",
       "    }\n",
       "\n",
       "    .dataframe thead th {\n",
       "        text-align: right;\n",
       "    }\n",
       "</style>\n",
       "<table border=\"1\" class=\"dataframe\">\n",
       "  <thead>\n",
       "    <tr style=\"text-align: right;\">\n",
       "      <th></th>\n",
       "      <th>user_id</th>\n",
       "      <th>distance</th>\n",
       "      <th>duration</th>\n",
       "      <th>date</th>\n",
       "    </tr>\n",
       "  </thead>\n",
       "  <tbody>\n",
       "    <tr>\n",
       "      <th>0</th>\n",
       "      <td>1</td>\n",
       "      <td>4409.919140</td>\n",
       "      <td>25.599769</td>\n",
       "      <td>2021-01-01</td>\n",
       "    </tr>\n",
       "    <tr>\n",
       "      <th>1</th>\n",
       "      <td>1</td>\n",
       "      <td>2617.592153</td>\n",
       "      <td>15.816871</td>\n",
       "      <td>2021-01-18</td>\n",
       "    </tr>\n",
       "    <tr>\n",
       "      <th>2</th>\n",
       "      <td>1</td>\n",
       "      <td>754.159807</td>\n",
       "      <td>6.232113</td>\n",
       "      <td>2021-04-20</td>\n",
       "    </tr>\n",
       "    <tr>\n",
       "      <th>3</th>\n",
       "      <td>1</td>\n",
       "      <td>2694.783254</td>\n",
       "      <td>18.511000</td>\n",
       "      <td>2021-08-11</td>\n",
       "    </tr>\n",
       "    <tr>\n",
       "      <th>4</th>\n",
       "      <td>1</td>\n",
       "      <td>4028.687306</td>\n",
       "      <td>26.265803</td>\n",
       "      <td>2021-08-28</td>\n",
       "    </tr>\n",
       "  </tbody>\n",
       "</table>\n",
       "</div>"
      ],
      "text/plain": [
       "   user_id     distance   duration        date\n",
       "0        1  4409.919140  25.599769  2021-01-01\n",
       "1        1  2617.592153  15.816871  2021-01-18\n",
       "2        1   754.159807   6.232113  2021-04-20\n",
       "3        1  2694.783254  18.511000  2021-08-11\n",
       "4        1  4028.687306  26.265803  2021-08-28"
      ]
     },
     "metadata": {},
     "output_type": "display_data"
    }
   ],
   "source": [
    "info_head(rides) # общая информация о поездках"
   ]
  },
  {
   "cell_type": "code",
   "execution_count": 10,
   "id": "b727844f",
   "metadata": {},
   "outputs": [
    {
     "name": "stdout",
     "output_type": "stream",
     "text": [
      "=== Информация о данных (info) ===\n",
      "<class 'pandas.core.frame.DataFrame'>\n",
      "RangeIndex: 2 entries, 0 to 1\n",
      "Data columns (total 4 columns):\n",
      " #   Column             Non-Null Count  Dtype \n",
      "---  ------             --------------  ----- \n",
      " 0   subscription_type  2 non-null      object\n",
      " 1   minute_price       2 non-null      int64 \n",
      " 2   start_ride_price   2 non-null      int64 \n",
      " 3   subscription_fee   2 non-null      int64 \n",
      "dtypes: int64(3), object(1)\n",
      "memory usage: 192.0+ bytes\n",
      "\n",
      "=== Первые 5 строк (head) ===\n"
     ]
    },
    {
     "data": {
      "text/html": [
       "<div>\n",
       "<style scoped>\n",
       "    .dataframe tbody tr th:only-of-type {\n",
       "        vertical-align: middle;\n",
       "    }\n",
       "\n",
       "    .dataframe tbody tr th {\n",
       "        vertical-align: top;\n",
       "    }\n",
       "\n",
       "    .dataframe thead th {\n",
       "        text-align: right;\n",
       "    }\n",
       "</style>\n",
       "<table border=\"1\" class=\"dataframe\">\n",
       "  <thead>\n",
       "    <tr style=\"text-align: right;\">\n",
       "      <th></th>\n",
       "      <th>subscription_type</th>\n",
       "      <th>minute_price</th>\n",
       "      <th>start_ride_price</th>\n",
       "      <th>subscription_fee</th>\n",
       "    </tr>\n",
       "  </thead>\n",
       "  <tbody>\n",
       "    <tr>\n",
       "      <th>0</th>\n",
       "      <td>free</td>\n",
       "      <td>8</td>\n",
       "      <td>50</td>\n",
       "      <td>0</td>\n",
       "    </tr>\n",
       "    <tr>\n",
       "      <th>1</th>\n",
       "      <td>ultra</td>\n",
       "      <td>6</td>\n",
       "      <td>0</td>\n",
       "      <td>199</td>\n",
       "    </tr>\n",
       "  </tbody>\n",
       "</table>\n",
       "</div>"
      ],
      "text/plain": [
       "  subscription_type  minute_price  start_ride_price  subscription_fee\n",
       "0              free             8                50                 0\n",
       "1             ultra             6                 0               199"
      ]
     },
     "metadata": {},
     "output_type": "display_data"
    }
   ],
   "source": [
    "info_head(subscriptions) # общая информация о подписках"
   ]
  },
  {
   "cell_type": "markdown",
   "id": "9392ad12",
   "metadata": {},
   "source": [
    "Открыв и изучив 3 файла с данными, мы видим информацию о 1'565 пользователях в разных городах, совершивших 18'068 поездок. В файле с информацией о поездке, указан неверный формат даты, ниже приведем его в корретный вид. Данные также содержат информацию о тарифах. **Во всех данных нет пропусков.**"
   ]
  },
  {
   "cell_type": "markdown",
   "id": "e95ebca7",
   "metadata": {},
   "source": [
    "#### Предобработка данных"
   ]
  },
  {
   "cell_type": "markdown",
   "id": "3186f676",
   "metadata": {},
   "source": [
    "##### Приведение столбца date к типу даты pandas."
   ]
  },
  {
   "cell_type": "code",
   "execution_count": 11,
   "id": "b5ad7fef",
   "metadata": {},
   "outputs": [],
   "source": [
    "# переводим значения 'date' в формат datetime\n",
    "rides['date'] = pd.to_datetime(rides['date'], format='%Y-%m-%d') "
   ]
  },
  {
   "cell_type": "markdown",
   "id": "1e322522",
   "metadata": {},
   "source": [
    "##### Создание нового столбца с номером месяца на основе столбца date."
   ]
  },
  {
   "cell_type": "code",
   "execution_count": 13,
   "id": "2b8a8115",
   "metadata": {},
   "outputs": [
    {
     "data": {
      "text/plain": [
       "Int64Index([2021], dtype='int64', name='date')"
      ]
     },
     "execution_count": 13,
     "metadata": {},
     "output_type": "execute_result"
    }
   ],
   "source": [
    "# проверяем за один ли год собраны данные, чтобы месяц был корректно указан\n",
    "pd.DatetimeIndex(rides['date']).year.unique()"
   ]
  },
  {
   "cell_type": "code",
   "execution_count": 14,
   "id": "9a1a20d6",
   "metadata": {},
   "outputs": [],
   "source": [
    "rides['month'] = pd.DatetimeIndex(rides['date']).month"
   ]
  },
  {
   "cell_type": "code",
   "execution_count": 15,
   "id": "b2645431",
   "metadata": {},
   "outputs": [
    {
     "data": {
      "text/html": [
       "<div>\n",
       "<style scoped>\n",
       "    .dataframe tbody tr th:only-of-type {\n",
       "        vertical-align: middle;\n",
       "    }\n",
       "\n",
       "    .dataframe tbody tr th {\n",
       "        vertical-align: top;\n",
       "    }\n",
       "\n",
       "    .dataframe thead th {\n",
       "        text-align: right;\n",
       "    }\n",
       "</style>\n",
       "<table border=\"1\" class=\"dataframe\">\n",
       "  <thead>\n",
       "    <tr style=\"text-align: right;\">\n",
       "      <th></th>\n",
       "      <th>user_id</th>\n",
       "      <th>distance</th>\n",
       "      <th>duration</th>\n",
       "      <th>date</th>\n",
       "      <th>month</th>\n",
       "    </tr>\n",
       "  </thead>\n",
       "  <tbody>\n",
       "    <tr>\n",
       "      <th>0</th>\n",
       "      <td>1</td>\n",
       "      <td>4409.919140</td>\n",
       "      <td>25.599769</td>\n",
       "      <td>2021-01-01</td>\n",
       "      <td>1</td>\n",
       "    </tr>\n",
       "    <tr>\n",
       "      <th>1</th>\n",
       "      <td>1</td>\n",
       "      <td>2617.592153</td>\n",
       "      <td>15.816871</td>\n",
       "      <td>2021-01-18</td>\n",
       "      <td>1</td>\n",
       "    </tr>\n",
       "    <tr>\n",
       "      <th>2</th>\n",
       "      <td>1</td>\n",
       "      <td>754.159807</td>\n",
       "      <td>6.232113</td>\n",
       "      <td>2021-04-20</td>\n",
       "      <td>4</td>\n",
       "    </tr>\n",
       "    <tr>\n",
       "      <th>3</th>\n",
       "      <td>1</td>\n",
       "      <td>2694.783254</td>\n",
       "      <td>18.511000</td>\n",
       "      <td>2021-08-11</td>\n",
       "      <td>8</td>\n",
       "    </tr>\n",
       "    <tr>\n",
       "      <th>4</th>\n",
       "      <td>1</td>\n",
       "      <td>4028.687306</td>\n",
       "      <td>26.265803</td>\n",
       "      <td>2021-08-28</td>\n",
       "      <td>8</td>\n",
       "    </tr>\n",
       "  </tbody>\n",
       "</table>\n",
       "</div>"
      ],
      "text/plain": [
       "   user_id     distance   duration       date  month\n",
       "0        1  4409.919140  25.599769 2021-01-01      1\n",
       "1        1  2617.592153  15.816871 2021-01-18      1\n",
       "2        1   754.159807   6.232113 2021-04-20      4\n",
       "3        1  2694.783254  18.511000 2021-08-11      8\n",
       "4        1  4028.687306  26.265803 2021-08-28      8"
      ]
     },
     "execution_count": 15,
     "metadata": {},
     "output_type": "execute_result"
    }
   ],
   "source": [
    "rides.head() # проверим, что получилось"
   ]
  },
  {
   "cell_type": "markdown",
   "id": "0ae806b3",
   "metadata": {},
   "source": [
    "##### Проверка на наличие пропущенных значений и дубликатов в датафреймах"
   ]
  },
  {
   "cell_type": "markdown",
   "id": "e27f0668",
   "metadata": {},
   "source": [
    "Как мы уже выяснили, пропущенных значений в данных нет, проверим наличие дубликатов."
   ]
  },
  {
   "cell_type": "code",
   "execution_count": 16,
   "id": "e4421f49",
   "metadata": {},
   "outputs": [
    {
     "data": {
      "text/plain": [
       "31"
      ]
     },
     "execution_count": 16,
     "metadata": {},
     "output_type": "execute_result"
    }
   ],
   "source": [
    "users.duplicated().sum() # проверяем явные дубликаты в данных 'users'"
   ]
  },
  {
   "cell_type": "code",
   "execution_count": 17,
   "id": "ff1a28ad",
   "metadata": {},
   "outputs": [],
   "source": [
    "# удаляем дубликаты и обновляем индексы в столбце\n",
    "users = users.drop_duplicates().reset_index(drop=True)"
   ]
  },
  {
   "cell_type": "code",
   "execution_count": 18,
   "id": "58b3b001",
   "metadata": {},
   "outputs": [
    {
     "data": {
      "text/plain": [
       "0"
      ]
     },
     "execution_count": 18,
     "metadata": {},
     "output_type": "execute_result"
    }
   ],
   "source": [
    "rides.duplicated().sum() # проверяем явные дубликаты в данных 'rides'"
   ]
  },
  {
   "cell_type": "markdown",
   "id": "c1bcc658",
   "metadata": {},
   "source": [
    "   ***Вывод по обработке данных:*** \n",
    "        \n",
    "        - в файле 'users' был исправлен формат данных в столбце 'date' и удалены явные дубликаты;\n",
    "        - в файле 'rides' не оказалось дубликатов;\n",
    "        - в файле 'subscriptions' всего две строчки с данными о тарифах, дубликатов нет."
   ]
  },
  {
   "cell_type": "code",
   "execution_count": 19,
   "id": "d734e125",
   "metadata": {},
   "outputs": [],
   "source": [
    "rides['distance'] = round(rides['distance'], 2) # округлим расстояние поездок"
   ]
  },
  {
   "cell_type": "code",
   "execution_count": 20,
   "id": "faf19e56",
   "metadata": {},
   "outputs": [
    {
     "data": {
      "text/plain": [
       "0    4409.92\n",
       "1    2617.59\n",
       "2     754.16\n",
       "Name: distance, dtype: float64"
      ]
     },
     "execution_count": 20,
     "metadata": {},
     "output_type": "execute_result"
    }
   ],
   "source": [
    "rides['distance'].head(3) # проверяем округление"
   ]
  },
  {
   "cell_type": "markdown",
   "id": "66d91024",
   "metadata": {},
   "source": [
    "#### Исследовательский анализ данных"
   ]
  },
  {
   "cell_type": "markdown",
   "id": "9d5d7e92",
   "metadata": {},
   "source": [
    "##### Частота встречаемости городов"
   ]
  },
  {
   "cell_type": "code",
   "execution_count": 28,
   "id": "9c5a090b",
   "metadata": {},
   "outputs": [
    {
     "data": {
      "image/png": "[encoded data removed]",
      "text/plain": [
       "<Figure size 432x288 with 1 Axes>"
      ]
     },
     "metadata": {},
     "output_type": "display_data"
    }
   ],
   "source": [
    "diagram_pie(users, 'city')"
   ]
  },
  {
   "cell_type": "markdown",
   "id": "397b13c0",
   "metadata": {},
   "source": [
    "В данных проката самокатов представлены 8 городов, самая большая представленность в Пятигорске - 14%, самая маленькая в Москве - 11%, число пользователей распределено практически равномерно между городами."
   ]
  },
  {
   "cell_type": "markdown",
   "id": "9c99002a",
   "metadata": {},
   "source": [
    "##### Cоотношение пользователей с подпиской и без подписки"
   ]
  },
  {
   "cell_type": "code",
   "execution_count": 29,
   "id": "30a1dc0c",
   "metadata": {},
   "outputs": [
    {
     "data": {
      "image/png": "[encoded data removed]",
      "text/plain": [
       "<Figure size 432x288 with 1 Axes>"
      ]
     },
     "metadata": {},
     "output_type": "display_data"
    }
   ],
   "source": [
    "diagram_pie(users, 'subscription_type')"
   ]
  },
  {
   "cell_type": "markdown",
   "id": "6d0f6b58",
   "metadata": {},
   "source": [
    "Пользователей без подписки 54.4%,  пользователей с подпиской ultra - 45.6%."
   ]
  },
  {
   "cell_type": "markdown",
   "id": "1c1db603",
   "metadata": {},
   "source": [
    "##### Возраст пользователей"
   ]
  },
  {
   "cell_type": "code",
   "execution_count": 30,
   "id": "1a3d29c2",
   "metadata": {},
   "outputs": [
    {
     "data": {
      "text/plain": [
       "count    1534.000000\n",
       "mean       24.903520\n",
       "std         4.572367\n",
       "min        12.000000\n",
       "25%        22.000000\n",
       "50%        25.000000\n",
       "75%        28.000000\n",
       "max        43.000000\n",
       "Name: age, dtype: float64"
      ]
     },
     "execution_count": 30,
     "metadata": {},
     "output_type": "execute_result"
    }
   ],
   "source": [
    "users['age'].describe() # посмотрим данные о возрасте пользователей"
   ]
  },
  {
   "cell_type": "code",
   "execution_count": 32,
   "id": "5c33e2b4",
   "metadata": {},
   "outputs": [
    {
     "data": {
      "image/png": "[encoded data removed]",
      "text/plain": [
       "<Figure size 864x288 with 2 Axes>"
      ]
     },
     "metadata": {
      "needs_background": "light"
     },
     "output_type": "display_data"
    }
   ],
   "source": [
    "hist_and_box(users, 'age')"
   ]
  },
  {
   "cell_type": "markdown",
   "id": "2d9b413a",
   "metadata": {},
   "source": [
    "Основая часть пользователей в возрасте от 22 до 28 лет, минимальный и максимальный возраст 12 лет и 43 года, соответственно. На боксплот заметен выброс в 12 лет, и старше 37 лет. \n",
    "\n",
    "Следует отметить, что среди пользователей некоторым менее 18 лет, именно с этого возраста разрешен прокат самокатов. В некоторых компаниях и регионах разрешено с 14 лет, но при письменном согласии родителей. В датасете минимальный возраст 12 лет, это явное нарушение существующих норм. "
   ]
  },
  {
   "cell_type": "markdown",
   "id": "f93de032",
   "metadata": {},
   "source": [
    "##### Расстояние, которое пользователь преодолел за одну поездку"
   ]
  },
  {
   "cell_type": "code",
   "execution_count": 38,
   "id": "f007ea87",
   "metadata": {},
   "outputs": [
    {
     "data": {
      "text/plain": [
       "count    18068.000000\n",
       "mean      3070.659992\n",
       "std       1116.831222\n",
       "min          0.860000\n",
       "25%       2543.227500\n",
       "50%       3133.610000\n",
       "75%       3776.220000\n",
       "max       7211.010000\n",
       "Name: distance, dtype: float64"
      ]
     },
     "execution_count": 38,
     "metadata": {},
     "output_type": "execute_result"
    }
   ],
   "source": [
    "rides['distance'].describe() # посмотрим информацию о расстоянии поездок"
   ]
  },
  {
   "cell_type": "code",
   "execution_count": 33,
   "id": "7e3e3f04",
   "metadata": {},
   "outputs": [
    {
     "data": {
      "image/png": "[encoded data removed]",
      "text/plain": [
       "<Figure size 864x288 with 2 Axes>"
      ]
     },
     "metadata": {
      "needs_background": "light"
     },
     "output_type": "display_data"
    }
   ],
   "source": [
    "hist_and_box(rides, 'distance')"
   ]
  },
  {
   "cell_type": "markdown",
   "id": "22885980",
   "metadata": {},
   "source": [
    "В среднем за одну поездку пользователь проезжает 3,1 км, большая часть поездок находится в диапозоне от 2,5 км до 3,8 км. На графике видно два пика в 500 м и 3,1 км. Возможно поездки в 500 м совершают пользователи, добирающиеся до работы (от метро или от дома). На боксплот заметны выбросы, меньше 800 м и больше 5,5км."
   ]
  },
  {
   "cell_type": "markdown",
   "id": "8dab5751",
   "metadata": {},
   "source": [
    "##### Продолжительность поездок"
   ]
  },
  {
   "cell_type": "code",
   "execution_count": 40,
   "id": "c73fc041",
   "metadata": {},
   "outputs": [
    {
     "data": {
      "text/plain": [
       "count    18068.000000\n",
       "mean        17.805011\n",
       "std          6.091051\n",
       "min          0.500000\n",
       "25%         13.597563\n",
       "50%         17.678395\n",
       "75%         21.724800\n",
       "max         40.823963\n",
       "Name: duration, dtype: float64"
      ]
     },
     "execution_count": 40,
     "metadata": {},
     "output_type": "execute_result"
    }
   ],
   "source": [
    "rides['duration'].describe() # посмотрим информацию о продолжительности поездок"
   ]
  },
  {
   "cell_type": "code",
   "execution_count": 34,
   "id": "dcb9e5b6",
   "metadata": {},
   "outputs": [
    {
     "data": {
      "image/png": "[encoded data removed]",
      "text/plain": [
       "<Figure size 864x288 with 2 Axes>"
      ]
     },
     "metadata": {
      "needs_background": "light"
     },
     "output_type": "display_data"
    }
   ],
   "source": [
    "hist_and_box(rides, 'duration')"
   ]
  },
  {
   "cell_type": "markdown",
   "id": "8bea15d1",
   "metadata": {},
   "source": [
    "В среднем поездки длятся почти 18 минут, большая часть поездок в диапозоне от 13 до 22 минут, есть 'короткие' поездки, меньше 1 минуты. На боксплот заметны несколько выбросов меньше 1 минуты (короткие поездки) и больше 34 минут. "
   ]
  },
  {
   "cell_type": "markdown",
   "id": "5bad89ce",
   "metadata": {},
   "source": [
    "***Выводы по исследовательскому анализу:***\n",
    "       \n",
    "- В данных проката самокатов представлены 8 городов, самая большая представленность в Пятигорске - 14%, самая маленькая в Москве - 11%, число пользователей распределено практически равномерно между городами.\n",
    "- Пользователей без подписки 54.4%,  пользователей с подпиской ultra - 45.6%.\n",
    "- Основая часть пользователей в возрасте от 22 до 28 лет, минимальный и максимальный возраст 12 лет и 43 года, соответственно. На боксплот заметен выброс в 12 лет, и старше 37 лет. Следует отметить, что среди пользователей некоторым менее 18 лет, именно с этого возраста разрешен прокат самокатов. В некоторых компаниях и регионах разрешено с 14 лет, но при письменном согласии родителей. В датасете минимальный возраст 12 лет, это явное нарушение существующих норм. \n",
    "- В среднем за одну поездку пользователь проезжает 3,1 км, большая часть поездок находится в диапозоне от 2,5 км до 3,8 км. На графике видно два пика в 500 м и 3,1 км. Возможно поездки в 500 м совершают пользователи, добирающиеся до работы (от метро или от дома). На боксплот заметны выбросы, меньше 800 м и больше 5,5км.\n",
    "- В среднем поездки длятся почти 18 минут, большая часть поездок в диапозоне от 13 до 22 минут, есть 'короткие' поездки, меньше 1 минуты. На боксплот заметны несколько выбросов меньше 1 минуты (короткие поездки) и больше 34 минут. "
   ]
  },
  {
   "cell_type": "markdown",
   "id": "4ef51331",
   "metadata": {},
   "source": [
    "#### Объединение данных"
   ]
  },
  {
   "cell_type": "markdown",
   "id": "8421aae2",
   "metadata": {},
   "source": [
    "##### Объединение данных о пользователях, поездках и подписках в один датафрейм"
   ]
  },
  {
   "cell_type": "code",
   "execution_count": 42,
   "id": "3c004e13",
   "metadata": {},
   "outputs": [],
   "source": [
    "# объединяем данные 'users' и 'rides' в один файл 'data', по столбцу 'user_id'\n",
    "data = users.merge(rides, on='user_id', how='left')"
   ]
  },
  {
   "cell_type": "code",
   "execution_count": 43,
   "id": "465427e8",
   "metadata": {},
   "outputs": [],
   "source": [
    "# объединяем данные 'data' и 'subscriptions' в один файл, по столбцу 'subscription_type'\n",
    "data = data.merge(subscriptions, on='subscription_type', how='left')"
   ]
  },
  {
   "cell_type": "code",
   "execution_count": 44,
   "id": "f881e1fe",
   "metadata": {},
   "outputs": [
    {
     "data": {
      "text/html": [
       "<div>\n",
       "<style scoped>\n",
       "    .dataframe tbody tr th:only-of-type {\n",
       "        vertical-align: middle;\n",
       "    }\n",
       "\n",
       "    .dataframe tbody tr th {\n",
       "        vertical-align: top;\n",
       "    }\n",
       "\n",
       "    .dataframe thead th {\n",
       "        text-align: right;\n",
       "    }\n",
       "</style>\n",
       "<table border=\"1\" class=\"dataframe\">\n",
       "  <thead>\n",
       "    <tr style=\"text-align: right;\">\n",
       "      <th></th>\n",
       "      <th>user_id</th>\n",
       "      <th>name</th>\n",
       "      <th>age</th>\n",
       "      <th>city</th>\n",
       "      <th>subscription_type</th>\n",
       "      <th>distance</th>\n",
       "      <th>duration</th>\n",
       "      <th>date</th>\n",
       "      <th>month</th>\n",
       "      <th>minute_price</th>\n",
       "      <th>start_ride_price</th>\n",
       "      <th>subscription_fee</th>\n",
       "    </tr>\n",
       "  </thead>\n",
       "  <tbody>\n",
       "    <tr>\n",
       "      <th>0</th>\n",
       "      <td>1</td>\n",
       "      <td>Кира</td>\n",
       "      <td>22</td>\n",
       "      <td>Тюмень</td>\n",
       "      <td>ultra</td>\n",
       "      <td>4409.92</td>\n",
       "      <td>25.599769</td>\n",
       "      <td>2021-01-01</td>\n",
       "      <td>1</td>\n",
       "      <td>6</td>\n",
       "      <td>0</td>\n",
       "      <td>199</td>\n",
       "    </tr>\n",
       "    <tr>\n",
       "      <th>1</th>\n",
       "      <td>1</td>\n",
       "      <td>Кира</td>\n",
       "      <td>22</td>\n",
       "      <td>Тюмень</td>\n",
       "      <td>ultra</td>\n",
       "      <td>2617.59</td>\n",
       "      <td>15.816871</td>\n",
       "      <td>2021-01-18</td>\n",
       "      <td>1</td>\n",
       "      <td>6</td>\n",
       "      <td>0</td>\n",
       "      <td>199</td>\n",
       "    </tr>\n",
       "    <tr>\n",
       "      <th>2</th>\n",
       "      <td>1</td>\n",
       "      <td>Кира</td>\n",
       "      <td>22</td>\n",
       "      <td>Тюмень</td>\n",
       "      <td>ultra</td>\n",
       "      <td>754.16</td>\n",
       "      <td>6.232113</td>\n",
       "      <td>2021-04-20</td>\n",
       "      <td>4</td>\n",
       "      <td>6</td>\n",
       "      <td>0</td>\n",
       "      <td>199</td>\n",
       "    </tr>\n",
       "    <tr>\n",
       "      <th>3</th>\n",
       "      <td>1</td>\n",
       "      <td>Кира</td>\n",
       "      <td>22</td>\n",
       "      <td>Тюмень</td>\n",
       "      <td>ultra</td>\n",
       "      <td>2694.78</td>\n",
       "      <td>18.511000</td>\n",
       "      <td>2021-08-11</td>\n",
       "      <td>8</td>\n",
       "      <td>6</td>\n",
       "      <td>0</td>\n",
       "      <td>199</td>\n",
       "    </tr>\n",
       "    <tr>\n",
       "      <th>4</th>\n",
       "      <td>1</td>\n",
       "      <td>Кира</td>\n",
       "      <td>22</td>\n",
       "      <td>Тюмень</td>\n",
       "      <td>ultra</td>\n",
       "      <td>4028.69</td>\n",
       "      <td>26.265803</td>\n",
       "      <td>2021-08-28</td>\n",
       "      <td>8</td>\n",
       "      <td>6</td>\n",
       "      <td>0</td>\n",
       "      <td>199</td>\n",
       "    </tr>\n",
       "  </tbody>\n",
       "</table>\n",
       "</div>"
      ],
      "text/plain": [
       "   user_id  name  age    city subscription_type  distance   duration  \\\n",
       "0        1  Кира   22  Тюмень             ultra   4409.92  25.599769   \n",
       "1        1  Кира   22  Тюмень             ultra   2617.59  15.816871   \n",
       "2        1  Кира   22  Тюмень             ultra    754.16   6.232113   \n",
       "3        1  Кира   22  Тюмень             ultra   2694.78  18.511000   \n",
       "4        1  Кира   22  Тюмень             ultra   4028.69  26.265803   \n",
       "\n",
       "        date  month  minute_price  start_ride_price  subscription_fee  \n",
       "0 2021-01-01      1             6                 0               199  \n",
       "1 2021-01-18      1             6                 0               199  \n",
       "2 2021-04-20      4             6                 0               199  \n",
       "3 2021-08-11      8             6                 0               199  \n",
       "4 2021-08-28      8             6                 0               199  "
      ]
     },
     "execution_count": 44,
     "metadata": {},
     "output_type": "execute_result"
    }
   ],
   "source": [
    "data.head() # проверяем, что получилось"
   ]
  },
  {
   "cell_type": "code",
   "execution_count": 45,
   "id": "f3748f0d",
   "metadata": {},
   "outputs": [
    {
     "data": {
      "text/plain": [
       "18068"
      ]
     },
     "execution_count": 45,
     "metadata": {},
     "output_type": "execute_result"
    }
   ],
   "source": [
    "data.shape[0] # проверяем количество строк после объединения, 18'068 строчек было в исходном файле"
   ]
  },
  {
   "cell_type": "code",
   "execution_count": 46,
   "id": "e222b822",
   "metadata": {},
   "outputs": [
    {
     "name": "stdout",
     "output_type": "stream",
     "text": [
      "<class 'pandas.core.frame.DataFrame'>\n",
      "Int64Index: 18068 entries, 0 to 18067\n",
      "Data columns (total 12 columns):\n",
      " #   Column             Non-Null Count  Dtype         \n",
      "---  ------             --------------  -----         \n",
      " 0   user_id            18068 non-null  int64         \n",
      " 1   name               18068 non-null  object        \n",
      " 2   age                18068 non-null  int64         \n",
      " 3   city               18068 non-null  object        \n",
      " 4   subscription_type  18068 non-null  object        \n",
      " 5   distance           18068 non-null  float64       \n",
      " 6   duration           18068 non-null  float64       \n",
      " 7   date               18068 non-null  datetime64[ns]\n",
      " 8   month              18068 non-null  int64         \n",
      " 9   minute_price       18068 non-null  int64         \n",
      " 10  start_ride_price   18068 non-null  int64         \n",
      " 11  subscription_fee   18068 non-null  int64         \n",
      "dtypes: datetime64[ns](1), float64(2), int64(6), object(3)\n",
      "memory usage: 1.8+ MB\n"
     ]
    }
   ],
   "source": [
    "data.info() # проверяем пропуски после объединения"
   ]
  },
  {
   "cell_type": "markdown",
   "id": "b1006baa",
   "metadata": {},
   "source": [
    "##### Разделение данных о пользователях с подпиской и без подписки."
   ]
  },
  {
   "cell_type": "code",
   "execution_count": 47,
   "id": "6f321d97",
   "metadata": {},
   "outputs": [],
   "source": [
    "# выделим данные о пользователях без подписки в отдельный датафрейм\n",
    "data_free = data[data['subscription_type'] == 'free']"
   ]
  },
  {
   "cell_type": "code",
   "execution_count": 48,
   "id": "47ec48ab",
   "metadata": {},
   "outputs": [
    {
     "data": {
      "text/html": [
       "<div>\n",
       "<style scoped>\n",
       "    .dataframe tbody tr th:only-of-type {\n",
       "        vertical-align: middle;\n",
       "    }\n",
       "\n",
       "    .dataframe tbody tr th {\n",
       "        vertical-align: top;\n",
       "    }\n",
       "\n",
       "    .dataframe thead th {\n",
       "        text-align: right;\n",
       "    }\n",
       "</style>\n",
       "<table border=\"1\" class=\"dataframe\">\n",
       "  <thead>\n",
       "    <tr style=\"text-align: right;\">\n",
       "      <th></th>\n",
       "      <th>user_id</th>\n",
       "      <th>name</th>\n",
       "      <th>age</th>\n",
       "      <th>city</th>\n",
       "      <th>subscription_type</th>\n",
       "      <th>distance</th>\n",
       "      <th>duration</th>\n",
       "      <th>date</th>\n",
       "      <th>month</th>\n",
       "      <th>minute_price</th>\n",
       "      <th>start_ride_price</th>\n",
       "      <th>subscription_fee</th>\n",
       "    </tr>\n",
       "  </thead>\n",
       "  <tbody>\n",
       "    <tr>\n",
       "      <th>6500</th>\n",
       "      <td>700</td>\n",
       "      <td>Айдар</td>\n",
       "      <td>22</td>\n",
       "      <td>Омск</td>\n",
       "      <td>free</td>\n",
       "      <td>2515.69</td>\n",
       "      <td>14.944286</td>\n",
       "      <td>2021-01-02</td>\n",
       "      <td>1</td>\n",
       "      <td>8</td>\n",
       "      <td>50</td>\n",
       "      <td>0</td>\n",
       "    </tr>\n",
       "    <tr>\n",
       "      <th>6501</th>\n",
       "      <td>700</td>\n",
       "      <td>Айдар</td>\n",
       "      <td>22</td>\n",
       "      <td>Омск</td>\n",
       "      <td>free</td>\n",
       "      <td>846.93</td>\n",
       "      <td>16.234663</td>\n",
       "      <td>2021-02-01</td>\n",
       "      <td>2</td>\n",
       "      <td>8</td>\n",
       "      <td>50</td>\n",
       "      <td>0</td>\n",
       "    </tr>\n",
       "    <tr>\n",
       "      <th>6502</th>\n",
       "      <td>700</td>\n",
       "      <td>Айдар</td>\n",
       "      <td>22</td>\n",
       "      <td>Омск</td>\n",
       "      <td>free</td>\n",
       "      <td>4004.43</td>\n",
       "      <td>20.016628</td>\n",
       "      <td>2021-02-04</td>\n",
       "      <td>2</td>\n",
       "      <td>8</td>\n",
       "      <td>50</td>\n",
       "      <td>0</td>\n",
       "    </tr>\n",
       "  </tbody>\n",
       "</table>\n",
       "</div>"
      ],
      "text/plain": [
       "      user_id   name  age  city subscription_type  distance   duration  \\\n",
       "6500      700  Айдар   22  Омск              free   2515.69  14.944286   \n",
       "6501      700  Айдар   22  Омск              free    846.93  16.234663   \n",
       "6502      700  Айдар   22  Омск              free   4004.43  20.016628   \n",
       "\n",
       "           date  month  minute_price  start_ride_price  subscription_fee  \n",
       "6500 2021-01-02      1             8                50                 0  \n",
       "6501 2021-02-01      2             8                50                 0  \n",
       "6502 2021-02-04      2             8                50                 0  "
      ]
     },
     "execution_count": 48,
     "metadata": {},
     "output_type": "execute_result"
    }
   ],
   "source": [
    "data_free.head(3)"
   ]
  },
  {
   "cell_type": "code",
   "execution_count": 49,
   "id": "6bf288b5",
   "metadata": {},
   "outputs": [],
   "source": [
    "# выделим данные о пользователях с подпиской ultra в отдельный датафрейм\n",
    "data_ultra = data[data['subscription_type'] == 'ultra']"
   ]
  },
  {
   "cell_type": "code",
   "execution_count": 50,
   "id": "0c0e14e9",
   "metadata": {},
   "outputs": [
    {
     "data": {
      "text/html": [
       "<div>\n",
       "<style scoped>\n",
       "    .dataframe tbody tr th:only-of-type {\n",
       "        vertical-align: middle;\n",
       "    }\n",
       "\n",
       "    .dataframe tbody tr th {\n",
       "        vertical-align: top;\n",
       "    }\n",
       "\n",
       "    .dataframe thead th {\n",
       "        text-align: right;\n",
       "    }\n",
       "</style>\n",
       "<table border=\"1\" class=\"dataframe\">\n",
       "  <thead>\n",
       "    <tr style=\"text-align: right;\">\n",
       "      <th></th>\n",
       "      <th>user_id</th>\n",
       "      <th>name</th>\n",
       "      <th>age</th>\n",
       "      <th>city</th>\n",
       "      <th>subscription_type</th>\n",
       "      <th>distance</th>\n",
       "      <th>duration</th>\n",
       "      <th>date</th>\n",
       "      <th>month</th>\n",
       "      <th>minute_price</th>\n",
       "      <th>start_ride_price</th>\n",
       "      <th>subscription_fee</th>\n",
       "    </tr>\n",
       "  </thead>\n",
       "  <tbody>\n",
       "    <tr>\n",
       "      <th>0</th>\n",
       "      <td>1</td>\n",
       "      <td>Кира</td>\n",
       "      <td>22</td>\n",
       "      <td>Тюмень</td>\n",
       "      <td>ultra</td>\n",
       "      <td>4409.92</td>\n",
       "      <td>25.599769</td>\n",
       "      <td>2021-01-01</td>\n",
       "      <td>1</td>\n",
       "      <td>6</td>\n",
       "      <td>0</td>\n",
       "      <td>199</td>\n",
       "    </tr>\n",
       "    <tr>\n",
       "      <th>1</th>\n",
       "      <td>1</td>\n",
       "      <td>Кира</td>\n",
       "      <td>22</td>\n",
       "      <td>Тюмень</td>\n",
       "      <td>ultra</td>\n",
       "      <td>2617.59</td>\n",
       "      <td>15.816871</td>\n",
       "      <td>2021-01-18</td>\n",
       "      <td>1</td>\n",
       "      <td>6</td>\n",
       "      <td>0</td>\n",
       "      <td>199</td>\n",
       "    </tr>\n",
       "    <tr>\n",
       "      <th>2</th>\n",
       "      <td>1</td>\n",
       "      <td>Кира</td>\n",
       "      <td>22</td>\n",
       "      <td>Тюмень</td>\n",
       "      <td>ultra</td>\n",
       "      <td>754.16</td>\n",
       "      <td>6.232113</td>\n",
       "      <td>2021-04-20</td>\n",
       "      <td>4</td>\n",
       "      <td>6</td>\n",
       "      <td>0</td>\n",
       "      <td>199</td>\n",
       "    </tr>\n",
       "  </tbody>\n",
       "</table>\n",
       "</div>"
      ],
      "text/plain": [
       "   user_id  name  age    city subscription_type  distance   duration  \\\n",
       "0        1  Кира   22  Тюмень             ultra   4409.92  25.599769   \n",
       "1        1  Кира   22  Тюмень             ultra   2617.59  15.816871   \n",
       "2        1  Кира   22  Тюмень             ultra    754.16   6.232113   \n",
       "\n",
       "        date  month  minute_price  start_ride_price  subscription_fee  \n",
       "0 2021-01-01      1             6                 0               199  \n",
       "1 2021-01-18      1             6                 0               199  \n",
       "2 2021-04-20      4             6                 0               199  "
      ]
     },
     "execution_count": 50,
     "metadata": {},
     "output_type": "execute_result"
    }
   ],
   "source": [
    "data_ultra.head(3)"
   ]
  },
  {
   "cell_type": "markdown",
   "id": "aca66296",
   "metadata": {},
   "source": [
    "##### Визуализируем информацию о расстоянии и времени поездок для пользователей обеих категорий."
   ]
  },
  {
   "cell_type": "markdown",
   "id": "77f59e29",
   "metadata": {},
   "source": [
    " - визуализируем расстояние, которое проезжает пользователь без подписки и с подпиской ultra"
   ]
  },
  {
   "cell_type": "code",
   "execution_count": 51,
   "id": "ffeabac9",
   "metadata": {
    "scrolled": true
   },
   "outputs": [
    {
     "data": {
      "text/plain": [
       "count    11568.000000\n",
       "mean      3045.495284\n",
       "std       1246.173810\n",
       "min          0.860000\n",
       "25%       2366.560000\n",
       "50%       3114.650000\n",
       "75%       3905.695000\n",
       "max       7211.010000\n",
       "Name: distance, dtype: float64"
      ]
     },
     "execution_count": 51,
     "metadata": {},
     "output_type": "execute_result"
    }
   ],
   "source": [
    "data_free['distance'].describe()"
   ]
  },
  {
   "cell_type": "code",
   "execution_count": 53,
   "id": "5646138b",
   "metadata": {},
   "outputs": [
    {
     "data": {
      "text/plain": [
       "count    6500.000000\n",
       "mean     3115.445431\n",
       "std       836.895369\n",
       "min       244.210000\n",
       "25%      2785.447500\n",
       "50%      3148.640000\n",
       "75%      3560.577500\n",
       "max      5699.770000\n",
       "Name: distance, dtype: float64"
      ]
     },
     "execution_count": 53,
     "metadata": {},
     "output_type": "execute_result"
    }
   ],
   "source": [
    "data_ultra['distance'].describe()"
   ]
  },
  {
   "cell_type": "code",
   "execution_count": 54,
   "id": "cf282018",
   "metadata": {},
   "outputs": [
    {
     "data": {
      "image/png": "[encoded data removed]",
      "text/plain": [
       "<Figure size 432x288 with 1 Axes>"
      ]
     },
     "metadata": {
      "needs_background": "light"
     },
     "output_type": "display_data"
    }
   ],
   "source": [
    "ax = data_free.plot(kind='hist', y='distance', bins=30, linewidth=5, label='free')\n",
    "data_ultra.plot(kind='hist', y='distance', bins=30, linewidth=5, label='ultra',\n",
    "                ax=ax, grid=True, legend=True)\n",
    "plt.title('Гистограмма распределения расстояния поездок от числа поездок')\n",
    "plt.xlabel('Расстояние поездки, м')\n",
    "plt.ylabel('Количество поездок');"
   ]
  },
  {
   "cell_type": "markdown",
   "id": "e68a7c4c",
   "metadata": {},
   "source": [
    "Расстояние, которое проезжают пользователи без подписки в диапозоне 2,4-3,9км, с подпиской ultra - 2,8-3,6км, среднее расстояние около 3,1км, это скорее всего обычные прогулки. У всех пользователей есть вторые пики на более короткие расстояния в 0,5 км (без подписки) и 1км (с подпиской ultra), скорее это короткие поездки до работы, до магазина."
   ]
  },
  {
   "cell_type": "markdown",
   "id": "0875a1c4",
   "metadata": {},
   "source": [
    " - визуализируем время (продолжительность одной поездки), которое проезжает пользователь без подписки и с подпиской ultra"
   ]
  },
  {
   "cell_type": "code",
   "execution_count": 56,
   "id": "f13cd08c",
   "metadata": {},
   "outputs": [
    {
     "data": {
      "text/plain": [
       "count    11568.000000\n",
       "mean        17.390909\n",
       "std          6.326803\n",
       "min          0.500000\n",
       "25%         12.958437\n",
       "50%         17.326890\n",
       "75%         21.594071\n",
       "max         34.948498\n",
       "Name: duration, dtype: float64"
      ]
     },
     "execution_count": 56,
     "metadata": {},
     "output_type": "execute_result"
    }
   ],
   "source": [
    "data_free['duration'].describe()"
   ]
  },
  {
   "cell_type": "code",
   "execution_count": 58,
   "id": "bca31280",
   "metadata": {},
   "outputs": [
    {
     "data": {
      "text/plain": [
       "count    6500.000000\n",
       "mean       18.541985\n",
       "std         5.572048\n",
       "min         3.760353\n",
       "25%        14.524654\n",
       "50%        18.178153\n",
       "75%        21.884129\n",
       "max        40.823963\n",
       "Name: duration, dtype: float64"
      ]
     },
     "execution_count": 58,
     "metadata": {},
     "output_type": "execute_result"
    }
   ],
   "source": [
    "data_ultra['duration'].describe()"
   ]
  },
  {
   "cell_type": "code",
   "execution_count": 60,
   "id": "66bf9363",
   "metadata": {},
   "outputs": [
    {
     "data": {
      "image/png": "[encoded data removed]",
      "text/plain": [
       "<Figure size 432x288 with 1 Axes>"
      ]
     },
     "metadata": {
      "needs_background": "light"
     },
     "output_type": "display_data"
    }
   ],
   "source": [
    "ax = data_free.plot(kind='hist', y='duration', bins=30, linewidth=5, label='free')\n",
    "data_ultra.plot(kind='hist', y='duration', bins=30, linewidth=5, label='ultra',\n",
    "                ax=ax, grid=True, legend=True)\n",
    "plt.title('Гистограмма распределения продолжительности поездок от числа поездок')\n",
    "plt.xlabel('Продолжительность поездки, мин.')\n",
    "plt.ylabel('Количество поездок');"
   ]
  },
  {
   "cell_type": "markdown",
   "id": "38b9c8b1",
   "metadata": {},
   "source": [
    "Среднее время поездок у всех пользователей примерно равное - 18 минут. Большая часть поездок находится в диапозоне от 13 до 22 минут (без подписки), от 15 до 22 минут(с подпиской ultra). Минимальное время отличается: 0,5 минут у пользователей без подписки, 4 минуты у пользователей с подпиской ultra. На гистограмме видны 100 значений 'коротких' поездок, длительностью 1 минута у пользователей без подписки."
   ]
  },
  {
   "cell_type": "markdown",
   "id": "402d620f",
   "metadata": {},
   "source": [
    "#### Подсчёт выручки"
   ]
  },
  {
   "cell_type": "markdown",
   "id": "74c16fbe",
   "metadata": {},
   "source": [
    "##### Создание датафрейм с агрегированными данными о поездках на основе датафрейма с объединёнными данными из шага 4: найдем суммарное расстояние, количество поездок и суммарное время для каждого пользователя за каждый месяц."
   ]
  },
  {
   "cell_type": "code",
   "execution_count": 61,
   "id": "c9593fb2",
   "metadata": {},
   "outputs": [
    {
     "data": {
      "text/html": [
       "<div>\n",
       "<style scoped>\n",
       "    .dataframe tbody tr th:only-of-type {\n",
       "        vertical-align: middle;\n",
       "    }\n",
       "\n",
       "    .dataframe tbody tr th {\n",
       "        vertical-align: top;\n",
       "    }\n",
       "\n",
       "    .dataframe thead th {\n",
       "        text-align: right;\n",
       "    }\n",
       "</style>\n",
       "<table border=\"1\" class=\"dataframe\">\n",
       "  <thead>\n",
       "    <tr style=\"text-align: right;\">\n",
       "      <th></th>\n",
       "      <th>user_id</th>\n",
       "      <th>name</th>\n",
       "      <th>age</th>\n",
       "      <th>city</th>\n",
       "      <th>subscription_type</th>\n",
       "      <th>distance</th>\n",
       "      <th>duration</th>\n",
       "      <th>date</th>\n",
       "      <th>month</th>\n",
       "      <th>minute_price</th>\n",
       "      <th>start_ride_price</th>\n",
       "      <th>subscription_fee</th>\n",
       "    </tr>\n",
       "  </thead>\n",
       "  <tbody>\n",
       "    <tr>\n",
       "      <th>0</th>\n",
       "      <td>1</td>\n",
       "      <td>Кира</td>\n",
       "      <td>22</td>\n",
       "      <td>Тюмень</td>\n",
       "      <td>ultra</td>\n",
       "      <td>4409.92</td>\n",
       "      <td>25.599769</td>\n",
       "      <td>2021-01-01</td>\n",
       "      <td>1</td>\n",
       "      <td>6</td>\n",
       "      <td>0</td>\n",
       "      <td>199</td>\n",
       "    </tr>\n",
       "    <tr>\n",
       "      <th>1</th>\n",
       "      <td>1</td>\n",
       "      <td>Кира</td>\n",
       "      <td>22</td>\n",
       "      <td>Тюмень</td>\n",
       "      <td>ultra</td>\n",
       "      <td>2617.59</td>\n",
       "      <td>15.816871</td>\n",
       "      <td>2021-01-18</td>\n",
       "      <td>1</td>\n",
       "      <td>6</td>\n",
       "      <td>0</td>\n",
       "      <td>199</td>\n",
       "    </tr>\n",
       "    <tr>\n",
       "      <th>2</th>\n",
       "      <td>1</td>\n",
       "      <td>Кира</td>\n",
       "      <td>22</td>\n",
       "      <td>Тюмень</td>\n",
       "      <td>ultra</td>\n",
       "      <td>754.16</td>\n",
       "      <td>6.232113</td>\n",
       "      <td>2021-04-20</td>\n",
       "      <td>4</td>\n",
       "      <td>6</td>\n",
       "      <td>0</td>\n",
       "      <td>199</td>\n",
       "    </tr>\n",
       "    <tr>\n",
       "      <th>3</th>\n",
       "      <td>1</td>\n",
       "      <td>Кира</td>\n",
       "      <td>22</td>\n",
       "      <td>Тюмень</td>\n",
       "      <td>ultra</td>\n",
       "      <td>2694.78</td>\n",
       "      <td>18.511000</td>\n",
       "      <td>2021-08-11</td>\n",
       "      <td>8</td>\n",
       "      <td>6</td>\n",
       "      <td>0</td>\n",
       "      <td>199</td>\n",
       "    </tr>\n",
       "    <tr>\n",
       "      <th>4</th>\n",
       "      <td>1</td>\n",
       "      <td>Кира</td>\n",
       "      <td>22</td>\n",
       "      <td>Тюмень</td>\n",
       "      <td>ultra</td>\n",
       "      <td>4028.69</td>\n",
       "      <td>26.265803</td>\n",
       "      <td>2021-08-28</td>\n",
       "      <td>8</td>\n",
       "      <td>6</td>\n",
       "      <td>0</td>\n",
       "      <td>199</td>\n",
       "    </tr>\n",
       "  </tbody>\n",
       "</table>\n",
       "</div>"
      ],
      "text/plain": [
       "   user_id  name  age    city subscription_type  distance   duration  \\\n",
       "0        1  Кира   22  Тюмень             ultra   4409.92  25.599769   \n",
       "1        1  Кира   22  Тюмень             ultra   2617.59  15.816871   \n",
       "2        1  Кира   22  Тюмень             ultra    754.16   6.232113   \n",
       "3        1  Кира   22  Тюмень             ultra   2694.78  18.511000   \n",
       "4        1  Кира   22  Тюмень             ultra   4028.69  26.265803   \n",
       "\n",
       "        date  month  minute_price  start_ride_price  subscription_fee  \n",
       "0 2021-01-01      1             6                 0               199  \n",
       "1 2021-01-18      1             6                 0               199  \n",
       "2 2021-04-20      4             6                 0               199  \n",
       "3 2021-08-11      8             6                 0               199  \n",
       "4 2021-08-28      8             6                 0               199  "
      ]
     },
     "execution_count": 61,
     "metadata": {},
     "output_type": "execute_result"
    }
   ],
   "source": [
    "data.head() # посмотрим исходные данные"
   ]
  },
  {
   "cell_type": "code",
   "execution_count": 62,
   "id": "e105cc94",
   "metadata": {},
   "outputs": [],
   "source": [
    "data['duration'] = np.ceil(data['duration']) # округлим до следующего целого числа время каждой поездки"
   ]
  },
  {
   "cell_type": "code",
   "execution_count": 63,
   "id": "22b22cea",
   "metadata": {},
   "outputs": [],
   "source": [
    "# построим сводную таблицу по id и месяцам, посчитаем количество поездок, суммарное расстояние и время\n",
    "pivot_data = data.pivot_table(index=['user_id', 'month'], values=['duration', 'distance'], aggfunc=['count', 'sum'])"
   ]
  },
  {
   "cell_type": "code",
   "execution_count": 64,
   "id": "49ee3f0e",
   "metadata": {},
   "outputs": [],
   "source": [
    "pivot_data = pivot_data.reset_index() # отобразим id на каждой строчке сводной таблицы"
   ]
  },
  {
   "cell_type": "code",
   "execution_count": 65,
   "id": "7fa5b130",
   "metadata": {},
   "outputs": [],
   "source": [
    "pivot_data.columns = ['user_id', 'month', 'count', 'count0', 'total_distance', 'total_duration'] # переименуем столбцы"
   ]
  },
  {
   "cell_type": "code",
   "execution_count": 66,
   "id": "db555b37",
   "metadata": {},
   "outputs": [],
   "source": [
    "pivot_data = pivot_data.drop('count0', axis=1) # удалим задвоенный столбец с количеством"
   ]
  },
  {
   "cell_type": "code",
   "execution_count": 67,
   "id": "46f115c2",
   "metadata": {},
   "outputs": [
    {
     "data": {
      "text/html": [
       "<div>\n",
       "<style scoped>\n",
       "    .dataframe tbody tr th:only-of-type {\n",
       "        vertical-align: middle;\n",
       "    }\n",
       "\n",
       "    .dataframe tbody tr th {\n",
       "        vertical-align: top;\n",
       "    }\n",
       "\n",
       "    .dataframe thead th {\n",
       "        text-align: right;\n",
       "    }\n",
       "</style>\n",
       "<table border=\"1\" class=\"dataframe\">\n",
       "  <thead>\n",
       "    <tr style=\"text-align: right;\">\n",
       "      <th></th>\n",
       "      <th>user_id</th>\n",
       "      <th>month</th>\n",
       "      <th>count</th>\n",
       "      <th>total_distance</th>\n",
       "      <th>total_duration</th>\n",
       "    </tr>\n",
       "  </thead>\n",
       "  <tbody>\n",
       "    <tr>\n",
       "      <th>0</th>\n",
       "      <td>1</td>\n",
       "      <td>1</td>\n",
       "      <td>2</td>\n",
       "      <td>7027.51</td>\n",
       "      <td>42.0</td>\n",
       "    </tr>\n",
       "    <tr>\n",
       "      <th>1</th>\n",
       "      <td>1</td>\n",
       "      <td>4</td>\n",
       "      <td>1</td>\n",
       "      <td>754.16</td>\n",
       "      <td>7.0</td>\n",
       "    </tr>\n",
       "    <tr>\n",
       "      <th>2</th>\n",
       "      <td>1</td>\n",
       "      <td>8</td>\n",
       "      <td>2</td>\n",
       "      <td>6723.47</td>\n",
       "      <td>46.0</td>\n",
       "    </tr>\n",
       "    <tr>\n",
       "      <th>3</th>\n",
       "      <td>1</td>\n",
       "      <td>10</td>\n",
       "      <td>2</td>\n",
       "      <td>5809.91</td>\n",
       "      <td>32.0</td>\n",
       "    </tr>\n",
       "    <tr>\n",
       "      <th>4</th>\n",
       "      <td>1</td>\n",
       "      <td>11</td>\n",
       "      <td>3</td>\n",
       "      <td>7003.50</td>\n",
       "      <td>56.0</td>\n",
       "    </tr>\n",
       "  </tbody>\n",
       "</table>\n",
       "</div>"
      ],
      "text/plain": [
       "   user_id  month  count  total_distance  total_duration\n",
       "0        1      1      2         7027.51            42.0\n",
       "1        1      4      1          754.16             7.0\n",
       "2        1      8      2         6723.47            46.0\n",
       "3        1     10      2         5809.91            32.0\n",
       "4        1     11      3         7003.50            56.0"
      ]
     },
     "execution_count": 67,
     "metadata": {},
     "output_type": "execute_result"
    }
   ],
   "source": [
    "pivot_data.head() # посмотрим получившуюся сводную таблицу"
   ]
  },
  {
   "cell_type": "code",
   "execution_count": 68,
   "id": "0b00d554",
   "metadata": {},
   "outputs": [
    {
     "name": "stdout",
     "output_type": "stream",
     "text": [
      "<class 'pandas.core.frame.DataFrame'>\n",
      "RangeIndex: 11331 entries, 0 to 11330\n",
      "Data columns (total 5 columns):\n",
      " #   Column          Non-Null Count  Dtype  \n",
      "---  ------          --------------  -----  \n",
      " 0   user_id         11331 non-null  int64  \n",
      " 1   month           11331 non-null  int64  \n",
      " 2   count           11331 non-null  int64  \n",
      " 3   total_distance  11331 non-null  float64\n",
      " 4   total_duration  11331 non-null  float64\n",
      "dtypes: float64(2), int64(3)\n",
      "memory usage: 442.7 KB\n"
     ]
    }
   ],
   "source": [
    "pivot_data.info() # проверяем новую сводную таблицу на наличие пропусков"
   ]
  },
  {
   "cell_type": "markdown",
   "id": "0ce1c087",
   "metadata": {},
   "source": [
    "##### В этот же датафрейм добавим столбец с помесячной выручкой, которую принёс каждый пользователь. Для этого обратимся к информации об условиях оплаты для подписчиков и тех, у кого нет подписки."
   ]
  },
  {
   "cell_type": "code",
   "execution_count": 69,
   "id": "2d737435",
   "metadata": {},
   "outputs": [],
   "source": [
    "pivot_data = pivot_data.merge(users, on='user_id') # добавляем в сводную таблицу информацию о пользователях, виде подписки"
   ]
  },
  {
   "cell_type": "code",
   "execution_count": 70,
   "id": "b74cc71b",
   "metadata": {},
   "outputs": [],
   "source": [
    "pivot_data = pivot_data.merge(subscriptions, on='subscription_type') # добавляем в сводную таблицу условия подписки, тарифы"
   ]
  },
  {
   "cell_type": "code",
   "execution_count": 71,
   "id": "a7aa2227",
   "metadata": {},
   "outputs": [],
   "source": [
    "# считаем выручку\n",
    "pivot_data['revenue'] = pivot_data['count'] * pivot_data['start_ride_price'] + pivot_data['total_duration'] * pivot_data['minute_price'] + pivot_data['subscription_fee']"
   ]
  },
  {
   "cell_type": "code",
   "execution_count": 72,
   "id": "c045dfa7",
   "metadata": {},
   "outputs": [],
   "source": [
    "pivot_data = pivot_data.drop(['age', 'city'], axis=1) # удалим ненужные столбцы из сводной таблицы"
   ]
  },
  {
   "cell_type": "code",
   "execution_count": 73,
   "id": "3b5942df",
   "metadata": {},
   "outputs": [
    {
     "data": {
      "text/html": [
       "<div>\n",
       "<style scoped>\n",
       "    .dataframe tbody tr th:only-of-type {\n",
       "        vertical-align: middle;\n",
       "    }\n",
       "\n",
       "    .dataframe tbody tr th {\n",
       "        vertical-align: top;\n",
       "    }\n",
       "\n",
       "    .dataframe thead th {\n",
       "        text-align: right;\n",
       "    }\n",
       "</style>\n",
       "<table border=\"1\" class=\"dataframe\">\n",
       "  <thead>\n",
       "    <tr style=\"text-align: right;\">\n",
       "      <th></th>\n",
       "      <th>user_id</th>\n",
       "      <th>month</th>\n",
       "      <th>count</th>\n",
       "      <th>total_distance</th>\n",
       "      <th>total_duration</th>\n",
       "      <th>name</th>\n",
       "      <th>subscription_type</th>\n",
       "      <th>minute_price</th>\n",
       "      <th>start_ride_price</th>\n",
       "      <th>subscription_fee</th>\n",
       "      <th>revenue</th>\n",
       "    </tr>\n",
       "  </thead>\n",
       "  <tbody>\n",
       "    <tr>\n",
       "      <th>0</th>\n",
       "      <td>1</td>\n",
       "      <td>1</td>\n",
       "      <td>2</td>\n",
       "      <td>7027.51</td>\n",
       "      <td>42.0</td>\n",
       "      <td>Кира</td>\n",
       "      <td>ultra</td>\n",
       "      <td>6</td>\n",
       "      <td>0</td>\n",
       "      <td>199</td>\n",
       "      <td>451.0</td>\n",
       "    </tr>\n",
       "    <tr>\n",
       "      <th>1</th>\n",
       "      <td>1</td>\n",
       "      <td>4</td>\n",
       "      <td>1</td>\n",
       "      <td>754.16</td>\n",
       "      <td>7.0</td>\n",
       "      <td>Кира</td>\n",
       "      <td>ultra</td>\n",
       "      <td>6</td>\n",
       "      <td>0</td>\n",
       "      <td>199</td>\n",
       "      <td>241.0</td>\n",
       "    </tr>\n",
       "    <tr>\n",
       "      <th>2</th>\n",
       "      <td>1</td>\n",
       "      <td>8</td>\n",
       "      <td>2</td>\n",
       "      <td>6723.47</td>\n",
       "      <td>46.0</td>\n",
       "      <td>Кира</td>\n",
       "      <td>ultra</td>\n",
       "      <td>6</td>\n",
       "      <td>0</td>\n",
       "      <td>199</td>\n",
       "      <td>475.0</td>\n",
       "    </tr>\n",
       "    <tr>\n",
       "      <th>3</th>\n",
       "      <td>1</td>\n",
       "      <td>10</td>\n",
       "      <td>2</td>\n",
       "      <td>5809.91</td>\n",
       "      <td>32.0</td>\n",
       "      <td>Кира</td>\n",
       "      <td>ultra</td>\n",
       "      <td>6</td>\n",
       "      <td>0</td>\n",
       "      <td>199</td>\n",
       "      <td>391.0</td>\n",
       "    </tr>\n",
       "    <tr>\n",
       "      <th>4</th>\n",
       "      <td>1</td>\n",
       "      <td>11</td>\n",
       "      <td>3</td>\n",
       "      <td>7003.50</td>\n",
       "      <td>56.0</td>\n",
       "      <td>Кира</td>\n",
       "      <td>ultra</td>\n",
       "      <td>6</td>\n",
       "      <td>0</td>\n",
       "      <td>199</td>\n",
       "      <td>535.0</td>\n",
       "    </tr>\n",
       "  </tbody>\n",
       "</table>\n",
       "</div>"
      ],
      "text/plain": [
       "   user_id  month  count  total_distance  total_duration  name  \\\n",
       "0        1      1      2         7027.51            42.0  Кира   \n",
       "1        1      4      1          754.16             7.0  Кира   \n",
       "2        1      8      2         6723.47            46.0  Кира   \n",
       "3        1     10      2         5809.91            32.0  Кира   \n",
       "4        1     11      3         7003.50            56.0  Кира   \n",
       "\n",
       "  subscription_type  minute_price  start_ride_price  subscription_fee  revenue  \n",
       "0             ultra             6                 0               199    451.0  \n",
       "1             ultra             6                 0               199    241.0  \n",
       "2             ultra             6                 0               199    475.0  \n",
       "3             ultra             6                 0               199    391.0  \n",
       "4             ultra             6                 0               199    535.0  "
      ]
     },
     "execution_count": 73,
     "metadata": {},
     "output_type": "execute_result"
    }
   ],
   "source": [
    "pivot_data.head() # проверяем"
   ]
  },
  {
   "cell_type": "code",
   "execution_count": 74,
   "id": "814ce918",
   "metadata": {},
   "outputs": [],
   "source": [
    "# построим сводную таблицу с выручкой за каждый месяц в зависимости от типа подписки\n",
    "pivot_data_month = pivot_data.pivot_table(index=['month'], columns = 'subscription_type', values='revenue', aggfunc='sum')"
   ]
  },
  {
   "cell_type": "code",
   "execution_count": 75,
   "id": "7140acb2",
   "metadata": {},
   "outputs": [
    {
     "data": {
      "text/html": [
       "<div>\n",
       "<style scoped>\n",
       "    .dataframe tbody tr th:only-of-type {\n",
       "        vertical-align: middle;\n",
       "    }\n",
       "\n",
       "    .dataframe tbody tr th {\n",
       "        vertical-align: top;\n",
       "    }\n",
       "\n",
       "    .dataframe thead th {\n",
       "        text-align: right;\n",
       "    }\n",
       "</style>\n",
       "<table border=\"1\" class=\"dataframe\">\n",
       "  <thead>\n",
       "    <tr style=\"text-align: right;\">\n",
       "      <th>subscription_type</th>\n",
       "      <th>free</th>\n",
       "      <th>ultra</th>\n",
       "    </tr>\n",
       "    <tr>\n",
       "      <th>month</th>\n",
       "      <th></th>\n",
       "      <th></th>\n",
       "    </tr>\n",
       "  </thead>\n",
       "  <tbody>\n",
       "    <tr>\n",
       "      <th>1</th>\n",
       "      <td>193850.0</td>\n",
       "      <td>144108.0</td>\n",
       "    </tr>\n",
       "    <tr>\n",
       "      <th>2</th>\n",
       "      <td>165856.0</td>\n",
       "      <td>124572.0</td>\n",
       "    </tr>\n",
       "    <tr>\n",
       "      <th>3</th>\n",
       "      <td>187214.0</td>\n",
       "      <td>142608.0</td>\n",
       "    </tr>\n",
       "    <tr>\n",
       "      <th>4</th>\n",
       "      <td>185598.0</td>\n",
       "      <td>137318.0</td>\n",
       "    </tr>\n",
       "    <tr>\n",
       "      <th>5</th>\n",
       "      <td>188030.0</td>\n",
       "      <td>149235.0</td>\n",
       "    </tr>\n",
       "    <tr>\n",
       "      <th>6</th>\n",
       "      <td>192144.0</td>\n",
       "      <td>143834.0</td>\n",
       "    </tr>\n",
       "    <tr>\n",
       "      <th>7</th>\n",
       "      <td>185038.0</td>\n",
       "      <td>143466.0</td>\n",
       "    </tr>\n",
       "    <tr>\n",
       "      <th>8</th>\n",
       "      <td>187116.0</td>\n",
       "      <td>138534.0</td>\n",
       "    </tr>\n",
       "    <tr>\n",
       "      <th>9</th>\n",
       "      <td>193700.0</td>\n",
       "      <td>129337.0</td>\n",
       "    </tr>\n",
       "    <tr>\n",
       "      <th>10</th>\n",
       "      <td>181428.0</td>\n",
       "      <td>133932.0</td>\n",
       "    </tr>\n",
       "    <tr>\n",
       "      <th>11</th>\n",
       "      <td>179076.0</td>\n",
       "      <td>126546.0</td>\n",
       "    </tr>\n",
       "    <tr>\n",
       "      <th>12</th>\n",
       "      <td>195054.0</td>\n",
       "      <td>131047.0</td>\n",
       "    </tr>\n",
       "  </tbody>\n",
       "</table>\n",
       "</div>"
      ],
      "text/plain": [
       "subscription_type      free     ultra\n",
       "month                                \n",
       "1                  193850.0  144108.0\n",
       "2                  165856.0  124572.0\n",
       "3                  187214.0  142608.0\n",
       "4                  185598.0  137318.0\n",
       "5                  188030.0  149235.0\n",
       "6                  192144.0  143834.0\n",
       "7                  185038.0  143466.0\n",
       "8                  187116.0  138534.0\n",
       "9                  193700.0  129337.0\n",
       "10                 181428.0  133932.0\n",
       "11                 179076.0  126546.0\n",
       "12                 195054.0  131047.0"
      ]
     },
     "execution_count": 75,
     "metadata": {},
     "output_type": "execute_result"
    }
   ],
   "source": [
    "pivot_data_month"
   ]
  },
  {
   "cell_type": "code",
   "execution_count": 76,
   "id": "43db1fbd",
   "metadata": {},
   "outputs": [],
   "source": [
    "pivot_data_month.columns = ['revenue_free', 'revenue_ultra'] # переименовываем столбцы"
   ]
  },
  {
   "cell_type": "markdown",
   "id": "ab33c5d3",
   "metadata": {},
   "source": [
    "Найдем значение средней ежемесячной оплаты от пользователей в зависимости от вида подписки. Для этого разделим помесячную выручку на число пользователей без подписки и с подпиской, соответственно."
   ]
  },
  {
   "cell_type": "code",
   "execution_count": 79,
   "id": "cbebd9de",
   "metadata": {},
   "outputs": [],
   "source": [
    "pivot_data_month['average_revenue_free'] = round(pivot_data_month['revenue_free'] / users['subscription_type'].value_counts()['free'], 1)"
   ]
  },
  {
   "cell_type": "code",
   "execution_count": 80,
   "id": "6651e6e3",
   "metadata": {},
   "outputs": [],
   "source": [
    "pivot_data_month['average_revenue_ultra'] = round(pivot_data_month['revenue_ultra'] / users['subscription_type'].value_counts()['ultra'], 1)"
   ]
  },
  {
   "cell_type": "code",
   "execution_count": 81,
   "id": "5045206d",
   "metadata": {},
   "outputs": [],
   "source": [
    "# добавим столбец разницы средней выручки пользователя в процентах \n",
    "pivot_data_month['ratio'] = round((1 - pivot_data_month['average_revenue_ultra'] / pivot_data_month['average_revenue_free']) * 100, 0)"
   ]
  },
  {
   "cell_type": "code",
   "execution_count": 82,
   "id": "b462ac61",
   "metadata": {},
   "outputs": [
    {
     "data": {
      "text/html": [
       "<div>\n",
       "<style scoped>\n",
       "    .dataframe tbody tr th:only-of-type {\n",
       "        vertical-align: middle;\n",
       "    }\n",
       "\n",
       "    .dataframe tbody tr th {\n",
       "        vertical-align: top;\n",
       "    }\n",
       "\n",
       "    .dataframe thead th {\n",
       "        text-align: right;\n",
       "    }\n",
       "</style>\n",
       "<table border=\"1\" class=\"dataframe\">\n",
       "  <thead>\n",
       "    <tr style=\"text-align: right;\">\n",
       "      <th></th>\n",
       "      <th>revenue_free</th>\n",
       "      <th>revenue_ultra</th>\n",
       "      <th>average_revenue_free</th>\n",
       "      <th>average_revenue_ultra</th>\n",
       "      <th>ratio</th>\n",
       "    </tr>\n",
       "    <tr>\n",
       "      <th>month</th>\n",
       "      <th></th>\n",
       "      <th></th>\n",
       "      <th></th>\n",
       "      <th></th>\n",
       "      <th></th>\n",
       "    </tr>\n",
       "  </thead>\n",
       "  <tbody>\n",
       "    <tr>\n",
       "      <th>1</th>\n",
       "      <td>193850.0</td>\n",
       "      <td>144108.0</td>\n",
       "      <td>232.2</td>\n",
       "      <td>206.2</td>\n",
       "      <td>11.0</td>\n",
       "    </tr>\n",
       "    <tr>\n",
       "      <th>2</th>\n",
       "      <td>165856.0</td>\n",
       "      <td>124572.0</td>\n",
       "      <td>198.6</td>\n",
       "      <td>178.2</td>\n",
       "      <td>10.0</td>\n",
       "    </tr>\n",
       "    <tr>\n",
       "      <th>3</th>\n",
       "      <td>187214.0</td>\n",
       "      <td>142608.0</td>\n",
       "      <td>224.2</td>\n",
       "      <td>204.0</td>\n",
       "      <td>9.0</td>\n",
       "    </tr>\n",
       "    <tr>\n",
       "      <th>4</th>\n",
       "      <td>185598.0</td>\n",
       "      <td>137318.0</td>\n",
       "      <td>222.3</td>\n",
       "      <td>196.4</td>\n",
       "      <td>12.0</td>\n",
       "    </tr>\n",
       "    <tr>\n",
       "      <th>5</th>\n",
       "      <td>188030.0</td>\n",
       "      <td>149235.0</td>\n",
       "      <td>225.2</td>\n",
       "      <td>213.5</td>\n",
       "      <td>5.0</td>\n",
       "    </tr>\n",
       "    <tr>\n",
       "      <th>6</th>\n",
       "      <td>192144.0</td>\n",
       "      <td>143834.0</td>\n",
       "      <td>230.1</td>\n",
       "      <td>205.8</td>\n",
       "      <td>11.0</td>\n",
       "    </tr>\n",
       "    <tr>\n",
       "      <th>7</th>\n",
       "      <td>185038.0</td>\n",
       "      <td>143466.0</td>\n",
       "      <td>221.6</td>\n",
       "      <td>205.2</td>\n",
       "      <td>7.0</td>\n",
       "    </tr>\n",
       "    <tr>\n",
       "      <th>8</th>\n",
       "      <td>187116.0</td>\n",
       "      <td>138534.0</td>\n",
       "      <td>224.1</td>\n",
       "      <td>198.2</td>\n",
       "      <td>12.0</td>\n",
       "    </tr>\n",
       "    <tr>\n",
       "      <th>9</th>\n",
       "      <td>193700.0</td>\n",
       "      <td>129337.0</td>\n",
       "      <td>232.0</td>\n",
       "      <td>185.0</td>\n",
       "      <td>20.0</td>\n",
       "    </tr>\n",
       "    <tr>\n",
       "      <th>10</th>\n",
       "      <td>181428.0</td>\n",
       "      <td>133932.0</td>\n",
       "      <td>217.3</td>\n",
       "      <td>191.6</td>\n",
       "      <td>12.0</td>\n",
       "    </tr>\n",
       "    <tr>\n",
       "      <th>11</th>\n",
       "      <td>179076.0</td>\n",
       "      <td>126546.0</td>\n",
       "      <td>214.5</td>\n",
       "      <td>181.0</td>\n",
       "      <td>16.0</td>\n",
       "    </tr>\n",
       "    <tr>\n",
       "      <th>12</th>\n",
       "      <td>195054.0</td>\n",
       "      <td>131047.0</td>\n",
       "      <td>233.6</td>\n",
       "      <td>187.5</td>\n",
       "      <td>20.0</td>\n",
       "    </tr>\n",
       "  </tbody>\n",
       "</table>\n",
       "</div>"
      ],
      "text/plain": [
       "       revenue_free  revenue_ultra  average_revenue_free  \\\n",
       "month                                                      \n",
       "1          193850.0       144108.0                 232.2   \n",
       "2          165856.0       124572.0                 198.6   \n",
       "3          187214.0       142608.0                 224.2   \n",
       "4          185598.0       137318.0                 222.3   \n",
       "5          188030.0       149235.0                 225.2   \n",
       "6          192144.0       143834.0                 230.1   \n",
       "7          185038.0       143466.0                 221.6   \n",
       "8          187116.0       138534.0                 224.1   \n",
       "9          193700.0       129337.0                 232.0   \n",
       "10         181428.0       133932.0                 217.3   \n",
       "11         179076.0       126546.0                 214.5   \n",
       "12         195054.0       131047.0                 233.6   \n",
       "\n",
       "       average_revenue_ultra  ratio  \n",
       "month                                \n",
       "1                      206.2   11.0  \n",
       "2                      178.2   10.0  \n",
       "3                      204.0    9.0  \n",
       "4                      196.4   12.0  \n",
       "5                      213.5    5.0  \n",
       "6                      205.8   11.0  \n",
       "7                      205.2    7.0  \n",
       "8                      198.2   12.0  \n",
       "9                      185.0   20.0  \n",
       "10                     191.6   12.0  \n",
       "11                     181.0   16.0  \n",
       "12                     187.5   20.0  "
      ]
     },
     "execution_count": 82,
     "metadata": {},
     "output_type": "execute_result"
    }
   ],
   "source": [
    "pivot_data_month"
   ]
  },
  {
   "cell_type": "code",
   "execution_count": 83,
   "id": "9298b3ff",
   "metadata": {},
   "outputs": [
    {
     "data": {
      "image/png": "[encoded data removed]",
      "text/plain": [
       "<Figure size 432x288 with 1 Axes>"
      ]
     },
     "metadata": {
      "needs_background": "light"
     },
     "output_type": "display_data"
    }
   ],
   "source": [
    "pivot_data_month['average_revenue_free'].plot(legend=True)\n",
    "pivot_data_month['average_revenue_ultra'].plot(legend=True)\n",
    "plt.title('График зависимости средней выручки от пользователя по месяцам')\n",
    "plt.xlabel('Номер месяца')\n",
    "plt.ylabel('Средняя выручка от пользователя');"
   ]
  },
  {
   "cell_type": "code",
   "execution_count": 84,
   "id": "b8facc54",
   "metadata": {},
   "outputs": [
    {
     "data": {
      "text/plain": [
       "2234104.0"
      ]
     },
     "execution_count": 84,
     "metadata": {},
     "output_type": "execute_result"
    }
   ],
   "source": [
    "pivot_data_month['revenue_free'].sum()"
   ]
  },
  {
   "cell_type": "code",
   "execution_count": 85,
   "id": "272dd4c9",
   "metadata": {},
   "outputs": [
    {
     "data": {
      "text/plain": [
       "1644537.0"
      ]
     },
     "execution_count": 85,
     "metadata": {},
     "output_type": "execute_result"
    }
   ],
   "source": [
    "pivot_data_month['revenue_ultra'].sum()"
   ]
  },
  {
   "cell_type": "markdown",
   "id": "d9615e5b",
   "metadata": {},
   "source": [
    "***Выводы***\n",
    "Выручка от пользователей без подписки выше на 5-20% в зависимости от месяца, чем от пользователей с подпиской ultra."
   ]
  },
  {
   "cell_type": "markdown",
   "id": "41545ac0",
   "metadata": {},
   "source": [
    "#### Проверка гипотез"
   ]
  },
  {
   "cell_type": "markdown",
   "id": "e1e73309",
   "metadata": {},
   "source": [
    "Продакт-менеджеры сервиса хотят увеличить количество пользователей с подпиской. Для этого они будут проводить различные акции, но сначала нужно выяснить несколько важных моментов."
   ]
  },
  {
   "cell_type": "markdown",
   "id": "640347b2",
   "metadata": {},
   "source": [
    "##### Важно понять, тратят ли пользователи с подпиской больше времени на поездки? Если да, то пользователи с подпиской могут быть «выгоднее» для компании. Проверьте гипотезу. Используйте исходные данные о продолжительности каждой сессии — отдельно для подписчиков и тех, у кого нет подписки."
   ]
  },
  {
   "cell_type": "markdown",
   "id": "820d20ea",
   "metadata": {},
   "source": [
    "Примем за нулевую гипотезу, что пользователи с подпиской тратят столько же времени на поездки, как и пользователи без подписки.\n",
    "За альтернативную гипотезу (одностороннюю) примем, что пользователи с подпиской тратят *больше* времени на поездки, чем пользователи без подписки."
   ]
  },
  {
   "cell_type": "code",
   "execution_count": 87,
   "id": "4c57d6b5",
   "metadata": {},
   "outputs": [],
   "source": [
    "alpha = 0.05 # уровень статистической значимости\n",
    "# если p-value окажется меньше него, отвергнем гипотезу"
   ]
  },
  {
   "cell_type": "code",
   "execution_count": 88,
   "id": "337ef941",
   "metadata": {},
   "outputs": [],
   "source": [
    "results = st.ttest_ind(data_ultra['duration'], data_free['duration'], alternative='greater')"
   ]
  },
  {
   "cell_type": "code",
   "execution_count": 89,
   "id": "ddd7164c",
   "metadata": {},
   "outputs": [
    {
     "name": "stdout",
     "output_type": "stream",
     "text": [
      "p-значение: 1.2804098316645618e-34\n",
      "Отвергаем нулевую гипотезу\n"
     ]
    }
   ],
   "source": [
    "print('p-значение:', results.pvalue)\n",
    "\n",
    "if results.pvalue < alpha:\n",
    "    print('Отвергаем нулевую гипотезу')\n",
    "else:\n",
    "    print('Не получилось отвергнуть нулевую гипотезу')"
   ]
  },
  {
   "cell_type": "markdown",
   "id": "65d98723",
   "metadata": {},
   "source": [
    "***Вывод:***\n",
    "Полученное значение p-value меньше заданного уровня значимости, поэтому можно отвергнуть нулевую гипотезу. Есть основания говорить, что пользователи с подпиской тратят больше времени на поездки."
   ]
  },
  {
   "cell_type": "markdown",
   "id": "698c65b9",
   "metadata": {},
   "source": [
    "##### Расстояние одной поездки в 3130 метров — оптимальное с точки зрения износа самоката. Можно ли сказать, что среднее расстояние, которое проезжают пользователи с подпиской за одну поездку, не превышает 3130 метров? Проверим гипотезу."
   ]
  },
  {
   "cell_type": "markdown",
   "id": "82aab9dc",
   "metadata": {},
   "source": [
    "За нулевую гипотезу примем, что расстояние одной поездки пользователей с подпиской равно 3130 метрам. За альтернативую, что среднее расстояние, которое проезжают пользователи с подпиской за одну поездку, превышает 3130 метров."
   ]
  },
  {
   "cell_type": "code",
   "execution_count": 94,
   "id": "6864561e",
   "metadata": {},
   "outputs": [],
   "source": [
    "distance_value = 3130 # оптимальное расстояние одной поездки"
   ]
  },
  {
   "cell_type": "code",
   "execution_count": 95,
   "id": "e6b08df2",
   "metadata": {},
   "outputs": [],
   "source": [
    "alpha = 0.05 # уровень статистической значимости"
   ]
  },
  {
   "cell_type": "code",
   "execution_count": 96,
   "id": "a8e4c286",
   "metadata": {},
   "outputs": [],
   "source": [
    "results = st.ttest_1samp(data_ultra['distance'], distance_value, alternative='greater')"
   ]
  },
  {
   "cell_type": "code",
   "execution_count": 97,
   "id": "73ac4cc9",
   "metadata": {},
   "outputs": [
    {
     "name": "stdout",
     "output_type": "stream",
     "text": [
      "p-значение: 0.9195362605842414\n",
      "Не получилось отвергнуть нулевую гипотезу\n"
     ]
    }
   ],
   "source": [
    "print('p-значение:', results.pvalue)\n",
    "\n",
    "if results.pvalue < alpha:\n",
    "    print('Отвергаем нулевую гипотезу: расстояние меньше 3130 метров')\n",
    "else:\n",
    "    print('Не получилось отвергнуть нулевую гипотезу')"
   ]
  },
  {
   "cell_type": "code",
   "execution_count": 98,
   "id": "3474f289",
   "metadata": {},
   "outputs": [
    {
     "data": {
      "text/plain": [
       "3115.445430769231"
      ]
     },
     "execution_count": 98,
     "metadata": {},
     "output_type": "execute_result"
    }
   ],
   "source": [
    "data_ultra['distance'].mean() # найдем среднее значение расстояния поездок пользователей с подпиской"
   ]
  },
  {
   "cell_type": "markdown",
   "id": "13d3e515",
   "metadata": {},
   "source": [
    "***Вывод*** Полученное р-значение, выше заданного уровня значимости, поэтому нельзя отвергать нулевую гипотезу. Т.е. среднее расстояние одной поездки пользователей с подпиской приближено к 3130 метрам, т.е. не превышает 3130 метров."
   ]
  },
  {
   "cell_type": "markdown",
   "id": "d8e339d4",
   "metadata": {},
   "source": [
    "##### Проверим гипотезу о том, будет ли помесячная выручка от пользователей с подпиской по месяцам выше, чем выручка от пользователей без подписки."
   ]
  },
  {
   "cell_type": "markdown",
   "id": "ba7632ef",
   "metadata": {},
   "source": [
    "Примем за нулевую гипотезу, что помесячная выручка от пользователей с подпиской по месяцам равна выручке от пользователей без подписки. За альтернативную, что помесячная выручка от пользователей с подпиской по месяцам выше, чем выручка от пользователей без подписки."
   ]
  },
  {
   "cell_type": "markdown",
   "id": "fb51755f",
   "metadata": {},
   "source": [
    "Подготовим данные для проверки гипотезы:"
   ]
  },
  {
   "cell_type": "code",
   "execution_count": 101,
   "id": "632fd2d8",
   "metadata": {},
   "outputs": [
    {
     "data": {
      "text/html": [
       "<div>\n",
       "<style scoped>\n",
       "    .dataframe tbody tr th:only-of-type {\n",
       "        vertical-align: middle;\n",
       "    }\n",
       "\n",
       "    .dataframe tbody tr th {\n",
       "        vertical-align: top;\n",
       "    }\n",
       "\n",
       "    .dataframe thead th {\n",
       "        text-align: right;\n",
       "    }\n",
       "</style>\n",
       "<table border=\"1\" class=\"dataframe\">\n",
       "  <thead>\n",
       "    <tr style=\"text-align: right;\">\n",
       "      <th></th>\n",
       "      <th>user_id</th>\n",
       "      <th>month</th>\n",
       "      <th>count</th>\n",
       "      <th>total_distance</th>\n",
       "      <th>total_duration</th>\n",
       "      <th>name</th>\n",
       "      <th>subscription_type</th>\n",
       "      <th>minute_price</th>\n",
       "      <th>start_ride_price</th>\n",
       "      <th>subscription_fee</th>\n",
       "      <th>revenue</th>\n",
       "    </tr>\n",
       "  </thead>\n",
       "  <tbody>\n",
       "    <tr>\n",
       "      <th>0</th>\n",
       "      <td>1</td>\n",
       "      <td>1</td>\n",
       "      <td>2</td>\n",
       "      <td>7027.51</td>\n",
       "      <td>42.0</td>\n",
       "      <td>Кира</td>\n",
       "      <td>ultra</td>\n",
       "      <td>6</td>\n",
       "      <td>0</td>\n",
       "      <td>199</td>\n",
       "      <td>451.0</td>\n",
       "    </tr>\n",
       "    <tr>\n",
       "      <th>1</th>\n",
       "      <td>1</td>\n",
       "      <td>4</td>\n",
       "      <td>1</td>\n",
       "      <td>754.16</td>\n",
       "      <td>7.0</td>\n",
       "      <td>Кира</td>\n",
       "      <td>ultra</td>\n",
       "      <td>6</td>\n",
       "      <td>0</td>\n",
       "      <td>199</td>\n",
       "      <td>241.0</td>\n",
       "    </tr>\n",
       "  </tbody>\n",
       "</table>\n",
       "</div>"
      ],
      "text/plain": [
       "   user_id  month  count  total_distance  total_duration  name  \\\n",
       "0        1      1      2         7027.51            42.0  Кира   \n",
       "1        1      4      1          754.16             7.0  Кира   \n",
       "\n",
       "  subscription_type  minute_price  start_ride_price  subscription_fee  revenue  \n",
       "0             ultra             6                 0               199    451.0  \n",
       "1             ultra             6                 0               199    241.0  "
      ]
     },
     "execution_count": 101,
     "metadata": {},
     "output_type": "execute_result"
    }
   ],
   "source": [
    "ultra = pivot_data[pivot_data['subscription_type'] == 'ultra'] # сделаем срез пользователей с подпиской\n",
    "ultra.head(2)"
   ]
  },
  {
   "cell_type": "code",
   "execution_count": 102,
   "id": "7f132f38",
   "metadata": {
    "scrolled": true
   },
   "outputs": [
    {
     "data": {
      "text/html": [
       "<div>\n",
       "<style scoped>\n",
       "    .dataframe tbody tr th:only-of-type {\n",
       "        vertical-align: middle;\n",
       "    }\n",
       "\n",
       "    .dataframe tbody tr th {\n",
       "        vertical-align: top;\n",
       "    }\n",
       "\n",
       "    .dataframe thead th {\n",
       "        text-align: right;\n",
       "    }\n",
       "</style>\n",
       "<table border=\"1\" class=\"dataframe\">\n",
       "  <thead>\n",
       "    <tr style=\"text-align: right;\">\n",
       "      <th></th>\n",
       "      <th>user_id</th>\n",
       "      <th>month</th>\n",
       "      <th>count</th>\n",
       "      <th>total_distance</th>\n",
       "      <th>total_duration</th>\n",
       "      <th>name</th>\n",
       "      <th>subscription_type</th>\n",
       "      <th>minute_price</th>\n",
       "      <th>start_ride_price</th>\n",
       "      <th>subscription_fee</th>\n",
       "      <th>revenue</th>\n",
       "    </tr>\n",
       "  </thead>\n",
       "  <tbody>\n",
       "    <tr>\n",
       "      <th>4533</th>\n",
       "      <td>700</td>\n",
       "      <td>1</td>\n",
       "      <td>1</td>\n",
       "      <td>2515.69</td>\n",
       "      <td>15.0</td>\n",
       "      <td>Айдар</td>\n",
       "      <td>free</td>\n",
       "      <td>8</td>\n",
       "      <td>50</td>\n",
       "      <td>0</td>\n",
       "      <td>170.0</td>\n",
       "    </tr>\n",
       "    <tr>\n",
       "      <th>4534</th>\n",
       "      <td>700</td>\n",
       "      <td>2</td>\n",
       "      <td>5</td>\n",
       "      <td>13446.65</td>\n",
       "      <td>89.0</td>\n",
       "      <td>Айдар</td>\n",
       "      <td>free</td>\n",
       "      <td>8</td>\n",
       "      <td>50</td>\n",
       "      <td>0</td>\n",
       "      <td>962.0</td>\n",
       "    </tr>\n",
       "  </tbody>\n",
       "</table>\n",
       "</div>"
      ],
      "text/plain": [
       "      user_id  month  count  total_distance  total_duration   name  \\\n",
       "4533      700      1      1         2515.69            15.0  Айдар   \n",
       "4534      700      2      5        13446.65            89.0  Айдар   \n",
       "\n",
       "     subscription_type  minute_price  start_ride_price  subscription_fee  \\\n",
       "4533              free             8                50                 0   \n",
       "4534              free             8                50                 0   \n",
       "\n",
       "      revenue  \n",
       "4533    170.0  \n",
       "4534    962.0  "
      ]
     },
     "execution_count": 102,
     "metadata": {},
     "output_type": "execute_result"
    }
   ],
   "source": [
    "free = pivot_data[pivot_data['subscription_type'] == 'free'] # сделаем срез пользователей без подписки\n",
    "free.head(2)"
   ]
  },
  {
   "cell_type": "code",
   "execution_count": 103,
   "id": "8e24fc78",
   "metadata": {},
   "outputs": [],
   "source": [
    "alpha = 0.05 # уровень статистической значимости"
   ]
  },
  {
   "cell_type": "code",
   "execution_count": 104,
   "id": "eafc69ea",
   "metadata": {},
   "outputs": [],
   "source": [
    "results = st.ttest_ind(ultra['revenue'], free['revenue'], alternative='greater')"
   ]
  },
  {
   "cell_type": "code",
   "execution_count": 105,
   "id": "258c2aea",
   "metadata": {},
   "outputs": [
    {
     "name": "stdout",
     "output_type": "stream",
     "text": [
      "p-значение: 1.8850394384715216e-31\n",
      "Отвергаем нулевую гипотезу\n"
     ]
    }
   ],
   "source": [
    "print('p-значение:', results.pvalue)\n",
    "\n",
    "if results.pvalue < alpha:\n",
    "    print('Отвергаем нулевую гипотезу')\n",
    "else:\n",
    "    print('Не получилось отвергнуть нулевую гипотезу')"
   ]
  },
  {
   "cell_type": "markdown",
   "id": "cf007e95",
   "metadata": {},
   "source": [
    "***Вывод*** Полученное р-значение, ниже заданного уровня значимости, поэтому можно отвергнуть нулевую гипотезу. Есть основания утверждать, что помесячная выручка от пользователей с подпиской по месяцам больше выручки от пользователей без подписки."
   ]
  },
  {
   "cell_type": "markdown",
   "id": "b9b4a9f3",
   "metadata": {},
   "source": [
    "##### Представьте такую ситуацию: техническая команда сервиса обновила сервера, с которыми взаимодействует мобильное приложение. Она надеется, что из-за этого количество обращений в техподдержку значимо снизилось. Некоторый файл содержит для каждого пользователя данные о количестве обращений до обновления и после него. Какой тест вам понадобился бы для проверки этой гипотезы?"
   ]
  },
  {
   "cell_type": "markdown",
   "id": "dd24aa53",
   "metadata": {},
   "source": [
    "Чтобы проверить гипотезу применим метод **scipy.stats.ttest_rel(before, after)** о равенстве среднего генеральной совокупности для зависимых (парных) выборок в Python. За нулевую гипотезу принять, что количество обращений в техподдержку после обновления сервера  осталось прежним. За альтернативную гипотезу принять, что количество обращений снизилось, такая гипотеза будет односторонней. Необходимо будет найти значение p-value, если оно будет ниже 5% (или 1%), то нулевую гипотезу следует отвергнуть."
   ]
  },
  {
   "cell_type": "markdown",
   "id": "f179a406",
   "metadata": {},
   "source": [
    "#### Выводы"
   ]
  },
  {
   "cell_type": "markdown",
   "id": "a5f5f877",
   "metadata": {},
   "source": [
    "1. Выполнила предообработку данных: скорректировала формат данных в столбце 'date', добавила столбец месяца для анализа, проверила и удалила дубликаты в файле с информацией о пользователях, проверила данные на наличие пропусков.\n",
    "\n",
    "\n",
    "2. Выполнила исследовательский анализ, в ходе которого выяснила:\n",
    "      \n",
    "   - В данных проката самокатов представлены 8 городов России, всего данные содержат информацию о 1'534 пользователях, из них 835 пользователей без подписки, 699 пользователей пользуются подпиской ultra.\n",
    "   - Средний возраст пользователей 25 лет, основая часть пользователей в возрасте от 22 до 28 лет, минимальный и максимальный возраст 12 лет и 43 года, соответственно. Возраст меньше 14 лет явная аномалия. Также отмечу, что сейчас сервисы аренды самоката начали блокировать пользователей младше 18 лет (детям с 14 лет разрешено пользоваться собственным электросамокатом).\n",
    "   - Среднее расстояние одной поездки 3,1 км, большая часть поездок находится в диапозоне от 2,5 км до 3,8 км. Есть короткие поездки 0,5 и 1км, скорее всего это постоянные поездки до работы, магазина.\n",
    "   - Средняя продолжительность поездки 18 минут, большая часть поездок в диапозоне от 13 до 22 минут, есть 'короткие' поездки, меньше 1 минуты. \n",
    "     \n",
    "     \n",
    "3. Объединила все данные о пользователях, поездках и подписках в один датафрейм, создала отдельные файлы с данными по пользователям с подпиской и пользователям без подписки, построила графики и выявила следующие закономерности:\n",
    "\n",
    "   - Расстояние, которое проезжают пользователи без подписки в диапозоне 2,4-3,9км, с подпиской ultra - 2,8-3,6км, среднее расстояние около 3,1км, это скорее всего обычные прогулки. У всех пользователей есть вторые пики на более короткие расстояния в 0,5 км (без подписки) и 1км (с подпиской ultra), скорее это короткие поездки до работы, до магазина. \n",
    "\n",
    "   - Среднее время поездок у всех пользователей примерно равное - 18 минут. Большая часть поездок находится в диапозоне от 13 до 22 минут (без подписки), от 15 до 22 минут(с подпиской ultra). Минимальное время отличается: 0,5 минут у пользователей без подписки, 4 минуты у пользователей с подпиской ultra.\n",
    "     \n",
    "     \n",
    "4. Подсчитала выручку пользователей с подпиской и без подписки, общая выручка пользователей с подпиской - 1'644'537, без подписки - 2'234'104.\n",
    "  При подсчете выручки была взята ежемесячная оплата (для пользователей с подпиской) только за месяцы, в которые пользователь совершал поездки.\n",
    "  \n",
    "  \n",
    "5. Проверила гипотезы:\n",
    "\n",
    "   - тратят ли пользователи с подпиской больше времени на поездки? \n",
    "*Есть основания говорить, что пользователи с подпиской тратят больше времени на поездки, т.е. они 'выгоднее'.*\n",
    "   - расстояние одной поездки в 3130 метров — оптимальное с точки зрения износа самоката. Можно ли сказать, что среднее расстояние, которое проезжают пользователи с подпиской за одну поездку, не превышает 3130 метров? \n",
    "\n",
    "*Да, гипотеза потвердилась, среднее расстояние одной поездки пользователей с подпиской приближено к 3130 метрам, т.е. не превышает 3130 метров.*\n",
    "   - помесячная выручка от пользователей с подпиской по месяцам выше, чем выручка от пользователей без подписки? \n",
    "\n",
    "*Есть основания утверждать, что помесячная выручка от пользователей с подпиской по месяцам больше выручки от пользователей без подписки.*\n",
    "   - ситуация: техническая команда сервиса обновила сервера, с которыми взаимодействует мобильное приложение. Она надеется, что из-за этого количество обращений в техподдержку значимо снизилось. Некоторый файл содержит для каждого пользователя данные о количестве обращений до обновления и после него. Какой тест вам понадобился бы для проверки этой гипотезы?\n",
    "\n",
    "*scipy.stats.ttest_rel(before, after)*\n",
    "  \n",
    "  **Рекомендации**: дополнительно проверить таймер отсчета времени, ужесточить контроль по возрасту пользователей, заблокировать пользователей младше 18 лет. Обратить внимание на короткие поездки, если это регулярные поездки у одного и того же пользователя без подписки, предложить воспользоваться подпиской."
   ]
  }
 ],
 "metadata": {
  "ExecuteTimeLog": [
   {
    "duration": 49,
    "start_time": "2025-03-20T11:36:27.211Z"
   },
   {
    "duration": 434,
    "start_time": "2025-03-20T11:36:33.930Z"
   },
   {
    "duration": 86,
    "start_time": "2025-03-20T11:36:35.815Z"
   },
   {
    "duration": 90,
    "start_time": "2025-03-20T11:37:39.743Z"
   },
   {
    "duration": 22,
    "start_time": "2025-03-20T11:38:39.918Z"
   },
   {
    "duration": 13,
    "start_time": "2025-03-20T11:39:28.267Z"
   },
   {
    "duration": 63,
    "start_time": "2025-03-20T11:41:04.378Z"
   },
   {
    "duration": 36,
    "start_time": "2025-03-20T11:41:14.254Z"
   },
   {
    "duration": 13,
    "start_time": "2025-03-20T11:41:24.313Z"
   },
   {
    "duration": 11,
    "start_time": "2025-03-20T11:42:12.892Z"
   },
   {
    "duration": 10,
    "start_time": "2025-03-20T11:42:17.397Z"
   },
   {
    "duration": 19,
    "start_time": "2025-03-20T11:42:51.175Z"
   },
   {
    "duration": 8,
    "start_time": "2025-03-20T11:43:09.072Z"
   },
   {
    "duration": 7,
    "start_time": "2025-03-20T11:43:19.269Z"
   },
   {
    "duration": 6,
    "start_time": "2025-03-20T11:43:24.131Z"
   },
   {
    "duration": 16,
    "start_time": "2025-03-20T11:52:47.344Z"
   },
   {
    "duration": 381,
    "start_time": "2025-03-20T11:53:14.256Z"
   },
   {
    "duration": 49,
    "start_time": "2025-03-20T11:53:14.639Z"
   },
   {
    "duration": 104,
    "start_time": "2025-03-20T11:53:14.689Z"
   },
   {
    "duration": 42,
    "start_time": "2025-03-20T11:53:14.795Z"
   },
   {
    "duration": 12,
    "start_time": "2025-03-20T11:53:14.839Z"
   },
   {
    "duration": 21,
    "start_time": "2025-03-20T11:53:14.852Z"
   },
   {
    "duration": 32,
    "start_time": "2025-03-20T11:53:14.875Z"
   },
   {
    "duration": 8,
    "start_time": "2025-03-20T11:53:14.909Z"
   },
   {
    "duration": 11,
    "start_time": "2025-03-20T11:53:14.918Z"
   },
   {
    "duration": 8,
    "start_time": "2025-03-20T11:53:14.930Z"
   },
   {
    "duration": 431,
    "start_time": "2025-03-21T07:50:08.980Z"
   },
   {
    "duration": 63,
    "start_time": "2025-03-21T08:03:24.515Z"
   },
   {
    "duration": 367,
    "start_time": "2025-03-21T08:03:32.542Z"
   },
   {
    "duration": 43,
    "start_time": "2025-03-21T08:03:32.911Z"
   },
   {
    "duration": 69,
    "start_time": "2025-03-21T08:03:32.956Z"
   },
   {
    "duration": 39,
    "start_time": "2025-03-21T08:03:33.026Z"
   },
   {
    "duration": 11,
    "start_time": "2025-03-21T08:03:33.067Z"
   },
   {
    "duration": 25,
    "start_time": "2025-03-21T08:03:33.079Z"
   },
   {
    "duration": 26,
    "start_time": "2025-03-21T08:03:33.105Z"
   },
   {
    "duration": 52,
    "start_time": "2025-03-21T08:03:33.132Z"
   },
   {
    "duration": 16,
    "start_time": "2025-03-21T08:03:33.186Z"
   },
   {
    "duration": 19,
    "start_time": "2025-03-21T08:03:33.204Z"
   },
   {
    "duration": 435,
    "start_time": "2025-03-21T08:03:33.225Z"
   },
   {
    "duration": 11,
    "start_time": "2025-03-21T08:04:50.244Z"
   },
   {
    "duration": 11,
    "start_time": "2025-03-21T08:05:01.616Z"
   },
   {
    "duration": 7,
    "start_time": "2025-03-21T08:06:56.320Z"
   },
   {
    "duration": 351,
    "start_time": "2025-03-21T08:07:49.863Z"
   },
   {
    "duration": 51,
    "start_time": "2025-03-21T08:07:50.216Z"
   },
   {
    "duration": 128,
    "start_time": "2025-03-21T08:07:50.268Z"
   },
   {
    "duration": 55,
    "start_time": "2025-03-21T08:07:50.397Z"
   },
   {
    "duration": 11,
    "start_time": "2025-03-21T08:07:50.455Z"
   },
   {
    "duration": 28,
    "start_time": "2025-03-21T08:07:50.467Z"
   },
   {
    "duration": 10,
    "start_time": "2025-03-21T08:07:50.496Z"
   },
   {
    "duration": 9,
    "start_time": "2025-03-21T08:07:50.508Z"
   },
   {
    "duration": 39,
    "start_time": "2025-03-21T08:07:50.519Z"
   },
   {
    "duration": 17,
    "start_time": "2025-03-21T08:07:50.560Z"
   },
   {
    "duration": 14,
    "start_time": "2025-03-21T08:08:48.662Z"
   },
   {
    "duration": 7,
    "start_time": "2025-03-21T08:11:02.607Z"
   },
   {
    "duration": 6,
    "start_time": "2025-03-21T08:11:41.530Z"
   },
   {
    "duration": 8,
    "start_time": "2025-03-21T08:11:45.617Z"
   },
   {
    "duration": 11,
    "start_time": "2025-03-21T08:11:50.058Z"
   },
   {
    "duration": 48,
    "start_time": "2025-03-21T08:14:08.034Z"
   },
   {
    "duration": 4,
    "start_time": "2025-03-21T08:18:47.069Z"
   },
   {
    "duration": 10,
    "start_time": "2025-03-21T08:18:55.898Z"
   },
   {
    "duration": 4,
    "start_time": "2025-03-21T08:19:13.177Z"
   },
   {
    "duration": 14,
    "start_time": "2025-03-21T08:19:14.441Z"
   },
   {
    "duration": 425,
    "start_time": "2025-03-21T08:19:18.394Z"
   },
   {
    "duration": 82,
    "start_time": "2025-03-21T08:19:18.821Z"
   },
   {
    "duration": 55,
    "start_time": "2025-03-21T08:19:18.905Z"
   },
   {
    "duration": 30,
    "start_time": "2025-03-21T08:19:18.961Z"
   },
   {
    "duration": 12,
    "start_time": "2025-03-21T08:19:18.993Z"
   },
   {
    "duration": 18,
    "start_time": "2025-03-21T08:19:19.006Z"
   },
   {
    "duration": 25,
    "start_time": "2025-03-21T08:19:19.025Z"
   },
   {
    "duration": 23,
    "start_time": "2025-03-21T08:19:19.052Z"
   },
   {
    "duration": 10,
    "start_time": "2025-03-21T08:19:19.077Z"
   },
   {
    "duration": 8,
    "start_time": "2025-03-21T08:19:19.089Z"
   },
   {
    "duration": 21,
    "start_time": "2025-03-21T08:19:19.099Z"
   },
   {
    "duration": 8,
    "start_time": "2025-03-21T08:19:19.122Z"
   },
   {
    "duration": 13,
    "start_time": "2025-03-21T08:19:19.131Z"
   },
   {
    "duration": 4,
    "start_time": "2025-03-21T08:19:19.146Z"
   },
   {
    "duration": 7,
    "start_time": "2025-03-21T08:19:19.152Z"
   },
   {
    "duration": 3,
    "start_time": "2025-03-21T08:19:41.669Z"
   },
   {
    "duration": 3,
    "start_time": "2025-03-21T08:19:42.151Z"
   },
   {
    "duration": 9,
    "start_time": "2025-03-21T08:19:42.596Z"
   },
   {
    "duration": 5,
    "start_time": "2025-03-21T08:20:10.024Z"
   },
   {
    "duration": 9,
    "start_time": "2025-03-21T08:20:11.543Z"
   },
   {
    "duration": 360,
    "start_time": "2025-03-21T08:25:20.044Z"
   },
   {
    "duration": 48,
    "start_time": "2025-03-21T08:25:20.406Z"
   },
   {
    "duration": 118,
    "start_time": "2025-03-21T08:25:20.456Z"
   },
   {
    "duration": 48,
    "start_time": "2025-03-21T08:25:20.576Z"
   },
   {
    "duration": 27,
    "start_time": "2025-03-21T08:25:20.626Z"
   },
   {
    "duration": 32,
    "start_time": "2025-03-21T08:25:20.655Z"
   },
   {
    "duration": 10,
    "start_time": "2025-03-21T08:25:20.688Z"
   },
   {
    "duration": 14,
    "start_time": "2025-03-21T08:25:20.700Z"
   },
   {
    "duration": 15,
    "start_time": "2025-03-21T08:25:20.715Z"
   },
   {
    "duration": 10,
    "start_time": "2025-03-21T08:25:20.731Z"
   },
   {
    "duration": 33,
    "start_time": "2025-03-21T08:25:20.743Z"
   },
   {
    "duration": 7,
    "start_time": "2025-03-21T08:25:20.777Z"
   },
   {
    "duration": 12,
    "start_time": "2025-03-21T08:25:20.786Z"
   },
   {
    "duration": 14,
    "start_time": "2025-03-21T08:25:20.800Z"
   },
   {
    "duration": 5,
    "start_time": "2025-03-21T08:25:20.815Z"
   },
   {
    "duration": 11,
    "start_time": "2025-03-21T08:25:20.822Z"
   },
   {
    "duration": 9,
    "start_time": "2025-03-21T08:25:25.979Z"
   },
   {
    "duration": 98,
    "start_time": "2025-03-21T08:27:09.561Z"
   },
   {
    "duration": 4,
    "start_time": "2025-03-21T08:27:17.457Z"
   },
   {
    "duration": 9,
    "start_time": "2025-03-21T08:27:20.758Z"
   },
   {
    "duration": 395,
    "start_time": "2025-03-21T08:27:57.319Z"
   },
   {
    "duration": 76,
    "start_time": "2025-03-21T08:27:57.716Z"
   },
   {
    "duration": 81,
    "start_time": "2025-03-21T08:27:57.794Z"
   },
   {
    "duration": 45,
    "start_time": "2025-03-21T08:27:57.877Z"
   },
   {
    "duration": 10,
    "start_time": "2025-03-21T08:27:57.924Z"
   },
   {
    "duration": 17,
    "start_time": "2025-03-21T08:27:57.936Z"
   },
   {
    "duration": 11,
    "start_time": "2025-03-21T08:27:57.954Z"
   },
   {
    "duration": 7,
    "start_time": "2025-03-21T08:27:57.967Z"
   },
   {
    "duration": 17,
    "start_time": "2025-03-21T08:27:57.976Z"
   },
   {
    "duration": 21,
    "start_time": "2025-03-21T08:27:57.995Z"
   },
   {
    "duration": 28,
    "start_time": "2025-03-21T08:27:58.017Z"
   },
   {
    "duration": 23,
    "start_time": "2025-03-21T08:27:58.046Z"
   },
   {
    "duration": 21,
    "start_time": "2025-03-21T08:27:58.071Z"
   },
   {
    "duration": 20,
    "start_time": "2025-03-21T08:27:58.094Z"
   },
   {
    "duration": 55,
    "start_time": "2025-03-21T08:27:58.115Z"
   },
   {
    "duration": 6,
    "start_time": "2025-03-21T08:30:03.906Z"
   },
   {
    "duration": 59,
    "start_time": "2025-03-21T08:31:20.609Z"
   },
   {
    "duration": 5,
    "start_time": "2025-03-21T08:31:41.794Z"
   },
   {
    "duration": 9,
    "start_time": "2025-03-21T08:31:55.872Z"
   },
   {
    "duration": 10,
    "start_time": "2025-03-21T08:32:24.007Z"
   },
   {
    "duration": 12,
    "start_time": "2025-03-21T08:32:40.626Z"
   },
   {
    "duration": 12,
    "start_time": "2025-03-21T08:36:10.800Z"
   },
   {
    "duration": 12,
    "start_time": "2025-03-21T08:36:44.907Z"
   },
   {
    "duration": 6,
    "start_time": "2025-03-21T08:37:45.790Z"
   },
   {
    "duration": 1463,
    "start_time": "2025-03-21T08:37:55.776Z"
   },
   {
    "duration": 1692,
    "start_time": "2025-03-21T08:38:19.504Z"
   },
   {
    "duration": 9,
    "start_time": "2025-03-21T08:38:34.666Z"
   },
   {
    "duration": 5,
    "start_time": "2025-03-21T08:40:10.747Z"
   },
   {
    "duration": 6,
    "start_time": "2025-03-21T08:40:17.497Z"
   },
   {
    "duration": 9,
    "start_time": "2025-03-21T08:40:27.945Z"
   },
   {
    "duration": 9,
    "start_time": "2025-03-21T08:40:42.002Z"
   },
   {
    "duration": 9,
    "start_time": "2025-03-21T08:40:51.457Z"
   },
   {
    "duration": 9,
    "start_time": "2025-03-21T08:41:02.457Z"
   },
   {
    "duration": 8,
    "start_time": "2025-03-21T08:41:10.131Z"
   },
   {
    "duration": 356,
    "start_time": "2025-03-21T08:41:21.553Z"
   },
   {
    "duration": 61,
    "start_time": "2025-03-21T08:41:21.910Z"
   },
   {
    "duration": 71,
    "start_time": "2025-03-21T08:41:21.972Z"
   },
   {
    "duration": 51,
    "start_time": "2025-03-21T08:41:22.044Z"
   },
   {
    "duration": 11,
    "start_time": "2025-03-21T08:41:22.097Z"
   },
   {
    "duration": 38,
    "start_time": "2025-03-21T08:41:22.109Z"
   },
   {
    "duration": 12,
    "start_time": "2025-03-21T08:41:22.148Z"
   },
   {
    "duration": 8,
    "start_time": "2025-03-21T08:41:22.161Z"
   },
   {
    "duration": 28,
    "start_time": "2025-03-21T08:41:22.171Z"
   },
   {
    "duration": 47,
    "start_time": "2025-03-21T08:41:22.200Z"
   },
   {
    "duration": 15,
    "start_time": "2025-03-21T08:41:22.248Z"
   },
   {
    "duration": 7,
    "start_time": "2025-03-21T08:41:22.264Z"
   },
   {
    "duration": 12,
    "start_time": "2025-03-21T08:41:22.273Z"
   },
   {
    "duration": 5,
    "start_time": "2025-03-21T08:41:22.287Z"
   },
   {
    "duration": 19,
    "start_time": "2025-03-21T08:41:22.293Z"
   },
   {
    "duration": 11,
    "start_time": "2025-03-21T08:41:22.313Z"
   },
   {
    "duration": 19,
    "start_time": "2025-03-21T08:41:22.325Z"
   },
   {
    "duration": 8,
    "start_time": "2025-03-21T08:41:22.345Z"
   },
   {
    "duration": 13,
    "start_time": "2025-03-21T08:41:22.355Z"
   },
   {
    "duration": 5,
    "start_time": "2025-03-21T08:43:12.016Z"
   },
   {
    "duration": 10,
    "start_time": "2025-03-21T08:43:54.293Z"
   },
   {
    "duration": 5,
    "start_time": "2025-03-21T08:51:01.636Z"
   },
   {
    "duration": 9,
    "start_time": "2025-03-21T08:51:06.290Z"
   },
   {
    "duration": 4,
    "start_time": "2025-03-21T08:51:22.617Z"
   },
   {
    "duration": 3,
    "start_time": "2025-03-21T08:51:29.829Z"
   },
   {
    "duration": 5,
    "start_time": "2025-03-21T08:51:33.556Z"
   },
   {
    "duration": 9,
    "start_time": "2025-03-21T08:52:01.306Z"
   },
   {
    "duration": 5,
    "start_time": "2025-03-21T08:52:17.130Z"
   },
   {
    "duration": 6,
    "start_time": "2025-03-21T08:52:27.500Z"
   },
   {
    "duration": 9,
    "start_time": "2025-03-21T08:52:45.667Z"
   },
   {
    "duration": 383,
    "start_time": "2025-03-21T08:52:55.534Z"
   },
   {
    "duration": 178,
    "start_time": "2025-03-21T08:52:55.919Z"
   },
   {
    "duration": 124,
    "start_time": "2025-03-21T08:52:56.098Z"
   },
   {
    "duration": 68,
    "start_time": "2025-03-21T08:52:56.224Z"
   },
   {
    "duration": 11,
    "start_time": "2025-03-21T08:52:56.294Z"
   },
   {
    "duration": 15,
    "start_time": "2025-03-21T08:52:56.307Z"
   },
   {
    "duration": 10,
    "start_time": "2025-03-21T08:52:56.324Z"
   },
   {
    "duration": 8,
    "start_time": "2025-03-21T08:52:56.335Z"
   },
   {
    "duration": 10,
    "start_time": "2025-03-21T08:52:56.344Z"
   },
   {
    "duration": 12,
    "start_time": "2025-03-21T08:52:56.355Z"
   },
   {
    "duration": 15,
    "start_time": "2025-03-21T08:52:56.369Z"
   },
   {
    "duration": 32,
    "start_time": "2025-03-21T08:52:56.385Z"
   },
   {
    "duration": 8,
    "start_time": "2025-03-21T08:52:56.418Z"
   },
   {
    "duration": 10,
    "start_time": "2025-03-21T08:52:56.428Z"
   },
   {
    "duration": 19,
    "start_time": "2025-03-21T08:52:56.439Z"
   },
   {
    "duration": 9,
    "start_time": "2025-03-21T08:52:56.460Z"
   },
   {
    "duration": 7,
    "start_time": "2025-03-21T08:52:56.470Z"
   },
   {
    "duration": 7,
    "start_time": "2025-03-21T08:52:56.478Z"
   },
   {
    "duration": 21,
    "start_time": "2025-03-21T08:52:56.486Z"
   },
   {
    "duration": 6,
    "start_time": "2025-03-21T08:53:56.353Z"
   },
   {
    "duration": 68,
    "start_time": "2025-03-21T09:03:38.104Z"
   },
   {
    "duration": 6,
    "start_time": "2025-03-21T09:03:51.943Z"
   },
   {
    "duration": 14,
    "start_time": "2025-03-21T09:04:41.160Z"
   },
   {
    "duration": 5,
    "start_time": "2025-03-21T09:05:21.076Z"
   },
   {
    "duration": 6,
    "start_time": "2025-03-21T09:08:49.875Z"
   },
   {
    "duration": 17,
    "start_time": "2025-03-21T09:09:55.327Z"
   },
   {
    "duration": 5,
    "start_time": "2025-03-21T09:10:09.537Z"
   },
   {
    "duration": 4,
    "start_time": "2025-03-21T09:10:32.925Z"
   },
   {
    "duration": 5,
    "start_time": "2025-03-21T09:10:38.044Z"
   },
   {
    "duration": 3,
    "start_time": "2025-03-21T09:11:22.534Z"
   },
   {
    "duration": 5,
    "start_time": "2025-03-21T09:11:25.665Z"
   },
   {
    "duration": 12,
    "start_time": "2025-03-21T13:56:51.671Z"
   },
   {
    "duration": 9,
    "start_time": "2025-03-21T13:57:50.349Z"
   },
   {
    "duration": 11,
    "start_time": "2025-03-21T14:06:17.655Z"
   },
   {
    "duration": 402,
    "start_time": "2025-03-21T14:07:01.858Z"
   },
   {
    "duration": 41,
    "start_time": "2025-03-21T14:07:02.263Z"
   },
   {
    "duration": 70,
    "start_time": "2025-03-21T14:07:02.306Z"
   },
   {
    "duration": 50,
    "start_time": "2025-03-21T14:07:02.379Z"
   },
   {
    "duration": 68,
    "start_time": "2025-03-21T14:07:02.431Z"
   },
   {
    "duration": 70,
    "start_time": "2025-03-21T14:07:02.501Z"
   },
   {
    "duration": 33,
    "start_time": "2025-03-21T14:07:02.572Z"
   },
   {
    "duration": 28,
    "start_time": "2025-03-21T14:07:02.607Z"
   },
   {
    "duration": 114,
    "start_time": "2025-03-21T14:07:02.637Z"
   },
   {
    "duration": 44,
    "start_time": "2025-03-21T14:07:02.754Z"
   },
   {
    "duration": 31,
    "start_time": "2025-03-21T14:07:02.799Z"
   },
   {
    "duration": 42,
    "start_time": "2025-03-21T14:07:02.832Z"
   },
   {
    "duration": 60,
    "start_time": "2025-03-21T14:07:02.875Z"
   },
   {
    "duration": 48,
    "start_time": "2025-03-21T14:07:02.937Z"
   },
   {
    "duration": 19,
    "start_time": "2025-03-21T14:07:02.986Z"
   },
   {
    "duration": 62,
    "start_time": "2025-03-21T14:07:03.007Z"
   },
   {
    "duration": 59,
    "start_time": "2025-03-21T14:07:03.071Z"
   },
   {
    "duration": 47,
    "start_time": "2025-03-21T14:07:03.132Z"
   },
   {
    "duration": 55,
    "start_time": "2025-03-21T14:07:03.181Z"
   },
   {
    "duration": 45,
    "start_time": "2025-03-21T14:07:03.238Z"
   },
   {
    "duration": 64,
    "start_time": "2025-03-21T14:07:03.284Z"
   },
   {
    "duration": 50,
    "start_time": "2025-03-21T14:07:03.350Z"
   },
   {
    "duration": 47,
    "start_time": "2025-03-21T14:07:03.402Z"
   },
   {
    "duration": 159,
    "start_time": "2025-03-21T14:07:03.450Z"
   },
   {
    "duration": 3,
    "start_time": "2025-03-21T14:07:35.542Z"
   },
   {
    "duration": 9,
    "start_time": "2025-03-21T14:07:39.107Z"
   },
   {
    "duration": 6,
    "start_time": "2025-03-21T14:08:11.793Z"
   },
   {
    "duration": 9,
    "start_time": "2025-03-21T14:08:22.836Z"
   },
   {
    "duration": 9,
    "start_time": "2025-03-21T14:08:32.151Z"
   },
   {
    "duration": 10,
    "start_time": "2025-03-21T14:12:08.537Z"
   },
   {
    "duration": 12,
    "start_time": "2025-03-21T14:12:20.802Z"
   },
   {
    "duration": 345,
    "start_time": "2025-03-21T14:15:06.460Z"
   },
   {
    "duration": 15,
    "start_time": "2025-03-21T14:16:14.472Z"
   },
   {
    "duration": 134,
    "start_time": "2025-03-21T14:16:22.775Z"
   },
   {
    "duration": 145,
    "start_time": "2025-03-21T14:16:49.674Z"
   },
   {
    "duration": 138,
    "start_time": "2025-03-21T14:17:17.042Z"
   },
   {
    "duration": 204,
    "start_time": "2025-03-21T14:17:21.270Z"
   },
   {
    "duration": 147,
    "start_time": "2025-03-21T14:17:41.187Z"
   },
   {
    "duration": 152,
    "start_time": "2025-03-21T14:17:47.220Z"
   },
   {
    "duration": 469,
    "start_time": "2025-03-21T14:23:13.226Z"
   },
   {
    "duration": 63,
    "start_time": "2025-03-21T14:23:38.877Z"
   },
   {
    "duration": 13,
    "start_time": "2025-03-21T14:24:18.874Z"
   },
   {
    "duration": 20,
    "start_time": "2025-03-21T14:24:50.907Z"
   },
   {
    "duration": 4,
    "start_time": "2025-03-21T14:25:36.557Z"
   },
   {
    "duration": 6,
    "start_time": "2025-03-21T14:25:37.357Z"
   },
   {
    "duration": 3,
    "start_time": "2025-03-21T14:50:34.762Z"
   },
   {
    "duration": 6,
    "start_time": "2025-03-21T14:50:36.155Z"
   },
   {
    "duration": 6,
    "start_time": "2025-03-21T14:54:58.177Z"
   },
   {
    "duration": 6,
    "start_time": "2025-03-21T15:04:16.659Z"
   },
   {
    "duration": 104,
    "start_time": "2025-03-21T15:06:53.316Z"
   },
   {
    "duration": 7,
    "start_time": "2025-03-21T15:08:04.966Z"
   },
   {
    "duration": 206,
    "start_time": "2025-03-21T15:11:04.389Z"
   },
   {
    "duration": 130,
    "start_time": "2025-03-21T15:11:31.543Z"
   },
   {
    "duration": 142,
    "start_time": "2025-03-21T15:11:35.623Z"
   },
   {
    "duration": 14,
    "start_time": "2025-03-21T15:16:24.372Z"
   },
   {
    "duration": 21,
    "start_time": "2025-03-21T15:16:58.670Z"
   },
   {
    "duration": 13,
    "start_time": "2025-03-21T15:17:50.196Z"
   },
   {
    "duration": 12,
    "start_time": "2025-03-21T15:18:28.930Z"
   },
   {
    "duration": 90,
    "start_time": "2025-03-21T15:19:57.071Z"
   },
   {
    "duration": 9,
    "start_time": "2025-03-21T15:22:47.548Z"
   },
   {
    "duration": 9,
    "start_time": "2025-03-21T15:32:51.880Z"
   },
   {
    "duration": 168,
    "start_time": "2025-03-21T15:40:05.095Z"
   },
   {
    "duration": 9,
    "start_time": "2025-03-21T17:23:24.407Z"
   },
   {
    "duration": 8,
    "start_time": "2025-03-21T17:24:04.552Z"
   },
   {
    "duration": 160,
    "start_time": "2025-03-21T17:24:06.499Z"
   },
   {
    "duration": 138,
    "start_time": "2025-03-21T17:25:52.998Z"
   },
   {
    "duration": 157,
    "start_time": "2025-03-21T17:25:58.489Z"
   },
   {
    "duration": 58,
    "start_time": "2025-03-22T07:33:21.411Z"
   },
   {
    "duration": 357,
    "start_time": "2025-03-22T07:33:33.185Z"
   },
   {
    "duration": 53,
    "start_time": "2025-03-22T07:33:33.544Z"
   },
   {
    "duration": 91,
    "start_time": "2025-03-22T07:33:33.599Z"
   },
   {
    "duration": 38,
    "start_time": "2025-03-22T07:33:33.691Z"
   },
   {
    "duration": 11,
    "start_time": "2025-03-22T07:33:33.731Z"
   },
   {
    "duration": 25,
    "start_time": "2025-03-22T07:33:33.744Z"
   },
   {
    "duration": 10,
    "start_time": "2025-03-22T07:33:33.770Z"
   },
   {
    "duration": 12,
    "start_time": "2025-03-22T07:33:33.782Z"
   },
   {
    "duration": 10,
    "start_time": "2025-03-22T07:33:33.796Z"
   },
   {
    "duration": 23,
    "start_time": "2025-03-22T07:33:33.808Z"
   },
   {
    "duration": 12,
    "start_time": "2025-03-22T07:33:33.833Z"
   },
   {
    "duration": 20,
    "start_time": "2025-03-22T07:33:33.846Z"
   },
   {
    "duration": 8,
    "start_time": "2025-03-22T07:33:33.867Z"
   },
   {
    "duration": 23,
    "start_time": "2025-03-22T07:33:33.878Z"
   },
   {
    "duration": 12,
    "start_time": "2025-03-22T07:33:33.903Z"
   },
   {
    "duration": 9,
    "start_time": "2025-03-22T07:33:33.917Z"
   },
   {
    "duration": 6,
    "start_time": "2025-03-22T07:33:33.928Z"
   },
   {
    "duration": 37,
    "start_time": "2025-03-22T07:33:33.935Z"
   },
   {
    "duration": 11,
    "start_time": "2025-03-22T07:33:33.975Z"
   },
   {
    "duration": 8,
    "start_time": "2025-03-22T07:33:33.988Z"
   },
   {
    "duration": 10,
    "start_time": "2025-03-22T07:33:33.998Z"
   },
   {
    "duration": 82,
    "start_time": "2025-03-22T07:33:34.011Z"
   },
   {
    "duration": 567,
    "start_time": "2025-03-22T07:33:34.095Z"
   },
   {
    "duration": 6,
    "start_time": "2025-03-22T07:33:34.663Z"
   },
   {
    "duration": 117,
    "start_time": "2025-03-22T07:33:34.671Z"
   },
   {
    "duration": 5,
    "start_time": "2025-03-22T07:33:34.789Z"
   },
   {
    "duration": 9,
    "start_time": "2025-03-22T07:33:34.796Z"
   },
   {
    "duration": 160,
    "start_time": "2025-03-22T07:33:34.806Z"
   },
   {
    "duration": 8,
    "start_time": "2025-03-22T07:33:34.968Z"
   },
   {
    "duration": 177,
    "start_time": "2025-03-22T07:33:34.977Z"
   },
   {
    "duration": 8,
    "start_time": "2025-03-22T07:33:35.155Z"
   },
   {
    "duration": 240,
    "start_time": "2025-03-22T07:33:35.165Z"
   },
   {
    "duration": 102,
    "start_time": "2025-03-22T07:33:44.528Z"
   },
   {
    "duration": 78,
    "start_time": "2025-03-22T07:46:29.516Z"
   },
   {
    "duration": 10,
    "start_time": "2025-03-22T07:46:40.039Z"
   },
   {
    "duration": 12,
    "start_time": "2025-03-22T07:46:51.202Z"
   },
   {
    "duration": 14,
    "start_time": "2025-03-22T07:47:25.637Z"
   },
   {
    "duration": 11,
    "start_time": "2025-03-22T07:47:27.277Z"
   },
   {
    "duration": 10,
    "start_time": "2025-03-22T07:48:51.112Z"
   },
   {
    "duration": 12,
    "start_time": "2025-03-22T07:48:55.585Z"
   },
   {
    "duration": 0,
    "start_time": "2025-03-22T07:59:41.544Z"
   },
   {
    "duration": 0,
    "start_time": "2025-03-22T07:59:41.545Z"
   },
   {
    "duration": 8,
    "start_time": "2025-03-22T08:00:01.472Z"
   },
   {
    "duration": 457,
    "start_time": "2025-03-22T08:00:06.045Z"
   },
   {
    "duration": 63,
    "start_time": "2025-03-22T08:00:06.504Z"
   },
   {
    "duration": 83,
    "start_time": "2025-03-22T08:00:06.569Z"
   },
   {
    "duration": 38,
    "start_time": "2025-03-22T08:00:06.654Z"
   },
   {
    "duration": 12,
    "start_time": "2025-03-22T08:00:06.694Z"
   },
   {
    "duration": 14,
    "start_time": "2025-03-22T08:00:06.708Z"
   },
   {
    "duration": 87,
    "start_time": "2025-03-22T08:00:06.724Z"
   },
   {
    "duration": 28,
    "start_time": "2025-03-22T08:00:06.813Z"
   },
   {
    "duration": 14,
    "start_time": "2025-03-22T08:00:06.843Z"
   },
   {
    "duration": 17,
    "start_time": "2025-03-22T08:00:06.859Z"
   },
   {
    "duration": 28,
    "start_time": "2025-03-22T08:00:06.879Z"
   },
   {
    "duration": 12,
    "start_time": "2025-03-22T08:00:06.909Z"
   },
   {
    "duration": 10,
    "start_time": "2025-03-22T08:00:06.923Z"
   },
   {
    "duration": 5,
    "start_time": "2025-03-22T08:00:06.936Z"
   },
   {
    "duration": 12,
    "start_time": "2025-03-22T08:00:06.943Z"
   },
   {
    "duration": 31,
    "start_time": "2025-03-22T08:00:06.957Z"
   },
   {
    "duration": 19,
    "start_time": "2025-03-22T08:00:06.990Z"
   },
   {
    "duration": 9,
    "start_time": "2025-03-22T08:00:07.011Z"
   },
   {
    "duration": 10,
    "start_time": "2025-03-22T08:00:07.021Z"
   },
   {
    "duration": 28,
    "start_time": "2025-03-22T08:00:07.033Z"
   },
   {
    "duration": 18,
    "start_time": "2025-03-22T08:00:07.062Z"
   },
   {
    "duration": 27,
    "start_time": "2025-03-22T08:00:07.082Z"
   },
   {
    "duration": 507,
    "start_time": "2025-03-22T08:00:07.111Z"
   },
   {
    "duration": 6,
    "start_time": "2025-03-22T08:00:07.620Z"
   },
   {
    "duration": 127,
    "start_time": "2025-03-22T08:00:07.631Z"
   },
   {
    "duration": 5,
    "start_time": "2025-03-22T08:00:07.760Z"
   },
   {
    "duration": 33,
    "start_time": "2025-03-22T08:00:07.767Z"
   },
   {
    "duration": 170,
    "start_time": "2025-03-22T08:00:07.802Z"
   },
   {
    "duration": 12,
    "start_time": "2025-03-22T08:00:07.974Z"
   },
   {
    "duration": 210,
    "start_time": "2025-03-22T08:00:07.988Z"
   },
   {
    "duration": 9,
    "start_time": "2025-03-22T08:00:08.199Z"
   },
   {
    "duration": 232,
    "start_time": "2025-03-22T08:00:08.210Z"
   },
   {
    "duration": 11,
    "start_time": "2025-03-22T08:00:08.445Z"
   },
   {
    "duration": 10,
    "start_time": "2025-03-22T08:00:08.458Z"
   },
   {
    "duration": 14,
    "start_time": "2025-03-22T08:00:08.470Z"
   },
   {
    "duration": 11,
    "start_time": "2025-03-22T08:00:08.486Z"
   },
   {
    "duration": 69,
    "start_time": "2025-03-22T08:00:08.499Z"
   },
   {
    "duration": 21,
    "start_time": "2025-03-22T08:00:21.458Z"
   },
   {
    "duration": 19,
    "start_time": "2025-03-22T08:01:16.587Z"
   },
   {
    "duration": 14,
    "start_time": "2025-03-22T08:01:24.877Z"
   },
   {
    "duration": 6,
    "start_time": "2025-03-22T08:01:36.989Z"
   },
   {
    "duration": 12,
    "start_time": "2025-03-22T08:01:41.154Z"
   },
   {
    "duration": 7,
    "start_time": "2025-03-22T08:02:24.103Z"
   },
   {
    "duration": 11,
    "start_time": "2025-03-22T08:02:27.399Z"
   },
   {
    "duration": 9,
    "start_time": "2025-03-22T08:03:04.935Z"
   },
   {
    "duration": 203,
    "start_time": "2025-03-22T08:03:23.656Z"
   },
   {
    "duration": 9,
    "start_time": "2025-03-22T08:03:41.998Z"
   },
   {
    "duration": 144,
    "start_time": "2025-03-22T08:03:44.093Z"
   },
   {
    "duration": 400,
    "start_time": "2025-03-22T08:04:25.234Z"
   },
   {
    "duration": 226,
    "start_time": "2025-03-22T08:04:25.636Z"
   },
   {
    "duration": 46,
    "start_time": "2025-03-22T08:04:25.864Z"
   },
   {
    "duration": 58,
    "start_time": "2025-03-22T08:04:25.912Z"
   },
   {
    "duration": 11,
    "start_time": "2025-03-22T08:04:25.972Z"
   },
   {
    "duration": 15,
    "start_time": "2025-03-22T08:04:25.985Z"
   },
   {
    "duration": 12,
    "start_time": "2025-03-22T08:04:26.001Z"
   },
   {
    "duration": 9,
    "start_time": "2025-03-22T08:04:26.015Z"
   },
   {
    "duration": 15,
    "start_time": "2025-03-22T08:04:26.026Z"
   },
   {
    "duration": 12,
    "start_time": "2025-03-22T08:04:26.044Z"
   },
   {
    "duration": 12,
    "start_time": "2025-03-22T08:04:26.058Z"
   },
   {
    "duration": 7,
    "start_time": "2025-03-22T08:04:26.072Z"
   },
   {
    "duration": 8,
    "start_time": "2025-03-22T08:04:26.081Z"
   },
   {
    "duration": 4,
    "start_time": "2025-03-22T08:04:26.091Z"
   },
   {
    "duration": 36,
    "start_time": "2025-03-22T08:04:26.097Z"
   },
   {
    "duration": 9,
    "start_time": "2025-03-22T08:04:26.135Z"
   },
   {
    "duration": 5,
    "start_time": "2025-03-22T08:04:26.146Z"
   },
   {
    "duration": 6,
    "start_time": "2025-03-22T08:04:26.153Z"
   },
   {
    "duration": 13,
    "start_time": "2025-03-22T08:04:26.160Z"
   },
   {
    "duration": 6,
    "start_time": "2025-03-22T08:04:26.174Z"
   },
   {
    "duration": 49,
    "start_time": "2025-03-22T08:04:26.182Z"
   },
   {
    "duration": 25,
    "start_time": "2025-03-22T08:04:26.233Z"
   },
   {
    "duration": 379,
    "start_time": "2025-03-22T08:04:26.260Z"
   },
   {
    "duration": 7,
    "start_time": "2025-03-22T08:04:26.641Z"
   },
   {
    "duration": 131,
    "start_time": "2025-03-22T08:04:26.650Z"
   },
   {
    "duration": 6,
    "start_time": "2025-03-22T08:04:26.783Z"
   },
   {
    "duration": 40,
    "start_time": "2025-03-22T08:04:26.791Z"
   },
   {
    "duration": 154,
    "start_time": "2025-03-22T08:04:26.836Z"
   },
   {
    "duration": 10,
    "start_time": "2025-03-22T08:04:26.992Z"
   },
   {
    "duration": 191,
    "start_time": "2025-03-22T08:04:27.003Z"
   },
   {
    "duration": 12,
    "start_time": "2025-03-22T08:04:27.196Z"
   },
   {
    "duration": 187,
    "start_time": "2025-03-22T08:04:27.209Z"
   },
   {
    "duration": 10,
    "start_time": "2025-03-22T08:04:27.398Z"
   },
   {
    "duration": 26,
    "start_time": "2025-03-22T08:04:27.410Z"
   },
   {
    "duration": 12,
    "start_time": "2025-03-22T08:04:27.438Z"
   },
   {
    "duration": 10,
    "start_time": "2025-03-22T08:04:27.452Z"
   },
   {
    "duration": 7,
    "start_time": "2025-03-22T08:04:27.463Z"
   },
   {
    "duration": 8,
    "start_time": "2025-03-22T08:04:27.472Z"
   },
   {
    "duration": 229,
    "start_time": "2025-03-22T08:04:27.482Z"
   },
   {
    "duration": 18,
    "start_time": "2025-03-22T08:04:27.713Z"
   },
   {
    "duration": 159,
    "start_time": "2025-03-22T08:04:27.732Z"
   },
   {
    "duration": 54,
    "start_time": "2025-03-22T11:52:40.632Z"
   },
   {
    "duration": 393,
    "start_time": "2025-03-22T11:52:45.191Z"
   },
   {
    "duration": 43,
    "start_time": "2025-03-22T11:52:45.586Z"
   },
   {
    "duration": 109,
    "start_time": "2025-03-22T11:52:45.630Z"
   },
   {
    "duration": 45,
    "start_time": "2025-03-22T11:52:45.740Z"
   },
   {
    "duration": 11,
    "start_time": "2025-03-22T11:52:45.787Z"
   },
   {
    "duration": 17,
    "start_time": "2025-03-22T11:52:45.800Z"
   },
   {
    "duration": 10,
    "start_time": "2025-03-22T11:52:45.819Z"
   },
   {
    "duration": 7,
    "start_time": "2025-03-22T11:52:45.831Z"
   },
   {
    "duration": 10,
    "start_time": "2025-03-22T11:52:45.840Z"
   },
   {
    "duration": 17,
    "start_time": "2025-03-22T11:52:45.851Z"
   },
   {
    "duration": 21,
    "start_time": "2025-03-22T11:52:45.869Z"
   },
   {
    "duration": 7,
    "start_time": "2025-03-22T11:52:45.891Z"
   },
   {
    "duration": 8,
    "start_time": "2025-03-22T11:52:45.900Z"
   },
   {
    "duration": 4,
    "start_time": "2025-03-22T11:52:45.911Z"
   },
   {
    "duration": 6,
    "start_time": "2025-03-22T11:52:45.916Z"
   },
   {
    "duration": 8,
    "start_time": "2025-03-22T11:52:45.923Z"
   },
   {
    "duration": 7,
    "start_time": "2025-03-22T11:52:45.958Z"
   },
   {
    "duration": 9,
    "start_time": "2025-03-22T11:52:45.967Z"
   },
   {
    "duration": 8,
    "start_time": "2025-03-22T11:52:45.977Z"
   },
   {
    "duration": 10,
    "start_time": "2025-03-22T11:52:45.987Z"
   },
   {
    "duration": 5,
    "start_time": "2025-03-22T11:52:45.999Z"
   },
   {
    "duration": 9,
    "start_time": "2025-03-22T11:52:46.006Z"
   },
   {
    "duration": 657,
    "start_time": "2025-03-22T11:52:46.016Z"
   },
   {
    "duration": 7,
    "start_time": "2025-03-22T11:52:46.675Z"
   },
   {
    "duration": 143,
    "start_time": "2025-03-22T11:52:46.683Z"
   },
   {
    "duration": 6,
    "start_time": "2025-03-22T11:52:46.828Z"
   },
   {
    "duration": 8,
    "start_time": "2025-03-22T11:52:46.836Z"
   },
   {
    "duration": 168,
    "start_time": "2025-03-22T11:52:46.845Z"
   },
   {
    "duration": 8,
    "start_time": "2025-03-22T11:52:47.015Z"
   },
   {
    "duration": 183,
    "start_time": "2025-03-22T11:52:47.024Z"
   },
   {
    "duration": 9,
    "start_time": "2025-03-22T11:52:47.208Z"
   },
   {
    "duration": 253,
    "start_time": "2025-03-22T11:52:47.218Z"
   },
   {
    "duration": 10,
    "start_time": "2025-03-22T11:52:47.473Z"
   },
   {
    "duration": 33,
    "start_time": "2025-03-22T11:52:47.484Z"
   },
   {
    "duration": 11,
    "start_time": "2025-03-22T11:52:47.519Z"
   },
   {
    "duration": 6,
    "start_time": "2025-03-22T11:52:47.531Z"
   },
   {
    "duration": 116,
    "start_time": "2025-03-22T11:52:47.538Z"
   },
   {
    "duration": 12,
    "start_time": "2025-03-22T11:52:47.656Z"
   },
   {
    "duration": 159,
    "start_time": "2025-03-22T11:52:47.671Z"
   },
   {
    "duration": 8,
    "start_time": "2025-03-22T11:52:47.832Z"
   },
   {
    "duration": 31,
    "start_time": "2025-03-22T11:52:47.843Z"
   },
   {
    "duration": 210,
    "start_time": "2025-03-22T11:52:47.877Z"
   },
   {
    "duration": 159,
    "start_time": "2025-03-22T11:53:06.583Z"
   },
   {
    "duration": 9,
    "start_time": "2025-03-22T11:54:02.685Z"
   },
   {
    "duration": 176,
    "start_time": "2025-03-22T11:54:03.079Z"
   },
   {
    "duration": 85,
    "start_time": "2025-03-22T13:44:52.084Z"
   },
   {
    "duration": 21,
    "start_time": "2025-03-22T13:46:10.362Z"
   },
   {
    "duration": 23,
    "start_time": "2025-03-22T13:46:25.756Z"
   },
   {
    "duration": 12,
    "start_time": "2025-03-22T13:47:26.803Z"
   },
   {
    "duration": 16,
    "start_time": "2025-03-22T13:49:51.370Z"
   },
   {
    "duration": 13,
    "start_time": "2025-03-22T13:50:07.329Z"
   },
   {
    "duration": 77,
    "start_time": "2025-03-22T13:50:37.212Z"
   },
   {
    "duration": 20,
    "start_time": "2025-03-22T13:50:45.280Z"
   },
   {
    "duration": 27,
    "start_time": "2025-03-22T13:51:35.271Z"
   },
   {
    "duration": 37,
    "start_time": "2025-03-22T13:51:36.535Z"
   },
   {
    "duration": 33,
    "start_time": "2025-03-22T13:53:02.346Z"
   },
   {
    "duration": 9,
    "start_time": "2025-03-22T13:53:03.718Z"
   },
   {
    "duration": 16,
    "start_time": "2025-03-22T13:53:21.756Z"
   },
   {
    "duration": 36,
    "start_time": "2025-03-22T13:54:10.343Z"
   },
   {
    "duration": 15,
    "start_time": "2025-03-22T13:54:11.176Z"
   },
   {
    "duration": 6,
    "start_time": "2025-03-22T13:55:20.278Z"
   },
   {
    "duration": 11,
    "start_time": "2025-03-22T13:55:20.993Z"
   },
   {
    "duration": 369,
    "start_time": "2025-03-22T14:16:40.539Z"
   },
   {
    "duration": 15,
    "start_time": "2025-03-22T14:17:13.855Z"
   },
   {
    "duration": 9,
    "start_time": "2025-03-22T14:17:15.729Z"
   },
   {
    "duration": 14,
    "start_time": "2025-03-22T14:22:44.496Z"
   },
   {
    "duration": 4,
    "start_time": "2025-03-22T14:23:31.306Z"
   },
   {
    "duration": 399,
    "start_time": "2025-03-22T14:23:33.454Z"
   },
   {
    "duration": 3,
    "start_time": "2025-03-22T14:23:42.503Z"
   },
   {
    "duration": 9,
    "start_time": "2025-03-22T14:23:44.333Z"
   },
   {
    "duration": 415,
    "start_time": "2025-03-22T14:26:33.986Z"
   },
   {
    "duration": 37,
    "start_time": "2025-03-22T14:26:34.403Z"
   },
   {
    "duration": 65,
    "start_time": "2025-03-22T14:26:34.442Z"
   },
   {
    "duration": 40,
    "start_time": "2025-03-22T14:26:34.510Z"
   },
   {
    "duration": 15,
    "start_time": "2025-03-22T14:26:34.552Z"
   },
   {
    "duration": 23,
    "start_time": "2025-03-22T14:26:34.568Z"
   },
   {
    "duration": 11,
    "start_time": "2025-03-22T14:26:34.593Z"
   },
   {
    "duration": 13,
    "start_time": "2025-03-22T14:26:34.605Z"
   },
   {
    "duration": 37,
    "start_time": "2025-03-22T14:26:34.619Z"
   },
   {
    "duration": 18,
    "start_time": "2025-03-22T14:26:34.664Z"
   },
   {
    "duration": 13,
    "start_time": "2025-03-22T14:26:34.683Z"
   },
   {
    "duration": 7,
    "start_time": "2025-03-22T14:26:34.698Z"
   },
   {
    "duration": 7,
    "start_time": "2025-03-22T14:26:34.706Z"
   },
   {
    "duration": 7,
    "start_time": "2025-03-22T14:26:34.714Z"
   },
   {
    "duration": 6,
    "start_time": "2025-03-22T14:26:34.722Z"
   },
   {
    "duration": 9,
    "start_time": "2025-03-22T14:26:34.729Z"
   },
   {
    "duration": 9,
    "start_time": "2025-03-22T14:26:34.766Z"
   },
   {
    "duration": 5,
    "start_time": "2025-03-22T14:26:34.776Z"
   },
   {
    "duration": 24,
    "start_time": "2025-03-22T14:26:34.782Z"
   },
   {
    "duration": 5,
    "start_time": "2025-03-22T14:26:34.808Z"
   },
   {
    "duration": 4,
    "start_time": "2025-03-22T14:26:34.815Z"
   },
   {
    "duration": 62,
    "start_time": "2025-03-22T14:26:34.820Z"
   },
   {
    "duration": 482,
    "start_time": "2025-03-22T14:26:34.883Z"
   },
   {
    "duration": 9,
    "start_time": "2025-03-22T14:26:35.366Z"
   },
   {
    "duration": 119,
    "start_time": "2025-03-22T14:26:35.376Z"
   },
   {
    "duration": 6,
    "start_time": "2025-03-22T14:26:35.497Z"
   },
   {
    "duration": 51,
    "start_time": "2025-03-22T14:26:35.504Z"
   },
   {
    "duration": 168,
    "start_time": "2025-03-22T14:26:35.559Z"
   },
   {
    "duration": 8,
    "start_time": "2025-03-22T14:26:35.729Z"
   },
   {
    "duration": 189,
    "start_time": "2025-03-22T14:26:35.739Z"
   },
   {
    "duration": 9,
    "start_time": "2025-03-22T14:26:35.929Z"
   },
   {
    "duration": 291,
    "start_time": "2025-03-22T14:26:35.939Z"
   },
   {
    "duration": 11,
    "start_time": "2025-03-22T14:26:36.232Z"
   },
   {
    "duration": 32,
    "start_time": "2025-03-22T14:26:36.244Z"
   },
   {
    "duration": 11,
    "start_time": "2025-03-22T14:26:36.278Z"
   },
   {
    "duration": 7,
    "start_time": "2025-03-22T14:26:36.291Z"
   },
   {
    "duration": 18,
    "start_time": "2025-03-22T14:26:36.299Z"
   },
   {
    "duration": 11,
    "start_time": "2025-03-22T14:26:36.318Z"
   },
   {
    "duration": 209,
    "start_time": "2025-03-22T14:26:36.331Z"
   },
   {
    "duration": 27,
    "start_time": "2025-03-22T14:26:36.541Z"
   },
   {
    "duration": 156,
    "start_time": "2025-03-22T14:26:36.570Z"
   },
   {
    "duration": 8,
    "start_time": "2025-03-22T14:26:36.728Z"
   },
   {
    "duration": 174,
    "start_time": "2025-03-22T14:26:36.737Z"
   },
   {
    "duration": 9,
    "start_time": "2025-03-22T14:26:36.913Z"
   },
   {
    "duration": 179,
    "start_time": "2025-03-22T14:26:36.923Z"
   },
   {
    "duration": 13,
    "start_time": "2025-03-22T14:26:37.104Z"
   },
   {
    "duration": 99,
    "start_time": "2025-03-22T14:26:37.118Z"
   },
   {
    "duration": 7,
    "start_time": "2025-03-22T14:26:37.218Z"
   },
   {
    "duration": 8,
    "start_time": "2025-03-22T14:26:37.226Z"
   },
   {
    "duration": 445,
    "start_time": "2025-03-22T14:26:37.236Z"
   },
   {
    "duration": 0,
    "start_time": "2025-03-22T14:26:37.683Z"
   },
   {
    "duration": 1376,
    "start_time": "2025-03-22T14:31:54.743Z"
   },
   {
    "duration": 352,
    "start_time": "2025-03-22T14:31:56.999Z"
   },
   {
    "duration": 435,
    "start_time": "2025-03-22T14:32:07.935Z"
   },
   {
    "duration": 47,
    "start_time": "2025-03-22T14:32:08.372Z"
   },
   {
    "duration": 107,
    "start_time": "2025-03-22T14:32:08.421Z"
   },
   {
    "duration": 26,
    "start_time": "2025-03-22T14:32:08.530Z"
   },
   {
    "duration": 21,
    "start_time": "2025-03-22T14:32:08.563Z"
   },
   {
    "duration": 14,
    "start_time": "2025-03-22T14:32:08.585Z"
   },
   {
    "duration": 11,
    "start_time": "2025-03-22T14:32:08.601Z"
   },
   {
    "duration": 8,
    "start_time": "2025-03-22T14:32:08.614Z"
   },
   {
    "duration": 11,
    "start_time": "2025-03-22T14:32:08.623Z"
   },
   {
    "duration": 35,
    "start_time": "2025-03-22T14:32:08.635Z"
   },
   {
    "duration": 13,
    "start_time": "2025-03-22T14:32:08.672Z"
   },
   {
    "duration": 8,
    "start_time": "2025-03-22T14:32:08.687Z"
   },
   {
    "duration": 7,
    "start_time": "2025-03-22T14:32:08.697Z"
   },
   {
    "duration": 5,
    "start_time": "2025-03-22T14:32:08.708Z"
   },
   {
    "duration": 8,
    "start_time": "2025-03-22T14:32:08.714Z"
   },
   {
    "duration": 47,
    "start_time": "2025-03-22T14:32:08.724Z"
   },
   {
    "duration": 7,
    "start_time": "2025-03-22T14:32:08.773Z"
   },
   {
    "duration": 6,
    "start_time": "2025-03-22T14:32:08.782Z"
   },
   {
    "duration": 8,
    "start_time": "2025-03-22T14:32:08.790Z"
   },
   {
    "duration": 6,
    "start_time": "2025-03-22T14:32:08.800Z"
   },
   {
    "duration": 4,
    "start_time": "2025-03-22T14:32:08.808Z"
   },
   {
    "duration": 56,
    "start_time": "2025-03-22T14:32:08.814Z"
   },
   {
    "duration": 406,
    "start_time": "2025-03-22T14:32:08.872Z"
   },
   {
    "duration": 7,
    "start_time": "2025-03-22T14:32:09.279Z"
   },
   {
    "duration": 115,
    "start_time": "2025-03-22T14:32:09.288Z"
   },
   {
    "duration": 6,
    "start_time": "2025-03-22T14:32:09.405Z"
   },
   {
    "duration": 8,
    "start_time": "2025-03-22T14:32:09.413Z"
   },
   {
    "duration": 183,
    "start_time": "2025-03-22T14:32:09.423Z"
   },
   {
    "duration": 9,
    "start_time": "2025-03-22T14:32:09.608Z"
   },
   {
    "duration": 197,
    "start_time": "2025-03-22T14:32:09.618Z"
   },
   {
    "duration": 8,
    "start_time": "2025-03-22T14:32:09.817Z"
   },
   {
    "duration": 191,
    "start_time": "2025-03-22T14:32:09.827Z"
   },
   {
    "duration": 10,
    "start_time": "2025-03-22T14:32:10.019Z"
   },
   {
    "duration": 38,
    "start_time": "2025-03-22T14:32:10.031Z"
   },
   {
    "duration": 12,
    "start_time": "2025-03-22T14:32:10.073Z"
   },
   {
    "duration": 6,
    "start_time": "2025-03-22T14:32:10.087Z"
   },
   {
    "duration": 5,
    "start_time": "2025-03-22T14:32:10.095Z"
   },
   {
    "duration": 8,
    "start_time": "2025-03-22T14:32:10.102Z"
   },
   {
    "duration": 219,
    "start_time": "2025-03-22T14:32:10.111Z"
   },
   {
    "duration": 8,
    "start_time": "2025-03-22T14:32:10.331Z"
   },
   {
    "duration": 161,
    "start_time": "2025-03-22T14:32:10.361Z"
   },
   {
    "duration": 9,
    "start_time": "2025-03-22T14:32:10.525Z"
   },
   {
    "duration": 171,
    "start_time": "2025-03-22T14:32:10.536Z"
   },
   {
    "duration": 9,
    "start_time": "2025-03-22T14:32:10.708Z"
   },
   {
    "duration": 186,
    "start_time": "2025-03-22T14:32:10.718Z"
   },
   {
    "duration": 12,
    "start_time": "2025-03-22T14:32:10.905Z"
   },
   {
    "duration": 21,
    "start_time": "2025-03-22T14:32:10.919Z"
   },
   {
    "duration": 24,
    "start_time": "2025-03-22T14:32:10.942Z"
   },
   {
    "duration": 1460,
    "start_time": "2025-03-22T14:32:10.967Z"
   },
   {
    "duration": 0,
    "start_time": "2025-03-22T14:32:12.428Z"
   },
   {
    "duration": 0,
    "start_time": "2025-03-22T14:32:12.430Z"
   },
   {
    "duration": 10,
    "start_time": "2025-03-22T14:33:41.216Z"
   },
   {
    "duration": 5,
    "start_time": "2025-03-22T14:35:43.614Z"
   },
   {
    "duration": 1412,
    "start_time": "2025-03-22T14:35:55.010Z"
   },
   {
    "duration": 379,
    "start_time": "2025-03-22T14:36:43.471Z"
   },
   {
    "duration": 428,
    "start_time": "2025-03-22T14:36:49.439Z"
   },
   {
    "duration": 53,
    "start_time": "2025-03-22T14:36:49.869Z"
   },
   {
    "duration": 60,
    "start_time": "2025-03-22T14:36:49.924Z"
   },
   {
    "duration": 38,
    "start_time": "2025-03-22T14:36:49.986Z"
   },
   {
    "duration": 42,
    "start_time": "2025-03-22T14:36:50.026Z"
   },
   {
    "duration": 14,
    "start_time": "2025-03-22T14:36:50.070Z"
   },
   {
    "duration": 11,
    "start_time": "2025-03-22T14:36:50.085Z"
   },
   {
    "duration": 8,
    "start_time": "2025-03-22T14:36:50.097Z"
   },
   {
    "duration": 12,
    "start_time": "2025-03-22T14:36:50.107Z"
   },
   {
    "duration": 51,
    "start_time": "2025-03-22T14:36:50.121Z"
   },
   {
    "duration": 12,
    "start_time": "2025-03-22T14:36:50.174Z"
   },
   {
    "duration": 7,
    "start_time": "2025-03-22T14:36:50.188Z"
   },
   {
    "duration": 7,
    "start_time": "2025-03-22T14:36:50.196Z"
   },
   {
    "duration": 4,
    "start_time": "2025-03-22T14:36:50.206Z"
   },
   {
    "duration": 5,
    "start_time": "2025-03-22T14:36:50.212Z"
   },
   {
    "duration": 8,
    "start_time": "2025-03-22T14:36:50.218Z"
   },
   {
    "duration": 32,
    "start_time": "2025-03-22T14:36:50.228Z"
   },
   {
    "duration": 10,
    "start_time": "2025-03-22T14:36:50.263Z"
   },
   {
    "duration": 11,
    "start_time": "2025-03-22T14:36:50.275Z"
   },
   {
    "duration": 6,
    "start_time": "2025-03-22T14:36:50.288Z"
   },
   {
    "duration": 4,
    "start_time": "2025-03-22T14:36:50.295Z"
   },
   {
    "duration": 9,
    "start_time": "2025-03-22T14:36:50.301Z"
   },
   {
    "duration": 438,
    "start_time": "2025-03-22T14:36:50.311Z"
   },
   {
    "duration": 21,
    "start_time": "2025-03-22T14:36:50.750Z"
   },
   {
    "duration": 102,
    "start_time": "2025-03-22T14:36:50.773Z"
   },
   {
    "duration": 6,
    "start_time": "2025-03-22T14:36:50.876Z"
   },
   {
    "duration": 57,
    "start_time": "2025-03-22T14:36:50.883Z"
   },
   {
    "duration": 159,
    "start_time": "2025-03-22T14:36:50.942Z"
   },
   {
    "duration": 8,
    "start_time": "2025-03-22T14:36:51.103Z"
   },
   {
    "duration": 176,
    "start_time": "2025-03-22T14:36:51.113Z"
   },
   {
    "duration": 8,
    "start_time": "2025-03-22T14:36:51.290Z"
   },
   {
    "duration": 187,
    "start_time": "2025-03-22T14:36:51.300Z"
   },
   {
    "duration": 10,
    "start_time": "2025-03-22T14:36:51.489Z"
   },
   {
    "duration": 86,
    "start_time": "2025-03-22T14:36:51.501Z"
   },
   {
    "duration": 16,
    "start_time": "2025-03-22T14:36:51.588Z"
   },
   {
    "duration": 13,
    "start_time": "2025-03-22T14:36:51.606Z"
   },
   {
    "duration": 5,
    "start_time": "2025-03-22T14:36:51.621Z"
   },
   {
    "duration": 11,
    "start_time": "2025-03-22T14:36:51.627Z"
   },
   {
    "duration": 196,
    "start_time": "2025-03-22T14:36:51.639Z"
   },
   {
    "duration": 9,
    "start_time": "2025-03-22T14:36:51.837Z"
   },
   {
    "duration": 170,
    "start_time": "2025-03-22T14:36:51.859Z"
   },
   {
    "duration": 9,
    "start_time": "2025-03-22T14:36:52.030Z"
   },
   {
    "duration": 176,
    "start_time": "2025-03-22T14:36:52.041Z"
   },
   {
    "duration": 9,
    "start_time": "2025-03-22T14:36:52.219Z"
   },
   {
    "duration": 184,
    "start_time": "2025-03-22T14:36:52.230Z"
   },
   {
    "duration": 13,
    "start_time": "2025-03-22T14:36:52.416Z"
   },
   {
    "duration": 44,
    "start_time": "2025-03-22T14:36:52.430Z"
   },
   {
    "duration": 6,
    "start_time": "2025-03-22T14:36:52.475Z"
   },
   {
    "duration": 11,
    "start_time": "2025-03-22T14:36:52.483Z"
   },
   {
    "duration": 3,
    "start_time": "2025-03-22T14:36:52.496Z"
   },
   {
    "duration": 4,
    "start_time": "2025-03-22T14:36:52.500Z"
   },
   {
    "duration": 9,
    "start_time": "2025-03-22T14:37:06.640Z"
   },
   {
    "duration": 382,
    "start_time": "2025-03-23T07:15:25.782Z"
   },
   {
    "duration": 64,
    "start_time": "2025-03-23T07:15:52.183Z"
   },
   {
    "duration": 430,
    "start_time": "2025-03-23T07:15:59.835Z"
   },
   {
    "duration": 74,
    "start_time": "2025-03-23T07:16:00.268Z"
   },
   {
    "duration": 140,
    "start_time": "2025-03-23T07:16:00.344Z"
   },
   {
    "duration": 130,
    "start_time": "2025-03-23T07:16:00.486Z"
   },
   {
    "duration": 13,
    "start_time": "2025-03-23T07:16:00.618Z"
   },
   {
    "duration": 41,
    "start_time": "2025-03-23T07:16:00.632Z"
   },
   {
    "duration": 104,
    "start_time": "2025-03-23T07:16:00.674Z"
   },
   {
    "duration": 19,
    "start_time": "2025-03-23T07:16:00.780Z"
   },
   {
    "duration": 12,
    "start_time": "2025-03-23T07:16:00.801Z"
   },
   {
    "duration": 13,
    "start_time": "2025-03-23T07:16:00.815Z"
   },
   {
    "duration": 23,
    "start_time": "2025-03-23T07:16:00.830Z"
   },
   {
    "duration": 38,
    "start_time": "2025-03-23T07:16:00.855Z"
   },
   {
    "duration": 8,
    "start_time": "2025-03-23T07:16:00.895Z"
   },
   {
    "duration": 8,
    "start_time": "2025-03-23T07:16:00.907Z"
   },
   {
    "duration": 26,
    "start_time": "2025-03-23T07:16:00.917Z"
   },
   {
    "duration": 9,
    "start_time": "2025-03-23T07:16:00.944Z"
   },
   {
    "duration": 36,
    "start_time": "2025-03-23T07:16:00.954Z"
   },
   {
    "duration": 13,
    "start_time": "2025-03-23T07:16:00.992Z"
   },
   {
    "duration": 10,
    "start_time": "2025-03-23T07:16:01.006Z"
   },
   {
    "duration": 56,
    "start_time": "2025-03-23T07:16:01.018Z"
   },
   {
    "duration": 23,
    "start_time": "2025-03-23T07:16:01.076Z"
   },
   {
    "duration": 10,
    "start_time": "2025-03-23T07:16:01.101Z"
   },
   {
    "duration": 565,
    "start_time": "2025-03-23T07:16:01.113Z"
   },
   {
    "duration": 7,
    "start_time": "2025-03-23T07:16:01.679Z"
   },
   {
    "duration": 214,
    "start_time": "2025-03-23T07:16:01.688Z"
   },
   {
    "duration": 7,
    "start_time": "2025-03-23T07:16:01.956Z"
   },
   {
    "duration": 37,
    "start_time": "2025-03-23T07:16:01.965Z"
   },
   {
    "duration": 359,
    "start_time": "2025-03-23T07:16:02.003Z"
   },
   {
    "duration": 9,
    "start_time": "2025-03-23T07:16:02.363Z"
   },
   {
    "duration": 385,
    "start_time": "2025-03-23T07:16:02.373Z"
   },
   {
    "duration": 8,
    "start_time": "2025-03-23T07:16:02.760Z"
   },
   {
    "duration": 418,
    "start_time": "2025-03-23T07:16:02.769Z"
   },
   {
    "duration": 9,
    "start_time": "2025-03-23T07:16:03.189Z"
   },
   {
    "duration": 10,
    "start_time": "2025-03-23T07:16:03.200Z"
   },
   {
    "duration": 50,
    "start_time": "2025-03-23T07:16:03.212Z"
   },
   {
    "duration": 14,
    "start_time": "2025-03-23T07:16:03.263Z"
   },
   {
    "duration": 6,
    "start_time": "2025-03-23T07:16:03.279Z"
   },
   {
    "duration": 11,
    "start_time": "2025-03-23T07:16:03.286Z"
   },
   {
    "duration": 209,
    "start_time": "2025-03-23T07:16:03.299Z"
   },
   {
    "duration": 9,
    "start_time": "2025-03-23T07:16:03.510Z"
   },
   {
    "duration": 163,
    "start_time": "2025-03-23T07:16:03.524Z"
   },
   {
    "duration": 68,
    "start_time": "2025-03-23T07:16:03.689Z"
   },
   {
    "duration": 159,
    "start_time": "2025-03-23T07:16:03.758Z"
   },
   {
    "duration": 8,
    "start_time": "2025-03-23T07:16:03.919Z"
   },
   {
    "duration": 177,
    "start_time": "2025-03-23T07:16:03.928Z"
   },
   {
    "duration": 13,
    "start_time": "2025-03-23T07:16:04.106Z"
   },
   {
    "duration": 22,
    "start_time": "2025-03-23T07:16:04.120Z"
   },
   {
    "duration": 26,
    "start_time": "2025-03-23T07:16:04.143Z"
   },
   {
    "duration": 6,
    "start_time": "2025-03-23T07:16:04.170Z"
   },
   {
    "duration": 20,
    "start_time": "2025-03-23T07:16:04.177Z"
   },
   {
    "duration": 6,
    "start_time": "2025-03-23T07:16:04.199Z"
   },
   {
    "duration": 29,
    "start_time": "2025-03-23T07:16:04.207Z"
   },
   {
    "duration": 12,
    "start_time": "2025-03-23T07:16:12.248Z"
   },
   {
    "duration": 9,
    "start_time": "2025-03-23T07:36:30.146Z"
   },
   {
    "duration": 11,
    "start_time": "2025-03-23T07:36:45.026Z"
   },
   {
    "duration": 9,
    "start_time": "2025-03-23T07:38:08.302Z"
   },
   {
    "duration": 12,
    "start_time": "2025-03-23T07:38:10.092Z"
   },
   {
    "duration": 6,
    "start_time": "2025-03-23T07:42:12.548Z"
   },
   {
    "duration": 13,
    "start_time": "2025-03-23T07:42:19.507Z"
   },
   {
    "duration": 16,
    "start_time": "2025-03-23T07:42:28.193Z"
   },
   {
    "duration": 20,
    "start_time": "2025-03-23T07:42:38.214Z"
   },
   {
    "duration": 12,
    "start_time": "2025-03-23T07:42:49.579Z"
   },
   {
    "duration": 17,
    "start_time": "2025-03-23T07:43:21.047Z"
   },
   {
    "duration": 51,
    "start_time": "2025-03-23T11:48:16.672Z"
   },
   {
    "duration": 383,
    "start_time": "2025-03-23T11:48:21.497Z"
   },
   {
    "duration": 34,
    "start_time": "2025-03-23T11:48:21.882Z"
   },
   {
    "duration": 49,
    "start_time": "2025-03-23T11:48:21.918Z"
   },
   {
    "duration": 32,
    "start_time": "2025-03-23T11:48:21.968Z"
   },
   {
    "duration": 11,
    "start_time": "2025-03-23T11:48:22.002Z"
   },
   {
    "duration": 153,
    "start_time": "2025-03-23T11:48:22.015Z"
   },
   {
    "duration": 50,
    "start_time": "2025-03-23T11:48:22.169Z"
   },
   {
    "duration": 55,
    "start_time": "2025-03-23T11:48:22.221Z"
   },
   {
    "duration": 47,
    "start_time": "2025-03-23T11:48:22.278Z"
   },
   {
    "duration": 17,
    "start_time": "2025-03-23T11:48:22.327Z"
   },
   {
    "duration": 17,
    "start_time": "2025-03-23T11:48:22.345Z"
   },
   {
    "duration": 10,
    "start_time": "2025-03-23T11:48:22.363Z"
   },
   {
    "duration": 38,
    "start_time": "2025-03-23T11:48:22.374Z"
   },
   {
    "duration": 11,
    "start_time": "2025-03-23T11:48:22.416Z"
   },
   {
    "duration": 5,
    "start_time": "2025-03-23T11:48:22.428Z"
   },
   {
    "duration": 7,
    "start_time": "2025-03-23T11:48:22.434Z"
   },
   {
    "duration": 15,
    "start_time": "2025-03-23T11:48:22.443Z"
   },
   {
    "duration": 7,
    "start_time": "2025-03-23T11:48:22.459Z"
   },
   {
    "duration": 15,
    "start_time": "2025-03-23T11:48:22.468Z"
   },
   {
    "duration": 27,
    "start_time": "2025-03-23T11:48:22.485Z"
   },
   {
    "duration": 18,
    "start_time": "2025-03-23T11:48:22.513Z"
   },
   {
    "duration": 28,
    "start_time": "2025-03-23T11:48:22.532Z"
   },
   {
    "duration": 1248,
    "start_time": "2025-03-23T11:48:22.561Z"
   },
   {
    "duration": 6,
    "start_time": "2025-03-23T11:48:23.811Z"
   },
   {
    "duration": 144,
    "start_time": "2025-03-23T11:48:23.818Z"
   },
   {
    "duration": 5,
    "start_time": "2025-03-23T11:48:23.964Z"
   },
   {
    "duration": 8,
    "start_time": "2025-03-23T11:48:23.970Z"
   },
   {
    "duration": 141,
    "start_time": "2025-03-23T11:48:23.979Z"
   },
   {
    "duration": 18,
    "start_time": "2025-03-23T11:48:24.121Z"
   },
   {
    "duration": 145,
    "start_time": "2025-03-23T11:48:24.140Z"
   },
   {
    "duration": 7,
    "start_time": "2025-03-23T11:48:24.287Z"
   },
   {
    "duration": 202,
    "start_time": "2025-03-23T11:48:24.296Z"
   },
   {
    "duration": 9,
    "start_time": "2025-03-23T11:48:24.499Z"
   },
   {
    "duration": 25,
    "start_time": "2025-03-23T11:48:24.509Z"
   },
   {
    "duration": 10,
    "start_time": "2025-03-23T11:48:24.536Z"
   },
   {
    "duration": 15,
    "start_time": "2025-03-23T11:48:24.547Z"
   },
   {
    "duration": 6,
    "start_time": "2025-03-23T11:48:24.564Z"
   },
   {
    "duration": 8,
    "start_time": "2025-03-23T11:48:24.571Z"
   },
   {
    "duration": 164,
    "start_time": "2025-03-23T11:48:24.581Z"
   },
   {
    "duration": 13,
    "start_time": "2025-03-23T11:48:24.747Z"
   },
   {
    "duration": 141,
    "start_time": "2025-03-23T11:48:24.764Z"
   },
   {
    "duration": 8,
    "start_time": "2025-03-23T11:48:24.907Z"
   },
   {
    "duration": 138,
    "start_time": "2025-03-23T11:48:24.916Z"
   },
   {
    "duration": 7,
    "start_time": "2025-03-23T11:48:25.055Z"
   },
   {
    "duration": 155,
    "start_time": "2025-03-23T11:48:25.063Z"
   },
   {
    "duration": 10,
    "start_time": "2025-03-23T11:48:25.220Z"
   },
   {
    "duration": 6,
    "start_time": "2025-03-23T11:48:25.232Z"
   },
   {
    "duration": 30,
    "start_time": "2025-03-23T11:48:25.240Z"
   },
   {
    "duration": 5,
    "start_time": "2025-03-23T11:48:25.272Z"
   },
   {
    "duration": 9,
    "start_time": "2025-03-23T11:48:25.278Z"
   },
   {
    "duration": 6,
    "start_time": "2025-03-23T11:48:25.288Z"
   },
   {
    "duration": 8,
    "start_time": "2025-03-23T11:48:25.295Z"
   },
   {
    "duration": 7,
    "start_time": "2025-03-23T11:48:25.304Z"
   },
   {
    "duration": 6,
    "start_time": "2025-03-23T11:48:25.312Z"
   },
   {
    "duration": 4,
    "start_time": "2025-03-23T11:48:25.319Z"
   },
   {
    "duration": 31,
    "start_time": "2025-03-23T11:48:25.325Z"
   },
   {
    "duration": 12,
    "start_time": "2025-03-23T11:48:25.357Z"
   },
   {
    "duration": 11,
    "start_time": "2025-03-23T11:48:56.166Z"
   },
   {
    "duration": 14,
    "start_time": "2025-03-23T11:59:33.727Z"
   },
   {
    "duration": 8,
    "start_time": "2025-03-23T11:59:46.622Z"
   },
   {
    "duration": 17,
    "start_time": "2025-03-23T12:00:27.155Z"
   },
   {
    "duration": 9,
    "start_time": "2025-03-23T12:00:28.761Z"
   },
   {
    "duration": 11,
    "start_time": "2025-03-23T12:01:16.019Z"
   },
   {
    "duration": 8,
    "start_time": "2025-03-23T12:01:16.440Z"
   },
   {
    "duration": 11,
    "start_time": "2025-03-23T12:01:37.540Z"
   },
   {
    "duration": 13,
    "start_time": "2025-03-23T12:02:15.445Z"
   },
   {
    "duration": 8,
    "start_time": "2025-03-23T12:02:16.267Z"
   },
   {
    "duration": 7,
    "start_time": "2025-03-23T12:04:19.177Z"
   },
   {
    "duration": 412,
    "start_time": "2025-03-23T12:04:27.112Z"
   },
   {
    "duration": 390,
    "start_time": "2025-03-23T12:04:55.874Z"
   },
   {
    "duration": 40,
    "start_time": "2025-03-23T12:04:56.266Z"
   },
   {
    "duration": 53,
    "start_time": "2025-03-23T12:04:56.308Z"
   },
   {
    "duration": 32,
    "start_time": "2025-03-23T12:04:56.363Z"
   },
   {
    "duration": 10,
    "start_time": "2025-03-23T12:04:56.396Z"
   },
   {
    "duration": 21,
    "start_time": "2025-03-23T12:04:56.407Z"
   },
   {
    "duration": 8,
    "start_time": "2025-03-23T12:04:56.429Z"
   },
   {
    "duration": 18,
    "start_time": "2025-03-23T12:04:56.438Z"
   },
   {
    "duration": 17,
    "start_time": "2025-03-23T12:04:56.457Z"
   },
   {
    "duration": 10,
    "start_time": "2025-03-23T12:04:56.477Z"
   },
   {
    "duration": 10,
    "start_time": "2025-03-23T12:04:56.488Z"
   },
   {
    "duration": 7,
    "start_time": "2025-03-23T12:04:56.499Z"
   },
   {
    "duration": 6,
    "start_time": "2025-03-23T12:04:56.507Z"
   },
   {
    "duration": 5,
    "start_time": "2025-03-23T12:04:56.514Z"
   },
   {
    "duration": 11,
    "start_time": "2025-03-23T12:04:56.520Z"
   },
   {
    "duration": 23,
    "start_time": "2025-03-23T12:04:56.533Z"
   },
   {
    "duration": 7,
    "start_time": "2025-03-23T12:04:56.558Z"
   },
   {
    "duration": 18,
    "start_time": "2025-03-23T12:04:56.567Z"
   },
   {
    "duration": 7,
    "start_time": "2025-03-23T12:04:56.586Z"
   },
   {
    "duration": 4,
    "start_time": "2025-03-23T12:04:56.595Z"
   },
   {
    "duration": 8,
    "start_time": "2025-03-23T12:04:56.601Z"
   },
   {
    "duration": 16,
    "start_time": "2025-03-23T12:04:56.610Z"
   },
   {
    "duration": 374,
    "start_time": "2025-03-23T12:04:56.627Z"
   },
   {
    "duration": 6,
    "start_time": "2025-03-23T12:04:57.003Z"
   },
   {
    "duration": 97,
    "start_time": "2025-03-23T12:04:57.010Z"
   },
   {
    "duration": 5,
    "start_time": "2025-03-23T12:04:57.108Z"
   },
   {
    "duration": 43,
    "start_time": "2025-03-23T12:04:57.114Z"
   },
   {
    "duration": 233,
    "start_time": "2025-03-23T12:04:57.160Z"
   },
   {
    "duration": 62,
    "start_time": "2025-03-23T12:04:57.395Z"
   },
   {
    "duration": 320,
    "start_time": "2025-03-23T12:04:57.458Z"
   },
   {
    "duration": 7,
    "start_time": "2025-03-23T12:04:57.779Z"
   },
   {
    "duration": 290,
    "start_time": "2025-03-23T12:04:57.787Z"
   },
   {
    "duration": 10,
    "start_time": "2025-03-23T12:04:58.078Z"
   },
   {
    "duration": 9,
    "start_time": "2025-03-23T12:04:58.089Z"
   },
   {
    "duration": 63,
    "start_time": "2025-03-23T12:04:58.099Z"
   },
   {
    "duration": 65,
    "start_time": "2025-03-23T12:04:58.163Z"
   },
   {
    "duration": 29,
    "start_time": "2025-03-23T12:04:58.230Z"
   },
   {
    "duration": 8,
    "start_time": "2025-03-23T12:04:58.261Z"
   },
   {
    "duration": 286,
    "start_time": "2025-03-23T12:04:58.270Z"
   },
   {
    "duration": 6,
    "start_time": "2025-03-23T12:04:58.557Z"
   },
   {
    "duration": 135,
    "start_time": "2025-03-23T12:04:58.565Z"
   },
   {
    "duration": 7,
    "start_time": "2025-03-23T12:04:58.702Z"
   },
   {
    "duration": 165,
    "start_time": "2025-03-23T12:04:58.710Z"
   },
   {
    "duration": 8,
    "start_time": "2025-03-23T12:04:58.876Z"
   },
   {
    "duration": 144,
    "start_time": "2025-03-23T12:04:58.885Z"
   },
   {
    "duration": 11,
    "start_time": "2025-03-23T12:04:59.031Z"
   },
   {
    "duration": 69,
    "start_time": "2025-03-23T12:04:59.055Z"
   },
   {
    "duration": 124,
    "start_time": "2025-03-23T12:04:59.125Z"
   },
   {
    "duration": 4,
    "start_time": "2025-03-23T12:04:59.251Z"
   },
   {
    "duration": 9,
    "start_time": "2025-03-23T12:04:59.257Z"
   },
   {
    "duration": 12,
    "start_time": "2025-03-23T12:04:59.267Z"
   },
   {
    "duration": 12,
    "start_time": "2025-03-23T12:04:59.280Z"
   },
   {
    "duration": 6,
    "start_time": "2025-03-23T12:04:59.293Z"
   },
   {
    "duration": 6,
    "start_time": "2025-03-23T12:04:59.301Z"
   },
   {
    "duration": 13,
    "start_time": "2025-03-23T12:04:59.308Z"
   },
   {
    "duration": 5,
    "start_time": "2025-03-23T12:04:59.323Z"
   },
   {
    "duration": 12,
    "start_time": "2025-03-23T12:04:59.329Z"
   },
   {
    "duration": 16,
    "start_time": "2025-03-23T12:04:59.342Z"
   },
   {
    "duration": 7,
    "start_time": "2025-03-23T12:04:59.359Z"
   },
   {
    "duration": 530,
    "start_time": "2025-03-23T12:04:59.367Z"
   },
   {
    "duration": 3,
    "start_time": "2025-03-23T12:05:43.449Z"
   },
   {
    "duration": 8,
    "start_time": "2025-03-23T12:05:46.678Z"
   },
   {
    "duration": 4,
    "start_time": "2025-03-23T12:07:00.291Z"
   },
   {
    "duration": 13,
    "start_time": "2025-03-23T12:07:04.634Z"
   },
   {
    "duration": 4,
    "start_time": "2025-03-23T12:07:37.003Z"
   },
   {
    "duration": 8,
    "start_time": "2025-03-23T12:07:38.839Z"
   },
   {
    "duration": 4,
    "start_time": "2025-03-23T12:07:53.264Z"
   },
   {
    "duration": 10,
    "start_time": "2025-03-23T12:07:55.828Z"
   },
   {
    "duration": 405,
    "start_time": "2025-03-23T12:08:05.631Z"
   },
   {
    "duration": 52,
    "start_time": "2025-03-23T12:08:06.038Z"
   },
   {
    "duration": 53,
    "start_time": "2025-03-23T12:08:06.091Z"
   },
   {
    "duration": 49,
    "start_time": "2025-03-23T12:08:06.146Z"
   },
   {
    "duration": 42,
    "start_time": "2025-03-23T12:08:06.196Z"
   },
   {
    "duration": 79,
    "start_time": "2025-03-23T12:08:06.240Z"
   },
   {
    "duration": 16,
    "start_time": "2025-03-23T12:08:06.320Z"
   },
   {
    "duration": 25,
    "start_time": "2025-03-23T12:08:06.337Z"
   },
   {
    "duration": 19,
    "start_time": "2025-03-23T12:08:06.364Z"
   },
   {
    "duration": 25,
    "start_time": "2025-03-23T12:08:06.386Z"
   },
   {
    "duration": 14,
    "start_time": "2025-03-23T12:08:06.412Z"
   },
   {
    "duration": 59,
    "start_time": "2025-03-23T12:08:06.428Z"
   },
   {
    "duration": 69,
    "start_time": "2025-03-23T12:08:06.488Z"
   },
   {
    "duration": 32,
    "start_time": "2025-03-23T12:08:06.558Z"
   },
   {
    "duration": 7,
    "start_time": "2025-03-23T12:08:06.592Z"
   },
   {
    "duration": 35,
    "start_time": "2025-03-23T12:08:06.601Z"
   },
   {
    "duration": 36,
    "start_time": "2025-03-23T12:08:06.638Z"
   },
   {
    "duration": 7,
    "start_time": "2025-03-23T12:08:06.676Z"
   },
   {
    "duration": 54,
    "start_time": "2025-03-23T12:08:06.685Z"
   },
   {
    "duration": 59,
    "start_time": "2025-03-23T12:08:06.741Z"
   },
   {
    "duration": 13,
    "start_time": "2025-03-23T12:08:06.801Z"
   },
   {
    "duration": 18,
    "start_time": "2025-03-23T12:08:06.815Z"
   },
   {
    "duration": 742,
    "start_time": "2025-03-23T12:08:06.834Z"
   },
   {
    "duration": 6,
    "start_time": "2025-03-23T12:08:07.577Z"
   },
   {
    "duration": 202,
    "start_time": "2025-03-23T12:08:07.586Z"
   },
   {
    "duration": 5,
    "start_time": "2025-03-23T12:08:07.790Z"
   },
   {
    "duration": 59,
    "start_time": "2025-03-23T12:08:07.797Z"
   },
   {
    "duration": 304,
    "start_time": "2025-03-23T12:08:07.860Z"
   },
   {
    "duration": 7,
    "start_time": "2025-03-23T12:08:08.166Z"
   },
   {
    "duration": 218,
    "start_time": "2025-03-23T12:08:08.174Z"
   },
   {
    "duration": 8,
    "start_time": "2025-03-23T12:08:08.393Z"
   },
   {
    "duration": 157,
    "start_time": "2025-03-23T12:08:08.402Z"
   },
   {
    "duration": 12,
    "start_time": "2025-03-23T12:08:08.561Z"
   },
   {
    "duration": 10,
    "start_time": "2025-03-23T12:08:08.575Z"
   },
   {
    "duration": 14,
    "start_time": "2025-03-23T12:08:08.587Z"
   },
   {
    "duration": 6,
    "start_time": "2025-03-23T12:08:08.602Z"
   },
   {
    "duration": 5,
    "start_time": "2025-03-23T12:08:08.609Z"
   },
   {
    "duration": 43,
    "start_time": "2025-03-23T12:08:08.616Z"
   },
   {
    "duration": 166,
    "start_time": "2025-03-23T12:08:08.660Z"
   },
   {
    "duration": 7,
    "start_time": "2025-03-23T12:08:08.828Z"
   },
   {
    "duration": 148,
    "start_time": "2025-03-23T12:08:08.836Z"
   },
   {
    "duration": 7,
    "start_time": "2025-03-23T12:08:08.986Z"
   },
   {
    "duration": 238,
    "start_time": "2025-03-23T12:08:08.995Z"
   },
   {
    "duration": 14,
    "start_time": "2025-03-23T12:08:09.235Z"
   },
   {
    "duration": 152,
    "start_time": "2025-03-23T12:08:09.250Z"
   },
   {
    "duration": 11,
    "start_time": "2025-03-23T12:08:09.403Z"
   },
   {
    "duration": 10,
    "start_time": "2025-03-23T12:08:09.415Z"
   },
   {
    "duration": 35,
    "start_time": "2025-03-23T12:08:09.427Z"
   },
   {
    "duration": 8,
    "start_time": "2025-03-23T12:08:09.463Z"
   },
   {
    "duration": 10,
    "start_time": "2025-03-23T12:08:09.472Z"
   },
   {
    "duration": 9,
    "start_time": "2025-03-23T12:08:09.483Z"
   },
   {
    "duration": 39,
    "start_time": "2025-03-23T12:08:09.493Z"
   },
   {
    "duration": 6,
    "start_time": "2025-03-23T12:08:09.533Z"
   },
   {
    "duration": 13,
    "start_time": "2025-03-23T12:08:09.541Z"
   },
   {
    "duration": 6,
    "start_time": "2025-03-23T12:08:09.556Z"
   },
   {
    "duration": 9,
    "start_time": "2025-03-23T12:08:09.563Z"
   },
   {
    "duration": 12,
    "start_time": "2025-03-23T12:08:09.573Z"
   },
   {
    "duration": 17,
    "start_time": "2025-03-23T12:08:09.586Z"
   },
   {
    "duration": 14,
    "start_time": "2025-03-23T12:08:09.604Z"
   },
   {
    "duration": 10,
    "start_time": "2025-03-23T12:08:09.620Z"
   },
   {
    "duration": 28,
    "start_time": "2025-03-23T12:08:09.631Z"
   },
   {
    "duration": 8,
    "start_time": "2025-03-23T12:08:27.068Z"
   },
   {
    "duration": 4,
    "start_time": "2025-03-23T12:09:23.343Z"
   },
   {
    "duration": 9,
    "start_time": "2025-03-23T12:09:25.150Z"
   },
   {
    "duration": 13,
    "start_time": "2025-03-23T12:25:30.256Z"
   },
   {
    "duration": 15,
    "start_time": "2025-03-23T12:25:43.196Z"
   },
   {
    "duration": 10,
    "start_time": "2025-03-23T12:25:51.868Z"
   },
   {
    "duration": 20,
    "start_time": "2025-03-23T12:27:26.026Z"
   },
   {
    "duration": 13,
    "start_time": "2025-03-23T12:27:45.491Z"
   },
   {
    "duration": 282,
    "start_time": "2025-03-23T12:58:59.756Z"
   },
   {
    "duration": 115,
    "start_time": "2025-03-23T12:59:16.632Z"
   },
   {
    "duration": 113,
    "start_time": "2025-03-23T12:59:20.433Z"
   },
   {
    "duration": 126,
    "start_time": "2025-03-23T12:59:41.721Z"
   },
   {
    "duration": 151,
    "start_time": "2025-03-23T13:00:05.642Z"
   },
   {
    "duration": 109,
    "start_time": "2025-03-23T13:02:02.735Z"
   },
   {
    "duration": 72,
    "start_time": "2025-03-23T13:02:53.224Z"
   },
   {
    "duration": 8,
    "start_time": "2025-03-23T13:02:56.341Z"
   },
   {
    "duration": 181,
    "start_time": "2025-03-23T13:03:02.746Z"
   },
   {
    "duration": 115,
    "start_time": "2025-03-23T13:03:08.893Z"
   },
   {
    "duration": 116,
    "start_time": "2025-03-23T13:05:44.748Z"
   },
   {
    "duration": 113,
    "start_time": "2025-03-23T13:06:15.526Z"
   },
   {
    "duration": 126,
    "start_time": "2025-03-23T13:06:50.951Z"
   },
   {
    "duration": 115,
    "start_time": "2025-03-23T13:07:04.529Z"
   },
   {
    "duration": 116,
    "start_time": "2025-03-23T13:07:18.026Z"
   },
   {
    "duration": 136,
    "start_time": "2025-03-23T13:09:05.426Z"
   },
   {
    "duration": 149,
    "start_time": "2025-03-23T13:09:14.046Z"
   },
   {
    "duration": 147,
    "start_time": "2025-03-23T13:12:06.345Z"
   },
   {
    "duration": 138,
    "start_time": "2025-03-23T13:12:17.843Z"
   },
   {
    "duration": 187,
    "start_time": "2025-03-23T13:12:29.349Z"
   },
   {
    "duration": 142,
    "start_time": "2025-03-23T13:17:11.516Z"
   },
   {
    "duration": 142,
    "start_time": "2025-03-23T13:17:33.892Z"
   },
   {
    "duration": 421,
    "start_time": "2025-03-23T13:34:47.008Z"
   },
   {
    "duration": 36,
    "start_time": "2025-03-23T13:34:47.431Z"
   },
   {
    "duration": 61,
    "start_time": "2025-03-23T13:34:47.468Z"
   },
   {
    "duration": 61,
    "start_time": "2025-03-23T13:34:47.530Z"
   },
   {
    "duration": 10,
    "start_time": "2025-03-23T13:34:47.593Z"
   },
   {
    "duration": 19,
    "start_time": "2025-03-23T13:34:47.604Z"
   },
   {
    "duration": 10,
    "start_time": "2025-03-23T13:34:47.624Z"
   },
   {
    "duration": 8,
    "start_time": "2025-03-23T13:34:47.635Z"
   },
   {
    "duration": 8,
    "start_time": "2025-03-23T13:34:47.644Z"
   },
   {
    "duration": 6,
    "start_time": "2025-03-23T13:34:47.656Z"
   },
   {
    "duration": 18,
    "start_time": "2025-03-23T13:34:47.664Z"
   },
   {
    "duration": 22,
    "start_time": "2025-03-23T13:34:47.684Z"
   },
   {
    "duration": 33,
    "start_time": "2025-03-23T13:34:47.707Z"
   },
   {
    "duration": 4,
    "start_time": "2025-03-23T13:34:47.742Z"
   },
   {
    "duration": 5,
    "start_time": "2025-03-23T13:34:47.748Z"
   },
   {
    "duration": 7,
    "start_time": "2025-03-23T13:34:47.755Z"
   },
   {
    "duration": 8,
    "start_time": "2025-03-23T13:34:47.763Z"
   },
   {
    "duration": 22,
    "start_time": "2025-03-23T13:34:47.773Z"
   },
   {
    "duration": 16,
    "start_time": "2025-03-23T13:34:47.796Z"
   },
   {
    "duration": 4,
    "start_time": "2025-03-23T13:34:47.814Z"
   },
   {
    "duration": 3,
    "start_time": "2025-03-23T13:34:47.820Z"
   },
   {
    "duration": 6,
    "start_time": "2025-03-23T13:34:47.824Z"
   },
   {
    "duration": 357,
    "start_time": "2025-03-23T13:34:47.831Z"
   },
   {
    "duration": 5,
    "start_time": "2025-03-23T13:34:48.190Z"
   },
   {
    "duration": 122,
    "start_time": "2025-03-23T13:34:48.197Z"
   },
   {
    "duration": 36,
    "start_time": "2025-03-23T13:34:48.320Z"
   },
   {
    "duration": 8,
    "start_time": "2025-03-23T13:34:48.358Z"
   },
   {
    "duration": 232,
    "start_time": "2025-03-23T13:34:48.369Z"
   },
   {
    "duration": 60,
    "start_time": "2025-03-23T13:34:48.602Z"
   },
   {
    "duration": 301,
    "start_time": "2025-03-23T13:34:48.664Z"
   },
   {
    "duration": 7,
    "start_time": "2025-03-23T13:34:48.967Z"
   },
   {
    "duration": 293,
    "start_time": "2025-03-23T13:34:48.975Z"
   },
   {
    "duration": 9,
    "start_time": "2025-03-23T13:34:49.270Z"
   },
   {
    "duration": 19,
    "start_time": "2025-03-23T13:34:49.280Z"
   },
   {
    "duration": 61,
    "start_time": "2025-03-23T13:34:49.300Z"
   },
   {
    "duration": 43,
    "start_time": "2025-03-23T13:34:49.363Z"
   },
   {
    "duration": 5,
    "start_time": "2025-03-23T13:34:49.407Z"
   },
   {
    "duration": 43,
    "start_time": "2025-03-23T13:34:49.413Z"
   },
   {
    "duration": 238,
    "start_time": "2025-03-23T13:34:49.457Z"
   },
   {
    "duration": 6,
    "start_time": "2025-03-23T13:34:49.697Z"
   },
   {
    "duration": 138,
    "start_time": "2025-03-23T13:34:49.705Z"
   },
   {
    "duration": 16,
    "start_time": "2025-03-23T13:34:49.844Z"
   },
   {
    "duration": 133,
    "start_time": "2025-03-23T13:34:49.861Z"
   },
   {
    "duration": 8,
    "start_time": "2025-03-23T13:34:49.995Z"
   },
   {
    "duration": 222,
    "start_time": "2025-03-23T13:34:50.004Z"
   },
   {
    "duration": 11,
    "start_time": "2025-03-23T13:34:50.227Z"
   },
   {
    "duration": 49,
    "start_time": "2025-03-23T13:34:50.240Z"
   },
   {
    "duration": 99,
    "start_time": "2025-03-23T13:34:50.291Z"
   },
   {
    "duration": 6,
    "start_time": "2025-03-23T13:34:50.391Z"
   },
   {
    "duration": 23,
    "start_time": "2025-03-23T13:34:50.398Z"
   },
   {
    "duration": 5,
    "start_time": "2025-03-23T13:34:50.423Z"
   },
   {
    "duration": 8,
    "start_time": "2025-03-23T13:34:50.430Z"
   },
   {
    "duration": 106,
    "start_time": "2025-03-23T13:34:50.440Z"
   },
   {
    "duration": 18,
    "start_time": "2025-03-23T13:34:50.547Z"
   },
   {
    "duration": 9,
    "start_time": "2025-03-23T13:34:50.567Z"
   },
   {
    "duration": 28,
    "start_time": "2025-03-23T13:34:50.577Z"
   },
   {
    "duration": 30,
    "start_time": "2025-03-23T13:34:50.606Z"
   },
   {
    "duration": 11,
    "start_time": "2025-03-23T13:34:50.638Z"
   },
   {
    "duration": 13,
    "start_time": "2025-03-23T13:34:50.651Z"
   },
   {
    "duration": 8,
    "start_time": "2025-03-23T13:34:50.665Z"
   },
   {
    "duration": 12,
    "start_time": "2025-03-23T13:34:50.674Z"
   },
   {
    "duration": 23,
    "start_time": "2025-03-23T13:34:50.687Z"
   },
   {
    "duration": 19,
    "start_time": "2025-03-23T13:34:50.711Z"
   },
   {
    "duration": 145,
    "start_time": "2025-03-23T13:34:50.731Z"
   },
   {
    "duration": 4,
    "start_time": "2025-03-23T13:35:47.906Z"
   },
   {
    "duration": 3,
    "start_time": "2025-03-23T13:35:48.373Z"
   },
   {
    "duration": 5,
    "start_time": "2025-03-23T13:35:48.820Z"
   },
   {
    "duration": 9,
    "start_time": "2025-03-23T13:35:49.385Z"
   },
   {
    "duration": 8,
    "start_time": "2025-03-23T13:37:49.194Z"
   },
   {
    "duration": 382,
    "start_time": "2025-03-23T13:37:53.815Z"
   },
   {
    "duration": 40,
    "start_time": "2025-03-23T13:37:54.199Z"
   },
   {
    "duration": 57,
    "start_time": "2025-03-23T13:37:54.240Z"
   },
   {
    "duration": 34,
    "start_time": "2025-03-23T13:37:54.298Z"
   },
   {
    "duration": 36,
    "start_time": "2025-03-23T13:37:54.334Z"
   },
   {
    "duration": 15,
    "start_time": "2025-03-23T13:37:54.371Z"
   },
   {
    "duration": 20,
    "start_time": "2025-03-23T13:37:54.387Z"
   },
   {
    "duration": 12,
    "start_time": "2025-03-23T13:37:54.409Z"
   },
   {
    "duration": 9,
    "start_time": "2025-03-23T13:37:54.422Z"
   },
   {
    "duration": 5,
    "start_time": "2025-03-23T13:37:54.433Z"
   },
   {
    "duration": 9,
    "start_time": "2025-03-23T13:37:54.440Z"
   },
   {
    "duration": 10,
    "start_time": "2025-03-23T13:37:54.450Z"
   },
   {
    "duration": 53,
    "start_time": "2025-03-23T13:37:54.462Z"
   },
   {
    "duration": 9,
    "start_time": "2025-03-23T13:37:54.518Z"
   },
   {
    "duration": 14,
    "start_time": "2025-03-23T13:37:54.528Z"
   },
   {
    "duration": 8,
    "start_time": "2025-03-23T13:37:54.543Z"
   },
   {
    "duration": 23,
    "start_time": "2025-03-23T13:37:54.552Z"
   },
   {
    "duration": 8,
    "start_time": "2025-03-23T13:37:54.576Z"
   },
   {
    "duration": 10,
    "start_time": "2025-03-23T13:37:54.585Z"
   },
   {
    "duration": 5,
    "start_time": "2025-03-23T13:37:54.596Z"
   },
   {
    "duration": 5,
    "start_time": "2025-03-23T13:37:54.602Z"
   },
   {
    "duration": 8,
    "start_time": "2025-03-23T13:37:54.608Z"
   },
   {
    "duration": 355,
    "start_time": "2025-03-23T13:37:54.617Z"
   },
   {
    "duration": 5,
    "start_time": "2025-03-23T13:37:54.974Z"
   },
   {
    "duration": 98,
    "start_time": "2025-03-23T13:37:54.981Z"
   },
   {
    "duration": 7,
    "start_time": "2025-03-23T13:37:55.080Z"
   },
   {
    "duration": 36,
    "start_time": "2025-03-23T13:37:55.089Z"
   },
   {
    "duration": 124,
    "start_time": "2025-03-23T13:37:55.126Z"
   },
   {
    "duration": 10,
    "start_time": "2025-03-23T13:37:55.251Z"
   },
   {
    "duration": 150,
    "start_time": "2025-03-23T13:37:55.262Z"
   },
   {
    "duration": 7,
    "start_time": "2025-03-23T13:37:55.413Z"
   },
   {
    "duration": 148,
    "start_time": "2025-03-23T13:37:55.421Z"
   },
   {
    "duration": 9,
    "start_time": "2025-03-23T13:37:55.571Z"
   },
   {
    "duration": 20,
    "start_time": "2025-03-23T13:37:55.582Z"
   },
   {
    "duration": 11,
    "start_time": "2025-03-23T13:37:55.603Z"
   },
   {
    "duration": 6,
    "start_time": "2025-03-23T13:37:55.616Z"
   },
   {
    "duration": 5,
    "start_time": "2025-03-23T13:37:55.623Z"
   },
   {
    "duration": 8,
    "start_time": "2025-03-23T13:37:55.629Z"
   },
   {
    "duration": 169,
    "start_time": "2025-03-23T13:37:55.638Z"
   },
   {
    "duration": 7,
    "start_time": "2025-03-23T13:37:55.808Z"
   },
   {
    "duration": 142,
    "start_time": "2025-03-23T13:37:55.819Z"
   },
   {
    "duration": 7,
    "start_time": "2025-03-23T13:37:55.963Z"
   },
   {
    "duration": 226,
    "start_time": "2025-03-23T13:37:55.971Z"
   },
   {
    "duration": 62,
    "start_time": "2025-03-23T13:37:56.199Z"
   },
   {
    "duration": 304,
    "start_time": "2025-03-23T13:37:56.263Z"
   },
   {
    "duration": 10,
    "start_time": "2025-03-23T13:37:56.568Z"
   },
   {
    "duration": 3,
    "start_time": "2025-03-23T13:37:56.580Z"
   },
   {
    "duration": 71,
    "start_time": "2025-03-23T13:37:56.585Z"
   },
   {
    "duration": 6,
    "start_time": "2025-03-23T13:37:56.657Z"
   },
   {
    "duration": 10,
    "start_time": "2025-03-23T13:37:56.665Z"
   },
   {
    "duration": 14,
    "start_time": "2025-03-23T13:37:56.676Z"
   },
   {
    "duration": 7,
    "start_time": "2025-03-23T13:37:56.692Z"
   },
   {
    "duration": 55,
    "start_time": "2025-03-23T13:37:56.701Z"
   },
   {
    "duration": 8,
    "start_time": "2025-03-23T13:37:56.758Z"
   },
   {
    "duration": 13,
    "start_time": "2025-03-23T13:37:56.768Z"
   },
   {
    "duration": 6,
    "start_time": "2025-03-23T13:37:56.783Z"
   },
   {
    "duration": 13,
    "start_time": "2025-03-23T13:37:56.790Z"
   },
   {
    "duration": 62,
    "start_time": "2025-03-23T13:37:56.805Z"
   },
   {
    "duration": 8,
    "start_time": "2025-03-23T13:37:56.869Z"
   },
   {
    "duration": 17,
    "start_time": "2025-03-23T13:37:56.878Z"
   },
   {
    "duration": 4,
    "start_time": "2025-03-23T13:37:56.896Z"
   },
   {
    "duration": 4,
    "start_time": "2025-03-23T13:37:56.902Z"
   },
   {
    "duration": 52,
    "start_time": "2025-03-23T13:37:56.907Z"
   },
   {
    "duration": 18,
    "start_time": "2025-03-23T13:37:56.960Z"
   },
   {
    "duration": 290,
    "start_time": "2025-03-23T13:37:56.980Z"
   },
   {
    "duration": 398,
    "start_time": "2025-03-23T13:40:13.974Z"
   },
   {
    "duration": 37,
    "start_time": "2025-03-23T13:40:14.374Z"
   },
   {
    "duration": 75,
    "start_time": "2025-03-23T13:40:14.412Z"
   },
   {
    "duration": 32,
    "start_time": "2025-03-23T13:40:14.489Z"
   },
   {
    "duration": 30,
    "start_time": "2025-03-23T13:40:14.522Z"
   },
   {
    "duration": 11,
    "start_time": "2025-03-23T13:40:14.553Z"
   },
   {
    "duration": 9,
    "start_time": "2025-03-23T13:40:14.565Z"
   },
   {
    "duration": 6,
    "start_time": "2025-03-23T13:40:14.575Z"
   },
   {
    "duration": 8,
    "start_time": "2025-03-23T13:40:14.582Z"
   },
   {
    "duration": 10,
    "start_time": "2025-03-23T13:40:14.593Z"
   },
   {
    "duration": 7,
    "start_time": "2025-03-23T13:40:14.604Z"
   },
   {
    "duration": 9,
    "start_time": "2025-03-23T13:40:14.613Z"
   },
   {
    "duration": 34,
    "start_time": "2025-03-23T13:40:14.623Z"
   },
   {
    "duration": 4,
    "start_time": "2025-03-23T13:40:14.659Z"
   },
   {
    "duration": 15,
    "start_time": "2025-03-23T13:40:14.664Z"
   },
   {
    "duration": 7,
    "start_time": "2025-03-23T13:40:14.680Z"
   },
   {
    "duration": 4,
    "start_time": "2025-03-23T13:40:14.689Z"
   },
   {
    "duration": 18,
    "start_time": "2025-03-23T13:40:14.695Z"
   },
   {
    "duration": 8,
    "start_time": "2025-03-23T13:40:14.714Z"
   },
   {
    "duration": 15,
    "start_time": "2025-03-23T13:40:14.724Z"
   },
   {
    "duration": 3,
    "start_time": "2025-03-23T13:40:14.741Z"
   },
   {
    "duration": 12,
    "start_time": "2025-03-23T13:40:14.746Z"
   },
   {
    "duration": 342,
    "start_time": "2025-03-23T13:40:14.760Z"
   },
   {
    "duration": 5,
    "start_time": "2025-03-23T13:40:15.104Z"
   },
   {
    "duration": 89,
    "start_time": "2025-03-23T13:40:15.110Z"
   },
   {
    "duration": 4,
    "start_time": "2025-03-23T13:40:15.201Z"
   },
   {
    "duration": 30,
    "start_time": "2025-03-23T13:40:15.206Z"
   },
   {
    "duration": 146,
    "start_time": "2025-03-23T13:40:15.239Z"
   },
   {
    "duration": 7,
    "start_time": "2025-03-23T13:40:15.387Z"
   },
   {
    "duration": 188,
    "start_time": "2025-03-23T13:40:15.395Z"
   },
   {
    "duration": 8,
    "start_time": "2025-03-23T13:40:15.585Z"
   },
   {
    "duration": 151,
    "start_time": "2025-03-23T13:40:15.594Z"
   },
   {
    "duration": 16,
    "start_time": "2025-03-23T13:40:15.746Z"
   },
   {
    "duration": 8,
    "start_time": "2025-03-23T13:40:15.763Z"
   },
   {
    "duration": 11,
    "start_time": "2025-03-23T13:40:15.773Z"
   },
   {
    "duration": 9,
    "start_time": "2025-03-23T13:40:15.785Z"
   },
   {
    "duration": 9,
    "start_time": "2025-03-23T13:40:15.795Z"
   },
   {
    "duration": 6,
    "start_time": "2025-03-23T13:40:15.805Z"
   },
   {
    "duration": 172,
    "start_time": "2025-03-23T13:40:15.813Z"
   },
   {
    "duration": 7,
    "start_time": "2025-03-23T13:40:15.987Z"
   },
   {
    "duration": 141,
    "start_time": "2025-03-23T13:40:15.995Z"
   },
   {
    "duration": 7,
    "start_time": "2025-03-23T13:40:16.138Z"
   },
   {
    "duration": 131,
    "start_time": "2025-03-23T13:40:16.156Z"
   },
   {
    "duration": 8,
    "start_time": "2025-03-23T13:40:16.289Z"
   },
   {
    "duration": 288,
    "start_time": "2025-03-23T13:40:16.298Z"
   },
   {
    "duration": 10,
    "start_time": "2025-03-23T13:40:16.588Z"
   },
   {
    "duration": 60,
    "start_time": "2025-03-23T13:40:16.599Z"
   },
   {
    "duration": 26,
    "start_time": "2025-03-23T13:40:16.661Z"
   },
   {
    "duration": 4,
    "start_time": "2025-03-23T13:40:16.689Z"
   },
   {
    "duration": 3,
    "start_time": "2025-03-23T13:40:16.694Z"
   },
   {
    "duration": 11,
    "start_time": "2025-03-23T13:40:16.698Z"
   },
   {
    "duration": 8,
    "start_time": "2025-03-23T13:40:16.757Z"
   },
   {
    "duration": 7,
    "start_time": "2025-03-23T13:40:16.766Z"
   },
   {
    "duration": 7,
    "start_time": "2025-03-23T13:40:16.774Z"
   },
   {
    "duration": 8,
    "start_time": "2025-03-23T13:40:16.782Z"
   },
   {
    "duration": 7,
    "start_time": "2025-03-23T13:40:16.792Z"
   },
   {
    "duration": 62,
    "start_time": "2025-03-23T13:40:16.801Z"
   },
   {
    "duration": 11,
    "start_time": "2025-03-23T13:40:16.864Z"
   },
   {
    "duration": 6,
    "start_time": "2025-03-23T13:40:16.876Z"
   },
   {
    "duration": 9,
    "start_time": "2025-03-23T13:40:16.884Z"
   },
   {
    "duration": 4,
    "start_time": "2025-03-23T13:40:16.894Z"
   },
   {
    "duration": 5,
    "start_time": "2025-03-23T13:40:16.899Z"
   },
   {
    "duration": 1500,
    "start_time": "2025-03-23T13:40:16.957Z"
   },
   {
    "duration": 0,
    "start_time": "2025-03-23T13:40:18.459Z"
   },
   {
    "duration": 0,
    "start_time": "2025-03-23T13:40:18.460Z"
   },
   {
    "duration": 4,
    "start_time": "2025-03-23T13:40:41.520Z"
   },
   {
    "duration": 9,
    "start_time": "2025-03-23T13:40:44.733Z"
   },
   {
    "duration": 137,
    "start_time": "2025-03-23T13:43:49.041Z"
   },
   {
    "duration": 397,
    "start_time": "2025-03-24T06:23:45.286Z"
   },
   {
    "duration": 79,
    "start_time": "2025-03-24T06:23:45.686Z"
   },
   {
    "duration": 98,
    "start_time": "2025-03-24T06:23:45.767Z"
   },
   {
    "duration": 55,
    "start_time": "2025-03-24T06:23:45.867Z"
   },
   {
    "duration": 11,
    "start_time": "2025-03-24T06:23:45.925Z"
   },
   {
    "duration": 24,
    "start_time": "2025-03-24T06:23:45.938Z"
   },
   {
    "duration": 12,
    "start_time": "2025-03-24T06:23:45.963Z"
   },
   {
    "duration": 9,
    "start_time": "2025-03-24T06:23:45.977Z"
   },
   {
    "duration": 30,
    "start_time": "2025-03-24T06:23:45.987Z"
   },
   {
    "duration": 16,
    "start_time": "2025-03-24T06:23:46.019Z"
   },
   {
    "duration": 13,
    "start_time": "2025-03-24T06:23:46.037Z"
   },
   {
    "duration": 11,
    "start_time": "2025-03-24T06:23:46.052Z"
   },
   {
    "duration": 8,
    "start_time": "2025-03-24T06:23:46.065Z"
   },
   {
    "duration": 6,
    "start_time": "2025-03-24T06:23:46.077Z"
   },
   {
    "duration": 14,
    "start_time": "2025-03-24T06:23:46.084Z"
   },
   {
    "duration": 35,
    "start_time": "2025-03-24T06:23:46.100Z"
   },
   {
    "duration": 10,
    "start_time": "2025-03-24T06:23:46.137Z"
   },
   {
    "duration": 13,
    "start_time": "2025-03-24T06:23:46.149Z"
   },
   {
    "duration": 10,
    "start_time": "2025-03-24T06:23:46.163Z"
   },
   {
    "duration": 10,
    "start_time": "2025-03-24T06:23:46.174Z"
   },
   {
    "duration": 8,
    "start_time": "2025-03-24T06:23:46.186Z"
   },
   {
    "duration": 9,
    "start_time": "2025-03-24T06:23:46.195Z"
   },
   {
    "duration": 573,
    "start_time": "2025-03-24T06:23:46.206Z"
   },
   {
    "duration": 7,
    "start_time": "2025-03-24T06:23:46.781Z"
   },
   {
    "duration": 171,
    "start_time": "2025-03-24T06:23:46.790Z"
   },
   {
    "duration": 6,
    "start_time": "2025-03-24T06:23:46.963Z"
   },
   {
    "duration": 18,
    "start_time": "2025-03-24T06:23:46.970Z"
   },
   {
    "duration": 156,
    "start_time": "2025-03-24T06:23:46.990Z"
   },
   {
    "duration": 65,
    "start_time": "2025-03-24T06:23:47.148Z"
   },
   {
    "duration": 168,
    "start_time": "2025-03-24T06:23:47.215Z"
   },
   {
    "duration": 9,
    "start_time": "2025-03-24T06:23:47.386Z"
   },
   {
    "duration": 270,
    "start_time": "2025-03-24T06:23:47.396Z"
   },
   {
    "duration": 9,
    "start_time": "2025-03-24T06:23:47.668Z"
   },
   {
    "duration": 9,
    "start_time": "2025-03-24T06:23:47.678Z"
   },
   {
    "duration": 12,
    "start_time": "2025-03-24T06:23:47.688Z"
   },
   {
    "duration": 12,
    "start_time": "2025-03-24T06:23:47.702Z"
   },
   {
    "duration": 6,
    "start_time": "2025-03-24T06:23:47.715Z"
   },
   {
    "duration": 24,
    "start_time": "2025-03-24T06:23:47.722Z"
   },
   {
    "duration": 142,
    "start_time": "2025-03-24T06:23:47.761Z"
   },
   {
    "duration": 8,
    "start_time": "2025-03-24T06:23:47.905Z"
   },
   {
    "duration": 168,
    "start_time": "2025-03-24T06:23:47.917Z"
   },
   {
    "duration": 8,
    "start_time": "2025-03-24T06:23:48.087Z"
   },
   {
    "duration": 172,
    "start_time": "2025-03-24T06:23:48.096Z"
   },
   {
    "duration": 8,
    "start_time": "2025-03-24T06:23:48.270Z"
   },
   {
    "duration": 198,
    "start_time": "2025-03-24T06:23:48.280Z"
   },
   {
    "duration": 12,
    "start_time": "2025-03-24T06:23:48.479Z"
   },
   {
    "duration": 23,
    "start_time": "2025-03-24T06:23:48.492Z"
   },
   {
    "duration": 33,
    "start_time": "2025-03-24T06:23:48.517Z"
   },
   {
    "duration": 7,
    "start_time": "2025-03-24T06:23:48.551Z"
   },
   {
    "duration": 105,
    "start_time": "2025-03-24T06:23:48.559Z"
   },
   {
    "duration": 20,
    "start_time": "2025-03-24T06:23:48.666Z"
   },
   {
    "duration": 27,
    "start_time": "2025-03-24T06:23:48.687Z"
   },
   {
    "duration": 47,
    "start_time": "2025-03-24T06:23:48.716Z"
   },
   {
    "duration": 89,
    "start_time": "2025-03-24T06:23:48.765Z"
   },
   {
    "duration": 33,
    "start_time": "2025-03-24T06:23:48.855Z"
   },
   {
    "duration": 27,
    "start_time": "2025-03-24T06:23:48.889Z"
   },
   {
    "duration": 34,
    "start_time": "2025-03-24T06:23:48.918Z"
   },
   {
    "duration": 19,
    "start_time": "2025-03-24T06:23:48.954Z"
   },
   {
    "duration": 7,
    "start_time": "2025-03-24T06:23:48.975Z"
   },
   {
    "duration": 13,
    "start_time": "2025-03-24T06:23:48.984Z"
   },
   {
    "duration": 6,
    "start_time": "2025-03-24T06:23:48.998Z"
   },
   {
    "duration": 106,
    "start_time": "2025-03-24T06:23:49.006Z"
   },
   {
    "duration": 108,
    "start_time": "2025-03-24T06:23:49.114Z"
   },
   {
    "duration": 20,
    "start_time": "2025-03-24T06:23:49.223Z"
   },
   {
    "duration": 153,
    "start_time": "2025-03-24T06:23:49.245Z"
   },
   {
    "duration": 3,
    "start_time": "2025-03-24T07:05:10.877Z"
   },
   {
    "duration": 384,
    "start_time": "2025-03-24T07:05:21.992Z"
   },
   {
    "duration": 39,
    "start_time": "2025-03-24T07:05:22.378Z"
   },
   {
    "duration": 61,
    "start_time": "2025-03-24T07:05:22.418Z"
   },
   {
    "duration": 46,
    "start_time": "2025-03-24T07:05:22.481Z"
   },
   {
    "duration": 12,
    "start_time": "2025-03-24T07:05:22.529Z"
   },
   {
    "duration": 20,
    "start_time": "2025-03-24T07:05:22.542Z"
   },
   {
    "duration": 11,
    "start_time": "2025-03-24T07:05:22.563Z"
   },
   {
    "duration": 17,
    "start_time": "2025-03-24T07:05:22.575Z"
   },
   {
    "duration": 14,
    "start_time": "2025-03-24T07:05:22.593Z"
   },
   {
    "duration": 7,
    "start_time": "2025-03-24T07:05:22.608Z"
   },
   {
    "duration": 13,
    "start_time": "2025-03-24T07:05:22.617Z"
   },
   {
    "duration": 7,
    "start_time": "2025-03-24T07:05:22.632Z"
   },
   {
    "duration": 30,
    "start_time": "2025-03-24T07:05:22.641Z"
   },
   {
    "duration": 5,
    "start_time": "2025-03-24T07:05:22.674Z"
   },
   {
    "duration": 6,
    "start_time": "2025-03-24T07:05:22.680Z"
   },
   {
    "duration": 15,
    "start_time": "2025-03-24T07:05:22.688Z"
   },
   {
    "duration": 13,
    "start_time": "2025-03-24T07:05:22.705Z"
   },
   {
    "duration": 9,
    "start_time": "2025-03-24T07:05:22.720Z"
   },
   {
    "duration": 36,
    "start_time": "2025-03-24T07:05:22.730Z"
   },
   {
    "duration": 5,
    "start_time": "2025-03-24T07:05:22.768Z"
   },
   {
    "duration": 10,
    "start_time": "2025-03-24T07:05:22.775Z"
   },
   {
    "duration": 11,
    "start_time": "2025-03-24T07:05:22.787Z"
   },
   {
    "duration": 595,
    "start_time": "2025-03-24T07:05:22.800Z"
   },
   {
    "duration": 6,
    "start_time": "2025-03-24T07:05:23.397Z"
   },
   {
    "duration": 204,
    "start_time": "2025-03-24T07:05:23.404Z"
   },
   {
    "duration": 11,
    "start_time": "2025-03-24T07:05:23.662Z"
   },
   {
    "duration": 328,
    "start_time": "2025-03-24T07:05:23.675Z"
   },
   {
    "duration": 62,
    "start_time": "2025-03-24T07:05:24.004Z"
   },
   {
    "duration": 323,
    "start_time": "2025-03-24T07:05:24.068Z"
   },
   {
    "duration": 8,
    "start_time": "2025-03-24T07:05:24.393Z"
   },
   {
    "duration": 324,
    "start_time": "2025-03-24T07:05:24.402Z"
   },
   {
    "duration": 9,
    "start_time": "2025-03-24T07:05:24.728Z"
   },
   {
    "duration": 23,
    "start_time": "2025-03-24T07:05:24.739Z"
   },
   {
    "duration": 12,
    "start_time": "2025-03-24T07:05:24.764Z"
   },
   {
    "duration": 24,
    "start_time": "2025-03-24T07:05:24.778Z"
   },
   {
    "duration": 16,
    "start_time": "2025-03-24T07:05:24.804Z"
   },
   {
    "duration": 29,
    "start_time": "2025-03-24T07:05:24.822Z"
   },
   {
    "duration": 17,
    "start_time": "2025-03-24T07:05:24.853Z"
   },
   {
    "duration": 195,
    "start_time": "2025-03-24T07:05:24.872Z"
   },
   {
    "duration": 8,
    "start_time": "2025-03-24T07:05:25.069Z"
   },
   {
    "duration": 185,
    "start_time": "2025-03-24T07:05:25.081Z"
   },
   {
    "duration": 9,
    "start_time": "2025-03-24T07:05:25.267Z"
   },
   {
    "duration": 338,
    "start_time": "2025-03-24T07:05:25.277Z"
   },
   {
    "duration": 9,
    "start_time": "2025-03-24T07:05:25.616Z"
   },
   {
    "duration": 189,
    "start_time": "2025-03-24T07:05:25.626Z"
   },
   {
    "duration": 13,
    "start_time": "2025-03-24T07:05:25.817Z"
   },
   {
    "duration": 9,
    "start_time": "2025-03-24T07:05:25.831Z"
   },
   {
    "duration": 36,
    "start_time": "2025-03-24T07:05:25.842Z"
   },
   {
    "duration": 5,
    "start_time": "2025-03-24T07:05:25.879Z"
   },
   {
    "duration": 30,
    "start_time": "2025-03-24T07:05:25.886Z"
   },
   {
    "duration": 75,
    "start_time": "2025-03-24T07:05:25.918Z"
   },
   {
    "duration": 28,
    "start_time": "2025-03-24T07:05:25.995Z"
   },
   {
    "duration": 21,
    "start_time": "2025-03-24T07:05:26.025Z"
   },
   {
    "duration": 29,
    "start_time": "2025-03-24T07:05:26.047Z"
   },
   {
    "duration": 18,
    "start_time": "2025-03-24T07:05:26.078Z"
   },
   {
    "duration": 26,
    "start_time": "2025-03-24T07:05:26.098Z"
   },
   {
    "duration": 23,
    "start_time": "2025-03-24T07:05:26.126Z"
   },
   {
    "duration": 27,
    "start_time": "2025-03-24T07:05:26.151Z"
   },
   {
    "duration": 10,
    "start_time": "2025-03-24T07:05:26.179Z"
   },
   {
    "duration": 5,
    "start_time": "2025-03-24T07:05:26.190Z"
   },
   {
    "duration": 4,
    "start_time": "2025-03-24T07:05:26.197Z"
   },
   {
    "duration": 10,
    "start_time": "2025-03-24T07:05:26.202Z"
   },
   {
    "duration": 25,
    "start_time": "2025-03-24T07:05:26.214Z"
   },
   {
    "duration": 18,
    "start_time": "2025-03-24T07:05:26.241Z"
   },
   {
    "duration": 156,
    "start_time": "2025-03-24T07:05:26.261Z"
   },
   {
    "duration": 4,
    "start_time": "2025-03-24T07:35:47.740Z"
   },
   {
    "duration": 420,
    "start_time": "2025-03-24T07:40:11.430Z"
   },
   {
    "duration": 113,
    "start_time": "2025-03-24T07:40:11.851Z"
   },
   {
    "duration": 136,
    "start_time": "2025-03-24T07:40:11.965Z"
   },
   {
    "duration": 56,
    "start_time": "2025-03-24T07:40:12.103Z"
   },
   {
    "duration": 13,
    "start_time": "2025-03-24T07:40:12.161Z"
   },
   {
    "duration": 16,
    "start_time": "2025-03-24T07:40:12.175Z"
   },
   {
    "duration": 15,
    "start_time": "2025-03-24T07:40:12.192Z"
   },
   {
    "duration": 18,
    "start_time": "2025-03-24T07:40:12.209Z"
   },
   {
    "duration": 22,
    "start_time": "2025-03-24T07:40:12.228Z"
   },
   {
    "duration": 11,
    "start_time": "2025-03-24T07:40:12.251Z"
   },
   {
    "duration": 14,
    "start_time": "2025-03-24T07:40:12.264Z"
   },
   {
    "duration": 15,
    "start_time": "2025-03-24T07:40:12.279Z"
   },
   {
    "duration": 10,
    "start_time": "2025-03-24T07:40:12.296Z"
   },
   {
    "duration": 5,
    "start_time": "2025-03-24T07:40:12.308Z"
   },
   {
    "duration": 6,
    "start_time": "2025-03-24T07:40:12.315Z"
   },
   {
    "duration": 13,
    "start_time": "2025-03-24T07:40:12.322Z"
   },
   {
    "duration": 26,
    "start_time": "2025-03-24T07:40:12.337Z"
   },
   {
    "duration": 12,
    "start_time": "2025-03-24T07:40:12.365Z"
   },
   {
    "duration": 10,
    "start_time": "2025-03-24T07:40:12.379Z"
   },
   {
    "duration": 12,
    "start_time": "2025-03-24T07:40:12.391Z"
   },
   {
    "duration": 16,
    "start_time": "2025-03-24T07:40:12.404Z"
   },
   {
    "duration": 16,
    "start_time": "2025-03-24T07:40:12.422Z"
   },
   {
    "duration": 425,
    "start_time": "2025-03-24T07:40:12.440Z"
   },
   {
    "duration": 6,
    "start_time": "2025-03-24T07:40:12.867Z"
   },
   {
    "duration": 172,
    "start_time": "2025-03-24T07:40:12.874Z"
   },
   {
    "duration": 15,
    "start_time": "2025-03-24T07:40:13.048Z"
   },
   {
    "duration": 210,
    "start_time": "2025-03-24T07:40:13.064Z"
   },
   {
    "duration": 9,
    "start_time": "2025-03-24T07:40:13.275Z"
   },
   {
    "duration": 190,
    "start_time": "2025-03-24T07:40:13.286Z"
   },
   {
    "duration": 9,
    "start_time": "2025-03-24T07:40:13.477Z"
   },
   {
    "duration": 197,
    "start_time": "2025-03-24T07:40:13.487Z"
   },
   {
    "duration": 12,
    "start_time": "2025-03-24T07:40:13.686Z"
   },
   {
    "duration": 11,
    "start_time": "2025-03-24T07:40:13.700Z"
   },
   {
    "duration": 13,
    "start_time": "2025-03-24T07:40:13.713Z"
   },
   {
    "duration": 35,
    "start_time": "2025-03-24T07:40:13.728Z"
   },
   {
    "duration": 10,
    "start_time": "2025-03-24T07:40:13.766Z"
   },
   {
    "duration": 8,
    "start_time": "2025-03-24T07:40:13.778Z"
   },
   {
    "duration": 60,
    "start_time": "2025-03-24T07:40:13.788Z"
   },
   {
    "duration": 216,
    "start_time": "2025-03-24T07:40:13.850Z"
   },
   {
    "duration": 8,
    "start_time": "2025-03-24T07:40:14.067Z"
   },
   {
    "duration": 161,
    "start_time": "2025-03-24T07:40:14.079Z"
   },
   {
    "duration": 9,
    "start_time": "2025-03-24T07:40:14.242Z"
   },
   {
    "duration": 178,
    "start_time": "2025-03-24T07:40:14.252Z"
   },
   {
    "duration": 8,
    "start_time": "2025-03-24T07:40:14.432Z"
   },
   {
    "duration": 166,
    "start_time": "2025-03-24T07:40:14.442Z"
   },
   {
    "duration": 12,
    "start_time": "2025-03-24T07:40:14.610Z"
   },
   {
    "duration": 16,
    "start_time": "2025-03-24T07:40:14.623Z"
   },
   {
    "duration": 26,
    "start_time": "2025-03-24T07:40:14.641Z"
   },
   {
    "duration": 6,
    "start_time": "2025-03-24T07:40:14.668Z"
   },
   {
    "duration": 10,
    "start_time": "2025-03-24T07:40:14.675Z"
   },
   {
    "duration": 12,
    "start_time": "2025-03-24T07:40:14.686Z"
   },
   {
    "duration": 21,
    "start_time": "2025-03-24T07:40:14.700Z"
   },
   {
    "duration": 11,
    "start_time": "2025-03-24T07:40:14.722Z"
   },
   {
    "duration": 14,
    "start_time": "2025-03-24T07:40:14.734Z"
   },
   {
    "duration": 8,
    "start_time": "2025-03-24T07:40:14.749Z"
   },
   {
    "duration": 7,
    "start_time": "2025-03-24T07:40:14.758Z"
   },
   {
    "duration": 11,
    "start_time": "2025-03-24T07:40:14.767Z"
   },
   {
    "duration": 19,
    "start_time": "2025-03-24T07:40:14.780Z"
   },
   {
    "duration": 39,
    "start_time": "2025-03-24T07:40:14.801Z"
   },
   {
    "duration": 98,
    "start_time": "2025-03-24T07:40:14.842Z"
   },
   {
    "duration": 41,
    "start_time": "2025-03-24T07:40:14.942Z"
   },
   {
    "duration": 15,
    "start_time": "2025-03-24T07:40:14.985Z"
   },
   {
    "duration": 11,
    "start_time": "2025-03-24T07:40:15.001Z"
   },
   {
    "duration": 201,
    "start_time": "2025-03-24T07:40:15.014Z"
   },
   {
    "duration": 194,
    "start_time": "2025-03-24T07:40:15.216Z"
   },
   {
    "duration": 371,
    "start_time": "2025-03-24T07:46:34.109Z"
   },
   {
    "duration": 46,
    "start_time": "2025-03-24T07:46:34.482Z"
   },
   {
    "duration": 53,
    "start_time": "2025-03-24T07:46:34.530Z"
   },
   {
    "duration": 37,
    "start_time": "2025-03-24T07:46:34.585Z"
   },
   {
    "duration": 21,
    "start_time": "2025-03-24T07:46:34.624Z"
   },
   {
    "duration": 45,
    "start_time": "2025-03-24T07:46:34.646Z"
   },
   {
    "duration": 46,
    "start_time": "2025-03-24T07:46:34.692Z"
   },
   {
    "duration": 9,
    "start_time": "2025-03-24T07:46:34.740Z"
   },
   {
    "duration": 33,
    "start_time": "2025-03-24T07:46:34.750Z"
   },
   {
    "duration": 48,
    "start_time": "2025-03-24T07:46:34.785Z"
   },
   {
    "duration": 38,
    "start_time": "2025-03-24T07:46:34.834Z"
   },
   {
    "duration": 94,
    "start_time": "2025-03-24T07:46:34.874Z"
   },
   {
    "duration": 22,
    "start_time": "2025-03-24T07:46:34.970Z"
   },
   {
    "duration": 27,
    "start_time": "2025-03-24T07:46:34.995Z"
   },
   {
    "duration": 15,
    "start_time": "2025-03-24T07:46:35.023Z"
   },
   {
    "duration": 24,
    "start_time": "2025-03-24T07:46:35.040Z"
   },
   {
    "duration": 104,
    "start_time": "2025-03-24T07:46:35.066Z"
   },
   {
    "duration": 22,
    "start_time": "2025-03-24T07:46:35.171Z"
   },
   {
    "duration": 43,
    "start_time": "2025-03-24T07:46:35.194Z"
   },
   {
    "duration": 10,
    "start_time": "2025-03-24T07:46:35.238Z"
   },
   {
    "duration": 15,
    "start_time": "2025-03-24T07:46:35.250Z"
   },
   {
    "duration": 9,
    "start_time": "2025-03-24T07:46:35.267Z"
   },
   {
    "duration": 434,
    "start_time": "2025-03-24T07:46:35.278Z"
   },
   {
    "duration": 7,
    "start_time": "2025-03-24T07:46:35.713Z"
   },
   {
    "duration": 265,
    "start_time": "2025-03-24T07:46:35.722Z"
   },
   {
    "duration": 8,
    "start_time": "2025-03-24T07:46:35.988Z"
   },
   {
    "duration": 366,
    "start_time": "2025-03-24T07:46:35.998Z"
   },
   {
    "duration": 8,
    "start_time": "2025-03-24T07:46:36.366Z"
   },
   {
    "duration": 320,
    "start_time": "2025-03-24T07:46:36.375Z"
   },
   {
    "duration": 9,
    "start_time": "2025-03-24T07:46:36.697Z"
   },
   {
    "duration": 375,
    "start_time": "2025-03-24T07:46:36.707Z"
   },
   {
    "duration": 12,
    "start_time": "2025-03-24T07:46:37.083Z"
   },
   {
    "duration": 95,
    "start_time": "2025-03-24T07:46:37.096Z"
   },
   {
    "duration": 35,
    "start_time": "2025-03-24T07:46:37.193Z"
   },
   {
    "duration": 31,
    "start_time": "2025-03-24T07:46:37.229Z"
   },
   {
    "duration": 18,
    "start_time": "2025-03-24T07:46:37.262Z"
   },
   {
    "duration": 30,
    "start_time": "2025-03-24T07:46:37.282Z"
   },
   {
    "duration": 26,
    "start_time": "2025-03-24T07:46:37.314Z"
   },
   {
    "duration": 251,
    "start_time": "2025-03-24T07:46:37.342Z"
   },
   {
    "duration": 8,
    "start_time": "2025-03-24T07:46:37.595Z"
   },
   {
    "duration": 150,
    "start_time": "2025-03-24T07:46:37.607Z"
   },
   {
    "duration": 8,
    "start_time": "2025-03-24T07:46:37.759Z"
   },
   {
    "duration": 164,
    "start_time": "2025-03-24T07:46:37.769Z"
   },
   {
    "duration": 8,
    "start_time": "2025-03-24T07:46:37.935Z"
   },
   {
    "duration": 166,
    "start_time": "2025-03-24T07:46:37.945Z"
   },
   {
    "duration": 13,
    "start_time": "2025-03-24T07:46:38.112Z"
   },
   {
    "duration": 16,
    "start_time": "2025-03-24T07:46:38.127Z"
   },
   {
    "duration": 31,
    "start_time": "2025-03-24T07:46:38.144Z"
   },
   {
    "duration": 5,
    "start_time": "2025-03-24T07:46:38.176Z"
   },
   {
    "duration": 11,
    "start_time": "2025-03-24T07:46:38.183Z"
   },
   {
    "duration": 19,
    "start_time": "2025-03-24T07:46:38.195Z"
   },
   {
    "duration": 22,
    "start_time": "2025-03-24T07:46:38.216Z"
   },
   {
    "duration": 11,
    "start_time": "2025-03-24T07:46:38.239Z"
   },
   {
    "duration": 7,
    "start_time": "2025-03-24T07:46:38.252Z"
   },
   {
    "duration": 4,
    "start_time": "2025-03-24T07:46:38.261Z"
   },
   {
    "duration": 5,
    "start_time": "2025-03-24T07:46:38.267Z"
   },
   {
    "duration": 11,
    "start_time": "2025-03-24T07:46:38.273Z"
   },
   {
    "duration": 16,
    "start_time": "2025-03-24T07:46:38.286Z"
   },
   {
    "duration": 12,
    "start_time": "2025-03-24T07:46:38.303Z"
   },
   {
    "duration": 14,
    "start_time": "2025-03-24T07:46:38.317Z"
   },
   {
    "duration": 15,
    "start_time": "2025-03-24T07:46:38.333Z"
   },
   {
    "duration": 4,
    "start_time": "2025-03-24T07:46:38.350Z"
   },
   {
    "duration": 7,
    "start_time": "2025-03-24T07:46:38.355Z"
   },
   {
    "duration": 12,
    "start_time": "2025-03-24T07:46:38.363Z"
   },
   {
    "duration": 292,
    "start_time": "2025-03-24T07:46:38.376Z"
   },
   {
    "duration": 190,
    "start_time": "2025-03-24T07:52:18.500Z"
   },
   {
    "duration": 8,
    "start_time": "2025-03-24T07:54:18.534Z"
   },
   {
    "duration": 309,
    "start_time": "2025-03-24T07:55:16.855Z"
   },
   {
    "duration": 159,
    "start_time": "2025-03-24T07:55:32.966Z"
   },
   {
    "duration": 189,
    "start_time": "2025-03-24T07:55:53.749Z"
   },
   {
    "duration": 800,
    "start_time": "2025-03-24T07:57:23.806Z"
   },
   {
    "duration": 653,
    "start_time": "2025-03-24T07:57:49.275Z"
   },
   {
    "duration": 186,
    "start_time": "2025-03-24T07:58:02.948Z"
   },
   {
    "duration": 195,
    "start_time": "2025-03-24T07:59:07.006Z"
   },
   {
    "duration": 682,
    "start_time": "2025-03-24T07:59:37.252Z"
   },
   {
    "duration": 45,
    "start_time": "2025-03-24T07:59:37.936Z"
   },
   {
    "duration": 61,
    "start_time": "2025-03-24T07:59:37.982Z"
   },
   {
    "duration": 36,
    "start_time": "2025-03-24T07:59:38.046Z"
   },
   {
    "duration": 11,
    "start_time": "2025-03-24T07:59:38.084Z"
   },
   {
    "duration": 25,
    "start_time": "2025-03-24T07:59:38.097Z"
   },
   {
    "duration": 12,
    "start_time": "2025-03-24T07:59:38.124Z"
   },
   {
    "duration": 8,
    "start_time": "2025-03-24T07:59:38.137Z"
   },
   {
    "duration": 11,
    "start_time": "2025-03-24T07:59:38.147Z"
   },
   {
    "duration": 8,
    "start_time": "2025-03-24T07:59:38.159Z"
   },
   {
    "duration": 16,
    "start_time": "2025-03-24T07:59:38.168Z"
   },
   {
    "duration": 7,
    "start_time": "2025-03-24T07:59:38.186Z"
   },
   {
    "duration": 19,
    "start_time": "2025-03-24T07:59:38.195Z"
   },
   {
    "duration": 5,
    "start_time": "2025-03-24T07:59:38.217Z"
   },
   {
    "duration": 18,
    "start_time": "2025-03-24T07:59:38.223Z"
   },
   {
    "duration": 20,
    "start_time": "2025-03-24T07:59:38.243Z"
   },
   {
    "duration": 7,
    "start_time": "2025-03-24T07:59:38.264Z"
   },
   {
    "duration": 26,
    "start_time": "2025-03-24T07:59:38.273Z"
   },
   {
    "duration": 35,
    "start_time": "2025-03-24T07:59:38.300Z"
   },
   {
    "duration": 10,
    "start_time": "2025-03-24T07:59:38.337Z"
   },
   {
    "duration": 6,
    "start_time": "2025-03-24T07:59:38.348Z"
   },
   {
    "duration": 14,
    "start_time": "2025-03-24T07:59:38.355Z"
   },
   {
    "duration": 156,
    "start_time": "2025-03-24T07:59:38.371Z"
   },
   {
    "duration": 6,
    "start_time": "2025-03-24T07:59:38.528Z"
   },
   {
    "duration": 112,
    "start_time": "2025-03-24T07:59:38.535Z"
   },
   {
    "duration": 13,
    "start_time": "2025-03-24T07:59:38.649Z"
   },
   {
    "duration": 154,
    "start_time": "2025-03-24T07:59:38.663Z"
   },
   {
    "duration": 10,
    "start_time": "2025-03-24T07:59:38.818Z"
   },
   {
    "duration": 176,
    "start_time": "2025-03-24T07:59:38.831Z"
   },
   {
    "duration": 10,
    "start_time": "2025-03-24T07:59:39.009Z"
   },
   {
    "duration": 253,
    "start_time": "2025-03-24T07:59:39.020Z"
   },
   {
    "duration": 10,
    "start_time": "2025-03-24T07:59:39.274Z"
   },
   {
    "duration": 22,
    "start_time": "2025-03-24T07:59:39.286Z"
   },
   {
    "duration": 18,
    "start_time": "2025-03-24T07:59:39.309Z"
   },
   {
    "duration": 4,
    "start_time": "2025-03-24T07:59:39.329Z"
   },
   {
    "duration": 10,
    "start_time": "2025-03-24T07:59:39.334Z"
   },
   {
    "duration": 9,
    "start_time": "2025-03-24T07:59:39.346Z"
   },
   {
    "duration": 11,
    "start_time": "2025-03-24T07:59:39.361Z"
   },
   {
    "duration": 161,
    "start_time": "2025-03-24T07:59:39.373Z"
   },
   {
    "duration": 8,
    "start_time": "2025-03-24T07:59:39.535Z"
   },
   {
    "duration": 140,
    "start_time": "2025-03-24T07:59:39.561Z"
   },
   {
    "duration": 28,
    "start_time": "2025-03-24T07:59:39.703Z"
   },
   {
    "duration": 161,
    "start_time": "2025-03-24T07:59:39.732Z"
   },
   {
    "duration": 9,
    "start_time": "2025-03-24T07:59:39.895Z"
   },
   {
    "duration": 170,
    "start_time": "2025-03-24T07:59:39.905Z"
   },
   {
    "duration": 13,
    "start_time": "2025-03-24T07:59:40.077Z"
   },
   {
    "duration": 44,
    "start_time": "2025-03-24T07:59:40.092Z"
   },
   {
    "duration": 35,
    "start_time": "2025-03-24T07:59:40.138Z"
   },
   {
    "duration": 6,
    "start_time": "2025-03-24T07:59:40.174Z"
   },
   {
    "duration": 10,
    "start_time": "2025-03-24T07:59:40.181Z"
   },
   {
    "duration": 5,
    "start_time": "2025-03-24T07:59:40.192Z"
   },
   {
    "duration": 14,
    "start_time": "2025-03-24T07:59:40.198Z"
   },
   {
    "duration": 8,
    "start_time": "2025-03-24T07:59:40.214Z"
   },
   {
    "duration": 9,
    "start_time": "2025-03-24T07:59:40.223Z"
   },
   {
    "duration": 7,
    "start_time": "2025-03-24T07:59:40.233Z"
   },
   {
    "duration": 24,
    "start_time": "2025-03-24T07:59:40.241Z"
   },
   {
    "duration": 17,
    "start_time": "2025-03-24T07:59:40.266Z"
   },
   {
    "duration": 12,
    "start_time": "2025-03-24T07:59:40.284Z"
   },
   {
    "duration": 10,
    "start_time": "2025-03-24T07:59:40.298Z"
   },
   {
    "duration": 3,
    "start_time": "2025-03-24T07:59:40.310Z"
   },
   {
    "duration": 7,
    "start_time": "2025-03-24T07:59:40.314Z"
   },
   {
    "duration": 8,
    "start_time": "2025-03-24T07:59:40.322Z"
   },
   {
    "duration": 32,
    "start_time": "2025-03-24T07:59:40.331Z"
   },
   {
    "duration": 45,
    "start_time": "2025-03-24T07:59:40.364Z"
   },
   {
    "duration": 152,
    "start_time": "2025-03-24T07:59:40.410Z"
   },
   {
    "duration": 186,
    "start_time": "2025-03-24T07:59:40.564Z"
   },
   {
    "duration": 17,
    "start_time": "2025-03-24T07:59:40.751Z"
   },
   {
    "duration": 225,
    "start_time": "2025-03-24T08:01:02.498Z"
   },
   {
    "duration": 316,
    "start_time": "2025-03-24T08:02:00.206Z"
   },
   {
    "duration": 206,
    "start_time": "2025-03-24T08:02:52.671Z"
   },
   {
    "duration": 281,
    "start_time": "2025-03-24T08:04:08.746Z"
   },
   {
    "duration": 220,
    "start_time": "2025-03-24T08:04:34.492Z"
   },
   {
    "duration": 168,
    "start_time": "2025-03-24T08:08:34.932Z"
   },
   {
    "duration": 163,
    "start_time": "2025-03-24T08:09:25.924Z"
   },
   {
    "duration": 149,
    "start_time": "2025-03-24T08:10:25.337Z"
   },
   {
    "duration": 148,
    "start_time": "2025-03-24T08:11:45.844Z"
   },
   {
    "duration": 221,
    "start_time": "2025-03-24T08:12:37.979Z"
   },
   {
    "duration": 17,
    "start_time": "2025-03-24T08:25:18.838Z"
   },
   {
    "duration": 10,
    "start_time": "2025-03-24T08:25:30.275Z"
   },
   {
    "duration": 22,
    "start_time": "2025-03-24T08:25:57.871Z"
   },
   {
    "duration": 11,
    "start_time": "2025-03-24T08:25:59.072Z"
   },
   {
    "duration": 18,
    "start_time": "2025-03-24T08:27:54.437Z"
   },
   {
    "duration": 29,
    "start_time": "2025-03-24T08:28:09.003Z"
   },
   {
    "duration": 12,
    "start_time": "2025-03-24T08:28:13.845Z"
   },
   {
    "duration": 27,
    "start_time": "2025-03-24T08:28:39.974Z"
   },
   {
    "duration": 13,
    "start_time": "2025-03-24T08:28:41.542Z"
   },
   {
    "duration": 4,
    "start_time": "2025-03-24T08:29:21.851Z"
   },
   {
    "duration": 4,
    "start_time": "2025-03-24T08:29:24.721Z"
   },
   {
    "duration": 51,
    "start_time": "2025-03-24T08:29:41.302Z"
   },
   {
    "duration": 26,
    "start_time": "2025-03-24T08:29:42.870Z"
   },
   {
    "duration": 22,
    "start_time": "2025-03-24T08:29:51.508Z"
   },
   {
    "duration": 11,
    "start_time": "2025-03-24T08:29:52.765Z"
   },
   {
    "duration": 141,
    "start_time": "2025-03-24T08:37:22.372Z"
   },
   {
    "duration": 149,
    "start_time": "2025-03-24T08:37:32.161Z"
   },
   {
    "duration": 145,
    "start_time": "2025-03-24T08:42:33.130Z"
   },
   {
    "duration": 5,
    "start_time": "2025-03-24T08:44:53.869Z"
   },
   {
    "duration": 5,
    "start_time": "2025-03-24T08:45:28.257Z"
   },
   {
    "duration": 13,
    "start_time": "2025-03-24T08:45:28.729Z"
   },
   {
    "duration": 675,
    "start_time": "2025-03-24T08:45:33.233Z"
   },
   {
    "duration": 52,
    "start_time": "2025-03-24T08:45:33.910Z"
   },
   {
    "duration": 110,
    "start_time": "2025-03-24T08:45:33.964Z"
   },
   {
    "duration": 33,
    "start_time": "2025-03-24T08:45:34.076Z"
   },
   {
    "duration": 15,
    "start_time": "2025-03-24T08:45:34.112Z"
   },
   {
    "duration": 12,
    "start_time": "2025-03-24T08:45:34.128Z"
   },
   {
    "duration": 12,
    "start_time": "2025-03-24T08:45:34.141Z"
   },
   {
    "duration": 10,
    "start_time": "2025-03-24T08:45:34.161Z"
   },
   {
    "duration": 54,
    "start_time": "2025-03-24T08:45:34.172Z"
   },
   {
    "duration": 39,
    "start_time": "2025-03-24T08:45:34.227Z"
   },
   {
    "duration": 30,
    "start_time": "2025-03-24T08:45:34.268Z"
   },
   {
    "duration": 33,
    "start_time": "2025-03-24T08:45:34.299Z"
   },
   {
    "duration": 11,
    "start_time": "2025-03-24T08:45:34.333Z"
   },
   {
    "duration": 5,
    "start_time": "2025-03-24T08:45:34.347Z"
   },
   {
    "duration": 8,
    "start_time": "2025-03-24T08:45:34.353Z"
   },
   {
    "duration": 8,
    "start_time": "2025-03-24T08:45:34.363Z"
   },
   {
    "duration": 18,
    "start_time": "2025-03-24T08:45:34.372Z"
   },
   {
    "duration": 19,
    "start_time": "2025-03-24T08:45:34.391Z"
   },
   {
    "duration": 55,
    "start_time": "2025-03-24T08:45:34.412Z"
   },
   {
    "duration": 6,
    "start_time": "2025-03-24T08:45:34.468Z"
   },
   {
    "duration": 32,
    "start_time": "2025-03-24T08:45:34.476Z"
   },
   {
    "duration": 54,
    "start_time": "2025-03-24T08:45:34.510Z"
   },
   {
    "duration": 323,
    "start_time": "2025-03-24T08:45:34.566Z"
   },
   {
    "duration": 6,
    "start_time": "2025-03-24T08:45:34.890Z"
   },
   {
    "duration": 267,
    "start_time": "2025-03-24T08:45:34.897Z"
   },
   {
    "duration": 8,
    "start_time": "2025-03-24T08:45:35.165Z"
   },
   {
    "duration": 393,
    "start_time": "2025-03-24T08:45:35.175Z"
   },
   {
    "duration": 8,
    "start_time": "2025-03-24T08:45:35.570Z"
   },
   {
    "duration": 313,
    "start_time": "2025-03-24T08:45:35.580Z"
   },
   {
    "duration": 8,
    "start_time": "2025-03-24T08:45:35.895Z"
   },
   {
    "duration": 390,
    "start_time": "2025-03-24T08:45:35.904Z"
   },
   {
    "duration": 9,
    "start_time": "2025-03-24T08:45:36.296Z"
   },
   {
    "duration": 104,
    "start_time": "2025-03-24T08:45:36.307Z"
   },
   {
    "duration": 36,
    "start_time": "2025-03-24T08:45:36.413Z"
   },
   {
    "duration": 37,
    "start_time": "2025-03-24T08:45:36.451Z"
   },
   {
    "duration": 52,
    "start_time": "2025-03-24T08:45:36.490Z"
   },
   {
    "duration": 9,
    "start_time": "2025-03-24T08:45:36.543Z"
   },
   {
    "duration": 10,
    "start_time": "2025-03-24T08:45:36.554Z"
   },
   {
    "duration": 173,
    "start_time": "2025-03-24T08:45:36.566Z"
   },
   {
    "duration": 9,
    "start_time": "2025-03-24T08:45:36.741Z"
   },
   {
    "duration": 143,
    "start_time": "2025-03-24T08:45:36.762Z"
   },
   {
    "duration": 8,
    "start_time": "2025-03-24T08:45:36.907Z"
   },
   {
    "duration": 181,
    "start_time": "2025-03-24T08:45:36.917Z"
   },
   {
    "duration": 8,
    "start_time": "2025-03-24T08:45:37.099Z"
   },
   {
    "duration": 229,
    "start_time": "2025-03-24T08:45:37.109Z"
   },
   {
    "duration": 12,
    "start_time": "2025-03-24T08:45:37.339Z"
   },
   {
    "duration": 67,
    "start_time": "2025-03-24T08:45:37.352Z"
   },
   {
    "duration": 29,
    "start_time": "2025-03-24T08:45:37.421Z"
   },
   {
    "duration": 5,
    "start_time": "2025-03-24T08:45:37.452Z"
   },
   {
    "duration": 17,
    "start_time": "2025-03-24T08:45:37.458Z"
   },
   {
    "duration": 28,
    "start_time": "2025-03-24T08:45:37.478Z"
   },
   {
    "duration": 23,
    "start_time": "2025-03-24T08:45:37.508Z"
   },
   {
    "duration": 17,
    "start_time": "2025-03-24T08:45:37.533Z"
   },
   {
    "duration": 9,
    "start_time": "2025-03-24T08:45:37.552Z"
   },
   {
    "duration": 5,
    "start_time": "2025-03-24T08:45:37.562Z"
   },
   {
    "duration": 19,
    "start_time": "2025-03-24T08:45:37.569Z"
   },
   {
    "duration": 114,
    "start_time": "2025-03-24T08:45:37.589Z"
   },
   {
    "duration": 17,
    "start_time": "2025-03-24T08:45:37.704Z"
   },
   {
    "duration": 8,
    "start_time": "2025-03-24T08:45:37.723Z"
   },
   {
    "duration": 57,
    "start_time": "2025-03-24T08:45:37.732Z"
   },
   {
    "duration": 24,
    "start_time": "2025-03-24T08:45:37.791Z"
   },
   {
    "duration": 12,
    "start_time": "2025-03-24T08:45:37.816Z"
   },
   {
    "duration": 2823,
    "start_time": "2025-03-24T08:45:37.829Z"
   },
   {
    "duration": 0,
    "start_time": "2025-03-24T08:45:40.653Z"
   },
   {
    "duration": 0,
    "start_time": "2025-03-24T08:45:40.655Z"
   },
   {
    "duration": 0,
    "start_time": "2025-03-24T08:45:40.656Z"
   },
   {
    "duration": 0,
    "start_time": "2025-03-24T08:45:40.657Z"
   },
   {
    "duration": 0,
    "start_time": "2025-03-24T08:45:40.659Z"
   },
   {
    "duration": 0,
    "start_time": "2025-03-24T08:45:40.660Z"
   },
   {
    "duration": 0,
    "start_time": "2025-03-24T08:45:40.661Z"
   },
   {
    "duration": 0,
    "start_time": "2025-03-24T08:45:40.663Z"
   },
   {
    "duration": 5,
    "start_time": "2025-03-24T08:46:09.793Z"
   },
   {
    "duration": 11,
    "start_time": "2025-03-24T08:46:11.183Z"
   },
   {
    "duration": 626,
    "start_time": "2025-03-24T08:46:25.514Z"
   },
   {
    "duration": 48,
    "start_time": "2025-03-24T08:46:26.142Z"
   },
   {
    "duration": 55,
    "start_time": "2025-03-24T08:46:26.192Z"
   },
   {
    "duration": 38,
    "start_time": "2025-03-24T08:46:26.249Z"
   },
   {
    "duration": 12,
    "start_time": "2025-03-24T08:46:26.290Z"
   },
   {
    "duration": 34,
    "start_time": "2025-03-24T08:46:26.304Z"
   },
   {
    "duration": 19,
    "start_time": "2025-03-24T08:46:26.339Z"
   },
   {
    "duration": 9,
    "start_time": "2025-03-24T08:46:26.360Z"
   },
   {
    "duration": 18,
    "start_time": "2025-03-24T08:46:26.371Z"
   },
   {
    "duration": 9,
    "start_time": "2025-03-24T08:46:26.391Z"
   },
   {
    "duration": 15,
    "start_time": "2025-03-24T08:46:26.401Z"
   },
   {
    "duration": 52,
    "start_time": "2025-03-24T08:46:26.417Z"
   },
   {
    "duration": 18,
    "start_time": "2025-03-24T08:46:26.470Z"
   },
   {
    "duration": 5,
    "start_time": "2025-03-24T08:46:26.491Z"
   },
   {
    "duration": 64,
    "start_time": "2025-03-24T08:46:26.498Z"
   },
   {
    "duration": 17,
    "start_time": "2025-03-24T08:46:26.564Z"
   },
   {
    "duration": 33,
    "start_time": "2025-03-24T08:46:26.582Z"
   },
   {
    "duration": 47,
    "start_time": "2025-03-24T08:46:26.617Z"
   },
   {
    "duration": 25,
    "start_time": "2025-03-24T08:46:26.666Z"
   },
   {
    "duration": 32,
    "start_time": "2025-03-24T08:46:26.693Z"
   },
   {
    "duration": 40,
    "start_time": "2025-03-24T08:46:26.726Z"
   },
   {
    "duration": 35,
    "start_time": "2025-03-24T08:46:26.768Z"
   },
   {
    "duration": 302,
    "start_time": "2025-03-24T08:46:26.805Z"
   },
   {
    "duration": 6,
    "start_time": "2025-03-24T08:46:27.163Z"
   },
   {
    "duration": 302,
    "start_time": "2025-03-24T08:46:27.170Z"
   },
   {
    "duration": 11,
    "start_time": "2025-03-24T08:46:27.474Z"
   },
   {
    "duration": 323,
    "start_time": "2025-03-24T08:46:27.487Z"
   },
   {
    "duration": 9,
    "start_time": "2025-03-24T08:46:27.812Z"
   },
   {
    "duration": 188,
    "start_time": "2025-03-24T08:46:27.822Z"
   },
   {
    "duration": 8,
    "start_time": "2025-03-24T08:46:28.012Z"
   },
   {
    "duration": 235,
    "start_time": "2025-03-24T08:46:28.022Z"
   },
   {
    "duration": 9,
    "start_time": "2025-03-24T08:46:28.261Z"
   },
   {
    "duration": 18,
    "start_time": "2025-03-24T08:46:28.272Z"
   },
   {
    "duration": 11,
    "start_time": "2025-03-24T08:46:28.292Z"
   },
   {
    "duration": 4,
    "start_time": "2025-03-24T08:46:28.305Z"
   },
   {
    "duration": 6,
    "start_time": "2025-03-24T08:46:28.311Z"
   },
   {
    "duration": 9,
    "start_time": "2025-03-24T08:46:28.319Z"
   },
   {
    "duration": 7,
    "start_time": "2025-03-24T08:46:28.330Z"
   },
   {
    "duration": 237,
    "start_time": "2025-03-24T08:46:28.362Z"
   },
   {
    "duration": 8,
    "start_time": "2025-03-24T08:46:28.601Z"
   },
   {
    "duration": 244,
    "start_time": "2025-03-24T08:46:28.662Z"
   },
   {
    "duration": 62,
    "start_time": "2025-03-24T08:46:28.907Z"
   },
   {
    "duration": 322,
    "start_time": "2025-03-24T08:46:28.971Z"
   },
   {
    "duration": 8,
    "start_time": "2025-03-24T08:46:29.295Z"
   },
   {
    "duration": 392,
    "start_time": "2025-03-24T08:46:29.305Z"
   },
   {
    "duration": 65,
    "start_time": "2025-03-24T08:46:29.699Z"
   },
   {
    "duration": 11,
    "start_time": "2025-03-24T08:46:29.766Z"
   },
   {
    "duration": 24,
    "start_time": "2025-03-24T08:46:29.779Z"
   },
   {
    "duration": 5,
    "start_time": "2025-03-24T08:46:29.805Z"
   },
   {
    "duration": 4,
    "start_time": "2025-03-24T08:46:29.811Z"
   },
   {
    "duration": 46,
    "start_time": "2025-03-24T08:46:29.816Z"
   },
   {
    "duration": 9,
    "start_time": "2025-03-24T08:46:29.864Z"
   },
   {
    "duration": 8,
    "start_time": "2025-03-24T08:46:29.874Z"
   },
   {
    "duration": 13,
    "start_time": "2025-03-24T08:46:29.883Z"
   },
   {
    "duration": 5,
    "start_time": "2025-03-24T08:46:29.899Z"
   },
   {
    "duration": 6,
    "start_time": "2025-03-24T08:46:29.905Z"
   },
   {
    "duration": 11,
    "start_time": "2025-03-24T08:46:29.912Z"
   },
   {
    "duration": 42,
    "start_time": "2025-03-24T08:46:29.925Z"
   },
   {
    "duration": 7,
    "start_time": "2025-03-24T08:46:29.969Z"
   },
   {
    "duration": 7,
    "start_time": "2025-03-24T08:46:29.978Z"
   },
   {
    "duration": 5,
    "start_time": "2025-03-24T08:46:29.986Z"
   },
   {
    "duration": 11,
    "start_time": "2025-03-24T08:46:29.993Z"
   },
   {
    "duration": 5,
    "start_time": "2025-03-24T08:46:30.006Z"
   },
   {
    "duration": 15,
    "start_time": "2025-03-24T08:46:30.012Z"
   },
   {
    "duration": 192,
    "start_time": "2025-03-24T08:46:30.028Z"
   },
   {
    "duration": 158,
    "start_time": "2025-03-24T08:46:30.222Z"
   },
   {
    "duration": 22,
    "start_time": "2025-03-24T08:46:30.381Z"
   },
   {
    "duration": 51,
    "start_time": "2025-03-24T08:46:30.405Z"
   },
   {
    "duration": 26,
    "start_time": "2025-03-24T08:46:30.458Z"
   },
   {
    "duration": 173,
    "start_time": "2025-03-24T08:46:30.485Z"
   },
   {
    "duration": 105,
    "start_time": "2025-03-24T08:46:30.662Z"
   },
   {
    "duration": 157,
    "start_time": "2025-03-24T08:47:18.802Z"
   },
   {
    "duration": 7,
    "start_time": "2025-03-24T08:48:26.050Z"
   },
   {
    "duration": 1443,
    "start_time": "2025-03-24T08:50:30.897Z"
   },
   {
    "duration": 662,
    "start_time": "2025-03-24T08:50:44.269Z"
   },
   {
    "duration": 50,
    "start_time": "2025-03-24T08:50:44.933Z"
   },
   {
    "duration": 78,
    "start_time": "2025-03-24T08:50:44.985Z"
   },
   {
    "duration": 31,
    "start_time": "2025-03-24T08:50:45.065Z"
   },
   {
    "duration": 50,
    "start_time": "2025-03-24T08:50:45.098Z"
   },
   {
    "duration": 69,
    "start_time": "2025-03-24T08:50:45.149Z"
   },
   {
    "duration": 16,
    "start_time": "2025-03-24T08:50:45.220Z"
   },
   {
    "duration": 30,
    "start_time": "2025-03-24T08:50:45.238Z"
   },
   {
    "duration": 31,
    "start_time": "2025-03-24T08:50:45.270Z"
   },
   {
    "duration": 101,
    "start_time": "2025-03-24T08:50:45.303Z"
   },
   {
    "duration": 37,
    "start_time": "2025-03-24T08:50:45.406Z"
   },
   {
    "duration": 31,
    "start_time": "2025-03-24T08:50:45.445Z"
   },
   {
    "duration": 32,
    "start_time": "2025-03-24T08:50:45.478Z"
   },
   {
    "duration": 14,
    "start_time": "2025-03-24T08:50:45.514Z"
   },
   {
    "duration": 26,
    "start_time": "2025-03-24T08:50:45.530Z"
   },
   {
    "duration": 17,
    "start_time": "2025-03-24T08:50:45.558Z"
   },
   {
    "duration": 12,
    "start_time": "2025-03-24T08:50:45.577Z"
   },
   {
    "duration": 42,
    "start_time": "2025-03-24T08:50:45.590Z"
   },
   {
    "duration": 80,
    "start_time": "2025-03-24T08:50:45.633Z"
   },
   {
    "duration": 11,
    "start_time": "2025-03-24T08:50:45.715Z"
   },
   {
    "duration": 71,
    "start_time": "2025-03-24T08:50:45.728Z"
   },
   {
    "duration": 25,
    "start_time": "2025-03-24T08:50:45.801Z"
   },
   {
    "duration": 207,
    "start_time": "2025-03-24T08:50:45.827Z"
   },
   {
    "duration": 7,
    "start_time": "2025-03-24T08:50:46.036Z"
   },
   {
    "duration": 279,
    "start_time": "2025-03-24T08:50:46.045Z"
   },
   {
    "duration": 8,
    "start_time": "2025-03-24T08:50:46.325Z"
   },
   {
    "duration": 164,
    "start_time": "2025-03-24T08:50:46.335Z"
   },
   {
    "duration": 8,
    "start_time": "2025-03-24T08:50:46.501Z"
   },
   {
    "duration": 224,
    "start_time": "2025-03-24T08:50:46.511Z"
   },
   {
    "duration": 8,
    "start_time": "2025-03-24T08:50:46.737Z"
   },
   {
    "duration": 238,
    "start_time": "2025-03-24T08:50:46.747Z"
   },
   {
    "duration": 9,
    "start_time": "2025-03-24T08:50:46.987Z"
   },
   {
    "duration": 9,
    "start_time": "2025-03-24T08:50:46.998Z"
   },
   {
    "duration": 13,
    "start_time": "2025-03-24T08:50:47.008Z"
   },
   {
    "duration": 4,
    "start_time": "2025-03-24T08:50:47.023Z"
   },
   {
    "duration": 37,
    "start_time": "2025-03-24T08:50:47.028Z"
   },
   {
    "duration": 12,
    "start_time": "2025-03-24T08:50:47.067Z"
   },
   {
    "duration": 23,
    "start_time": "2025-03-24T08:50:47.081Z"
   },
   {
    "duration": 155,
    "start_time": "2025-03-24T08:50:47.105Z"
   },
   {
    "duration": 8,
    "start_time": "2025-03-24T08:50:47.262Z"
   },
   {
    "duration": 152,
    "start_time": "2025-03-24T08:50:47.274Z"
   },
   {
    "duration": 7,
    "start_time": "2025-03-24T08:50:47.428Z"
   },
   {
    "duration": 178,
    "start_time": "2025-03-24T08:50:47.437Z"
   },
   {
    "duration": 8,
    "start_time": "2025-03-24T08:50:47.617Z"
   },
   {
    "duration": 256,
    "start_time": "2025-03-24T08:50:47.626Z"
   },
   {
    "duration": 12,
    "start_time": "2025-03-24T08:50:47.883Z"
   },
   {
    "duration": 286,
    "start_time": "2025-03-24T08:50:47.897Z"
   },
   {
    "duration": 76,
    "start_time": "2025-03-24T08:50:48.186Z"
   },
   {
    "duration": 8,
    "start_time": "2025-03-24T08:50:48.264Z"
   },
   {
    "duration": 10,
    "start_time": "2025-03-24T08:50:48.274Z"
   },
   {
    "duration": 14,
    "start_time": "2025-03-24T08:50:48.286Z"
   },
   {
    "duration": 64,
    "start_time": "2025-03-24T08:50:48.302Z"
   },
   {
    "duration": 12,
    "start_time": "2025-03-24T08:50:48.367Z"
   },
   {
    "duration": 8,
    "start_time": "2025-03-24T08:50:48.381Z"
   },
   {
    "duration": 30,
    "start_time": "2025-03-24T08:50:48.390Z"
   },
   {
    "duration": 15,
    "start_time": "2025-03-24T08:50:48.466Z"
   },
   {
    "duration": 13,
    "start_time": "2025-03-24T08:50:48.483Z"
   },
   {
    "duration": 64,
    "start_time": "2025-03-24T08:50:48.498Z"
   },
   {
    "duration": 9,
    "start_time": "2025-03-24T08:50:48.564Z"
   },
   {
    "duration": 4,
    "start_time": "2025-03-24T08:50:48.575Z"
   },
   {
    "duration": 4,
    "start_time": "2025-03-24T08:50:48.581Z"
   },
   {
    "duration": 12,
    "start_time": "2025-03-24T08:50:48.587Z"
   },
   {
    "duration": 4,
    "start_time": "2025-03-24T08:50:48.601Z"
   },
   {
    "duration": 55,
    "start_time": "2025-03-24T08:50:48.607Z"
   },
   {
    "duration": 44,
    "start_time": "2025-03-24T08:50:48.664Z"
   },
   {
    "duration": 361,
    "start_time": "2025-03-24T08:50:48.710Z"
   },
   {
    "duration": 253,
    "start_time": "2025-03-24T08:50:49.073Z"
   },
   {
    "duration": 22,
    "start_time": "2025-03-24T08:50:49.327Z"
   },
   {
    "duration": 86,
    "start_time": "2025-03-24T08:50:49.361Z"
   },
   {
    "duration": 32,
    "start_time": "2025-03-24T08:50:49.448Z"
   },
   {
    "duration": 178,
    "start_time": "2025-03-24T08:50:49.482Z"
   },
   {
    "duration": 97,
    "start_time": "2025-03-24T08:50:49.662Z"
   },
   {
    "duration": 5,
    "start_time": "2025-03-24T08:53:45.740Z"
   },
   {
    "duration": 4,
    "start_time": "2025-03-24T08:53:46.188Z"
   },
   {
    "duration": 11,
    "start_time": "2025-03-24T08:53:46.672Z"
   },
   {
    "duration": 155,
    "start_time": "2025-03-24T08:56:36.091Z"
   },
   {
    "duration": 160,
    "start_time": "2025-03-24T08:57:28.784Z"
   },
   {
    "duration": 11,
    "start_time": "2025-03-24T08:59:24.584Z"
   },
   {
    "duration": 178,
    "start_time": "2025-03-24T08:59:45.731Z"
   },
   {
    "duration": 1562,
    "start_time": "2025-03-24T10:49:45.500Z"
   },
   {
    "duration": 378,
    "start_time": "2025-03-24T10:50:36.599Z"
   },
   {
    "duration": 1539,
    "start_time": "2025-03-24T10:50:50.251Z"
   },
   {
    "duration": 5,
    "start_time": "2025-03-24T11:15:17.394Z"
   },
   {
    "duration": 679,
    "start_time": "2025-03-24T11:15:22.252Z"
   },
   {
    "duration": 55,
    "start_time": "2025-03-24T11:15:22.933Z"
   },
   {
    "duration": 57,
    "start_time": "2025-03-24T11:15:22.989Z"
   },
   {
    "duration": 31,
    "start_time": "2025-03-24T11:15:23.048Z"
   },
   {
    "duration": 11,
    "start_time": "2025-03-24T11:15:23.082Z"
   },
   {
    "duration": 64,
    "start_time": "2025-03-24T11:15:23.095Z"
   },
   {
    "duration": 12,
    "start_time": "2025-03-24T11:15:23.160Z"
   },
   {
    "duration": 8,
    "start_time": "2025-03-24T11:15:23.174Z"
   },
   {
    "duration": 19,
    "start_time": "2025-03-24T11:15:23.183Z"
   },
   {
    "duration": 24,
    "start_time": "2025-03-24T11:15:23.203Z"
   },
   {
    "duration": 19,
    "start_time": "2025-03-24T11:15:23.228Z"
   },
   {
    "duration": 16,
    "start_time": "2025-03-24T11:15:23.249Z"
   },
   {
    "duration": 11,
    "start_time": "2025-03-24T11:15:23.266Z"
   },
   {
    "duration": 5,
    "start_time": "2025-03-24T11:15:23.280Z"
   },
   {
    "duration": 6,
    "start_time": "2025-03-24T11:15:23.286Z"
   },
   {
    "duration": 25,
    "start_time": "2025-03-24T11:15:23.294Z"
   },
   {
    "duration": 10,
    "start_time": "2025-03-24T11:15:23.320Z"
   },
   {
    "duration": 4,
    "start_time": "2025-03-24T11:15:23.332Z"
   },
   {
    "duration": 26,
    "start_time": "2025-03-24T11:15:23.337Z"
   },
   {
    "duration": 5,
    "start_time": "2025-03-24T11:15:23.364Z"
   },
   {
    "duration": 4,
    "start_time": "2025-03-24T11:15:23.371Z"
   },
   {
    "duration": 8,
    "start_time": "2025-03-24T11:15:23.376Z"
   },
   {
    "duration": 278,
    "start_time": "2025-03-24T11:15:23.386Z"
   },
   {
    "duration": 7,
    "start_time": "2025-03-24T11:15:23.666Z"
   },
   {
    "duration": 217,
    "start_time": "2025-03-24T11:15:23.674Z"
   },
   {
    "duration": 8,
    "start_time": "2025-03-24T11:15:23.893Z"
   },
   {
    "duration": 307,
    "start_time": "2025-03-24T11:15:23.902Z"
   },
   {
    "duration": 8,
    "start_time": "2025-03-24T11:15:24.262Z"
   },
   {
    "duration": 334,
    "start_time": "2025-03-24T11:15:24.272Z"
   },
   {
    "duration": 10,
    "start_time": "2025-03-24T11:15:24.661Z"
   },
   {
    "duration": 399,
    "start_time": "2025-03-24T11:15:24.672Z"
   },
   {
    "duration": 10,
    "start_time": "2025-03-24T11:15:25.072Z"
   },
   {
    "duration": 10,
    "start_time": "2025-03-24T11:15:25.083Z"
   },
   {
    "duration": 11,
    "start_time": "2025-03-24T11:15:25.095Z"
   },
   {
    "duration": 14,
    "start_time": "2025-03-24T11:15:25.107Z"
   },
   {
    "duration": 12,
    "start_time": "2025-03-24T11:15:25.123Z"
   },
   {
    "duration": 28,
    "start_time": "2025-03-24T11:15:25.136Z"
   },
   {
    "duration": 8,
    "start_time": "2025-03-24T11:15:25.165Z"
   },
   {
    "duration": 161,
    "start_time": "2025-03-24T11:15:25.175Z"
   },
   {
    "duration": 8,
    "start_time": "2025-03-24T11:15:25.337Z"
   },
   {
    "duration": 139,
    "start_time": "2025-03-24T11:15:25.362Z"
   },
   {
    "duration": 8,
    "start_time": "2025-03-24T11:15:25.503Z"
   },
   {
    "duration": 218,
    "start_time": "2025-03-24T11:15:25.512Z"
   },
   {
    "duration": 9,
    "start_time": "2025-03-24T11:15:25.732Z"
   },
   {
    "duration": 210,
    "start_time": "2025-03-24T11:15:25.743Z"
   },
   {
    "duration": 13,
    "start_time": "2025-03-24T11:15:25.961Z"
   },
   {
    "duration": 72,
    "start_time": "2025-03-24T11:15:25.975Z"
   },
   {
    "duration": 138,
    "start_time": "2025-03-24T11:15:26.049Z"
   },
   {
    "duration": 5,
    "start_time": "2025-03-24T11:15:26.189Z"
   },
   {
    "duration": 25,
    "start_time": "2025-03-24T11:15:26.196Z"
   },
   {
    "duration": 5,
    "start_time": "2025-03-24T11:15:26.261Z"
   },
   {
    "duration": 23,
    "start_time": "2025-03-24T11:15:26.268Z"
   },
   {
    "duration": 74,
    "start_time": "2025-03-24T11:15:26.293Z"
   },
   {
    "duration": 18,
    "start_time": "2025-03-24T11:15:26.368Z"
   },
   {
    "duration": 4,
    "start_time": "2025-03-24T11:15:26.388Z"
   },
   {
    "duration": 15,
    "start_time": "2025-03-24T11:15:26.394Z"
   },
   {
    "duration": 61,
    "start_time": "2025-03-24T11:15:26.411Z"
   },
   {
    "duration": 23,
    "start_time": "2025-03-24T11:15:26.473Z"
   },
   {
    "duration": 25,
    "start_time": "2025-03-24T11:15:26.497Z"
   },
   {
    "duration": 20,
    "start_time": "2025-03-24T11:15:26.563Z"
   },
   {
    "duration": 18,
    "start_time": "2025-03-24T11:15:26.585Z"
   },
   {
    "duration": 22,
    "start_time": "2025-03-24T11:15:26.604Z"
   },
   {
    "duration": 34,
    "start_time": "2025-03-24T11:15:26.628Z"
   },
   {
    "duration": 22,
    "start_time": "2025-03-24T11:15:26.664Z"
   },
   {
    "duration": 10,
    "start_time": "2025-03-24T11:15:26.688Z"
   },
   {
    "duration": 72,
    "start_time": "2025-03-24T11:15:26.700Z"
   },
   {
    "duration": 330,
    "start_time": "2025-03-24T11:15:26.773Z"
   },
   {
    "duration": 258,
    "start_time": "2025-03-24T11:15:27.104Z"
   },
   {
    "duration": 22,
    "start_time": "2025-03-24T11:15:27.363Z"
   },
   {
    "duration": 10,
    "start_time": "2025-03-24T11:15:27.387Z"
   },
   {
    "duration": 12,
    "start_time": "2025-03-24T11:15:27.400Z"
   },
   {
    "duration": 211,
    "start_time": "2025-03-24T11:15:27.414Z"
   },
   {
    "duration": 4,
    "start_time": "2025-03-24T11:15:45.629Z"
   },
   {
    "duration": 15,
    "start_time": "2025-03-24T11:15:46.007Z"
   },
   {
    "duration": 12,
    "start_time": "2025-03-24T11:34:49.110Z"
   },
   {
    "duration": 12,
    "start_time": "2025-03-24T11:44:18.825Z"
   },
   {
    "duration": 675,
    "start_time": "2025-03-24T11:44:49.212Z"
   },
   {
    "duration": 48,
    "start_time": "2025-03-24T11:44:49.889Z"
   },
   {
    "duration": 56,
    "start_time": "2025-03-24T11:44:49.939Z"
   },
   {
    "duration": 36,
    "start_time": "2025-03-24T11:44:49.997Z"
   },
   {
    "duration": 12,
    "start_time": "2025-03-24T11:44:50.035Z"
   },
   {
    "duration": 56,
    "start_time": "2025-03-24T11:44:50.049Z"
   },
   {
    "duration": 34,
    "start_time": "2025-03-24T11:44:50.107Z"
   },
   {
    "duration": 8,
    "start_time": "2025-03-24T11:44:50.143Z"
   },
   {
    "duration": 9,
    "start_time": "2025-03-24T11:44:50.153Z"
   },
   {
    "duration": 45,
    "start_time": "2025-03-24T11:44:50.164Z"
   },
   {
    "duration": 86,
    "start_time": "2025-03-24T11:44:50.211Z"
   },
   {
    "duration": 8,
    "start_time": "2025-03-24T11:44:50.299Z"
   },
   {
    "duration": 27,
    "start_time": "2025-03-24T11:44:50.308Z"
   },
   {
    "duration": 5,
    "start_time": "2025-03-24T11:44:50.338Z"
   },
   {
    "duration": 18,
    "start_time": "2025-03-24T11:44:50.344Z"
   },
   {
    "duration": 15,
    "start_time": "2025-03-24T11:44:50.364Z"
   },
   {
    "duration": 8,
    "start_time": "2025-03-24T11:44:50.381Z"
   },
   {
    "duration": 11,
    "start_time": "2025-03-24T11:44:50.391Z"
   },
   {
    "duration": 7,
    "start_time": "2025-03-24T11:44:50.404Z"
   },
   {
    "duration": 11,
    "start_time": "2025-03-24T11:44:50.413Z"
   },
   {
    "duration": 17,
    "start_time": "2025-03-24T11:44:50.425Z"
   },
   {
    "duration": 16,
    "start_time": "2025-03-24T11:44:50.444Z"
   },
   {
    "duration": 163,
    "start_time": "2025-03-24T11:44:50.462Z"
   },
   {
    "duration": 6,
    "start_time": "2025-03-24T11:44:50.627Z"
   },
   {
    "duration": 138,
    "start_time": "2025-03-24T11:44:50.634Z"
   },
   {
    "duration": 8,
    "start_time": "2025-03-24T11:44:50.774Z"
   },
   {
    "duration": 248,
    "start_time": "2025-03-24T11:44:50.783Z"
   },
   {
    "duration": 9,
    "start_time": "2025-03-24T11:44:51.032Z"
   },
   {
    "duration": 171,
    "start_time": "2025-03-24T11:44:51.042Z"
   },
   {
    "duration": 9,
    "start_time": "2025-03-24T11:44:51.214Z"
   },
   {
    "duration": 240,
    "start_time": "2025-03-24T11:44:51.224Z"
   },
   {
    "duration": 9,
    "start_time": "2025-03-24T11:44:51.466Z"
   },
   {
    "duration": 12,
    "start_time": "2025-03-24T11:44:51.476Z"
   },
   {
    "duration": 19,
    "start_time": "2025-03-24T11:44:51.489Z"
   },
   {
    "duration": 39,
    "start_time": "2025-03-24T11:44:51.509Z"
   },
   {
    "duration": 16,
    "start_time": "2025-03-24T11:44:51.549Z"
   },
   {
    "duration": 37,
    "start_time": "2025-03-24T11:44:51.567Z"
   },
   {
    "duration": 20,
    "start_time": "2025-03-24T11:44:51.606Z"
   },
   {
    "duration": 160,
    "start_time": "2025-03-24T11:44:51.628Z"
   },
   {
    "duration": 8,
    "start_time": "2025-03-24T11:44:51.790Z"
   },
   {
    "duration": 235,
    "start_time": "2025-03-24T11:44:51.802Z"
   },
   {
    "duration": 10,
    "start_time": "2025-03-24T11:44:52.038Z"
   },
   {
    "duration": 260,
    "start_time": "2025-03-24T11:44:52.049Z"
   },
   {
    "duration": 8,
    "start_time": "2025-03-24T11:44:52.311Z"
   },
   {
    "duration": 177,
    "start_time": "2025-03-24T11:44:52.320Z"
   },
   {
    "duration": 11,
    "start_time": "2025-03-24T11:44:52.499Z"
   },
   {
    "duration": 38,
    "start_time": "2025-03-24T11:44:52.512Z"
   },
   {
    "duration": 55,
    "start_time": "2025-03-24T11:44:52.552Z"
   },
   {
    "duration": 8,
    "start_time": "2025-03-24T11:44:52.609Z"
   },
   {
    "duration": 28,
    "start_time": "2025-03-24T11:44:52.619Z"
   },
   {
    "duration": 39,
    "start_time": "2025-03-24T11:44:52.649Z"
   },
   {
    "duration": 38,
    "start_time": "2025-03-24T11:44:52.690Z"
   },
   {
    "duration": 24,
    "start_time": "2025-03-24T11:44:52.729Z"
   },
   {
    "duration": 25,
    "start_time": "2025-03-24T11:44:52.755Z"
   },
   {
    "duration": 45,
    "start_time": "2025-03-24T11:44:52.782Z"
   },
   {
    "duration": 20,
    "start_time": "2025-03-24T11:44:52.829Z"
   },
   {
    "duration": 30,
    "start_time": "2025-03-24T11:44:52.851Z"
   },
   {
    "duration": 31,
    "start_time": "2025-03-24T11:44:52.883Z"
   },
   {
    "duration": 27,
    "start_time": "2025-03-24T11:44:52.916Z"
   },
   {
    "duration": 18,
    "start_time": "2025-03-24T11:44:52.944Z"
   },
   {
    "duration": 76,
    "start_time": "2025-03-24T11:44:52.964Z"
   },
   {
    "duration": 40,
    "start_time": "2025-03-24T11:44:53.042Z"
   },
   {
    "duration": 53,
    "start_time": "2025-03-24T11:44:53.084Z"
   },
   {
    "duration": 40,
    "start_time": "2025-03-24T11:44:53.139Z"
   },
   {
    "duration": 31,
    "start_time": "2025-03-24T11:44:53.181Z"
   },
   {
    "duration": 42,
    "start_time": "2025-03-24T11:44:53.213Z"
   },
   {
    "duration": 200,
    "start_time": "2025-03-24T11:44:53.257Z"
   },
   {
    "duration": 159,
    "start_time": "2025-03-24T11:44:53.461Z"
   },
   {
    "duration": 23,
    "start_time": "2025-03-24T11:44:53.622Z"
   },
   {
    "duration": 29,
    "start_time": "2025-03-24T11:44:53.647Z"
   },
   {
    "duration": 42,
    "start_time": "2025-03-24T11:44:53.678Z"
   },
   {
    "duration": 188,
    "start_time": "2025-03-24T11:44:53.722Z"
   },
   {
    "duration": 13,
    "start_time": "2025-03-24T11:44:53.911Z"
   },
   {
    "duration": 616,
    "start_time": "2025-03-24T12:57:30.295Z"
   },
   {
    "duration": 87,
    "start_time": "2025-03-24T12:57:30.913Z"
   },
   {
    "duration": 66,
    "start_time": "2025-03-24T12:57:31.001Z"
   },
   {
    "duration": 40,
    "start_time": "2025-03-24T12:57:31.069Z"
   },
   {
    "duration": 11,
    "start_time": "2025-03-24T12:57:31.111Z"
   },
   {
    "duration": 54,
    "start_time": "2025-03-24T12:57:31.124Z"
   },
   {
    "duration": 18,
    "start_time": "2025-03-24T12:57:31.179Z"
   },
   {
    "duration": 21,
    "start_time": "2025-03-24T12:57:31.198Z"
   },
   {
    "duration": 18,
    "start_time": "2025-03-24T12:57:31.221Z"
   },
   {
    "duration": 41,
    "start_time": "2025-03-24T12:57:31.240Z"
   },
   {
    "duration": 10,
    "start_time": "2025-03-24T12:57:31.282Z"
   },
   {
    "duration": 17,
    "start_time": "2025-03-24T12:57:31.293Z"
   },
   {
    "duration": 7,
    "start_time": "2025-03-24T12:57:31.312Z"
   },
   {
    "duration": 9,
    "start_time": "2025-03-24T12:57:31.321Z"
   },
   {
    "duration": 9,
    "start_time": "2025-03-24T12:57:31.331Z"
   },
   {
    "duration": 9,
    "start_time": "2025-03-24T12:57:31.341Z"
   },
   {
    "duration": 31,
    "start_time": "2025-03-24T12:57:31.351Z"
   },
   {
    "duration": 10,
    "start_time": "2025-03-24T12:57:31.383Z"
   },
   {
    "duration": 8,
    "start_time": "2025-03-24T12:57:31.394Z"
   },
   {
    "duration": 9,
    "start_time": "2025-03-24T12:57:31.403Z"
   },
   {
    "duration": 11,
    "start_time": "2025-03-24T12:57:31.413Z"
   },
   {
    "duration": 8,
    "start_time": "2025-03-24T12:57:31.425Z"
   },
   {
    "duration": 152,
    "start_time": "2025-03-24T12:57:31.434Z"
   },
   {
    "duration": 5,
    "start_time": "2025-03-24T12:57:31.588Z"
   },
   {
    "duration": 108,
    "start_time": "2025-03-24T12:57:31.594Z"
   },
   {
    "duration": 8,
    "start_time": "2025-03-24T12:57:31.703Z"
   },
   {
    "duration": 179,
    "start_time": "2025-03-24T12:57:31.712Z"
   },
   {
    "duration": 9,
    "start_time": "2025-03-24T12:57:31.892Z"
   },
   {
    "duration": 170,
    "start_time": "2025-03-24T12:57:31.902Z"
   },
   {
    "duration": 8,
    "start_time": "2025-03-24T12:57:32.074Z"
   },
   {
    "duration": 245,
    "start_time": "2025-03-24T12:57:32.083Z"
   },
   {
    "duration": 11,
    "start_time": "2025-03-24T12:57:32.329Z"
   },
   {
    "duration": 10,
    "start_time": "2025-03-24T12:57:32.341Z"
   },
   {
    "duration": 14,
    "start_time": "2025-03-24T12:57:32.367Z"
   },
   {
    "duration": 27,
    "start_time": "2025-03-24T12:57:32.383Z"
   },
   {
    "duration": 47,
    "start_time": "2025-03-24T12:57:32.411Z"
   },
   {
    "duration": 20,
    "start_time": "2025-03-24T12:57:32.460Z"
   },
   {
    "duration": 8,
    "start_time": "2025-03-24T12:57:32.481Z"
   },
   {
    "duration": 143,
    "start_time": "2025-03-24T12:57:32.490Z"
   },
   {
    "duration": 8,
    "start_time": "2025-03-24T12:57:32.634Z"
   },
   {
    "duration": 170,
    "start_time": "2025-03-24T12:57:32.646Z"
   },
   {
    "duration": 8,
    "start_time": "2025-03-24T12:57:32.817Z"
   },
   {
    "duration": 177,
    "start_time": "2025-03-24T12:57:32.826Z"
   },
   {
    "duration": 8,
    "start_time": "2025-03-24T12:57:33.004Z"
   },
   {
    "duration": 168,
    "start_time": "2025-03-24T12:57:33.013Z"
   },
   {
    "duration": 12,
    "start_time": "2025-03-24T12:57:33.183Z"
   },
   {
    "duration": 22,
    "start_time": "2025-03-24T12:57:33.196Z"
   },
   {
    "duration": 36,
    "start_time": "2025-03-24T12:57:33.220Z"
   },
   {
    "duration": 15,
    "start_time": "2025-03-24T12:57:33.258Z"
   },
   {
    "duration": 3,
    "start_time": "2025-03-24T12:57:33.274Z"
   },
   {
    "duration": 32,
    "start_time": "2025-03-24T12:57:33.279Z"
   },
   {
    "duration": 29,
    "start_time": "2025-03-24T12:57:33.312Z"
   },
   {
    "duration": 34,
    "start_time": "2025-03-24T12:57:33.343Z"
   },
   {
    "duration": 7,
    "start_time": "2025-03-24T12:57:33.379Z"
   },
   {
    "duration": 5,
    "start_time": "2025-03-24T12:57:33.387Z"
   },
   {
    "duration": 43,
    "start_time": "2025-03-24T12:57:33.393Z"
   },
   {
    "duration": 28,
    "start_time": "2025-03-24T12:57:33.437Z"
   },
   {
    "duration": 17,
    "start_time": "2025-03-24T12:57:33.467Z"
   },
   {
    "duration": 7,
    "start_time": "2025-03-24T12:57:33.486Z"
   },
   {
    "duration": 10,
    "start_time": "2025-03-24T12:57:33.495Z"
   },
   {
    "duration": 5,
    "start_time": "2025-03-24T12:57:33.507Z"
   },
   {
    "duration": 44,
    "start_time": "2025-03-24T12:57:33.513Z"
   },
   {
    "duration": 17,
    "start_time": "2025-03-24T12:57:33.558Z"
   },
   {
    "duration": 6,
    "start_time": "2025-03-24T12:57:33.577Z"
   },
   {
    "duration": 6,
    "start_time": "2025-03-24T12:57:33.584Z"
   },
   {
    "duration": 14,
    "start_time": "2025-03-24T12:57:33.591Z"
   },
   {
    "duration": 151,
    "start_time": "2025-03-24T12:57:33.606Z"
   },
   {
    "duration": 147,
    "start_time": "2025-03-24T12:57:33.758Z"
   },
   {
    "duration": 22,
    "start_time": "2025-03-24T12:57:33.907Z"
   },
   {
    "duration": 11,
    "start_time": "2025-03-24T12:57:33.931Z"
   },
   {
    "duration": 28,
    "start_time": "2025-03-24T12:57:33.944Z"
   },
   {
    "duration": 154,
    "start_time": "2025-03-24T12:57:33.973Z"
   },
   {
    "duration": 13,
    "start_time": "2025-03-24T12:57:34.129Z"
   },
   {
    "duration": 9,
    "start_time": "2025-03-24T13:15:50.688Z"
   },
   {
    "duration": 5,
    "start_time": "2025-03-24T13:30:32.399Z"
   },
   {
    "duration": 807,
    "start_time": "2025-03-24T16:57:27.887Z"
   },
   {
    "duration": 46,
    "start_time": "2025-03-24T16:57:28.696Z"
   },
   {
    "duration": 131,
    "start_time": "2025-03-24T16:57:28.744Z"
   },
   {
    "duration": 56,
    "start_time": "2025-03-24T16:57:28.877Z"
   },
   {
    "duration": 28,
    "start_time": "2025-03-24T16:57:28.935Z"
   },
   {
    "duration": 12,
    "start_time": "2025-03-24T16:57:28.964Z"
   },
   {
    "duration": 11,
    "start_time": "2025-03-24T16:57:28.978Z"
   },
   {
    "duration": 8,
    "start_time": "2025-03-24T16:57:28.991Z"
   },
   {
    "duration": 10,
    "start_time": "2025-03-24T16:57:29.001Z"
   },
   {
    "duration": 7,
    "start_time": "2025-03-24T16:57:29.012Z"
   },
   {
    "duration": 41,
    "start_time": "2025-03-24T16:57:29.020Z"
   },
   {
    "duration": 8,
    "start_time": "2025-03-24T16:57:29.062Z"
   },
   {
    "duration": 8,
    "start_time": "2025-03-24T16:57:29.071Z"
   },
   {
    "duration": 2,
    "start_time": "2025-03-24T16:57:29.082Z"
   },
   {
    "duration": 6,
    "start_time": "2025-03-24T16:57:29.085Z"
   },
   {
    "duration": 5,
    "start_time": "2025-03-24T16:57:29.092Z"
   },
   {
    "duration": 9,
    "start_time": "2025-03-24T16:57:29.098Z"
   },
   {
    "duration": 5,
    "start_time": "2025-03-24T16:57:29.109Z"
   },
   {
    "duration": 44,
    "start_time": "2025-03-24T16:57:29.116Z"
   },
   {
    "duration": 8,
    "start_time": "2025-03-24T16:57:29.162Z"
   },
   {
    "duration": 9,
    "start_time": "2025-03-24T16:57:29.171Z"
   },
   {
    "duration": 6,
    "start_time": "2025-03-24T16:57:29.181Z"
   },
   {
    "duration": 6,
    "start_time": "2025-03-24T16:57:29.188Z"
   },
   {
    "duration": 7,
    "start_time": "2025-03-24T16:57:29.195Z"
   },
   {
    "duration": 200,
    "start_time": "2025-03-24T16:57:29.203Z"
   },
   {
    "duration": 6,
    "start_time": "2025-03-24T16:57:29.404Z"
   },
   {
    "duration": 113,
    "start_time": "2025-03-24T16:57:29.411Z"
   },
   {
    "duration": 8,
    "start_time": "2025-03-24T16:57:29.526Z"
   },
   {
    "duration": 163,
    "start_time": "2025-03-24T16:57:29.535Z"
   },
   {
    "duration": 9,
    "start_time": "2025-03-24T16:57:29.699Z"
   },
   {
    "duration": 237,
    "start_time": "2025-03-24T16:57:29.709Z"
   },
   {
    "duration": 16,
    "start_time": "2025-03-24T16:57:29.948Z"
   },
   {
    "duration": 240,
    "start_time": "2025-03-24T16:57:29.966Z"
   },
   {
    "duration": 10,
    "start_time": "2025-03-24T16:57:30.208Z"
   },
   {
    "duration": 14,
    "start_time": "2025-03-24T16:57:30.220Z"
   },
   {
    "duration": 31,
    "start_time": "2025-03-24T16:57:30.235Z"
   },
   {
    "duration": 7,
    "start_time": "2025-03-24T16:57:30.267Z"
   },
   {
    "duration": 29,
    "start_time": "2025-03-24T16:57:30.275Z"
   },
   {
    "duration": 17,
    "start_time": "2025-03-24T16:57:30.306Z"
   },
   {
    "duration": 8,
    "start_time": "2025-03-24T16:57:30.325Z"
   },
   {
    "duration": 228,
    "start_time": "2025-03-24T16:57:30.338Z"
   },
   {
    "duration": 8,
    "start_time": "2025-03-24T16:57:30.567Z"
   },
   {
    "duration": 304,
    "start_time": "2025-03-24T16:57:30.577Z"
   },
   {
    "duration": 8,
    "start_time": "2025-03-24T16:57:30.882Z"
   },
   {
    "duration": 402,
    "start_time": "2025-03-24T16:57:30.891Z"
   },
   {
    "duration": 63,
    "start_time": "2025-03-24T16:57:31.295Z"
   },
   {
    "duration": 329,
    "start_time": "2025-03-24T16:57:31.359Z"
   },
   {
    "duration": 12,
    "start_time": "2025-03-24T16:57:31.690Z"
   },
   {
    "duration": 5,
    "start_time": "2025-03-24T16:57:31.758Z"
   },
   {
    "duration": 43,
    "start_time": "2025-03-24T16:57:31.764Z"
   },
   {
    "duration": 49,
    "start_time": "2025-03-24T16:57:31.809Z"
   },
   {
    "duration": 4,
    "start_time": "2025-03-24T16:57:31.860Z"
   },
   {
    "duration": 28,
    "start_time": "2025-03-24T16:57:31.865Z"
   },
   {
    "duration": 33,
    "start_time": "2025-03-24T16:57:31.894Z"
   },
   {
    "duration": 83,
    "start_time": "2025-03-24T16:57:31.929Z"
   },
   {
    "duration": 14,
    "start_time": "2025-03-24T16:57:32.014Z"
   },
   {
    "duration": 31,
    "start_time": "2025-03-24T16:57:32.029Z"
   },
   {
    "duration": 5,
    "start_time": "2025-03-24T16:57:32.062Z"
   },
   {
    "duration": 12,
    "start_time": "2025-03-24T16:57:32.069Z"
   },
   {
    "duration": 12,
    "start_time": "2025-03-24T16:57:32.083Z"
   },
   {
    "duration": 7,
    "start_time": "2025-03-24T16:57:32.097Z"
   },
   {
    "duration": 109,
    "start_time": "2025-03-24T16:57:32.105Z"
   },
   {
    "duration": 13,
    "start_time": "2025-03-24T16:57:32.215Z"
   },
   {
    "duration": 28,
    "start_time": "2025-03-24T16:57:32.230Z"
   },
   {
    "duration": 4,
    "start_time": "2025-03-24T16:57:32.259Z"
   },
   {
    "duration": 10,
    "start_time": "2025-03-24T16:57:32.265Z"
   },
   {
    "duration": 6,
    "start_time": "2025-03-24T16:57:32.277Z"
   },
   {
    "duration": 14,
    "start_time": "2025-03-24T16:57:32.285Z"
   },
   {
    "duration": 371,
    "start_time": "2025-03-24T16:57:32.300Z"
   },
   {
    "duration": 5,
    "start_time": "2025-03-24T16:57:32.672Z"
   },
   {
    "duration": 317,
    "start_time": "2025-03-24T16:57:32.679Z"
   },
   {
    "duration": 75,
    "start_time": "2025-03-24T16:57:32.998Z"
   },
   {
    "duration": 10,
    "start_time": "2025-03-24T16:57:33.075Z"
   },
   {
    "duration": 9,
    "start_time": "2025-03-24T16:57:33.087Z"
   },
   {
    "duration": 366,
    "start_time": "2025-03-24T16:57:33.097Z"
   },
   {
    "duration": 13,
    "start_time": "2025-03-24T16:57:33.464Z"
   },
   {
    "duration": 4,
    "start_time": "2025-03-24T17:03:15.131Z"
   },
   {
    "duration": 5,
    "start_time": "2025-03-24T17:03:32.062Z"
   },
   {
    "duration": 893,
    "start_time": "2025-03-24T17:03:42.681Z"
   },
   {
    "duration": 42,
    "start_time": "2025-03-24T17:03:43.576Z"
   },
   {
    "duration": 76,
    "start_time": "2025-03-24T17:03:43.620Z"
   },
   {
    "duration": 42,
    "start_time": "2025-03-24T17:03:43.698Z"
   },
   {
    "duration": 12,
    "start_time": "2025-03-24T17:03:43.742Z"
   },
   {
    "duration": 17,
    "start_time": "2025-03-24T17:03:43.756Z"
   },
   {
    "duration": 12,
    "start_time": "2025-03-24T17:03:43.774Z"
   },
   {
    "duration": 11,
    "start_time": "2025-03-24T17:03:43.788Z"
   },
   {
    "duration": 11,
    "start_time": "2025-03-24T17:03:43.801Z"
   },
   {
    "duration": 9,
    "start_time": "2025-03-24T17:03:43.815Z"
   },
   {
    "duration": 33,
    "start_time": "2025-03-24T17:03:43.825Z"
   },
   {
    "duration": 8,
    "start_time": "2025-03-24T17:03:43.860Z"
   },
   {
    "duration": 9,
    "start_time": "2025-03-24T17:03:43.870Z"
   },
   {
    "duration": 2,
    "start_time": "2025-03-24T17:03:43.880Z"
   },
   {
    "duration": 7,
    "start_time": "2025-03-24T17:03:43.884Z"
   },
   {
    "duration": 6,
    "start_time": "2025-03-24T17:03:43.893Z"
   },
   {
    "duration": 20,
    "start_time": "2025-03-24T17:03:43.900Z"
   },
   {
    "duration": 8,
    "start_time": "2025-03-24T17:03:43.922Z"
   },
   {
    "duration": 5,
    "start_time": "2025-03-24T17:03:43.959Z"
   },
   {
    "duration": 69,
    "start_time": "2025-03-24T17:03:43.966Z"
   },
   {
    "duration": 9,
    "start_time": "2025-03-24T17:03:44.036Z"
   },
   {
    "duration": 3,
    "start_time": "2025-03-24T17:03:44.047Z"
   },
   {
    "duration": 6,
    "start_time": "2025-03-24T17:03:44.051Z"
   },
   {
    "duration": 6,
    "start_time": "2025-03-24T17:03:44.058Z"
   },
   {
    "duration": 4,
    "start_time": "2025-03-24T17:03:44.066Z"
   },
   {
    "duration": 7,
    "start_time": "2025-03-24T17:03:44.071Z"
   },
   {
    "duration": 222,
    "start_time": "2025-03-24T17:03:44.079Z"
   },
   {
    "duration": 6,
    "start_time": "2025-03-24T17:03:44.358Z"
   },
   {
    "duration": 214,
    "start_time": "2025-03-24T17:03:44.365Z"
   },
   {
    "duration": 8,
    "start_time": "2025-03-24T17:03:44.581Z"
   },
   {
    "duration": 370,
    "start_time": "2025-03-24T17:03:44.590Z"
   },
   {
    "duration": 9,
    "start_time": "2025-03-24T17:03:44.961Z"
   },
   {
    "duration": 408,
    "start_time": "2025-03-24T17:03:44.971Z"
   },
   {
    "duration": 9,
    "start_time": "2025-03-24T17:03:45.381Z"
   },
   {
    "duration": 376,
    "start_time": "2025-03-24T17:03:45.392Z"
   },
   {
    "duration": 12,
    "start_time": "2025-03-24T17:03:45.770Z"
   },
   {
    "duration": 10,
    "start_time": "2025-03-24T17:03:45.783Z"
   },
   {
    "duration": 13,
    "start_time": "2025-03-24T17:03:45.795Z"
   },
   {
    "duration": 6,
    "start_time": "2025-03-24T17:03:45.809Z"
   },
   {
    "duration": 9,
    "start_time": "2025-03-24T17:03:45.816Z"
   },
   {
    "duration": 6,
    "start_time": "2025-03-24T17:03:45.857Z"
   },
   {
    "duration": 8,
    "start_time": "2025-03-24T17:03:45.864Z"
   },
   {
    "duration": 168,
    "start_time": "2025-03-24T17:03:45.874Z"
   },
   {
    "duration": 14,
    "start_time": "2025-03-24T17:03:46.044Z"
   },
   {
    "duration": 144,
    "start_time": "2025-03-24T17:03:46.060Z"
   },
   {
    "duration": 9,
    "start_time": "2025-03-24T17:03:46.206Z"
   },
   {
    "duration": 211,
    "start_time": "2025-03-24T17:03:46.216Z"
   },
   {
    "duration": 8,
    "start_time": "2025-03-24T17:03:46.429Z"
   },
   {
    "duration": 179,
    "start_time": "2025-03-24T17:03:46.438Z"
   },
   {
    "duration": 12,
    "start_time": "2025-03-24T17:03:46.618Z"
   },
   {
    "duration": 3,
    "start_time": "2025-03-24T17:03:46.632Z"
   },
   {
    "duration": 45,
    "start_time": "2025-03-24T17:03:46.636Z"
   },
   {
    "duration": 6,
    "start_time": "2025-03-24T17:03:46.682Z"
   },
   {
    "duration": 3,
    "start_time": "2025-03-24T17:03:46.689Z"
   },
   {
    "duration": 4,
    "start_time": "2025-03-24T17:03:46.694Z"
   },
   {
    "duration": 10,
    "start_time": "2025-03-24T17:03:46.700Z"
   },
   {
    "duration": 9,
    "start_time": "2025-03-24T17:03:46.712Z"
   },
   {
    "duration": 38,
    "start_time": "2025-03-24T17:03:46.722Z"
   },
   {
    "duration": 6,
    "start_time": "2025-03-24T17:03:46.761Z"
   },
   {
    "duration": 7,
    "start_time": "2025-03-24T17:03:46.769Z"
   },
   {
    "duration": 93,
    "start_time": "2025-03-24T17:03:46.777Z"
   },
   {
    "duration": 115,
    "start_time": "2025-03-24T17:03:46.872Z"
   },
   {
    "duration": 8,
    "start_time": "2025-03-24T17:03:46.989Z"
   },
   {
    "duration": 4,
    "start_time": "2025-03-24T17:03:46.999Z"
   },
   {
    "duration": 6,
    "start_time": "2025-03-24T17:03:47.005Z"
   },
   {
    "duration": 4,
    "start_time": "2025-03-24T17:03:47.013Z"
   },
   {
    "duration": 4,
    "start_time": "2025-03-24T17:03:47.018Z"
   },
   {
    "duration": 6,
    "start_time": "2025-03-24T17:03:47.023Z"
   },
   {
    "duration": 4,
    "start_time": "2025-03-24T17:03:47.030Z"
   },
   {
    "duration": 30,
    "start_time": "2025-03-24T17:03:47.036Z"
   },
   {
    "duration": 174,
    "start_time": "2025-03-24T17:03:47.068Z"
   },
   {
    "duration": 5,
    "start_time": "2025-03-24T17:03:47.244Z"
   },
   {
    "duration": 160,
    "start_time": "2025-03-24T17:03:47.258Z"
   },
   {
    "duration": 22,
    "start_time": "2025-03-24T17:03:47.420Z"
   },
   {
    "duration": 19,
    "start_time": "2025-03-24T17:03:47.443Z"
   },
   {
    "duration": 8,
    "start_time": "2025-03-24T17:03:47.464Z"
   },
   {
    "duration": 173,
    "start_time": "2025-03-24T17:03:47.473Z"
   },
   {
    "duration": 16,
    "start_time": "2025-03-24T17:03:47.648Z"
   },
   {
    "duration": 110,
    "start_time": "2025-03-24T17:08:32.616Z"
   },
   {
    "duration": 104,
    "start_time": "2025-03-24T17:08:37.131Z"
   },
   {
    "duration": 113,
    "start_time": "2025-03-24T17:09:04.619Z"
   },
   {
    "duration": 640,
    "start_time": "2025-03-24T17:09:27.786Z"
   },
   {
    "duration": 38,
    "start_time": "2025-03-24T17:09:28.428Z"
   },
   {
    "duration": 87,
    "start_time": "2025-03-24T17:09:28.467Z"
   },
   {
    "duration": 34,
    "start_time": "2025-03-24T17:09:28.555Z"
   },
   {
    "duration": 22,
    "start_time": "2025-03-24T17:09:28.591Z"
   },
   {
    "duration": 11,
    "start_time": "2025-03-24T17:09:28.615Z"
   },
   {
    "duration": 11,
    "start_time": "2025-03-24T17:09:28.628Z"
   },
   {
    "duration": 8,
    "start_time": "2025-03-24T17:09:28.641Z"
   },
   {
    "duration": 16,
    "start_time": "2025-03-24T17:09:28.650Z"
   },
   {
    "duration": 6,
    "start_time": "2025-03-24T17:09:28.668Z"
   },
   {
    "duration": 10,
    "start_time": "2025-03-24T17:09:28.676Z"
   },
   {
    "duration": 8,
    "start_time": "2025-03-24T17:09:28.688Z"
   },
   {
    "duration": 7,
    "start_time": "2025-03-24T17:09:28.698Z"
   },
   {
    "duration": 2,
    "start_time": "2025-03-24T17:09:28.708Z"
   },
   {
    "duration": 47,
    "start_time": "2025-03-24T17:09:28.711Z"
   },
   {
    "duration": 5,
    "start_time": "2025-03-24T17:09:28.760Z"
   },
   {
    "duration": 10,
    "start_time": "2025-03-24T17:09:28.766Z"
   },
   {
    "duration": 6,
    "start_time": "2025-03-24T17:09:28.777Z"
   },
   {
    "duration": 5,
    "start_time": "2025-03-24T17:09:28.784Z"
   },
   {
    "duration": 8,
    "start_time": "2025-03-24T17:09:28.791Z"
   },
   {
    "duration": 8,
    "start_time": "2025-03-24T17:09:28.801Z"
   },
   {
    "duration": 3,
    "start_time": "2025-03-24T17:09:28.811Z"
   },
   {
    "duration": 37,
    "start_time": "2025-03-24T17:09:28.858Z"
   },
   {
    "duration": 218,
    "start_time": "2025-03-24T17:09:28.896Z"
   },
   {
    "duration": 6,
    "start_time": "2025-03-24T17:09:29.116Z"
   },
   {
    "duration": 5,
    "start_time": "2025-03-24T17:09:29.123Z"
   },
   {
    "duration": 6,
    "start_time": "2025-03-24T17:09:29.129Z"
   },
   {
    "duration": 172,
    "start_time": "2025-03-24T17:09:29.137Z"
   },
   {
    "duration": 5,
    "start_time": "2025-03-24T17:09:29.311Z"
   },
   {
    "duration": 173,
    "start_time": "2025-03-24T17:09:29.318Z"
   },
   {
    "duration": 9,
    "start_time": "2025-03-24T17:09:29.492Z"
   },
   {
    "duration": 164,
    "start_time": "2025-03-24T17:09:29.503Z"
   },
   {
    "duration": 9,
    "start_time": "2025-03-24T17:09:29.668Z"
   },
   {
    "duration": 229,
    "start_time": "2025-03-24T17:09:29.678Z"
   },
   {
    "duration": 8,
    "start_time": "2025-03-24T17:09:29.909Z"
   },
   {
    "duration": 341,
    "start_time": "2025-03-24T17:09:29.919Z"
   },
   {
    "duration": 9,
    "start_time": "2025-03-24T17:09:30.262Z"
   },
   {
    "duration": 97,
    "start_time": "2025-03-24T17:09:30.273Z"
   },
   {
    "duration": 12,
    "start_time": "2025-03-24T17:09:30.371Z"
   },
   {
    "duration": 11,
    "start_time": "2025-03-24T17:09:30.385Z"
   },
   {
    "duration": 86,
    "start_time": "2025-03-24T17:09:30.400Z"
   },
   {
    "duration": 22,
    "start_time": "2025-03-24T17:09:30.487Z"
   },
   {
    "duration": 15,
    "start_time": "2025-03-24T17:09:30.511Z"
   },
   {
    "duration": 342,
    "start_time": "2025-03-24T17:09:30.527Z"
   },
   {
    "duration": 8,
    "start_time": "2025-03-24T17:09:30.871Z"
   },
   {
    "duration": 345,
    "start_time": "2025-03-24T17:09:30.880Z"
   },
   {
    "duration": 33,
    "start_time": "2025-03-24T17:09:31.226Z"
   },
   {
    "duration": 180,
    "start_time": "2025-03-24T17:09:31.261Z"
   },
   {
    "duration": 16,
    "start_time": "2025-03-24T17:09:31.442Z"
   },
   {
    "duration": 183,
    "start_time": "2025-03-24T17:09:31.459Z"
   },
   {
    "duration": 25,
    "start_time": "2025-03-24T17:09:31.644Z"
   },
   {
    "duration": 4,
    "start_time": "2025-03-24T17:09:31.671Z"
   },
   {
    "duration": 24,
    "start_time": "2025-03-24T17:09:31.676Z"
   },
   {
    "duration": 5,
    "start_time": "2025-03-24T17:09:31.702Z"
   },
   {
    "duration": 3,
    "start_time": "2025-03-24T17:09:31.709Z"
   },
   {
    "duration": 4,
    "start_time": "2025-03-24T17:09:31.713Z"
   },
   {
    "duration": 40,
    "start_time": "2025-03-24T17:09:31.718Z"
   },
   {
    "duration": 8,
    "start_time": "2025-03-24T17:09:31.760Z"
   },
   {
    "duration": 10,
    "start_time": "2025-03-24T17:09:31.769Z"
   },
   {
    "duration": 10,
    "start_time": "2025-03-24T17:09:31.780Z"
   },
   {
    "duration": 7,
    "start_time": "2025-03-24T17:09:31.792Z"
   },
   {
    "duration": 12,
    "start_time": "2025-03-24T17:09:31.800Z"
   },
   {
    "duration": 22,
    "start_time": "2025-03-24T17:09:31.814Z"
   },
   {
    "duration": 25,
    "start_time": "2025-03-24T17:09:31.837Z"
   },
   {
    "duration": 4,
    "start_time": "2025-03-24T17:09:31.864Z"
   },
   {
    "duration": 7,
    "start_time": "2025-03-24T17:09:31.869Z"
   },
   {
    "duration": 13,
    "start_time": "2025-03-24T17:09:31.877Z"
   },
   {
    "duration": 12,
    "start_time": "2025-03-24T17:09:31.891Z"
   },
   {
    "duration": 6,
    "start_time": "2025-03-24T17:09:31.905Z"
   },
   {
    "duration": 10,
    "start_time": "2025-03-24T17:09:31.913Z"
   },
   {
    "duration": 13,
    "start_time": "2025-03-24T17:09:31.924Z"
   },
   {
    "duration": 180,
    "start_time": "2025-03-24T17:09:31.939Z"
   },
   {
    "duration": 4,
    "start_time": "2025-03-24T17:09:32.121Z"
   },
   {
    "duration": 168,
    "start_time": "2025-03-24T17:09:32.126Z"
   },
   {
    "duration": 22,
    "start_time": "2025-03-24T17:09:32.296Z"
   },
   {
    "duration": 10,
    "start_time": "2025-03-24T17:09:32.319Z"
   },
   {
    "duration": 8,
    "start_time": "2025-03-24T17:09:32.330Z"
   },
   {
    "duration": 167,
    "start_time": "2025-03-24T17:09:32.358Z"
   },
   {
    "duration": 12,
    "start_time": "2025-03-24T17:09:32.526Z"
   },
   {
    "duration": 9,
    "start_time": "2025-03-24T17:12:11.741Z"
   },
   {
    "duration": 160,
    "start_time": "2025-03-24T17:15:26.710Z"
   },
   {
    "duration": 161,
    "start_time": "2025-03-24T17:19:50.519Z"
   },
   {
    "duration": 241,
    "start_time": "2025-03-24T17:20:15.878Z"
   },
   {
    "duration": 171,
    "start_time": "2025-03-24T17:34:50.873Z"
   },
   {
    "duration": 171,
    "start_time": "2025-03-24T17:35:09.202Z"
   },
   {
    "duration": 164,
    "start_time": "2025-03-24T17:35:17.450Z"
   },
   {
    "duration": 167,
    "start_time": "2025-03-24T17:35:22.867Z"
   },
   {
    "duration": 160,
    "start_time": "2025-03-24T17:35:27.443Z"
   },
   {
    "duration": 171,
    "start_time": "2025-03-24T17:35:30.252Z"
   },
   {
    "duration": 171,
    "start_time": "2025-03-24T17:35:33.267Z"
   },
   {
    "duration": 165,
    "start_time": "2025-03-24T17:35:36.075Z"
   },
   {
    "duration": 170,
    "start_time": "2025-03-24T17:35:39.114Z"
   },
   {
    "duration": 124,
    "start_time": "2025-03-24T17:37:44.861Z"
   },
   {
    "duration": 204,
    "start_time": "2025-03-24T17:38:02.079Z"
   },
   {
    "duration": 124,
    "start_time": "2025-03-24T17:38:11.711Z"
   },
   {
    "duration": 8,
    "start_time": "2025-03-24T17:41:57.569Z"
   },
   {
    "duration": 71,
    "start_time": "2025-03-24T17:42:20.903Z"
   },
   {
    "duration": 6,
    "start_time": "2025-03-24T17:43:29.170Z"
   },
   {
    "duration": 88,
    "start_time": "2025-03-24T17:44:49.709Z"
   },
   {
    "duration": 87,
    "start_time": "2025-03-24T17:45:04.158Z"
   },
   {
    "duration": 17,
    "start_time": "2025-03-24T17:45:55.603Z"
   },
   {
    "duration": 9,
    "start_time": "2025-03-24T17:46:07.332Z"
   },
   {
    "duration": 12,
    "start_time": "2025-03-24T17:46:20.006Z"
   },
   {
    "duration": 9,
    "start_time": "2025-03-24T17:47:31.490Z"
   },
   {
    "duration": 9,
    "start_time": "2025-03-24T17:48:07.337Z"
   },
   {
    "duration": 7,
    "start_time": "2025-03-24T17:48:15.528Z"
   },
   {
    "duration": 8,
    "start_time": "2025-03-24T17:48:28.850Z"
   },
   {
    "duration": 6,
    "start_time": "2025-03-24T17:49:07.603Z"
   },
   {
    "duration": 6,
    "start_time": "2025-03-24T17:50:41.579Z"
   },
   {
    "duration": 5,
    "start_time": "2025-03-24T17:55:08.866Z"
   },
   {
    "duration": 5,
    "start_time": "2025-03-24T17:56:22.790Z"
   },
   {
    "duration": 7,
    "start_time": "2025-03-24T17:56:35.910Z"
   },
   {
    "duration": 6,
    "start_time": "2025-03-24T17:56:46.398Z"
   },
   {
    "duration": 4,
    "start_time": "2025-03-24T17:57:37.674Z"
   },
   {
    "duration": 7,
    "start_time": "2025-03-24T18:00:27.581Z"
   },
   {
    "duration": 4,
    "start_time": "2025-03-24T18:00:28.097Z"
   },
   {
    "duration": 176,
    "start_time": "2025-03-24T18:04:30.080Z"
   },
   {
    "duration": 192,
    "start_time": "2025-03-24T18:07:13.807Z"
   },
   {
    "duration": 627,
    "start_time": "2025-03-24T18:08:05.317Z"
   },
   {
    "duration": 46,
    "start_time": "2025-03-24T18:08:05.946Z"
   },
   {
    "duration": 87,
    "start_time": "2025-03-24T18:08:05.994Z"
   },
   {
    "duration": 30,
    "start_time": "2025-03-24T18:08:06.083Z"
   },
   {
    "duration": 55,
    "start_time": "2025-03-24T18:08:06.115Z"
   },
   {
    "duration": 32,
    "start_time": "2025-03-24T18:08:06.172Z"
   },
   {
    "duration": 19,
    "start_time": "2025-03-24T18:08:06.205Z"
   },
   {
    "duration": 13,
    "start_time": "2025-03-24T18:08:06.226Z"
   },
   {
    "duration": 14,
    "start_time": "2025-03-24T18:08:06.240Z"
   },
   {
    "duration": 9,
    "start_time": "2025-03-24T18:08:06.255Z"
   },
   {
    "duration": 12,
    "start_time": "2025-03-24T18:08:06.266Z"
   },
   {
    "duration": 8,
    "start_time": "2025-03-24T18:08:06.279Z"
   },
   {
    "duration": 22,
    "start_time": "2025-03-24T18:08:06.288Z"
   },
   {
    "duration": 4,
    "start_time": "2025-03-24T18:08:06.313Z"
   },
   {
    "duration": 8,
    "start_time": "2025-03-24T18:08:06.318Z"
   },
   {
    "duration": 5,
    "start_time": "2025-03-24T18:08:06.327Z"
   },
   {
    "duration": 30,
    "start_time": "2025-03-24T18:08:06.333Z"
   },
   {
    "duration": 73,
    "start_time": "2025-03-24T18:08:06.365Z"
   },
   {
    "duration": 9,
    "start_time": "2025-03-24T18:08:06.439Z"
   },
   {
    "duration": 19,
    "start_time": "2025-03-24T18:08:06.449Z"
   },
   {
    "duration": 9,
    "start_time": "2025-03-24T18:08:06.470Z"
   },
   {
    "duration": 4,
    "start_time": "2025-03-24T18:08:06.480Z"
   },
   {
    "duration": 27,
    "start_time": "2025-03-24T18:08:06.486Z"
   },
   {
    "duration": 9,
    "start_time": "2025-03-24T18:08:06.515Z"
   },
   {
    "duration": 118,
    "start_time": "2025-03-24T18:08:06.526Z"
   },
   {
    "duration": 15,
    "start_time": "2025-03-24T18:08:06.646Z"
   },
   {
    "duration": 113,
    "start_time": "2025-03-24T18:08:06.663Z"
   },
   {
    "duration": 10,
    "start_time": "2025-03-24T18:08:06.777Z"
   },
   {
    "duration": 171,
    "start_time": "2025-03-24T18:08:06.789Z"
   },
   {
    "duration": 6,
    "start_time": "2025-03-24T18:08:06.962Z"
   },
   {
    "duration": 5,
    "start_time": "2025-03-24T18:08:06.969Z"
   },
   {
    "duration": 6,
    "start_time": "2025-03-24T18:08:06.976Z"
   },
   {
    "duration": 5,
    "start_time": "2025-03-24T18:08:06.983Z"
   },
   {
    "duration": 176,
    "start_time": "2025-03-24T18:08:06.989Z"
   },
   {
    "duration": 8,
    "start_time": "2025-03-24T18:08:07.167Z"
   },
   {
    "duration": 183,
    "start_time": "2025-03-24T18:08:07.177Z"
   },
   {
    "duration": 9,
    "start_time": "2025-03-24T18:08:07.361Z"
   },
   {
    "duration": 259,
    "start_time": "2025-03-24T18:08:07.371Z"
   },
   {
    "duration": 9,
    "start_time": "2025-03-24T18:08:07.631Z"
   },
   {
    "duration": 183,
    "start_time": "2025-03-24T18:08:07.642Z"
   },
   {
    "duration": 9,
    "start_time": "2025-03-24T18:08:07.829Z"
   },
   {
    "duration": 19,
    "start_time": "2025-03-24T18:08:07.839Z"
   },
   {
    "duration": 13,
    "start_time": "2025-03-24T18:08:07.860Z"
   },
   {
    "duration": 8,
    "start_time": "2025-03-24T18:08:07.874Z"
   },
   {
    "duration": 17,
    "start_time": "2025-03-24T18:08:07.883Z"
   },
   {
    "duration": 6,
    "start_time": "2025-03-24T18:08:07.902Z"
   },
   {
    "duration": 9,
    "start_time": "2025-03-24T18:08:07.909Z"
   },
   {
    "duration": 175,
    "start_time": "2025-03-24T18:08:07.920Z"
   },
   {
    "duration": 8,
    "start_time": "2025-03-24T18:08:08.097Z"
   },
   {
    "duration": 181,
    "start_time": "2025-03-24T18:08:08.107Z"
   },
   {
    "duration": 9,
    "start_time": "2025-03-24T18:08:08.290Z"
   },
   {
    "duration": 170,
    "start_time": "2025-03-24T18:08:08.300Z"
   },
   {
    "duration": 8,
    "start_time": "2025-03-24T18:08:08.472Z"
   },
   {
    "duration": 163,
    "start_time": "2025-03-24T18:08:08.482Z"
   },
   {
    "duration": 20,
    "start_time": "2025-03-24T18:08:08.647Z"
   },
   {
    "duration": 92,
    "start_time": "2025-03-24T18:08:08.668Z"
   },
   {
    "duration": 25,
    "start_time": "2025-03-24T18:08:08.762Z"
   },
   {
    "duration": 6,
    "start_time": "2025-03-24T18:08:08.788Z"
   },
   {
    "duration": 25,
    "start_time": "2025-03-24T18:08:08.795Z"
   },
   {
    "duration": 4,
    "start_time": "2025-03-24T18:08:08.822Z"
   },
   {
    "duration": 10,
    "start_time": "2025-03-24T18:08:08.827Z"
   },
   {
    "duration": 12,
    "start_time": "2025-03-24T18:08:08.839Z"
   },
   {
    "duration": 8,
    "start_time": "2025-03-24T18:08:08.853Z"
   },
   {
    "duration": 5,
    "start_time": "2025-03-24T18:08:08.863Z"
   },
   {
    "duration": 11,
    "start_time": "2025-03-24T18:08:08.869Z"
   },
   {
    "duration": 12,
    "start_time": "2025-03-24T18:08:08.883Z"
   },
   {
    "duration": 13,
    "start_time": "2025-03-24T18:08:08.896Z"
   },
   {
    "duration": 8,
    "start_time": "2025-03-24T18:08:08.910Z"
   },
   {
    "duration": 3,
    "start_time": "2025-03-24T18:08:08.920Z"
   },
   {
    "duration": 34,
    "start_time": "2025-03-24T18:08:08.925Z"
   },
   {
    "duration": 4,
    "start_time": "2025-03-24T18:08:08.961Z"
   },
   {
    "duration": 5,
    "start_time": "2025-03-24T18:08:08.966Z"
   },
   {
    "duration": 4,
    "start_time": "2025-03-24T18:08:08.972Z"
   },
   {
    "duration": 10,
    "start_time": "2025-03-24T18:08:08.978Z"
   },
   {
    "duration": 71,
    "start_time": "2025-03-24T18:08:08.990Z"
   },
   {
    "duration": 267,
    "start_time": "2025-03-24T18:08:09.062Z"
   },
   {
    "duration": 4,
    "start_time": "2025-03-24T18:08:09.331Z"
   },
   {
    "duration": 168,
    "start_time": "2025-03-24T18:08:09.337Z"
   },
   {
    "duration": 22,
    "start_time": "2025-03-24T18:08:09.507Z"
   },
   {
    "duration": 11,
    "start_time": "2025-03-24T18:08:09.531Z"
   },
   {
    "duration": 20,
    "start_time": "2025-03-24T18:08:09.543Z"
   },
   {
    "duration": 176,
    "start_time": "2025-03-24T18:08:09.564Z"
   },
   {
    "duration": 17,
    "start_time": "2025-03-24T18:08:09.742Z"
   },
   {
    "duration": 197,
    "start_time": "2025-03-24T18:10:36.434Z"
   },
   {
    "duration": 13,
    "start_time": "2025-03-24T18:14:22.324Z"
   },
   {
    "duration": 12,
    "start_time": "2025-03-24T18:15:58.705Z"
   },
   {
    "duration": 13,
    "start_time": "2025-03-24T18:16:21.021Z"
   },
   {
    "duration": 5,
    "start_time": "2025-03-24T18:16:21.838Z"
   },
   {
    "duration": 12,
    "start_time": "2025-03-24T18:16:22.391Z"
   },
   {
    "duration": 703,
    "start_time": "2025-03-24T18:16:33.634Z"
   },
   {
    "duration": 42,
    "start_time": "2025-03-24T18:16:34.338Z"
   },
   {
    "duration": 60,
    "start_time": "2025-03-24T18:16:34.382Z"
   },
   {
    "duration": 34,
    "start_time": "2025-03-24T18:16:34.444Z"
   },
   {
    "duration": 12,
    "start_time": "2025-03-24T18:16:34.480Z"
   },
   {
    "duration": 15,
    "start_time": "2025-03-24T18:16:34.494Z"
   },
   {
    "duration": 11,
    "start_time": "2025-03-24T18:16:34.510Z"
   },
   {
    "duration": 8,
    "start_time": "2025-03-24T18:16:34.522Z"
   },
   {
    "duration": 16,
    "start_time": "2025-03-24T18:16:34.531Z"
   },
   {
    "duration": 11,
    "start_time": "2025-03-24T18:16:34.548Z"
   },
   {
    "duration": 22,
    "start_time": "2025-03-24T18:16:34.561Z"
   },
   {
    "duration": 8,
    "start_time": "2025-03-24T18:16:34.585Z"
   },
   {
    "duration": 23,
    "start_time": "2025-03-24T18:16:34.595Z"
   },
   {
    "duration": 2,
    "start_time": "2025-03-24T18:16:34.621Z"
   },
   {
    "duration": 10,
    "start_time": "2025-03-24T18:16:34.624Z"
   },
   {
    "duration": 81,
    "start_time": "2025-03-24T18:16:34.635Z"
   },
   {
    "duration": 89,
    "start_time": "2025-03-24T18:16:34.718Z"
   },
   {
    "duration": 6,
    "start_time": "2025-03-24T18:16:34.809Z"
   },
   {
    "duration": 5,
    "start_time": "2025-03-24T18:16:34.816Z"
   },
   {
    "duration": 18,
    "start_time": "2025-03-24T18:16:34.823Z"
   },
   {
    "duration": 8,
    "start_time": "2025-03-24T18:16:34.842Z"
   },
   {
    "duration": 3,
    "start_time": "2025-03-24T18:16:34.852Z"
   },
   {
    "duration": 5,
    "start_time": "2025-03-24T18:16:34.857Z"
   },
   {
    "duration": 19,
    "start_time": "2025-03-24T18:16:34.864Z"
   },
   {
    "duration": 118,
    "start_time": "2025-03-24T18:16:34.884Z"
   },
   {
    "duration": 6,
    "start_time": "2025-03-24T18:16:35.003Z"
   },
   {
    "duration": 6,
    "start_time": "2025-03-24T18:16:35.010Z"
   },
   {
    "duration": 80,
    "start_time": "2025-03-24T18:16:35.017Z"
   },
   {
    "duration": 275,
    "start_time": "2025-03-24T18:16:35.098Z"
   },
   {
    "duration": 8,
    "start_time": "2025-03-24T18:16:35.375Z"
   },
   {
    "duration": 5,
    "start_time": "2025-03-24T18:16:35.384Z"
   },
   {
    "duration": 44,
    "start_time": "2025-03-24T18:16:35.391Z"
   },
   {
    "duration": 11,
    "start_time": "2025-03-24T18:16:35.436Z"
   },
   {
    "duration": 124,
    "start_time": "2025-03-24T18:16:35.449Z"
   },
   {
    "duration": 8,
    "start_time": "2025-03-24T18:16:35.575Z"
   },
   {
    "duration": 187,
    "start_time": "2025-03-24T18:16:35.584Z"
   },
   {
    "duration": 9,
    "start_time": "2025-03-24T18:16:35.772Z"
   },
   {
    "duration": 254,
    "start_time": "2025-03-24T18:16:35.782Z"
   },
   {
    "duration": 9,
    "start_time": "2025-03-24T18:16:36.038Z"
   },
   {
    "duration": 202,
    "start_time": "2025-03-24T18:16:36.058Z"
   },
   {
    "duration": 10,
    "start_time": "2025-03-24T18:16:36.264Z"
   },
   {
    "duration": 9,
    "start_time": "2025-03-24T18:16:36.276Z"
   },
   {
    "duration": 11,
    "start_time": "2025-03-24T18:16:36.287Z"
   },
   {
    "duration": 15,
    "start_time": "2025-03-24T18:16:36.299Z"
   },
   {
    "duration": 14,
    "start_time": "2025-03-24T18:16:36.315Z"
   },
   {
    "duration": 32,
    "start_time": "2025-03-24T18:16:36.330Z"
   },
   {
    "duration": 13,
    "start_time": "2025-03-24T18:16:36.363Z"
   },
   {
    "duration": 107,
    "start_time": "2025-03-24T18:16:36.378Z"
   },
   {
    "duration": 17,
    "start_time": "2025-03-24T18:16:36.486Z"
   },
   {
    "duration": 9,
    "start_time": "2025-03-24T18:16:36.504Z"
   },
   {
    "duration": 151,
    "start_time": "2025-03-24T18:16:36.515Z"
   },
   {
    "duration": 9,
    "start_time": "2025-03-24T18:16:36.668Z"
   },
   {
    "duration": 250,
    "start_time": "2025-03-24T18:16:36.678Z"
   },
   {
    "duration": 9,
    "start_time": "2025-03-24T18:16:36.930Z"
   },
   {
    "duration": 235,
    "start_time": "2025-03-24T18:16:36.941Z"
   },
   {
    "duration": 7,
    "start_time": "2025-03-24T18:16:37.178Z"
   },
   {
    "duration": 318,
    "start_time": "2025-03-24T18:16:37.187Z"
   },
   {
    "duration": 12,
    "start_time": "2025-03-24T18:16:37.557Z"
   },
   {
    "duration": 8,
    "start_time": "2025-03-24T18:16:37.570Z"
   },
   {
    "duration": 21,
    "start_time": "2025-03-24T18:16:37.580Z"
   },
   {
    "duration": 56,
    "start_time": "2025-03-24T18:16:37.602Z"
   },
   {
    "duration": 3,
    "start_time": "2025-03-24T18:16:37.660Z"
   },
   {
    "duration": 7,
    "start_time": "2025-03-24T18:16:37.664Z"
   },
   {
    "duration": 10,
    "start_time": "2025-03-24T18:16:37.673Z"
   },
   {
    "duration": 8,
    "start_time": "2025-03-24T18:16:37.684Z"
   },
   {
    "duration": 6,
    "start_time": "2025-03-24T18:16:37.694Z"
   },
   {
    "duration": 59,
    "start_time": "2025-03-24T18:16:37.702Z"
   },
   {
    "duration": 5,
    "start_time": "2025-03-24T18:16:37.763Z"
   },
   {
    "duration": 12,
    "start_time": "2025-03-24T18:16:37.769Z"
   },
   {
    "duration": 14,
    "start_time": "2025-03-24T18:16:37.782Z"
   },
   {
    "duration": 61,
    "start_time": "2025-03-24T18:16:37.798Z"
   },
   {
    "duration": 3,
    "start_time": "2025-03-24T18:16:37.861Z"
   },
   {
    "duration": 5,
    "start_time": "2025-03-24T18:16:37.865Z"
   },
   {
    "duration": 3,
    "start_time": "2025-03-24T18:16:37.872Z"
   },
   {
    "duration": 6,
    "start_time": "2025-03-24T18:16:37.877Z"
   },
   {
    "duration": 6,
    "start_time": "2025-03-24T18:16:37.884Z"
   },
   {
    "duration": 11,
    "start_time": "2025-03-24T18:16:37.891Z"
   },
   {
    "duration": 63,
    "start_time": "2025-03-24T18:16:37.904Z"
   },
   {
    "duration": 318,
    "start_time": "2025-03-24T18:16:37.968Z"
   },
   {
    "duration": 6,
    "start_time": "2025-03-24T18:16:38.287Z"
   },
   {
    "duration": 385,
    "start_time": "2025-03-24T18:16:38.294Z"
   },
   {
    "duration": 77,
    "start_time": "2025-03-24T18:16:38.681Z"
   },
   {
    "duration": 34,
    "start_time": "2025-03-24T18:16:38.760Z"
   },
   {
    "duration": 8,
    "start_time": "2025-03-24T18:16:38.796Z"
   },
   {
    "duration": 371,
    "start_time": "2025-03-24T18:16:38.806Z"
   },
   {
    "duration": 13,
    "start_time": "2025-03-24T18:16:39.179Z"
   },
   {
    "duration": 191,
    "start_time": "2025-03-24T18:18:05.962Z"
   },
   {
    "duration": 3,
    "start_time": "2025-03-24T18:18:20.851Z"
   },
   {
    "duration": 281,
    "start_time": "2025-03-24T18:20:15.241Z"
   },
   {
    "duration": 205,
    "start_time": "2025-03-24T18:20:34.196Z"
   },
   {
    "duration": 235,
    "start_time": "2025-03-24T18:39:38.592Z"
   },
   {
    "duration": 241,
    "start_time": "2025-03-24T18:41:17.942Z"
   },
   {
    "duration": 249,
    "start_time": "2025-03-24T18:41:34.652Z"
   },
   {
    "duration": 253,
    "start_time": "2025-03-24T18:44:49.765Z"
   },
   {
    "duration": 210,
    "start_time": "2025-03-24T18:47:12.663Z"
   },
   {
    "duration": 266,
    "start_time": "2025-03-24T18:48:50.880Z"
   },
   {
    "duration": 162,
    "start_time": "2025-03-24T18:50:26.057Z"
   },
   {
    "duration": 173,
    "start_time": "2025-03-24T18:50:39.690Z"
   },
   {
    "duration": 209,
    "start_time": "2025-03-24T18:50:49.432Z"
   },
   {
    "duration": 258,
    "start_time": "2025-03-24T18:50:54.826Z"
   },
   {
    "duration": 255,
    "start_time": "2025-03-24T18:51:07.771Z"
   },
   {
    "duration": 310,
    "start_time": "2025-03-24T18:51:23.750Z"
   },
   {
    "duration": 2,
    "start_time": "2025-03-24T18:52:07.843Z"
   },
   {
    "duration": 3,
    "start_time": "2025-03-24T18:53:49.969Z"
   },
   {
    "duration": 3,
    "start_time": "2025-03-24T18:54:00.120Z"
   },
   {
    "duration": 1644,
    "start_time": "2025-03-24T18:55:25.987Z"
   },
   {
    "duration": 1895,
    "start_time": "2025-03-24T18:55:36.331Z"
   },
   {
    "duration": 372,
    "start_time": "2025-03-24T18:55:40.787Z"
   },
   {
    "duration": 717,
    "start_time": "2025-03-24T18:56:15.329Z"
   },
   {
    "duration": 49,
    "start_time": "2025-03-24T18:56:16.048Z"
   },
   {
    "duration": 66,
    "start_time": "2025-03-24T18:56:16.099Z"
   },
   {
    "duration": 41,
    "start_time": "2025-03-24T18:56:16.168Z"
   },
   {
    "duration": 11,
    "start_time": "2025-03-24T18:56:16.211Z"
   },
   {
    "duration": 53,
    "start_time": "2025-03-24T18:56:16.224Z"
   },
   {
    "duration": 11,
    "start_time": "2025-03-24T18:56:16.279Z"
   },
   {
    "duration": 8,
    "start_time": "2025-03-24T18:56:16.292Z"
   },
   {
    "duration": 15,
    "start_time": "2025-03-24T18:56:16.302Z"
   },
   {
    "duration": 7,
    "start_time": "2025-03-24T18:56:16.319Z"
   },
   {
    "duration": 11,
    "start_time": "2025-03-24T18:56:16.327Z"
   },
   {
    "duration": 25,
    "start_time": "2025-03-24T18:56:16.339Z"
   },
   {
    "duration": 10,
    "start_time": "2025-03-24T18:56:16.366Z"
   },
   {
    "duration": 3,
    "start_time": "2025-03-24T18:56:16.377Z"
   },
   {
    "duration": 7,
    "start_time": "2025-03-24T18:56:16.382Z"
   },
   {
    "duration": 5,
    "start_time": "2025-03-24T18:56:16.390Z"
   },
   {
    "duration": 9,
    "start_time": "2025-03-24T18:56:16.396Z"
   },
   {
    "duration": 8,
    "start_time": "2025-03-24T18:56:16.407Z"
   },
   {
    "duration": 41,
    "start_time": "2025-03-24T18:56:16.416Z"
   },
   {
    "duration": 9,
    "start_time": "2025-03-24T18:56:16.459Z"
   },
   {
    "duration": 10,
    "start_time": "2025-03-24T18:56:16.470Z"
   },
   {
    "duration": 4,
    "start_time": "2025-03-24T18:56:16.481Z"
   },
   {
    "duration": 6,
    "start_time": "2025-03-24T18:56:16.486Z"
   },
   {
    "duration": 90,
    "start_time": "2025-03-24T18:56:16.494Z"
   },
   {
    "duration": 119,
    "start_time": "2025-03-24T18:56:16.586Z"
   },
   {
    "duration": 6,
    "start_time": "2025-03-24T18:56:16.706Z"
   },
   {
    "duration": 4,
    "start_time": "2025-03-24T18:56:16.714Z"
   },
   {
    "duration": 7,
    "start_time": "2025-03-24T18:56:16.723Z"
   },
   {
    "duration": 187,
    "start_time": "2025-03-24T18:56:16.732Z"
   },
   {
    "duration": 6,
    "start_time": "2025-03-24T18:56:16.920Z"
   },
   {
    "duration": 6,
    "start_time": "2025-03-24T18:56:16.927Z"
   },
   {
    "duration": 28,
    "start_time": "2025-03-24T18:56:16.935Z"
   },
   {
    "duration": 4,
    "start_time": "2025-03-24T18:56:16.965Z"
   },
   {
    "duration": 140,
    "start_time": "2025-03-24T18:56:16.971Z"
   },
   {
    "duration": 8,
    "start_time": "2025-03-24T18:56:17.113Z"
   },
   {
    "duration": 185,
    "start_time": "2025-03-24T18:56:17.123Z"
   },
   {
    "duration": 10,
    "start_time": "2025-03-24T18:56:17.310Z"
   },
   {
    "duration": 260,
    "start_time": "2025-03-24T18:56:17.321Z"
   },
   {
    "duration": 12,
    "start_time": "2025-03-24T18:56:17.583Z"
   },
   {
    "duration": 274,
    "start_time": "2025-03-24T18:56:17.597Z"
   },
   {
    "duration": 11,
    "start_time": "2025-03-24T18:56:17.872Z"
   },
   {
    "duration": 10,
    "start_time": "2025-03-24T18:56:17.884Z"
   },
   {
    "duration": 12,
    "start_time": "2025-03-24T18:56:17.895Z"
   },
   {
    "duration": 8,
    "start_time": "2025-03-24T18:56:17.909Z"
   },
   {
    "duration": 40,
    "start_time": "2025-03-24T18:56:17.918Z"
   },
   {
    "duration": 9,
    "start_time": "2025-03-24T18:56:17.960Z"
   },
   {
    "duration": 12,
    "start_time": "2025-03-24T18:56:17.970Z"
   },
   {
    "duration": 7,
    "start_time": "2025-03-24T18:56:17.983Z"
   },
   {
    "duration": 14,
    "start_time": "2025-03-24T18:56:17.991Z"
   },
   {
    "duration": 22,
    "start_time": "2025-03-24T18:56:18.007Z"
   },
   {
    "duration": 2,
    "start_time": "2025-03-24T18:56:18.031Z"
   },
   {
    "duration": 10,
    "start_time": "2025-03-24T18:56:18.057Z"
   },
   {
    "duration": 290,
    "start_time": "2025-03-24T18:56:18.069Z"
   },
   {
    "duration": 2,
    "start_time": "2025-03-24T18:56:18.361Z"
   },
   {
    "duration": 9,
    "start_time": "2025-03-24T18:56:18.364Z"
   },
   {
    "duration": 2,
    "start_time": "2025-03-24T18:56:18.375Z"
   },
   {
    "duration": 10,
    "start_time": "2025-03-24T18:56:18.378Z"
   },
   {
    "duration": 3,
    "start_time": "2025-03-24T18:56:18.389Z"
   },
   {
    "duration": 1672,
    "start_time": "2025-03-24T18:56:18.393Z"
   },
   {
    "duration": 0,
    "start_time": "2025-03-24T18:56:20.068Z"
   },
   {
    "duration": 0,
    "start_time": "2025-03-24T18:56:20.069Z"
   },
   {
    "duration": 0,
    "start_time": "2025-03-24T18:56:20.070Z"
   },
   {
    "duration": 0,
    "start_time": "2025-03-24T18:56:20.072Z"
   },
   {
    "duration": 0,
    "start_time": "2025-03-24T18:56:20.073Z"
   },
   {
    "duration": 0,
    "start_time": "2025-03-24T18:56:20.075Z"
   },
   {
    "duration": 0,
    "start_time": "2025-03-24T18:56:20.076Z"
   },
   {
    "duration": 0,
    "start_time": "2025-03-24T18:56:20.078Z"
   },
   {
    "duration": 0,
    "start_time": "2025-03-24T18:56:20.079Z"
   },
   {
    "duration": 0,
    "start_time": "2025-03-24T18:56:20.081Z"
   },
   {
    "duration": 0,
    "start_time": "2025-03-24T18:56:20.082Z"
   },
   {
    "duration": 0,
    "start_time": "2025-03-24T18:56:20.084Z"
   },
   {
    "duration": 0,
    "start_time": "2025-03-24T18:56:20.086Z"
   },
   {
    "duration": 0,
    "start_time": "2025-03-24T18:56:20.087Z"
   },
   {
    "duration": 0,
    "start_time": "2025-03-24T18:56:20.088Z"
   },
   {
    "duration": 0,
    "start_time": "2025-03-24T18:56:20.090Z"
   },
   {
    "duration": 0,
    "start_time": "2025-03-24T18:56:20.092Z"
   },
   {
    "duration": 0,
    "start_time": "2025-03-24T18:56:20.093Z"
   },
   {
    "duration": 0,
    "start_time": "2025-03-24T18:56:20.094Z"
   },
   {
    "duration": 0,
    "start_time": "2025-03-24T18:56:20.096Z"
   },
   {
    "duration": 0,
    "start_time": "2025-03-24T18:56:20.097Z"
   },
   {
    "duration": 0,
    "start_time": "2025-03-24T18:56:20.099Z"
   },
   {
    "duration": 0,
    "start_time": "2025-03-24T18:56:20.100Z"
   },
   {
    "duration": 0,
    "start_time": "2025-03-24T18:56:20.102Z"
   },
   {
    "duration": 0,
    "start_time": "2025-03-24T18:56:20.103Z"
   },
   {
    "duration": 0,
    "start_time": "2025-03-24T18:56:20.158Z"
   },
   {
    "duration": 0,
    "start_time": "2025-03-24T18:56:20.160Z"
   },
   {
    "duration": 0,
    "start_time": "2025-03-24T18:56:20.161Z"
   },
   {
    "duration": 0,
    "start_time": "2025-03-24T18:56:20.163Z"
   },
   {
    "duration": 1589,
    "start_time": "2025-03-24T18:56:46.412Z"
   },
   {
    "duration": 263,
    "start_time": "2025-03-24T18:57:20.617Z"
   },
   {
    "duration": 292,
    "start_time": "2025-03-24T18:57:31.952Z"
   },
   {
    "duration": 671,
    "start_time": "2025-03-24T18:57:42.166Z"
   },
   {
    "duration": 43,
    "start_time": "2025-03-24T18:57:42.839Z"
   },
   {
    "duration": 74,
    "start_time": "2025-03-24T18:57:42.883Z"
   },
   {
    "duration": 38,
    "start_time": "2025-03-24T18:57:42.959Z"
   },
   {
    "duration": 12,
    "start_time": "2025-03-24T18:57:42.998Z"
   },
   {
    "duration": 11,
    "start_time": "2025-03-24T18:57:43.011Z"
   },
   {
    "duration": 11,
    "start_time": "2025-03-24T18:57:43.024Z"
   },
   {
    "duration": 9,
    "start_time": "2025-03-24T18:57:43.036Z"
   },
   {
    "duration": 20,
    "start_time": "2025-03-24T18:57:43.046Z"
   },
   {
    "duration": 7,
    "start_time": "2025-03-24T18:57:43.069Z"
   },
   {
    "duration": 11,
    "start_time": "2025-03-24T18:57:43.077Z"
   },
   {
    "duration": 8,
    "start_time": "2025-03-24T18:57:43.089Z"
   },
   {
    "duration": 7,
    "start_time": "2025-03-24T18:57:43.098Z"
   },
   {
    "duration": 3,
    "start_time": "2025-03-24T18:57:43.106Z"
   },
   {
    "duration": 8,
    "start_time": "2025-03-24T18:57:43.110Z"
   },
   {
    "duration": 41,
    "start_time": "2025-03-24T18:57:43.119Z"
   },
   {
    "duration": 10,
    "start_time": "2025-03-24T18:57:43.161Z"
   },
   {
    "duration": 6,
    "start_time": "2025-03-24T18:57:43.172Z"
   },
   {
    "duration": 5,
    "start_time": "2025-03-24T18:57:43.179Z"
   },
   {
    "duration": 8,
    "start_time": "2025-03-24T18:57:43.186Z"
   },
   {
    "duration": 126,
    "start_time": "2025-03-24T18:57:43.195Z"
   },
   {
    "duration": 3,
    "start_time": "2025-03-24T18:57:43.323Z"
   },
   {
    "duration": 5,
    "start_time": "2025-03-24T18:57:43.328Z"
   },
   {
    "duration": 9,
    "start_time": "2025-03-24T18:57:43.334Z"
   },
   {
    "duration": 117,
    "start_time": "2025-03-24T18:57:43.345Z"
   },
   {
    "duration": 6,
    "start_time": "2025-03-24T18:57:43.464Z"
   },
   {
    "duration": 5,
    "start_time": "2025-03-24T18:57:43.471Z"
   },
   {
    "duration": 8,
    "start_time": "2025-03-24T18:57:43.480Z"
   },
   {
    "duration": 193,
    "start_time": "2025-03-24T18:57:43.489Z"
   },
   {
    "duration": 5,
    "start_time": "2025-03-24T18:57:43.684Z"
   },
   {
    "duration": 6,
    "start_time": "2025-03-24T18:57:43.691Z"
   },
   {
    "duration": 9,
    "start_time": "2025-03-24T18:57:43.699Z"
   },
   {
    "duration": 6,
    "start_time": "2025-03-24T18:57:43.709Z"
   },
   {
    "duration": 159,
    "start_time": "2025-03-24T18:57:43.716Z"
   },
   {
    "duration": 8,
    "start_time": "2025-03-24T18:57:43.876Z"
   },
   {
    "duration": 188,
    "start_time": "2025-03-24T18:57:43.885Z"
   },
   {
    "duration": 10,
    "start_time": "2025-03-24T18:57:44.074Z"
   },
   {
    "duration": 273,
    "start_time": "2025-03-24T18:57:44.085Z"
   },
   {
    "duration": 9,
    "start_time": "2025-03-24T18:57:44.360Z"
   },
   {
    "duration": 212,
    "start_time": "2025-03-24T18:57:44.371Z"
   },
   {
    "duration": 10,
    "start_time": "2025-03-24T18:57:44.584Z"
   },
   {
    "duration": 9,
    "start_time": "2025-03-24T18:57:44.596Z"
   },
   {
    "duration": 12,
    "start_time": "2025-03-24T18:57:44.606Z"
   },
   {
    "duration": 4,
    "start_time": "2025-03-24T18:57:44.620Z"
   },
   {
    "duration": 41,
    "start_time": "2025-03-24T18:57:44.625Z"
   },
   {
    "duration": 6,
    "start_time": "2025-03-24T18:57:44.668Z"
   },
   {
    "duration": 11,
    "start_time": "2025-03-24T18:57:44.676Z"
   },
   {
    "duration": 5,
    "start_time": "2025-03-24T18:57:44.688Z"
   },
   {
    "duration": 10,
    "start_time": "2025-03-24T18:57:44.695Z"
   },
   {
    "duration": 8,
    "start_time": "2025-03-24T18:57:44.707Z"
   },
   {
    "duration": 42,
    "start_time": "2025-03-24T18:57:44.716Z"
   },
   {
    "duration": 8,
    "start_time": "2025-03-24T18:57:44.760Z"
   },
   {
    "duration": 315,
    "start_time": "2025-03-24T18:57:44.770Z"
   },
   {
    "duration": 2,
    "start_time": "2025-03-24T18:57:45.087Z"
   },
   {
    "duration": 31,
    "start_time": "2025-03-24T18:57:45.090Z"
   },
   {
    "duration": 7,
    "start_time": "2025-03-24T18:57:45.122Z"
   },
   {
    "duration": 16,
    "start_time": "2025-03-24T18:57:45.131Z"
   },
   {
    "duration": 4,
    "start_time": "2025-03-24T18:57:45.150Z"
   },
   {
    "duration": 308,
    "start_time": "2025-03-24T18:57:45.156Z"
   },
   {
    "duration": 12,
    "start_time": "2025-03-24T18:57:45.466Z"
   },
   {
    "duration": 4,
    "start_time": "2025-03-24T18:57:45.480Z"
   },
   {
    "duration": 24,
    "start_time": "2025-03-24T18:57:45.486Z"
   },
   {
    "duration": 5,
    "start_time": "2025-03-24T18:57:45.512Z"
   },
   {
    "duration": 3,
    "start_time": "2025-03-24T18:57:45.519Z"
   },
   {
    "duration": 4,
    "start_time": "2025-03-24T18:57:45.523Z"
   },
   {
    "duration": 36,
    "start_time": "2025-03-24T18:57:45.529Z"
   },
   {
    "duration": 7,
    "start_time": "2025-03-24T18:57:45.567Z"
   },
   {
    "duration": 96,
    "start_time": "2025-03-24T18:57:45.576Z"
   },
   {
    "duration": 53,
    "start_time": "2025-03-24T18:57:45.674Z"
   },
   {
    "duration": 13,
    "start_time": "2025-03-24T18:57:45.729Z"
   },
   {
    "duration": 12,
    "start_time": "2025-03-24T18:57:45.744Z"
   },
   {
    "duration": 13,
    "start_time": "2025-03-24T18:57:45.758Z"
   },
   {
    "duration": 9,
    "start_time": "2025-03-24T18:57:45.773Z"
   },
   {
    "duration": 3,
    "start_time": "2025-03-24T18:57:45.784Z"
   },
   {
    "duration": 6,
    "start_time": "2025-03-24T18:57:45.788Z"
   },
   {
    "duration": 3,
    "start_time": "2025-03-24T18:57:45.796Z"
   },
   {
    "duration": 5,
    "start_time": "2025-03-24T18:57:45.801Z"
   },
   {
    "duration": 5,
    "start_time": "2025-03-24T18:57:45.807Z"
   },
   {
    "duration": 3,
    "start_time": "2025-03-24T18:57:45.814Z"
   },
   {
    "duration": 50,
    "start_time": "2025-03-24T18:57:45.819Z"
   },
   {
    "duration": 322,
    "start_time": "2025-03-24T18:57:45.870Z"
   },
   {
    "duration": 4,
    "start_time": "2025-03-24T18:57:46.198Z"
   },
   {
    "duration": 381,
    "start_time": "2025-03-24T18:57:46.203Z"
   },
   {
    "duration": 76,
    "start_time": "2025-03-24T18:57:46.585Z"
   },
   {
    "duration": 11,
    "start_time": "2025-03-24T18:57:46.663Z"
   },
   {
    "duration": 15,
    "start_time": "2025-03-24T18:57:46.676Z"
   },
   {
    "duration": 368,
    "start_time": "2025-03-24T18:57:46.692Z"
   },
   {
    "duration": 12,
    "start_time": "2025-03-24T18:57:47.062Z"
   },
   {
    "duration": 290,
    "start_time": "2025-03-24T18:58:36.145Z"
   },
   {
    "duration": 11,
    "start_time": "2025-03-24T19:02:52.549Z"
   },
   {
    "duration": 680,
    "start_time": "2025-03-24T19:04:24.466Z"
   },
   {
    "duration": 58,
    "start_time": "2025-03-24T19:04:25.150Z"
   },
   {
    "duration": 68,
    "start_time": "2025-03-24T19:04:25.210Z"
   },
   {
    "duration": 82,
    "start_time": "2025-03-24T19:04:25.280Z"
   },
   {
    "duration": 12,
    "start_time": "2025-03-24T19:04:25.363Z"
   },
   {
    "duration": 11,
    "start_time": "2025-03-24T19:04:25.376Z"
   },
   {
    "duration": 13,
    "start_time": "2025-03-24T19:04:25.388Z"
   },
   {
    "duration": 9,
    "start_time": "2025-03-24T19:04:25.403Z"
   },
   {
    "duration": 11,
    "start_time": "2025-03-24T19:04:25.415Z"
   },
   {
    "duration": 7,
    "start_time": "2025-03-24T19:04:25.461Z"
   },
   {
    "duration": 11,
    "start_time": "2025-03-24T19:04:25.470Z"
   },
   {
    "duration": 8,
    "start_time": "2025-03-24T19:04:25.482Z"
   },
   {
    "duration": 8,
    "start_time": "2025-03-24T19:04:25.491Z"
   },
   {
    "duration": 2,
    "start_time": "2025-03-24T19:04:25.500Z"
   },
   {
    "duration": 7,
    "start_time": "2025-03-24T19:04:25.504Z"
   },
   {
    "duration": 7,
    "start_time": "2025-03-24T19:04:25.513Z"
   },
   {
    "duration": 10,
    "start_time": "2025-03-24T19:04:25.557Z"
   },
   {
    "duration": 5,
    "start_time": "2025-03-24T19:04:25.569Z"
   },
   {
    "duration": 4,
    "start_time": "2025-03-24T19:04:25.576Z"
   },
   {
    "duration": 8,
    "start_time": "2025-03-24T19:04:25.582Z"
   },
   {
    "duration": 8,
    "start_time": "2025-03-24T19:04:25.591Z"
   },
   {
    "duration": 68,
    "start_time": "2025-03-24T19:04:25.600Z"
   },
   {
    "duration": 18,
    "start_time": "2025-03-24T19:04:25.670Z"
   },
   {
    "duration": 10,
    "start_time": "2025-03-24T19:04:25.690Z"
   },
   {
    "duration": 118,
    "start_time": "2025-03-24T19:04:25.702Z"
   },
   {
    "duration": 6,
    "start_time": "2025-03-24T19:04:25.821Z"
   },
   {
    "duration": 4,
    "start_time": "2025-03-24T19:04:25.828Z"
   },
   {
    "duration": 22,
    "start_time": "2025-03-24T19:04:25.836Z"
   },
   {
    "duration": 178,
    "start_time": "2025-03-24T19:04:25.859Z"
   },
   {
    "duration": 6,
    "start_time": "2025-03-24T19:04:26.038Z"
   },
   {
    "duration": 16,
    "start_time": "2025-03-24T19:04:26.045Z"
   },
   {
    "duration": 7,
    "start_time": "2025-03-24T19:04:26.062Z"
   },
   {
    "duration": 4,
    "start_time": "2025-03-24T19:04:26.071Z"
   },
   {
    "duration": 140,
    "start_time": "2025-03-24T19:04:26.076Z"
   },
   {
    "duration": 7,
    "start_time": "2025-03-24T19:04:26.218Z"
   },
   {
    "duration": 217,
    "start_time": "2025-03-24T19:04:26.227Z"
   },
   {
    "duration": 16,
    "start_time": "2025-03-24T19:04:26.446Z"
   },
   {
    "duration": 249,
    "start_time": "2025-03-24T19:04:26.464Z"
   },
   {
    "duration": 9,
    "start_time": "2025-03-24T19:04:26.714Z"
   },
   {
    "duration": 209,
    "start_time": "2025-03-24T19:04:26.724Z"
   },
   {
    "duration": 9,
    "start_time": "2025-03-24T19:04:26.935Z"
   },
   {
    "duration": 19,
    "start_time": "2025-03-24T19:04:26.945Z"
   },
   {
    "duration": 12,
    "start_time": "2025-03-24T19:04:26.966Z"
   },
   {
    "duration": 21,
    "start_time": "2025-03-24T19:04:26.979Z"
   },
   {
    "duration": 14,
    "start_time": "2025-03-24T19:04:27.002Z"
   },
   {
    "duration": 7,
    "start_time": "2025-03-24T19:04:27.018Z"
   },
   {
    "duration": 11,
    "start_time": "2025-03-24T19:04:27.027Z"
   },
   {
    "duration": 21,
    "start_time": "2025-03-24T19:04:27.039Z"
   },
   {
    "duration": 16,
    "start_time": "2025-03-24T19:04:27.062Z"
   },
   {
    "duration": 12,
    "start_time": "2025-03-24T19:04:27.080Z"
   },
   {
    "duration": 3,
    "start_time": "2025-03-24T19:04:27.093Z"
   },
   {
    "duration": 9,
    "start_time": "2025-03-24T19:04:27.097Z"
   },
   {
    "duration": 368,
    "start_time": "2025-03-24T19:04:27.107Z"
   },
   {
    "duration": 3,
    "start_time": "2025-03-24T19:04:27.476Z"
   },
   {
    "duration": 11,
    "start_time": "2025-03-24T19:04:27.480Z"
   },
   {
    "duration": 3,
    "start_time": "2025-03-24T19:04:27.492Z"
   },
   {
    "duration": 63,
    "start_time": "2025-03-24T19:04:27.496Z"
   },
   {
    "duration": 2,
    "start_time": "2025-03-24T19:04:27.561Z"
   },
   {
    "duration": 610,
    "start_time": "2025-03-24T19:04:27.565Z"
   },
   {
    "duration": 17,
    "start_time": "2025-03-24T19:04:28.177Z"
   },
   {
    "duration": 5,
    "start_time": "2025-03-24T19:04:28.196Z"
   },
   {
    "duration": 39,
    "start_time": "2025-03-24T19:04:28.258Z"
   },
   {
    "duration": 5,
    "start_time": "2025-03-24T19:04:28.298Z"
   },
   {
    "duration": 3,
    "start_time": "2025-03-24T19:04:28.305Z"
   },
   {
    "duration": 51,
    "start_time": "2025-03-24T19:04:28.310Z"
   },
   {
    "duration": 11,
    "start_time": "2025-03-24T19:04:28.362Z"
   },
   {
    "duration": 9,
    "start_time": "2025-03-24T19:04:28.375Z"
   },
   {
    "duration": 7,
    "start_time": "2025-03-24T19:04:28.385Z"
   },
   {
    "duration": 7,
    "start_time": "2025-03-24T19:04:28.394Z"
   },
   {
    "duration": 56,
    "start_time": "2025-03-24T19:04:28.403Z"
   },
   {
    "duration": 6,
    "start_time": "2025-03-24T19:04:28.461Z"
   },
   {
    "duration": 11,
    "start_time": "2025-03-24T19:04:28.469Z"
   },
   {
    "duration": 11,
    "start_time": "2025-03-24T19:04:28.482Z"
   },
   {
    "duration": 7,
    "start_time": "2025-03-24T19:04:28.495Z"
   },
   {
    "duration": 31,
    "start_time": "2025-03-24T19:04:28.559Z"
   },
   {
    "duration": 21,
    "start_time": "2025-03-24T19:04:28.591Z"
   },
   {
    "duration": 3,
    "start_time": "2025-03-24T19:04:28.613Z"
   },
   {
    "duration": 4,
    "start_time": "2025-03-24T19:04:28.618Z"
   },
   {
    "duration": 35,
    "start_time": "2025-03-24T19:04:28.624Z"
   },
   {
    "duration": 7,
    "start_time": "2025-03-24T19:04:28.660Z"
   },
   {
    "duration": 14,
    "start_time": "2025-03-24T19:04:28.669Z"
   },
   {
    "duration": 295,
    "start_time": "2025-03-24T19:04:28.689Z"
   },
   {
    "duration": 4,
    "start_time": "2025-03-24T19:04:28.986Z"
   },
   {
    "duration": 166,
    "start_time": "2025-03-24T19:04:28.992Z"
   },
   {
    "duration": 23,
    "start_time": "2025-03-24T19:04:29.159Z"
   },
   {
    "duration": 11,
    "start_time": "2025-03-24T19:04:29.183Z"
   },
   {
    "duration": 8,
    "start_time": "2025-03-24T19:04:29.196Z"
   },
   {
    "duration": 190,
    "start_time": "2025-03-24T19:04:29.206Z"
   },
   {
    "duration": 13,
    "start_time": "2025-03-24T19:04:29.397Z"
   },
   {
    "duration": 4,
    "start_time": "2025-03-24T19:10:51.891Z"
   },
   {
    "duration": 646,
    "start_time": "2025-03-24T19:11:06.795Z"
   },
   {
    "duration": 44,
    "start_time": "2025-03-24T19:11:07.443Z"
   },
   {
    "duration": 70,
    "start_time": "2025-03-24T19:11:07.489Z"
   },
   {
    "duration": 59,
    "start_time": "2025-03-24T19:11:07.561Z"
   },
   {
    "duration": 11,
    "start_time": "2025-03-24T19:11:07.622Z"
   },
   {
    "duration": 76,
    "start_time": "2025-03-24T19:11:07.635Z"
   },
   {
    "duration": 19,
    "start_time": "2025-03-24T19:11:07.712Z"
   },
   {
    "duration": 8,
    "start_time": "2025-03-24T19:11:07.732Z"
   },
   {
    "duration": 10,
    "start_time": "2025-03-24T19:11:07.742Z"
   },
   {
    "duration": 6,
    "start_time": "2025-03-24T19:11:07.755Z"
   },
   {
    "duration": 15,
    "start_time": "2025-03-24T19:11:07.762Z"
   },
   {
    "duration": 7,
    "start_time": "2025-03-24T19:11:07.778Z"
   },
   {
    "duration": 7,
    "start_time": "2025-03-24T19:11:07.787Z"
   },
   {
    "duration": 2,
    "start_time": "2025-03-24T19:11:07.795Z"
   },
   {
    "duration": 15,
    "start_time": "2025-03-24T19:11:07.798Z"
   },
   {
    "duration": 5,
    "start_time": "2025-03-24T19:11:07.814Z"
   },
   {
    "duration": 8,
    "start_time": "2025-03-24T19:11:07.820Z"
   },
   {
    "duration": 6,
    "start_time": "2025-03-24T19:11:07.858Z"
   },
   {
    "duration": 5,
    "start_time": "2025-03-24T19:11:07.866Z"
   },
   {
    "duration": 7,
    "start_time": "2025-03-24T19:11:07.872Z"
   },
   {
    "duration": 8,
    "start_time": "2025-03-24T19:11:07.881Z"
   },
   {
    "duration": 3,
    "start_time": "2025-03-24T19:11:07.891Z"
   },
   {
    "duration": 4,
    "start_time": "2025-03-24T19:11:07.896Z"
   },
   {
    "duration": 8,
    "start_time": "2025-03-24T19:11:07.902Z"
   },
   {
    "duration": 164,
    "start_time": "2025-03-24T19:11:07.911Z"
   },
   {
    "duration": 6,
    "start_time": "2025-03-24T19:11:08.077Z"
   },
   {
    "duration": 6,
    "start_time": "2025-03-24T19:11:08.084Z"
   },
   {
    "duration": 6,
    "start_time": "2025-03-24T19:11:08.094Z"
   },
   {
    "duration": 189,
    "start_time": "2025-03-24T19:11:08.101Z"
   },
   {
    "duration": 5,
    "start_time": "2025-03-24T19:11:08.291Z"
   },
   {
    "duration": 9,
    "start_time": "2025-03-24T19:11:08.298Z"
   },
   {
    "duration": 7,
    "start_time": "2025-03-24T19:11:08.308Z"
   },
   {
    "duration": 13,
    "start_time": "2025-03-24T19:11:08.316Z"
   },
   {
    "duration": 143,
    "start_time": "2025-03-24T19:11:08.330Z"
   },
   {
    "duration": 8,
    "start_time": "2025-03-24T19:11:08.474Z"
   },
   {
    "duration": 190,
    "start_time": "2025-03-24T19:11:08.483Z"
   },
   {
    "duration": 9,
    "start_time": "2025-03-24T19:11:08.675Z"
   },
   {
    "duration": 259,
    "start_time": "2025-03-24T19:11:08.685Z"
   },
   {
    "duration": 18,
    "start_time": "2025-03-24T19:11:08.946Z"
   },
   {
    "duration": 210,
    "start_time": "2025-03-24T19:11:08.966Z"
   },
   {
    "duration": 10,
    "start_time": "2025-03-24T19:11:09.177Z"
   },
   {
    "duration": 11,
    "start_time": "2025-03-24T19:11:09.188Z"
   },
   {
    "duration": 14,
    "start_time": "2025-03-24T19:11:09.257Z"
   },
   {
    "duration": 102,
    "start_time": "2025-03-24T19:11:09.272Z"
   },
   {
    "duration": 18,
    "start_time": "2025-03-24T19:11:09.375Z"
   },
   {
    "duration": 6,
    "start_time": "2025-03-24T19:11:09.395Z"
   },
   {
    "duration": 11,
    "start_time": "2025-03-24T19:11:09.403Z"
   },
   {
    "duration": 5,
    "start_time": "2025-03-24T19:11:09.459Z"
   },
   {
    "duration": 33,
    "start_time": "2025-03-24T19:11:09.466Z"
   },
   {
    "duration": 8,
    "start_time": "2025-03-24T19:11:09.500Z"
   },
   {
    "duration": 4,
    "start_time": "2025-03-24T19:11:09.509Z"
   },
   {
    "duration": 8,
    "start_time": "2025-03-24T19:11:09.557Z"
   },
   {
    "duration": 536,
    "start_time": "2025-03-24T19:11:09.567Z"
   },
   {
    "duration": 2,
    "start_time": "2025-03-24T19:11:10.158Z"
   },
   {
    "duration": 19,
    "start_time": "2025-03-24T19:11:10.162Z"
   },
   {
    "duration": 3,
    "start_time": "2025-03-24T19:11:10.182Z"
   },
   {
    "duration": 9,
    "start_time": "2025-03-24T19:11:10.186Z"
   },
   {
    "duration": 2,
    "start_time": "2025-03-24T19:11:10.197Z"
   },
   {
    "duration": 477,
    "start_time": "2025-03-24T19:11:10.201Z"
   },
   {
    "duration": 13,
    "start_time": "2025-03-24T19:11:10.679Z"
   },
   {
    "duration": 4,
    "start_time": "2025-03-24T19:11:10.693Z"
   },
   {
    "duration": 23,
    "start_time": "2025-03-24T19:11:10.699Z"
   },
   {
    "duration": 35,
    "start_time": "2025-03-24T19:11:10.723Z"
   },
   {
    "duration": 3,
    "start_time": "2025-03-24T19:11:10.760Z"
   },
   {
    "duration": 6,
    "start_time": "2025-03-24T19:11:10.765Z"
   },
   {
    "duration": 9,
    "start_time": "2025-03-24T19:11:10.772Z"
   },
   {
    "duration": 11,
    "start_time": "2025-03-24T19:11:10.782Z"
   },
   {
    "duration": 8,
    "start_time": "2025-03-24T19:11:10.795Z"
   },
   {
    "duration": 8,
    "start_time": "2025-03-24T19:11:10.805Z"
   },
   {
    "duration": 121,
    "start_time": "2025-03-24T19:11:10.814Z"
   },
   {
    "duration": 7,
    "start_time": "2025-03-24T19:11:10.937Z"
   },
   {
    "duration": 11,
    "start_time": "2025-03-24T19:11:10.946Z"
   },
   {
    "duration": 21,
    "start_time": "2025-03-24T19:11:10.960Z"
   },
   {
    "duration": 8,
    "start_time": "2025-03-24T19:11:10.983Z"
   },
   {
    "duration": 3,
    "start_time": "2025-03-24T19:11:10.993Z"
   },
   {
    "duration": 5,
    "start_time": "2025-03-24T19:11:10.998Z"
   },
   {
    "duration": 22,
    "start_time": "2025-03-24T19:11:11.005Z"
   },
   {
    "duration": 29,
    "start_time": "2025-03-24T19:11:11.029Z"
   },
   {
    "duration": 18,
    "start_time": "2025-03-24T19:11:11.060Z"
   },
   {
    "duration": 4,
    "start_time": "2025-03-24T19:11:11.079Z"
   },
   {
    "duration": 14,
    "start_time": "2025-03-24T19:11:11.085Z"
   },
   {
    "duration": 158,
    "start_time": "2025-03-24T19:11:11.104Z"
   },
   {
    "duration": 4,
    "start_time": "2025-03-24T19:11:11.264Z"
   },
   {
    "duration": 91,
    "start_time": "2025-03-24T19:11:11.270Z"
   },
   {
    "duration": 153,
    "start_time": "2025-03-24T19:11:11.362Z"
   },
   {
    "duration": 24,
    "start_time": "2025-03-24T19:11:11.518Z"
   },
   {
    "duration": 13,
    "start_time": "2025-03-24T19:11:11.558Z"
   },
   {
    "duration": 10,
    "start_time": "2025-03-24T19:11:11.572Z"
   },
   {
    "duration": 185,
    "start_time": "2025-03-24T19:11:11.584Z"
   },
   {
    "duration": 12,
    "start_time": "2025-03-24T19:11:11.770Z"
   },
   {
    "duration": 5,
    "start_time": "2025-03-24T19:11:38.404Z"
   },
   {
    "duration": 6,
    "start_time": "2025-03-24T19:12:42.731Z"
   },
   {
    "duration": 81,
    "start_time": "2025-03-24T19:12:43.708Z"
   },
   {
    "duration": 680,
    "start_time": "2025-03-24T19:12:48.381Z"
   },
   {
    "duration": 50,
    "start_time": "2025-03-24T19:12:49.063Z"
   },
   {
    "duration": 74,
    "start_time": "2025-03-24T19:12:49.114Z"
   },
   {
    "duration": 50,
    "start_time": "2025-03-24T19:12:49.190Z"
   },
   {
    "duration": 12,
    "start_time": "2025-03-24T19:12:49.242Z"
   },
   {
    "duration": 121,
    "start_time": "2025-03-24T19:12:49.256Z"
   },
   {
    "duration": 13,
    "start_time": "2025-03-24T19:12:49.379Z"
   },
   {
    "duration": 8,
    "start_time": "2025-03-24T19:12:49.394Z"
   },
   {
    "duration": 35,
    "start_time": "2025-03-24T19:12:49.404Z"
   },
   {
    "duration": 6,
    "start_time": "2025-03-24T19:12:49.442Z"
   },
   {
    "duration": 14,
    "start_time": "2025-03-24T19:12:49.450Z"
   },
   {
    "duration": 16,
    "start_time": "2025-03-24T19:12:49.465Z"
   },
   {
    "duration": 14,
    "start_time": "2025-03-24T19:12:49.483Z"
   },
   {
    "duration": 2,
    "start_time": "2025-03-24T19:12:49.498Z"
   },
   {
    "duration": 14,
    "start_time": "2025-03-24T19:12:49.502Z"
   },
   {
    "duration": 16,
    "start_time": "2025-03-24T19:12:49.518Z"
   },
   {
    "duration": 9,
    "start_time": "2025-03-24T19:12:49.536Z"
   },
   {
    "duration": 7,
    "start_time": "2025-03-24T19:12:49.546Z"
   },
   {
    "duration": 5,
    "start_time": "2025-03-24T19:12:49.557Z"
   },
   {
    "duration": 10,
    "start_time": "2025-03-24T19:12:49.563Z"
   },
   {
    "duration": 8,
    "start_time": "2025-03-24T19:12:49.574Z"
   },
   {
    "duration": 6,
    "start_time": "2025-03-24T19:12:49.583Z"
   },
   {
    "duration": 5,
    "start_time": "2025-03-24T19:12:49.590Z"
   },
   {
    "duration": 9,
    "start_time": "2025-03-24T19:12:49.597Z"
   },
   {
    "duration": 151,
    "start_time": "2025-03-24T19:12:49.608Z"
   },
   {
    "duration": 6,
    "start_time": "2025-03-24T19:12:49.761Z"
   },
   {
    "duration": 4,
    "start_time": "2025-03-24T19:12:49.768Z"
   },
   {
    "duration": 8,
    "start_time": "2025-03-24T19:12:49.776Z"
   },
   {
    "duration": 197,
    "start_time": "2025-03-24T19:12:49.785Z"
   },
   {
    "duration": 5,
    "start_time": "2025-03-24T19:12:49.984Z"
   },
   {
    "duration": 8,
    "start_time": "2025-03-24T19:12:49.990Z"
   },
   {
    "duration": 9,
    "start_time": "2025-03-24T19:12:49.999Z"
   },
   {
    "duration": 15,
    "start_time": "2025-03-24T19:12:50.009Z"
   },
   {
    "duration": 140,
    "start_time": "2025-03-24T19:12:50.025Z"
   },
   {
    "duration": 7,
    "start_time": "2025-03-24T19:12:50.167Z"
   },
   {
    "duration": 188,
    "start_time": "2025-03-24T19:12:50.176Z"
   },
   {
    "duration": 9,
    "start_time": "2025-03-24T19:12:50.366Z"
   },
   {
    "duration": 254,
    "start_time": "2025-03-24T19:12:50.376Z"
   },
   {
    "duration": 9,
    "start_time": "2025-03-24T19:12:50.631Z"
   },
   {
    "duration": 206,
    "start_time": "2025-03-24T19:12:50.642Z"
   },
   {
    "duration": 9,
    "start_time": "2025-03-24T19:12:50.858Z"
   },
   {
    "duration": 81,
    "start_time": "2025-03-24T19:12:50.869Z"
   },
   {
    "duration": 14,
    "start_time": "2025-03-24T19:12:50.951Z"
   },
   {
    "duration": 5,
    "start_time": "2025-03-24T19:12:50.966Z"
   },
   {
    "duration": 14,
    "start_time": "2025-03-24T19:12:50.973Z"
   },
   {
    "duration": 7,
    "start_time": "2025-03-24T19:12:50.988Z"
   },
   {
    "duration": 14,
    "start_time": "2025-03-24T19:12:50.996Z"
   },
   {
    "duration": 19,
    "start_time": "2025-03-24T19:12:51.012Z"
   },
   {
    "duration": 30,
    "start_time": "2025-03-24T19:12:51.032Z"
   },
   {
    "duration": 8,
    "start_time": "2025-03-24T19:12:51.064Z"
   },
   {
    "duration": 2,
    "start_time": "2025-03-24T19:12:51.074Z"
   },
   {
    "duration": 9,
    "start_time": "2025-03-24T19:12:51.077Z"
   },
   {
    "duration": 315,
    "start_time": "2025-03-24T19:12:51.087Z"
   },
   {
    "duration": 3,
    "start_time": "2025-03-24T19:12:51.403Z"
   },
   {
    "duration": 12,
    "start_time": "2025-03-24T19:12:51.407Z"
   },
   {
    "duration": 2,
    "start_time": "2025-03-24T19:12:51.420Z"
   },
   {
    "duration": 7,
    "start_time": "2025-03-24T19:12:51.424Z"
   },
   {
    "duration": 26,
    "start_time": "2025-03-24T19:12:51.432Z"
   },
   {
    "duration": 318,
    "start_time": "2025-03-24T19:12:51.459Z"
   },
   {
    "duration": 12,
    "start_time": "2025-03-24T19:12:51.779Z"
   },
   {
    "duration": 8,
    "start_time": "2025-03-24T19:12:51.792Z"
   },
   {
    "duration": 25,
    "start_time": "2025-03-24T19:12:51.801Z"
   },
   {
    "duration": 5,
    "start_time": "2025-03-24T19:12:51.828Z"
   },
   {
    "duration": 25,
    "start_time": "2025-03-24T19:12:51.834Z"
   },
   {
    "duration": 5,
    "start_time": "2025-03-24T19:12:51.861Z"
   },
   {
    "duration": 8,
    "start_time": "2025-03-24T19:12:51.867Z"
   },
   {
    "duration": 12,
    "start_time": "2025-03-24T19:12:51.877Z"
   },
   {
    "duration": 7,
    "start_time": "2025-03-24T19:12:51.891Z"
   },
   {
    "duration": 8,
    "start_time": "2025-03-24T19:12:51.899Z"
   },
   {
    "duration": 11,
    "start_time": "2025-03-24T19:12:51.908Z"
   },
   {
    "duration": 8,
    "start_time": "2025-03-24T19:12:51.921Z"
   },
   {
    "duration": 37,
    "start_time": "2025-03-24T19:12:51.930Z"
   },
   {
    "duration": 23,
    "start_time": "2025-03-24T19:12:51.969Z"
   },
   {
    "duration": 7,
    "start_time": "2025-03-24T19:12:51.994Z"
   },
   {
    "duration": 4,
    "start_time": "2025-03-24T19:12:52.002Z"
   },
   {
    "duration": 6,
    "start_time": "2025-03-24T19:12:52.008Z"
   },
   {
    "duration": 3,
    "start_time": "2025-03-24T19:12:52.015Z"
   },
   {
    "duration": 5,
    "start_time": "2025-03-24T19:12:52.020Z"
   },
   {
    "duration": 4,
    "start_time": "2025-03-24T19:12:52.026Z"
   },
   {
    "duration": 27,
    "start_time": "2025-03-24T19:12:52.031Z"
   },
   {
    "duration": 14,
    "start_time": "2025-03-24T19:12:52.059Z"
   },
   {
    "duration": 175,
    "start_time": "2025-03-24T19:12:52.078Z"
   },
   {
    "duration": 4,
    "start_time": "2025-03-24T19:12:52.255Z"
   },
   {
    "duration": 50,
    "start_time": "2025-03-24T19:12:52.261Z"
   },
   {
    "duration": 247,
    "start_time": "2025-03-24T19:12:52.313Z"
   },
   {
    "duration": 21,
    "start_time": "2025-03-24T19:12:52.562Z"
   },
   {
    "duration": 19,
    "start_time": "2025-03-24T19:12:52.585Z"
   },
   {
    "duration": 57,
    "start_time": "2025-03-24T19:12:52.605Z"
   },
   {
    "duration": 316,
    "start_time": "2025-03-24T19:12:52.664Z"
   },
   {
    "duration": 11,
    "start_time": "2025-03-24T19:12:52.982Z"
   },
   {
    "duration": 12,
    "start_time": "2025-03-24T19:23:42.331Z"
   },
   {
    "duration": 12,
    "start_time": "2025-03-24T19:23:55.718Z"
   },
   {
    "duration": 668,
    "start_time": "2025-03-24T19:24:00.458Z"
   },
   {
    "duration": 47,
    "start_time": "2025-03-24T19:24:01.128Z"
   },
   {
    "duration": 64,
    "start_time": "2025-03-24T19:24:01.176Z"
   },
   {
    "duration": 34,
    "start_time": "2025-03-24T19:24:01.242Z"
   },
   {
    "duration": 10,
    "start_time": "2025-03-24T19:24:01.278Z"
   },
   {
    "duration": 126,
    "start_time": "2025-03-24T19:24:01.290Z"
   },
   {
    "duration": 26,
    "start_time": "2025-03-24T19:24:01.417Z"
   },
   {
    "duration": 18,
    "start_time": "2025-03-24T19:24:01.444Z"
   },
   {
    "duration": 43,
    "start_time": "2025-03-24T19:24:01.464Z"
   },
   {
    "duration": 42,
    "start_time": "2025-03-24T19:24:01.509Z"
   },
   {
    "duration": 28,
    "start_time": "2025-03-24T19:24:01.552Z"
   },
   {
    "duration": 10,
    "start_time": "2025-03-24T19:24:01.582Z"
   },
   {
    "duration": 17,
    "start_time": "2025-03-24T19:24:01.593Z"
   },
   {
    "duration": 2,
    "start_time": "2025-03-24T19:24:01.613Z"
   },
   {
    "duration": 7,
    "start_time": "2025-03-24T19:24:01.617Z"
   },
   {
    "duration": 5,
    "start_time": "2025-03-24T19:24:01.626Z"
   },
   {
    "duration": 96,
    "start_time": "2025-03-24T19:24:01.633Z"
   },
   {
    "duration": 23,
    "start_time": "2025-03-24T19:24:01.730Z"
   },
   {
    "duration": 32,
    "start_time": "2025-03-24T19:24:01.754Z"
   },
   {
    "duration": 21,
    "start_time": "2025-03-24T19:24:01.787Z"
   },
   {
    "duration": 8,
    "start_time": "2025-03-24T19:24:01.810Z"
   },
   {
    "duration": 4,
    "start_time": "2025-03-24T19:24:01.819Z"
   },
   {
    "duration": 17,
    "start_time": "2025-03-24T19:24:01.824Z"
   },
   {
    "duration": 16,
    "start_time": "2025-03-24T19:24:01.842Z"
   },
   {
    "duration": 144,
    "start_time": "2025-03-24T19:24:01.860Z"
   },
   {
    "duration": 6,
    "start_time": "2025-03-24T19:24:02.006Z"
   },
   {
    "duration": 16,
    "start_time": "2025-03-24T19:24:02.013Z"
   },
   {
    "duration": 9,
    "start_time": "2025-03-24T19:24:02.030Z"
   },
   {
    "duration": 183,
    "start_time": "2025-03-24T19:24:02.041Z"
   },
   {
    "duration": 6,
    "start_time": "2025-03-24T19:24:02.226Z"
   },
   {
    "duration": 92,
    "start_time": "2025-03-24T19:24:02.234Z"
   },
   {
    "duration": 20,
    "start_time": "2025-03-24T19:24:02.327Z"
   },
   {
    "duration": 4,
    "start_time": "2025-03-24T19:24:02.348Z"
   },
   {
    "duration": 159,
    "start_time": "2025-03-24T19:24:02.354Z"
   },
   {
    "duration": 7,
    "start_time": "2025-03-24T19:24:02.515Z"
   },
   {
    "duration": 336,
    "start_time": "2025-03-24T19:24:02.524Z"
   },
   {
    "duration": 10,
    "start_time": "2025-03-24T19:24:02.861Z"
   },
   {
    "duration": 605,
    "start_time": "2025-03-24T19:24:02.872Z"
   },
   {
    "duration": 11,
    "start_time": "2025-03-24T19:24:03.479Z"
   },
   {
    "duration": 414,
    "start_time": "2025-03-24T19:24:03.491Z"
   },
   {
    "duration": 9,
    "start_time": "2025-03-24T19:24:03.910Z"
   },
   {
    "duration": 11,
    "start_time": "2025-03-24T19:24:03.920Z"
   },
   {
    "duration": 31,
    "start_time": "2025-03-24T19:24:03.932Z"
   },
   {
    "duration": 8,
    "start_time": "2025-03-24T19:24:03.965Z"
   },
   {
    "duration": 20,
    "start_time": "2025-03-24T19:24:03.974Z"
   },
   {
    "duration": 7,
    "start_time": "2025-03-24T19:24:03.995Z"
   },
   {
    "duration": 12,
    "start_time": "2025-03-24T19:24:04.004Z"
   },
   {
    "duration": 6,
    "start_time": "2025-03-24T19:24:04.017Z"
   },
   {
    "duration": 44,
    "start_time": "2025-03-24T19:24:04.025Z"
   },
   {
    "duration": 17,
    "start_time": "2025-03-24T19:24:04.070Z"
   },
   {
    "duration": 2,
    "start_time": "2025-03-24T19:24:04.089Z"
   },
   {
    "duration": 18,
    "start_time": "2025-03-24T19:24:04.092Z"
   },
   {
    "duration": 281,
    "start_time": "2025-03-24T19:24:04.112Z"
   },
   {
    "duration": 2,
    "start_time": "2025-03-24T19:24:04.395Z"
   },
   {
    "duration": 21,
    "start_time": "2025-03-24T19:24:04.399Z"
   },
   {
    "duration": 3,
    "start_time": "2025-03-24T19:24:04.421Z"
   },
   {
    "duration": 9,
    "start_time": "2025-03-24T19:24:04.425Z"
   },
   {
    "duration": 3,
    "start_time": "2025-03-24T19:24:04.435Z"
   },
   {
    "duration": 290,
    "start_time": "2025-03-24T19:24:04.457Z"
   },
   {
    "duration": 18,
    "start_time": "2025-03-24T19:24:04.748Z"
   },
   {
    "duration": 5,
    "start_time": "2025-03-24T19:24:04.768Z"
   },
   {
    "duration": 23,
    "start_time": "2025-03-24T19:24:04.775Z"
   },
   {
    "duration": 5,
    "start_time": "2025-03-24T19:24:04.800Z"
   },
   {
    "duration": 4,
    "start_time": "2025-03-24T19:24:04.806Z"
   },
   {
    "duration": 5,
    "start_time": "2025-03-24T19:24:04.811Z"
   },
   {
    "duration": 11,
    "start_time": "2025-03-24T19:24:04.817Z"
   },
   {
    "duration": 133,
    "start_time": "2025-03-24T19:24:04.829Z"
   },
   {
    "duration": 24,
    "start_time": "2025-03-24T19:24:04.964Z"
   },
   {
    "duration": 9,
    "start_time": "2025-03-24T19:24:04.989Z"
   },
   {
    "duration": 9,
    "start_time": "2025-03-24T19:24:04.999Z"
   },
   {
    "duration": 6,
    "start_time": "2025-03-24T19:24:05.009Z"
   },
   {
    "duration": 13,
    "start_time": "2025-03-24T19:24:05.057Z"
   },
   {
    "duration": 22,
    "start_time": "2025-03-24T19:24:05.072Z"
   },
   {
    "duration": 64,
    "start_time": "2025-03-24T19:24:05.096Z"
   },
   {
    "duration": 4,
    "start_time": "2025-03-24T19:24:05.163Z"
   },
   {
    "duration": 17,
    "start_time": "2025-03-24T19:24:05.169Z"
   },
   {
    "duration": 4,
    "start_time": "2025-03-24T19:24:05.189Z"
   },
   {
    "duration": 63,
    "start_time": "2025-03-24T19:24:05.195Z"
   },
   {
    "duration": 4,
    "start_time": "2025-03-24T19:24:05.260Z"
   },
   {
    "duration": 172,
    "start_time": "2025-03-24T19:24:05.266Z"
   },
   {
    "duration": 23,
    "start_time": "2025-03-24T19:24:05.440Z"
   },
   {
    "duration": 322,
    "start_time": "2025-03-24T19:24:05.464Z"
   },
   {
    "duration": 5,
    "start_time": "2025-03-24T19:24:05.787Z"
   },
   {
    "duration": 369,
    "start_time": "2025-03-24T19:24:05.794Z"
   },
   {
    "duration": 23,
    "start_time": "2025-03-24T19:24:06.164Z"
   },
   {
    "duration": 36,
    "start_time": "2025-03-24T19:24:06.189Z"
   },
   {
    "duration": 15,
    "start_time": "2025-03-24T19:24:06.227Z"
   },
   {
    "duration": 238,
    "start_time": "2025-03-24T19:24:06.244Z"
   },
   {
    "duration": 11,
    "start_time": "2025-03-24T19:24:06.484Z"
   },
   {
    "duration": 5,
    "start_time": "2025-03-24T19:24:29.258Z"
   },
   {
    "duration": 629,
    "start_time": "2025-03-24T19:24:33.414Z"
   },
   {
    "duration": 55,
    "start_time": "2025-03-24T19:24:34.045Z"
   },
   {
    "duration": 61,
    "start_time": "2025-03-24T19:24:34.102Z"
   },
   {
    "duration": 35,
    "start_time": "2025-03-24T19:24:34.165Z"
   },
   {
    "duration": 12,
    "start_time": "2025-03-24T19:24:34.202Z"
   },
   {
    "duration": 12,
    "start_time": "2025-03-24T19:24:34.215Z"
   },
   {
    "duration": 20,
    "start_time": "2025-03-24T19:24:34.229Z"
   },
   {
    "duration": 74,
    "start_time": "2025-03-24T19:24:34.251Z"
   },
   {
    "duration": 21,
    "start_time": "2025-03-24T19:24:34.327Z"
   },
   {
    "duration": 11,
    "start_time": "2025-03-24T19:24:34.350Z"
   },
   {
    "duration": 17,
    "start_time": "2025-03-24T19:24:34.363Z"
   },
   {
    "duration": 8,
    "start_time": "2025-03-24T19:24:34.382Z"
   },
   {
    "duration": 16,
    "start_time": "2025-03-24T19:24:34.391Z"
   },
   {
    "duration": 3,
    "start_time": "2025-03-24T19:24:34.408Z"
   },
   {
    "duration": 16,
    "start_time": "2025-03-24T19:24:34.412Z"
   },
   {
    "duration": 9,
    "start_time": "2025-03-24T19:24:34.430Z"
   },
   {
    "duration": 9,
    "start_time": "2025-03-24T19:24:34.440Z"
   },
   {
    "duration": 20,
    "start_time": "2025-03-24T19:24:34.450Z"
   },
   {
    "duration": 5,
    "start_time": "2025-03-24T19:24:34.471Z"
   },
   {
    "duration": 14,
    "start_time": "2025-03-24T19:24:34.477Z"
   },
   {
    "duration": 13,
    "start_time": "2025-03-24T19:24:34.493Z"
   },
   {
    "duration": 14,
    "start_time": "2025-03-24T19:24:34.507Z"
   },
   {
    "duration": 13,
    "start_time": "2025-03-24T19:24:34.523Z"
   },
   {
    "duration": 10,
    "start_time": "2025-03-24T19:24:34.538Z"
   },
   {
    "duration": 122,
    "start_time": "2025-03-24T19:24:34.549Z"
   },
   {
    "duration": 6,
    "start_time": "2025-03-24T19:24:34.672Z"
   },
   {
    "duration": 5,
    "start_time": "2025-03-24T19:24:34.680Z"
   },
   {
    "duration": 12,
    "start_time": "2025-03-24T19:24:34.690Z"
   },
   {
    "duration": 186,
    "start_time": "2025-03-24T19:24:34.704Z"
   },
   {
    "duration": 9,
    "start_time": "2025-03-24T19:24:34.892Z"
   },
   {
    "duration": 96,
    "start_time": "2025-03-24T19:24:34.903Z"
   },
   {
    "duration": 8,
    "start_time": "2025-03-24T19:24:35.000Z"
   },
   {
    "duration": 5,
    "start_time": "2025-03-24T19:24:35.009Z"
   },
   {
    "duration": 125,
    "start_time": "2025-03-24T19:24:35.016Z"
   },
   {
    "duration": 20,
    "start_time": "2025-03-24T19:24:35.143Z"
   },
   {
    "duration": 199,
    "start_time": "2025-03-24T19:24:35.165Z"
   },
   {
    "duration": 9,
    "start_time": "2025-03-24T19:24:35.366Z"
   },
   {
    "duration": 275,
    "start_time": "2025-03-24T19:24:35.376Z"
   },
   {
    "duration": 12,
    "start_time": "2025-03-24T19:24:35.652Z"
   },
   {
    "duration": 266,
    "start_time": "2025-03-24T19:24:35.666Z"
   },
   {
    "duration": 9,
    "start_time": "2025-03-24T19:24:35.934Z"
   },
   {
    "duration": 18,
    "start_time": "2025-03-24T19:24:35.945Z"
   },
   {
    "duration": 17,
    "start_time": "2025-03-24T19:24:35.965Z"
   },
   {
    "duration": 12,
    "start_time": "2025-03-24T19:24:35.984Z"
   },
   {
    "duration": 20,
    "start_time": "2025-03-24T19:24:35.997Z"
   },
   {
    "duration": 6,
    "start_time": "2025-03-24T19:24:36.019Z"
   },
   {
    "duration": 11,
    "start_time": "2025-03-24T19:24:36.027Z"
   },
   {
    "duration": 6,
    "start_time": "2025-03-24T19:24:36.059Z"
   },
   {
    "duration": 24,
    "start_time": "2025-03-24T19:24:36.066Z"
   },
   {
    "duration": 13,
    "start_time": "2025-03-24T19:24:36.092Z"
   },
   {
    "duration": 19,
    "start_time": "2025-03-24T19:24:36.107Z"
   },
   {
    "duration": 18,
    "start_time": "2025-03-24T19:24:36.127Z"
   },
   {
    "duration": 262,
    "start_time": "2025-03-24T19:24:36.147Z"
   },
   {
    "duration": 2,
    "start_time": "2025-03-24T19:24:36.411Z"
   },
   {
    "duration": 10,
    "start_time": "2025-03-24T19:24:36.414Z"
   },
   {
    "duration": 1,
    "start_time": "2025-03-24T19:24:36.426Z"
   },
   {
    "duration": 12,
    "start_time": "2025-03-24T19:24:36.429Z"
   },
   {
    "duration": 16,
    "start_time": "2025-03-24T19:24:36.442Z"
   },
   {
    "duration": 288,
    "start_time": "2025-03-24T19:24:36.460Z"
   },
   {
    "duration": 17,
    "start_time": "2025-03-24T19:24:36.750Z"
   },
   {
    "duration": 5,
    "start_time": "2025-03-24T19:24:36.768Z"
   },
   {
    "duration": 21,
    "start_time": "2025-03-24T19:24:36.774Z"
   },
   {
    "duration": 5,
    "start_time": "2025-03-24T19:24:36.797Z"
   },
   {
    "duration": 3,
    "start_time": "2025-03-24T19:24:36.803Z"
   },
   {
    "duration": 4,
    "start_time": "2025-03-24T19:24:36.807Z"
   },
   {
    "duration": 8,
    "start_time": "2025-03-24T19:24:36.813Z"
   },
   {
    "duration": 42,
    "start_time": "2025-03-24T19:24:36.822Z"
   },
   {
    "duration": 7,
    "start_time": "2025-03-24T19:24:36.866Z"
   },
   {
    "duration": 108,
    "start_time": "2025-03-24T19:24:36.874Z"
   },
   {
    "duration": 5,
    "start_time": "2025-03-24T19:24:36.984Z"
   },
   {
    "duration": 6,
    "start_time": "2025-03-24T19:24:36.990Z"
   },
   {
    "duration": 12,
    "start_time": "2025-03-24T19:24:36.997Z"
   },
   {
    "duration": 53,
    "start_time": "2025-03-24T19:24:37.011Z"
   },
   {
    "duration": 8,
    "start_time": "2025-03-24T19:24:37.066Z"
   },
   {
    "duration": 10,
    "start_time": "2025-03-24T19:24:37.075Z"
   },
   {
    "duration": 6,
    "start_time": "2025-03-24T19:24:37.086Z"
   },
   {
    "duration": 3,
    "start_time": "2025-03-24T19:24:37.093Z"
   },
   {
    "duration": 8,
    "start_time": "2025-03-24T19:24:37.097Z"
   },
   {
    "duration": 52,
    "start_time": "2025-03-24T19:24:37.106Z"
   },
   {
    "duration": 5,
    "start_time": "2025-03-24T19:24:37.159Z"
   },
   {
    "duration": 15,
    "start_time": "2025-03-24T19:24:37.165Z"
   },
   {
    "duration": 306,
    "start_time": "2025-03-24T19:24:37.185Z"
   },
   {
    "duration": 4,
    "start_time": "2025-03-24T19:24:37.493Z"
   },
   {
    "duration": 362,
    "start_time": "2025-03-24T19:24:37.499Z"
   },
   {
    "duration": 23,
    "start_time": "2025-03-24T19:24:37.862Z"
   },
   {
    "duration": 10,
    "start_time": "2025-03-24T19:24:37.886Z"
   },
   {
    "duration": 62,
    "start_time": "2025-03-24T19:24:37.898Z"
   },
   {
    "duration": 317,
    "start_time": "2025-03-24T19:24:37.961Z"
   },
   {
    "duration": 14,
    "start_time": "2025-03-24T19:24:38.279Z"
   },
   {
    "duration": 2,
    "start_time": "2025-03-24T19:25:25.633Z"
   },
   {
    "duration": 2,
    "start_time": "2025-03-24T19:25:27.308Z"
   },
   {
    "duration": 5,
    "start_time": "2025-03-24T19:26:28.353Z"
   },
   {
    "duration": 681,
    "start_time": "2025-03-24T19:26:51.932Z"
   },
   {
    "duration": 50,
    "start_time": "2025-03-24T19:26:52.615Z"
   },
   {
    "duration": 118,
    "start_time": "2025-03-24T19:26:52.666Z"
   },
   {
    "duration": 31,
    "start_time": "2025-03-24T19:26:52.786Z"
   },
   {
    "duration": 11,
    "start_time": "2025-03-24T19:26:52.819Z"
   },
   {
    "duration": 11,
    "start_time": "2025-03-24T19:26:52.832Z"
   },
   {
    "duration": 12,
    "start_time": "2025-03-24T19:26:52.845Z"
   },
   {
    "duration": 9,
    "start_time": "2025-03-24T19:26:52.859Z"
   },
   {
    "duration": 11,
    "start_time": "2025-03-24T19:26:52.869Z"
   },
   {
    "duration": 74,
    "start_time": "2025-03-24T19:26:52.882Z"
   },
   {
    "duration": 51,
    "start_time": "2025-03-24T19:26:52.958Z"
   },
   {
    "duration": 8,
    "start_time": "2025-03-24T19:26:53.011Z"
   },
   {
    "duration": 7,
    "start_time": "2025-03-24T19:26:53.020Z"
   },
   {
    "duration": 3,
    "start_time": "2025-03-24T19:26:53.028Z"
   },
   {
    "duration": 6,
    "start_time": "2025-03-24T19:26:53.032Z"
   },
   {
    "duration": 8,
    "start_time": "2025-03-24T19:26:53.040Z"
   },
   {
    "duration": 9,
    "start_time": "2025-03-24T19:26:53.049Z"
   },
   {
    "duration": 6,
    "start_time": "2025-03-24T19:26:53.059Z"
   },
   {
    "duration": 5,
    "start_time": "2025-03-24T19:26:53.066Z"
   },
   {
    "duration": 8,
    "start_time": "2025-03-24T19:26:53.072Z"
   },
   {
    "duration": 8,
    "start_time": "2025-03-24T19:26:53.081Z"
   },
   {
    "duration": 4,
    "start_time": "2025-03-24T19:26:53.090Z"
   },
   {
    "duration": 5,
    "start_time": "2025-03-24T19:26:53.095Z"
   },
   {
    "duration": 8,
    "start_time": "2025-03-24T19:26:53.101Z"
   },
   {
    "duration": 160,
    "start_time": "2025-03-24T19:26:53.111Z"
   },
   {
    "duration": 5,
    "start_time": "2025-03-24T19:26:53.273Z"
   },
   {
    "duration": 128,
    "start_time": "2025-03-24T19:26:53.279Z"
   },
   {
    "duration": 8,
    "start_time": "2025-03-24T19:26:53.411Z"
   },
   {
    "duration": 176,
    "start_time": "2025-03-24T19:26:53.420Z"
   },
   {
    "duration": 5,
    "start_time": "2025-03-24T19:26:53.599Z"
   },
   {
    "duration": 5,
    "start_time": "2025-03-24T19:26:53.606Z"
   },
   {
    "duration": 7,
    "start_time": "2025-03-24T19:26:53.613Z"
   },
   {
    "duration": 4,
    "start_time": "2025-03-24T19:26:53.622Z"
   },
   {
    "duration": 133,
    "start_time": "2025-03-24T19:26:53.657Z"
   },
   {
    "duration": 8,
    "start_time": "2025-03-24T19:26:53.792Z"
   },
   {
    "duration": 190,
    "start_time": "2025-03-24T19:26:53.802Z"
   },
   {
    "duration": 9,
    "start_time": "2025-03-24T19:26:53.993Z"
   },
   {
    "duration": 251,
    "start_time": "2025-03-24T19:26:54.004Z"
   },
   {
    "duration": 9,
    "start_time": "2025-03-24T19:26:54.257Z"
   },
   {
    "duration": 233,
    "start_time": "2025-03-24T19:26:54.268Z"
   },
   {
    "duration": 11,
    "start_time": "2025-03-24T19:26:54.503Z"
   },
   {
    "duration": 10,
    "start_time": "2025-03-24T19:26:54.515Z"
   },
   {
    "duration": 33,
    "start_time": "2025-03-24T19:26:54.526Z"
   },
   {
    "duration": 4,
    "start_time": "2025-03-24T19:26:54.560Z"
   },
   {
    "duration": 14,
    "start_time": "2025-03-24T19:26:54.566Z"
   },
   {
    "duration": 79,
    "start_time": "2025-03-24T19:26:54.582Z"
   },
   {
    "duration": 12,
    "start_time": "2025-03-24T19:26:54.663Z"
   },
   {
    "duration": 6,
    "start_time": "2025-03-24T19:26:54.676Z"
   },
   {
    "duration": 22,
    "start_time": "2025-03-24T19:26:54.684Z"
   },
   {
    "duration": 56,
    "start_time": "2025-03-24T19:26:54.708Z"
   },
   {
    "duration": 3,
    "start_time": "2025-03-24T19:26:54.765Z"
   },
   {
    "duration": 8,
    "start_time": "2025-03-24T19:26:54.769Z"
   },
   {
    "duration": 604,
    "start_time": "2025-03-24T19:26:54.778Z"
   },
   {
    "duration": 3,
    "start_time": "2025-03-24T19:26:55.383Z"
   },
   {
    "duration": 77,
    "start_time": "2025-03-24T19:26:55.387Z"
   },
   {
    "duration": 2,
    "start_time": "2025-03-24T19:26:55.465Z"
   },
   {
    "duration": 8,
    "start_time": "2025-03-24T19:26:55.469Z"
   },
   {
    "duration": 2,
    "start_time": "2025-03-24T19:26:55.478Z"
   },
   {
    "duration": 583,
    "start_time": "2025-03-24T19:26:55.481Z"
   },
   {
    "duration": 13,
    "start_time": "2025-03-24T19:26:56.065Z"
   },
   {
    "duration": 4,
    "start_time": "2025-03-24T19:26:56.079Z"
   },
   {
    "duration": 21,
    "start_time": "2025-03-24T19:26:56.084Z"
   },
   {
    "duration": 5,
    "start_time": "2025-03-24T19:26:56.106Z"
   },
   {
    "duration": 3,
    "start_time": "2025-03-24T19:26:56.113Z"
   },
   {
    "duration": 5,
    "start_time": "2025-03-24T19:26:56.118Z"
   },
   {
    "duration": 21,
    "start_time": "2025-03-24T19:26:56.158Z"
   },
   {
    "duration": 13,
    "start_time": "2025-03-24T19:26:56.181Z"
   },
   {
    "duration": 9,
    "start_time": "2025-03-24T19:26:56.195Z"
   },
   {
    "duration": 8,
    "start_time": "2025-03-24T19:26:56.206Z"
   },
   {
    "duration": 5,
    "start_time": "2025-03-24T19:26:56.215Z"
   },
   {
    "duration": 8,
    "start_time": "2025-03-24T19:26:56.222Z"
   },
   {
    "duration": 29,
    "start_time": "2025-03-24T19:26:56.231Z"
   },
   {
    "duration": 61,
    "start_time": "2025-03-24T19:26:56.262Z"
   },
   {
    "duration": 8,
    "start_time": "2025-03-24T19:26:56.325Z"
   },
   {
    "duration": 5,
    "start_time": "2025-03-24T19:26:56.335Z"
   },
   {
    "duration": 4,
    "start_time": "2025-03-24T19:26:56.342Z"
   },
   {
    "duration": 2,
    "start_time": "2025-03-24T19:26:56.348Z"
   },
   {
    "duration": 4,
    "start_time": "2025-03-24T19:26:56.352Z"
   },
   {
    "duration": 4,
    "start_time": "2025-03-24T19:26:56.358Z"
   },
   {
    "duration": 6,
    "start_time": "2025-03-24T19:26:56.364Z"
   },
   {
    "duration": 12,
    "start_time": "2025-03-24T19:26:56.372Z"
   },
   {
    "duration": 182,
    "start_time": "2025-03-24T19:26:56.389Z"
   },
   {
    "duration": 5,
    "start_time": "2025-03-24T19:26:56.572Z"
   },
   {
    "duration": 217,
    "start_time": "2025-03-24T19:26:56.579Z"
   },
   {
    "duration": 22,
    "start_time": "2025-03-24T19:26:56.797Z"
   },
   {
    "duration": 11,
    "start_time": "2025-03-24T19:26:56.821Z"
   },
   {
    "duration": 29,
    "start_time": "2025-03-24T19:26:56.833Z"
   },
   {
    "duration": 173,
    "start_time": "2025-03-24T19:26:56.864Z"
   },
   {
    "duration": 21,
    "start_time": "2025-03-24T19:26:57.038Z"
   },
   {
    "duration": 2,
    "start_time": "2025-03-24T19:28:27.564Z"
   },
   {
    "duration": 5,
    "start_time": "2025-03-24T19:30:07.317Z"
   },
   {
    "duration": 3,
    "start_time": "2025-03-24T19:31:32.494Z"
   },
   {
    "duration": 12,
    "start_time": "2025-03-24T19:31:33.150Z"
   },
   {
    "duration": 639,
    "start_time": "2025-03-24T19:31:37.584Z"
   },
   {
    "duration": 70,
    "start_time": "2025-03-24T19:31:38.224Z"
   },
   {
    "duration": 72,
    "start_time": "2025-03-24T19:31:38.296Z"
   },
   {
    "duration": 37,
    "start_time": "2025-03-24T19:31:38.370Z"
   },
   {
    "duration": 12,
    "start_time": "2025-03-24T19:31:38.409Z"
   },
   {
    "duration": 11,
    "start_time": "2025-03-24T19:31:38.422Z"
   },
   {
    "duration": 11,
    "start_time": "2025-03-24T19:31:38.435Z"
   },
   {
    "duration": 10,
    "start_time": "2025-03-24T19:31:38.448Z"
   },
   {
    "duration": 11,
    "start_time": "2025-03-24T19:31:38.460Z"
   },
   {
    "duration": 7,
    "start_time": "2025-03-24T19:31:38.474Z"
   },
   {
    "duration": 13,
    "start_time": "2025-03-24T19:31:38.483Z"
   },
   {
    "duration": 10,
    "start_time": "2025-03-24T19:31:38.498Z"
   },
   {
    "duration": 9,
    "start_time": "2025-03-24T19:31:38.558Z"
   },
   {
    "duration": 3,
    "start_time": "2025-03-24T19:31:38.570Z"
   },
   {
    "duration": 7,
    "start_time": "2025-03-24T19:31:38.575Z"
   },
   {
    "duration": 82,
    "start_time": "2025-03-24T19:31:38.583Z"
   },
   {
    "duration": 9,
    "start_time": "2025-03-24T19:31:38.671Z"
   },
   {
    "duration": 6,
    "start_time": "2025-03-24T19:31:38.681Z"
   },
   {
    "duration": 5,
    "start_time": "2025-03-24T19:31:38.688Z"
   },
   {
    "duration": 8,
    "start_time": "2025-03-24T19:31:38.694Z"
   },
   {
    "duration": 10,
    "start_time": "2025-03-24T19:31:38.757Z"
   },
   {
    "duration": 3,
    "start_time": "2025-03-24T19:31:38.769Z"
   },
   {
    "duration": 5,
    "start_time": "2025-03-24T19:31:38.774Z"
   },
   {
    "duration": 15,
    "start_time": "2025-03-24T19:31:38.780Z"
   },
   {
    "duration": 272,
    "start_time": "2025-03-24T19:31:38.797Z"
   },
   {
    "duration": 7,
    "start_time": "2025-03-24T19:31:39.070Z"
   },
   {
    "duration": 4,
    "start_time": "2025-03-24T19:31:39.079Z"
   },
   {
    "duration": 9,
    "start_time": "2025-03-24T19:31:39.090Z"
   },
   {
    "duration": 393,
    "start_time": "2025-03-24T19:31:39.101Z"
   },
   {
    "duration": 5,
    "start_time": "2025-03-24T19:31:39.496Z"
   },
   {
    "duration": 59,
    "start_time": "2025-03-24T19:31:39.502Z"
   },
   {
    "duration": 7,
    "start_time": "2025-03-24T19:31:39.562Z"
   },
   {
    "duration": 4,
    "start_time": "2025-03-24T19:31:39.570Z"
   },
   {
    "duration": 314,
    "start_time": "2025-03-24T19:31:39.576Z"
   },
   {
    "duration": 10,
    "start_time": "2025-03-24T19:31:39.892Z"
   },
   {
    "duration": 346,
    "start_time": "2025-03-24T19:31:39.959Z"
   },
   {
    "duration": 9,
    "start_time": "2025-03-24T19:31:40.359Z"
   },
   {
    "duration": 508,
    "start_time": "2025-03-24T19:31:40.369Z"
   },
   {
    "duration": 18,
    "start_time": "2025-03-24T19:31:40.878Z"
   },
   {
    "duration": 496,
    "start_time": "2025-03-24T19:31:40.897Z"
   },
   {
    "duration": 9,
    "start_time": "2025-03-24T19:31:41.394Z"
   },
   {
    "duration": 10,
    "start_time": "2025-03-24T19:31:41.459Z"
   },
   {
    "duration": 11,
    "start_time": "2025-03-24T19:31:41.471Z"
   },
   {
    "duration": 4,
    "start_time": "2025-03-24T19:31:41.483Z"
   },
   {
    "duration": 69,
    "start_time": "2025-03-24T19:31:41.489Z"
   },
   {
    "duration": 9,
    "start_time": "2025-03-24T19:31:41.561Z"
   },
   {
    "duration": 20,
    "start_time": "2025-03-24T19:31:41.573Z"
   },
   {
    "duration": 56,
    "start_time": "2025-03-24T19:31:41.602Z"
   },
   {
    "duration": 61,
    "start_time": "2025-03-24T19:31:41.660Z"
   },
   {
    "duration": 38,
    "start_time": "2025-03-24T19:31:41.723Z"
   },
   {
    "duration": 5,
    "start_time": "2025-03-24T19:31:41.764Z"
   },
   {
    "duration": 11,
    "start_time": "2025-03-24T19:31:41.771Z"
   },
   {
    "duration": 498,
    "start_time": "2025-03-24T19:31:41.784Z"
   },
   {
    "duration": 3,
    "start_time": "2025-03-24T19:31:42.283Z"
   },
   {
    "duration": 45,
    "start_time": "2025-03-24T19:31:42.287Z"
   },
   {
    "duration": 2,
    "start_time": "2025-03-24T19:31:42.334Z"
   },
   {
    "duration": 10,
    "start_time": "2025-03-24T19:31:42.337Z"
   },
   {
    "duration": 3,
    "start_time": "2025-03-24T19:31:42.349Z"
   },
   {
    "duration": 283,
    "start_time": "2025-03-24T19:31:42.353Z"
   },
   {
    "duration": 12,
    "start_time": "2025-03-24T19:31:42.638Z"
   },
   {
    "duration": 13,
    "start_time": "2025-03-24T19:31:42.651Z"
   },
   {
    "duration": 22,
    "start_time": "2025-03-24T19:31:42.665Z"
   },
   {
    "duration": 6,
    "start_time": "2025-03-24T19:31:42.690Z"
   },
   {
    "duration": 2,
    "start_time": "2025-03-24T19:31:42.698Z"
   },
   {
    "duration": 14,
    "start_time": "2025-03-24T19:31:42.702Z"
   },
   {
    "duration": 9,
    "start_time": "2025-03-24T19:31:42.718Z"
   },
   {
    "duration": 30,
    "start_time": "2025-03-24T19:31:42.728Z"
   },
   {
    "duration": 9,
    "start_time": "2025-03-24T19:31:42.759Z"
   },
   {
    "duration": 7,
    "start_time": "2025-03-24T19:31:42.770Z"
   },
   {
    "duration": 5,
    "start_time": "2025-03-24T19:31:42.778Z"
   },
   {
    "duration": 7,
    "start_time": "2025-03-24T19:31:42.784Z"
   },
   {
    "duration": 12,
    "start_time": "2025-03-24T19:31:42.792Z"
   },
   {
    "duration": 13,
    "start_time": "2025-03-24T19:31:42.805Z"
   },
   {
    "duration": 46,
    "start_time": "2025-03-24T19:31:42.820Z"
   },
   {
    "duration": 4,
    "start_time": "2025-03-24T19:31:42.867Z"
   },
   {
    "duration": 5,
    "start_time": "2025-03-24T19:31:42.872Z"
   },
   {
    "duration": 3,
    "start_time": "2025-03-24T19:31:42.878Z"
   },
   {
    "duration": 6,
    "start_time": "2025-03-24T19:31:42.883Z"
   },
   {
    "duration": 113,
    "start_time": "2025-03-24T19:31:42.890Z"
   },
   {
    "duration": 12,
    "start_time": "2025-03-24T19:31:43.004Z"
   },
   {
    "duration": 14,
    "start_time": "2025-03-24T19:31:43.018Z"
   },
   {
    "duration": 166,
    "start_time": "2025-03-24T19:31:43.038Z"
   },
   {
    "duration": 4,
    "start_time": "2025-03-24T19:31:43.206Z"
   },
   {
    "duration": 164,
    "start_time": "2025-03-24T19:31:43.212Z"
   },
   {
    "duration": 22,
    "start_time": "2025-03-24T19:31:43.378Z"
   },
   {
    "duration": 40,
    "start_time": "2025-03-24T19:31:43.402Z"
   },
   {
    "duration": 9,
    "start_time": "2025-03-24T19:31:43.443Z"
   },
   {
    "duration": 164,
    "start_time": "2025-03-24T19:31:43.454Z"
   },
   {
    "duration": 13,
    "start_time": "2025-03-24T19:31:43.620Z"
   },
   {
    "duration": 198,
    "start_time": "2025-03-24T19:32:45.021Z"
   },
   {
    "duration": 180,
    "start_time": "2025-03-24T19:34:25.348Z"
   },
   {
    "duration": 49,
    "start_time": "2025-03-25T06:46:56.446Z"
   },
   {
    "duration": 882,
    "start_time": "2025-03-25T06:47:07.622Z"
   },
   {
    "duration": 65,
    "start_time": "2025-03-25T06:47:08.506Z"
   },
   {
    "duration": 73,
    "start_time": "2025-03-25T06:47:08.573Z"
   },
   {
    "duration": 43,
    "start_time": "2025-03-25T06:47:08.648Z"
   },
   {
    "duration": 14,
    "start_time": "2025-03-25T06:47:08.692Z"
   },
   {
    "duration": 30,
    "start_time": "2025-03-25T06:47:08.708Z"
   },
   {
    "duration": 13,
    "start_time": "2025-03-25T06:47:08.739Z"
   },
   {
    "duration": 13,
    "start_time": "2025-03-25T06:47:08.754Z"
   },
   {
    "duration": 24,
    "start_time": "2025-03-25T06:47:08.768Z"
   },
   {
    "duration": 28,
    "start_time": "2025-03-25T06:47:08.796Z"
   },
   {
    "duration": 20,
    "start_time": "2025-03-25T06:47:08.826Z"
   },
   {
    "duration": 39,
    "start_time": "2025-03-25T06:47:08.848Z"
   },
   {
    "duration": 12,
    "start_time": "2025-03-25T06:47:08.890Z"
   },
   {
    "duration": 3,
    "start_time": "2025-03-25T06:47:08.904Z"
   },
   {
    "duration": 9,
    "start_time": "2025-03-25T06:47:08.908Z"
   },
   {
    "duration": 15,
    "start_time": "2025-03-25T06:47:08.918Z"
   },
   {
    "duration": 14,
    "start_time": "2025-03-25T06:47:08.935Z"
   },
   {
    "duration": 8,
    "start_time": "2025-03-25T06:47:08.951Z"
   },
   {
    "duration": 9,
    "start_time": "2025-03-25T06:47:08.962Z"
   },
   {
    "duration": 10,
    "start_time": "2025-03-25T06:47:08.973Z"
   },
   {
    "duration": 17,
    "start_time": "2025-03-25T06:47:08.984Z"
   },
   {
    "duration": 8,
    "start_time": "2025-03-25T06:47:09.003Z"
   },
   {
    "duration": 9,
    "start_time": "2025-03-25T06:47:09.012Z"
   },
   {
    "duration": 19,
    "start_time": "2025-03-25T06:47:09.022Z"
   },
   {
    "duration": 152,
    "start_time": "2025-03-25T06:47:09.043Z"
   },
   {
    "duration": 6,
    "start_time": "2025-03-25T06:47:09.198Z"
   },
   {
    "duration": 37,
    "start_time": "2025-03-25T06:47:09.206Z"
   },
   {
    "duration": 7,
    "start_time": "2025-03-25T06:47:09.248Z"
   },
   {
    "duration": 178,
    "start_time": "2025-03-25T06:47:09.257Z"
   },
   {
    "duration": 7,
    "start_time": "2025-03-25T06:47:09.437Z"
   },
   {
    "duration": 18,
    "start_time": "2025-03-25T06:47:09.446Z"
   },
   {
    "duration": 11,
    "start_time": "2025-03-25T06:47:09.466Z"
   },
   {
    "duration": 14,
    "start_time": "2025-03-25T06:47:09.479Z"
   },
   {
    "duration": 169,
    "start_time": "2025-03-25T06:47:09.495Z"
   },
   {
    "duration": 9,
    "start_time": "2025-03-25T06:47:09.665Z"
   },
   {
    "duration": 197,
    "start_time": "2025-03-25T06:47:09.675Z"
   },
   {
    "duration": 9,
    "start_time": "2025-03-25T06:47:09.874Z"
   },
   {
    "duration": 278,
    "start_time": "2025-03-25T06:47:09.884Z"
   },
   {
    "duration": 8,
    "start_time": "2025-03-25T06:47:10.164Z"
   },
   {
    "duration": 224,
    "start_time": "2025-03-25T06:47:10.174Z"
   },
   {
    "duration": 9,
    "start_time": "2025-03-25T06:47:10.400Z"
   },
   {
    "duration": 53,
    "start_time": "2025-03-25T06:47:10.411Z"
   },
   {
    "duration": 35,
    "start_time": "2025-03-25T06:47:10.465Z"
   },
   {
    "duration": 19,
    "start_time": "2025-03-25T06:47:10.501Z"
   },
   {
    "duration": 19,
    "start_time": "2025-03-25T06:47:10.522Z"
   },
   {
    "duration": 12,
    "start_time": "2025-03-25T06:47:10.542Z"
   },
   {
    "duration": 17,
    "start_time": "2025-03-25T06:47:10.556Z"
   },
   {
    "duration": 12,
    "start_time": "2025-03-25T06:47:10.574Z"
   },
   {
    "duration": 13,
    "start_time": "2025-03-25T06:47:10.588Z"
   },
   {
    "duration": 13,
    "start_time": "2025-03-25T06:47:10.602Z"
   },
   {
    "duration": 7,
    "start_time": "2025-03-25T06:47:10.616Z"
   },
   {
    "duration": 18,
    "start_time": "2025-03-25T06:47:10.625Z"
   },
   {
    "duration": 425,
    "start_time": "2025-03-25T06:47:10.645Z"
   },
   {
    "duration": 7,
    "start_time": "2025-03-25T06:47:11.073Z"
   },
   {
    "duration": 17,
    "start_time": "2025-03-25T06:47:11.082Z"
   },
   {
    "duration": 12,
    "start_time": "2025-03-25T06:47:11.100Z"
   },
   {
    "duration": 55,
    "start_time": "2025-03-25T06:47:11.113Z"
   },
   {
    "duration": 12,
    "start_time": "2025-03-25T06:47:11.170Z"
   },
   {
    "duration": 604,
    "start_time": "2025-03-25T06:47:11.183Z"
   },
   {
    "duration": 14,
    "start_time": "2025-03-25T06:47:11.788Z"
   },
   {
    "duration": 93,
    "start_time": "2025-03-25T06:47:11.803Z"
   },
   {
    "duration": 78,
    "start_time": "2025-03-25T06:47:11.898Z"
   },
   {
    "duration": 7,
    "start_time": "2025-03-25T06:47:11.978Z"
   },
   {
    "duration": 12,
    "start_time": "2025-03-25T06:47:11.987Z"
   },
   {
    "duration": 63,
    "start_time": "2025-03-25T06:47:12.001Z"
   },
   {
    "duration": 12,
    "start_time": "2025-03-25T06:47:12.067Z"
   },
   {
    "duration": 80,
    "start_time": "2025-03-25T06:47:12.082Z"
   },
   {
    "duration": 11,
    "start_time": "2025-03-25T06:47:12.165Z"
   },
   {
    "duration": 155,
    "start_time": "2025-03-25T06:47:12.178Z"
   },
   {
    "duration": 52,
    "start_time": "2025-03-25T06:47:12.335Z"
   },
   {
    "duration": 14,
    "start_time": "2025-03-25T06:47:12.389Z"
   },
   {
    "duration": 14,
    "start_time": "2025-03-25T06:47:12.404Z"
   },
   {
    "duration": 20,
    "start_time": "2025-03-25T06:47:12.420Z"
   },
   {
    "duration": 10,
    "start_time": "2025-03-25T06:47:12.442Z"
   },
   {
    "duration": 5,
    "start_time": "2025-03-25T06:47:12.454Z"
   },
   {
    "duration": 9,
    "start_time": "2025-03-25T06:47:12.460Z"
   },
   {
    "duration": 5,
    "start_time": "2025-03-25T06:47:12.471Z"
   },
   {
    "duration": 12,
    "start_time": "2025-03-25T06:47:12.478Z"
   },
   {
    "duration": 15,
    "start_time": "2025-03-25T06:47:12.492Z"
   },
   {
    "duration": 11,
    "start_time": "2025-03-25T06:47:12.508Z"
   },
   {
    "duration": 16,
    "start_time": "2025-03-25T06:47:12.521Z"
   },
   {
    "duration": 200,
    "start_time": "2025-03-25T06:47:12.542Z"
   },
   {
    "duration": 5,
    "start_time": "2025-03-25T06:47:12.743Z"
   },
   {
    "duration": 314,
    "start_time": "2025-03-25T06:47:12.750Z"
   },
   {
    "duration": 22,
    "start_time": "2025-03-25T06:47:13.066Z"
   },
   {
    "duration": 101,
    "start_time": "2025-03-25T06:47:13.090Z"
   },
   {
    "duration": 55,
    "start_time": "2025-03-25T06:47:13.192Z"
   },
   {
    "duration": 180,
    "start_time": "2025-03-25T06:47:13.249Z"
   },
   {
    "duration": 13,
    "start_time": "2025-03-25T06:47:13.431Z"
   },
   {
    "duration": 6,
    "start_time": "2025-03-25T07:20:11.602Z"
   },
   {
    "duration": 6,
    "start_time": "2025-03-25T07:20:28.656Z"
   },
   {
    "duration": 712,
    "start_time": "2025-03-25T07:21:43.172Z"
   },
   {
    "duration": 83,
    "start_time": "2025-03-25T07:21:43.886Z"
   },
   {
    "duration": 122,
    "start_time": "2025-03-25T07:21:43.971Z"
   },
   {
    "duration": 97,
    "start_time": "2025-03-25T07:21:44.096Z"
   },
   {
    "duration": 13,
    "start_time": "2025-03-25T07:21:44.195Z"
   },
   {
    "duration": 20,
    "start_time": "2025-03-25T07:21:44.210Z"
   },
   {
    "duration": 12,
    "start_time": "2025-03-25T07:21:44.232Z"
   },
   {
    "duration": 12,
    "start_time": "2025-03-25T07:21:44.245Z"
   },
   {
    "duration": 26,
    "start_time": "2025-03-25T07:21:44.258Z"
   },
   {
    "duration": 15,
    "start_time": "2025-03-25T07:21:44.286Z"
   },
   {
    "duration": 19,
    "start_time": "2025-03-25T07:21:44.303Z"
   },
   {
    "duration": 11,
    "start_time": "2025-03-25T07:21:44.324Z"
   },
   {
    "duration": 25,
    "start_time": "2025-03-25T07:21:44.337Z"
   },
   {
    "duration": 9,
    "start_time": "2025-03-25T07:21:44.365Z"
   },
   {
    "duration": 163,
    "start_time": "2025-03-25T07:21:44.376Z"
   },
   {
    "duration": 4,
    "start_time": "2025-03-25T07:21:44.541Z"
   },
   {
    "duration": 28,
    "start_time": "2025-03-25T07:21:44.546Z"
   },
   {
    "duration": 24,
    "start_time": "2025-03-25T07:21:44.576Z"
   },
   {
    "duration": 60,
    "start_time": "2025-03-25T07:21:44.602Z"
   },
   {
    "duration": 16,
    "start_time": "2025-03-25T07:21:44.665Z"
   },
   {
    "duration": 38,
    "start_time": "2025-03-25T07:21:44.683Z"
   },
   {
    "duration": 42,
    "start_time": "2025-03-25T07:21:44.722Z"
   },
   {
    "duration": 23,
    "start_time": "2025-03-25T07:21:44.766Z"
   },
   {
    "duration": 10,
    "start_time": "2025-03-25T07:21:44.791Z"
   },
   {
    "duration": 361,
    "start_time": "2025-03-25T07:21:44.803Z"
   },
   {
    "duration": 9,
    "start_time": "2025-03-25T07:21:45.166Z"
   },
   {
    "duration": 30,
    "start_time": "2025-03-25T07:21:45.177Z"
   },
   {
    "duration": 55,
    "start_time": "2025-03-25T07:21:45.214Z"
   },
   {
    "duration": 393,
    "start_time": "2025-03-25T07:21:45.271Z"
   },
   {
    "duration": 6,
    "start_time": "2025-03-25T07:21:45.666Z"
   },
   {
    "duration": 19,
    "start_time": "2025-03-25T07:21:45.674Z"
   },
   {
    "duration": 14,
    "start_time": "2025-03-25T07:21:45.695Z"
   },
   {
    "duration": 6,
    "start_time": "2025-03-25T07:21:45.711Z"
   },
   {
    "duration": 164,
    "start_time": "2025-03-25T07:21:45.718Z"
   },
   {
    "duration": 9,
    "start_time": "2025-03-25T07:21:45.884Z"
   },
   {
    "duration": 267,
    "start_time": "2025-03-25T07:21:45.895Z"
   },
   {
    "duration": 9,
    "start_time": "2025-03-25T07:21:46.163Z"
   },
   {
    "duration": 262,
    "start_time": "2025-03-25T07:21:46.174Z"
   },
   {
    "duration": 9,
    "start_time": "2025-03-25T07:21:46.437Z"
   },
   {
    "duration": 311,
    "start_time": "2025-03-25T07:21:46.448Z"
   },
   {
    "duration": 10,
    "start_time": "2025-03-25T07:21:46.762Z"
   },
   {
    "duration": 16,
    "start_time": "2025-03-25T07:21:46.773Z"
   },
   {
    "duration": 14,
    "start_time": "2025-03-25T07:21:46.791Z"
   },
   {
    "duration": 12,
    "start_time": "2025-03-25T07:21:46.807Z"
   },
   {
    "duration": 43,
    "start_time": "2025-03-25T07:21:46.821Z"
   },
   {
    "duration": 167,
    "start_time": "2025-03-25T07:21:46.866Z"
   },
   {
    "duration": 20,
    "start_time": "2025-03-25T07:21:47.035Z"
   },
   {
    "duration": 18,
    "start_time": "2025-03-25T07:21:47.057Z"
   },
   {
    "duration": 30,
    "start_time": "2025-03-25T07:21:47.077Z"
   },
   {
    "duration": 11,
    "start_time": "2025-03-25T07:21:47.109Z"
   },
   {
    "duration": 2,
    "start_time": "2025-03-25T07:21:47.122Z"
   },
   {
    "duration": 14,
    "start_time": "2025-03-25T07:21:47.126Z"
   },
   {
    "duration": 275,
    "start_time": "2025-03-25T07:21:47.142Z"
   },
   {
    "duration": 2,
    "start_time": "2025-03-25T07:21:47.419Z"
   },
   {
    "duration": 19,
    "start_time": "2025-03-25T07:21:47.423Z"
   },
   {
    "duration": 2,
    "start_time": "2025-03-25T07:21:47.444Z"
   },
   {
    "duration": 29,
    "start_time": "2025-03-25T07:21:47.447Z"
   },
   {
    "duration": 15,
    "start_time": "2025-03-25T07:21:47.478Z"
   },
   {
    "duration": 328,
    "start_time": "2025-03-25T07:21:47.495Z"
   },
   {
    "duration": 13,
    "start_time": "2025-03-25T07:21:47.825Z"
   },
   {
    "duration": 32,
    "start_time": "2025-03-25T07:21:47.840Z"
   },
   {
    "duration": 33,
    "start_time": "2025-03-25T07:21:47.874Z"
   },
   {
    "duration": 66,
    "start_time": "2025-03-25T07:21:47.908Z"
   },
   {
    "duration": 12,
    "start_time": "2025-03-25T07:21:47.976Z"
   },
   {
    "duration": 11,
    "start_time": "2025-03-25T07:21:47.989Z"
   },
   {
    "duration": 17,
    "start_time": "2025-03-25T07:21:48.002Z"
   },
   {
    "duration": 12,
    "start_time": "2025-03-25T07:21:48.021Z"
   },
   {
    "duration": 8,
    "start_time": "2025-03-25T07:21:48.035Z"
   },
   {
    "duration": 10,
    "start_time": "2025-03-25T07:21:48.045Z"
   },
   {
    "duration": 22,
    "start_time": "2025-03-25T07:21:48.062Z"
   },
   {
    "duration": 18,
    "start_time": "2025-03-25T07:21:48.085Z"
   },
   {
    "duration": 12,
    "start_time": "2025-03-25T07:21:48.105Z"
   },
   {
    "duration": 22,
    "start_time": "2025-03-25T07:21:48.119Z"
   },
   {
    "duration": 15,
    "start_time": "2025-03-25T07:21:48.143Z"
   },
   {
    "duration": 20,
    "start_time": "2025-03-25T07:21:48.160Z"
   },
   {
    "duration": 21,
    "start_time": "2025-03-25T07:21:48.182Z"
   },
   {
    "duration": 22,
    "start_time": "2025-03-25T07:21:48.205Z"
   },
   {
    "duration": 24,
    "start_time": "2025-03-25T07:21:48.229Z"
   },
   {
    "duration": 32,
    "start_time": "2025-03-25T07:21:48.255Z"
   },
   {
    "duration": 22,
    "start_time": "2025-03-25T07:21:48.289Z"
   },
   {
    "duration": 41,
    "start_time": "2025-03-25T07:21:48.313Z"
   },
   {
    "duration": 355,
    "start_time": "2025-03-25T07:21:48.359Z"
   },
   {
    "duration": 5,
    "start_time": "2025-03-25T07:21:48.716Z"
   },
   {
    "duration": 22,
    "start_time": "2025-03-25T07:21:48.722Z"
   },
   {
    "duration": 17,
    "start_time": "2025-03-25T07:21:48.746Z"
   },
   {
    "duration": 172,
    "start_time": "2025-03-25T07:21:48.764Z"
   },
   {
    "duration": 32,
    "start_time": "2025-03-25T07:21:48.937Z"
   },
   {
    "duration": 11,
    "start_time": "2025-03-25T07:21:48.971Z"
   },
   {
    "duration": 34,
    "start_time": "2025-03-25T07:21:48.983Z"
   },
   {
    "duration": 172,
    "start_time": "2025-03-25T07:21:49.019Z"
   },
   {
    "duration": 13,
    "start_time": "2025-03-25T07:21:49.193Z"
   },
   {
    "duration": 5,
    "start_time": "2025-03-25T07:22:13.312Z"
   },
   {
    "duration": 20,
    "start_time": "2025-03-25T07:22:13.660Z"
   },
   {
    "duration": 4,
    "start_time": "2025-03-25T07:22:42.028Z"
   },
   {
    "duration": 15,
    "start_time": "2025-03-25T07:22:43.788Z"
   },
   {
    "duration": 4,
    "start_time": "2025-03-25T07:23:11.767Z"
   },
   {
    "duration": 5,
    "start_time": "2025-03-25T07:23:23.334Z"
   },
   {
    "duration": 13,
    "start_time": "2025-03-25T07:23:27.897Z"
   },
   {
    "duration": 176,
    "start_time": "2025-03-25T07:23:29.097Z"
   },
   {
    "duration": 4,
    "start_time": "2025-03-25T07:23:32.755Z"
   },
   {
    "duration": 12,
    "start_time": "2025-03-25T07:23:32.939Z"
   },
   {
    "duration": 4,
    "start_time": "2025-03-25T07:24:40.063Z"
   },
   {
    "duration": 12,
    "start_time": "2025-03-25T07:24:40.400Z"
   },
   {
    "duration": 4,
    "start_time": "2025-03-25T07:24:55.494Z"
   },
   {
    "duration": 18,
    "start_time": "2025-03-25T07:24:55.682Z"
   },
   {
    "duration": 6,
    "start_time": "2025-03-25T07:25:51.780Z"
   },
   {
    "duration": 118,
    "start_time": "2025-03-25T07:31:09.886Z"
   },
   {
    "duration": 105,
    "start_time": "2025-03-25T07:31:18.833Z"
   },
   {
    "duration": 2,
    "start_time": "2025-03-25T07:31:25.242Z"
   },
   {
    "duration": 3,
    "start_time": "2025-03-25T07:32:36.128Z"
   },
   {
    "duration": 528,
    "start_time": "2025-03-25T07:46:17.563Z"
   },
   {
    "duration": 1166,
    "start_time": "2025-03-25T07:46:21.970Z"
   },
   {
    "duration": 48,
    "start_time": "2025-03-25T07:46:23.138Z"
   },
   {
    "duration": 112,
    "start_time": "2025-03-25T07:46:23.188Z"
   },
   {
    "duration": 37,
    "start_time": "2025-03-25T07:46:23.302Z"
   },
   {
    "duration": 13,
    "start_time": "2025-03-25T07:46:23.341Z"
   },
   {
    "duration": 23,
    "start_time": "2025-03-25T07:46:23.356Z"
   },
   {
    "duration": 52,
    "start_time": "2025-03-25T07:46:23.381Z"
   },
   {
    "duration": 24,
    "start_time": "2025-03-25T07:46:23.435Z"
   },
   {
    "duration": 12,
    "start_time": "2025-03-25T07:46:23.461Z"
   },
   {
    "duration": 11,
    "start_time": "2025-03-25T07:46:23.477Z"
   },
   {
    "duration": 19,
    "start_time": "2025-03-25T07:46:23.490Z"
   },
   {
    "duration": 10,
    "start_time": "2025-03-25T07:46:23.511Z"
   },
   {
    "duration": 15,
    "start_time": "2025-03-25T07:46:23.523Z"
   },
   {
    "duration": 2,
    "start_time": "2025-03-25T07:46:23.540Z"
   },
   {
    "duration": 21,
    "start_time": "2025-03-25T07:46:23.544Z"
   },
   {
    "duration": 5,
    "start_time": "2025-03-25T07:46:23.567Z"
   },
   {
    "duration": 9,
    "start_time": "2025-03-25T07:46:23.574Z"
   },
   {
    "duration": 6,
    "start_time": "2025-03-25T07:46:23.584Z"
   },
   {
    "duration": 11,
    "start_time": "2025-03-25T07:46:23.592Z"
   },
   {
    "duration": 15,
    "start_time": "2025-03-25T07:46:23.604Z"
   },
   {
    "duration": 9,
    "start_time": "2025-03-25T07:46:23.621Z"
   },
   {
    "duration": 33,
    "start_time": "2025-03-25T07:46:23.631Z"
   },
   {
    "duration": 8,
    "start_time": "2025-03-25T07:46:23.666Z"
   },
   {
    "duration": 24,
    "start_time": "2025-03-25T07:46:23.675Z"
   },
   {
    "duration": 148,
    "start_time": "2025-03-25T07:46:23.701Z"
   },
   {
    "duration": 11,
    "start_time": "2025-03-25T07:46:23.852Z"
   },
   {
    "duration": 9,
    "start_time": "2025-03-25T07:46:23.864Z"
   },
   {
    "duration": 33,
    "start_time": "2025-03-25T07:46:23.878Z"
   },
   {
    "duration": 199,
    "start_time": "2025-03-25T07:46:23.913Z"
   },
   {
    "duration": 5,
    "start_time": "2025-03-25T07:46:24.114Z"
   },
   {
    "duration": 6,
    "start_time": "2025-03-25T07:46:24.120Z"
   },
   {
    "duration": 14,
    "start_time": "2025-03-25T07:46:24.128Z"
   },
   {
    "duration": 19,
    "start_time": "2025-03-25T07:46:24.144Z"
   },
   {
    "duration": 142,
    "start_time": "2025-03-25T07:46:24.165Z"
   },
   {
    "duration": 8,
    "start_time": "2025-03-25T07:46:24.309Z"
   },
   {
    "duration": 183,
    "start_time": "2025-03-25T07:46:24.318Z"
   },
   {
    "duration": 9,
    "start_time": "2025-03-25T07:46:24.503Z"
   },
   {
    "duration": 298,
    "start_time": "2025-03-25T07:46:24.514Z"
   },
   {
    "duration": 10,
    "start_time": "2025-03-25T07:46:24.814Z"
   },
   {
    "duration": 214,
    "start_time": "2025-03-25T07:46:24.825Z"
   },
   {
    "duration": 22,
    "start_time": "2025-03-25T07:46:25.040Z"
   },
   {
    "duration": 75,
    "start_time": "2025-03-25T07:46:25.064Z"
   },
   {
    "duration": 26,
    "start_time": "2025-03-25T07:46:25.141Z"
   },
   {
    "duration": 19,
    "start_time": "2025-03-25T07:46:25.169Z"
   },
   {
    "duration": 26,
    "start_time": "2025-03-25T07:46:25.190Z"
   },
   {
    "duration": 11,
    "start_time": "2025-03-25T07:46:25.218Z"
   },
   {
    "duration": 15,
    "start_time": "2025-03-25T07:46:25.231Z"
   },
   {
    "duration": 13,
    "start_time": "2025-03-25T07:46:25.248Z"
   },
   {
    "duration": 20,
    "start_time": "2025-03-25T07:46:25.263Z"
   },
   {
    "duration": 16,
    "start_time": "2025-03-25T07:46:25.285Z"
   },
   {
    "duration": 9,
    "start_time": "2025-03-25T07:46:25.302Z"
   },
   {
    "duration": 14,
    "start_time": "2025-03-25T07:46:25.313Z"
   },
   {
    "duration": 268,
    "start_time": "2025-03-25T07:46:25.329Z"
   },
   {
    "duration": 2,
    "start_time": "2025-03-25T07:46:25.599Z"
   },
   {
    "duration": 11,
    "start_time": "2025-03-25T07:46:25.603Z"
   },
   {
    "duration": 3,
    "start_time": "2025-03-25T07:46:25.616Z"
   },
   {
    "duration": 9,
    "start_time": "2025-03-25T07:46:25.620Z"
   },
   {
    "duration": 33,
    "start_time": "2025-03-25T07:46:25.630Z"
   },
   {
    "duration": 406,
    "start_time": "2025-03-25T07:46:25.664Z"
   },
   {
    "duration": 12,
    "start_time": "2025-03-25T07:46:26.072Z"
   },
   {
    "duration": 28,
    "start_time": "2025-03-25T07:46:26.086Z"
   },
   {
    "duration": 21,
    "start_time": "2025-03-25T07:46:26.116Z"
   },
   {
    "duration": 5,
    "start_time": "2025-03-25T07:46:26.139Z"
   },
   {
    "duration": 17,
    "start_time": "2025-03-25T07:46:26.145Z"
   },
   {
    "duration": 15,
    "start_time": "2025-03-25T07:46:26.164Z"
   },
   {
    "duration": 15,
    "start_time": "2025-03-25T07:46:26.181Z"
   },
   {
    "duration": 17,
    "start_time": "2025-03-25T07:46:26.197Z"
   },
   {
    "duration": 8,
    "start_time": "2025-03-25T07:46:26.216Z"
   },
   {
    "duration": 8,
    "start_time": "2025-03-25T07:46:26.226Z"
   },
   {
    "duration": 6,
    "start_time": "2025-03-25T07:46:26.235Z"
   },
   {
    "duration": 8,
    "start_time": "2025-03-25T07:46:26.261Z"
   },
   {
    "duration": 18,
    "start_time": "2025-03-25T07:46:26.271Z"
   },
   {
    "duration": 13,
    "start_time": "2025-03-25T07:46:26.291Z"
   },
   {
    "duration": 9,
    "start_time": "2025-03-25T07:46:26.306Z"
   },
   {
    "duration": 4,
    "start_time": "2025-03-25T07:46:26.316Z"
   },
   {
    "duration": 9,
    "start_time": "2025-03-25T07:46:26.321Z"
   },
   {
    "duration": 31,
    "start_time": "2025-03-25T07:46:26.332Z"
   },
   {
    "duration": 24,
    "start_time": "2025-03-25T07:46:26.364Z"
   },
   {
    "duration": 6,
    "start_time": "2025-03-25T07:46:26.389Z"
   },
   {
    "duration": 15,
    "start_time": "2025-03-25T07:46:26.396Z"
   },
   {
    "duration": 22,
    "start_time": "2025-03-25T07:46:26.413Z"
   },
   {
    "duration": 355,
    "start_time": "2025-03-25T07:46:26.440Z"
   },
   {
    "duration": 6,
    "start_time": "2025-03-25T07:46:26.797Z"
   },
   {
    "duration": 8,
    "start_time": "2025-03-25T07:46:26.805Z"
   },
   {
    "duration": 4,
    "start_time": "2025-03-25T07:46:26.815Z"
   },
   {
    "duration": 5,
    "start_time": "2025-03-25T07:46:26.820Z"
   },
   {
    "duration": 10,
    "start_time": "2025-03-25T07:46:26.827Z"
   },
   {
    "duration": 215,
    "start_time": "2025-03-25T07:46:26.839Z"
   },
   {
    "duration": 13,
    "start_time": "2025-03-25T07:46:27.055Z"
   },
   {
    "duration": 3,
    "start_time": "2025-03-25T07:47:00.596Z"
   },
   {
    "duration": 5,
    "start_time": "2025-03-25T07:47:58.077Z"
   },
   {
    "duration": 5,
    "start_time": "2025-03-25T07:48:10.696Z"
   },
   {
    "duration": 5,
    "start_time": "2025-03-25T07:49:25.248Z"
   },
   {
    "duration": 5,
    "start_time": "2025-03-25T07:49:25.638Z"
   },
   {
    "duration": 5,
    "start_time": "2025-03-25T07:50:41.599Z"
   },
   {
    "duration": 6,
    "start_time": "2025-03-25T07:50:42.306Z"
   },
   {
    "duration": 5,
    "start_time": "2025-03-25T07:50:44.772Z"
   },
   {
    "duration": 5,
    "start_time": "2025-03-25T07:50:45.191Z"
   },
   {
    "duration": 4,
    "start_time": "2025-03-25T07:50:51.817Z"
   },
   {
    "duration": 4,
    "start_time": "2025-03-25T07:50:52.193Z"
   },
   {
    "duration": 4,
    "start_time": "2025-03-25T07:57:01.631Z"
   },
   {
    "duration": 4,
    "start_time": "2025-03-25T07:57:02.032Z"
   },
   {
    "duration": 3,
    "start_time": "2025-03-25T08:03:52.583Z"
   },
   {
    "duration": 3,
    "start_time": "2025-03-25T08:04:03.096Z"
   },
   {
    "duration": 3,
    "start_time": "2025-03-25T08:04:04.853Z"
   },
   {
    "duration": 1179,
    "start_time": "2025-03-25T08:04:08.765Z"
   },
   {
    "duration": 77,
    "start_time": "2025-03-25T08:04:09.946Z"
   },
   {
    "duration": 69,
    "start_time": "2025-03-25T08:04:10.025Z"
   },
   {
    "duration": 76,
    "start_time": "2025-03-25T08:04:10.095Z"
   },
   {
    "duration": 13,
    "start_time": "2025-03-25T08:04:10.173Z"
   },
   {
    "duration": 40,
    "start_time": "2025-03-25T08:04:10.187Z"
   },
   {
    "duration": 18,
    "start_time": "2025-03-25T08:04:10.229Z"
   },
   {
    "duration": 9,
    "start_time": "2025-03-25T08:04:10.249Z"
   },
   {
    "duration": 19,
    "start_time": "2025-03-25T08:04:10.260Z"
   },
   {
    "duration": 25,
    "start_time": "2025-03-25T08:04:10.281Z"
   },
   {
    "duration": 28,
    "start_time": "2025-03-25T08:04:10.308Z"
   },
   {
    "duration": 48,
    "start_time": "2025-03-25T08:04:10.337Z"
   },
   {
    "duration": 20,
    "start_time": "2025-03-25T08:04:10.387Z"
   },
   {
    "duration": 3,
    "start_time": "2025-03-25T08:04:10.411Z"
   },
   {
    "duration": 29,
    "start_time": "2025-03-25T08:04:10.416Z"
   },
   {
    "duration": 13,
    "start_time": "2025-03-25T08:04:10.447Z"
   },
   {
    "duration": 44,
    "start_time": "2025-03-25T08:04:10.463Z"
   },
   {
    "duration": 207,
    "start_time": "2025-03-25T08:04:10.509Z"
   },
   {
    "duration": 29,
    "start_time": "2025-03-25T08:04:10.718Z"
   },
   {
    "duration": 26,
    "start_time": "2025-03-25T08:04:10.749Z"
   },
   {
    "duration": 18,
    "start_time": "2025-03-25T08:04:10.777Z"
   },
   {
    "duration": 4,
    "start_time": "2025-03-25T08:04:10.797Z"
   },
   {
    "duration": 15,
    "start_time": "2025-03-25T08:04:10.803Z"
   },
   {
    "duration": 30,
    "start_time": "2025-03-25T08:04:10.820Z"
   },
   {
    "duration": 255,
    "start_time": "2025-03-25T08:04:10.853Z"
   },
   {
    "duration": 57,
    "start_time": "2025-03-25T08:04:11.110Z"
   },
   {
    "duration": 159,
    "start_time": "2025-03-25T08:04:11.169Z"
   },
   {
    "duration": 58,
    "start_time": "2025-03-25T08:04:11.330Z"
   },
   {
    "duration": 392,
    "start_time": "2025-03-25T08:04:11.390Z"
   },
   {
    "duration": 5,
    "start_time": "2025-03-25T08:04:11.785Z"
   },
   {
    "duration": 21,
    "start_time": "2025-03-25T08:04:11.792Z"
   },
   {
    "duration": 49,
    "start_time": "2025-03-25T08:04:11.862Z"
   },
   {
    "duration": 62,
    "start_time": "2025-03-25T08:04:11.913Z"
   },
   {
    "duration": 270,
    "start_time": "2025-03-25T08:04:11.977Z"
   },
   {
    "duration": 18,
    "start_time": "2025-03-25T08:04:12.249Z"
   },
   {
    "duration": 193,
    "start_time": "2025-03-25T08:04:12.269Z"
   },
   {
    "duration": 10,
    "start_time": "2025-03-25T08:04:12.464Z"
   },
   {
    "duration": 220,
    "start_time": "2025-03-25T08:04:12.476Z"
   },
   {
    "duration": 16,
    "start_time": "2025-03-25T08:04:12.699Z"
   },
   {
    "duration": 225,
    "start_time": "2025-03-25T08:04:12.718Z"
   },
   {
    "duration": 20,
    "start_time": "2025-03-25T08:04:12.949Z"
   },
   {
    "duration": 43,
    "start_time": "2025-03-25T08:04:12.970Z"
   },
   {
    "duration": 194,
    "start_time": "2025-03-25T08:04:13.014Z"
   },
   {
    "duration": 25,
    "start_time": "2025-03-25T08:04:13.210Z"
   },
   {
    "duration": 34,
    "start_time": "2025-03-25T08:04:13.237Z"
   },
   {
    "duration": 36,
    "start_time": "2025-03-25T08:04:13.273Z"
   },
   {
    "duration": 44,
    "start_time": "2025-03-25T08:04:13.310Z"
   },
   {
    "duration": 25,
    "start_time": "2025-03-25T08:04:13.356Z"
   },
   {
    "duration": 68,
    "start_time": "2025-03-25T08:04:13.383Z"
   },
   {
    "duration": 23,
    "start_time": "2025-03-25T08:04:13.453Z"
   },
   {
    "duration": 34,
    "start_time": "2025-03-25T08:04:13.478Z"
   },
   {
    "duration": 44,
    "start_time": "2025-03-25T08:04:13.514Z"
   },
   {
    "duration": 322,
    "start_time": "2025-03-25T08:04:13.559Z"
   },
   {
    "duration": 2,
    "start_time": "2025-03-25T08:04:13.883Z"
   },
   {
    "duration": 15,
    "start_time": "2025-03-25T08:04:13.887Z"
   },
   {
    "duration": 3,
    "start_time": "2025-03-25T08:04:13.904Z"
   },
   {
    "duration": 20,
    "start_time": "2025-03-25T08:04:13.908Z"
   },
   {
    "duration": 10,
    "start_time": "2025-03-25T08:04:13.930Z"
   },
   {
    "duration": 387,
    "start_time": "2025-03-25T08:04:13.963Z"
   },
   {
    "duration": 21,
    "start_time": "2025-03-25T08:04:14.352Z"
   },
   {
    "duration": 9,
    "start_time": "2025-03-25T08:04:14.375Z"
   },
   {
    "duration": 27,
    "start_time": "2025-03-25T08:04:14.386Z"
   },
   {
    "duration": 18,
    "start_time": "2025-03-25T08:04:14.415Z"
   },
   {
    "duration": 25,
    "start_time": "2025-03-25T08:04:14.435Z"
   },
   {
    "duration": 22,
    "start_time": "2025-03-25T08:04:14.461Z"
   },
   {
    "duration": 167,
    "start_time": "2025-03-25T08:04:14.485Z"
   },
   {
    "duration": 18,
    "start_time": "2025-03-25T08:04:14.654Z"
   },
   {
    "duration": 8,
    "start_time": "2025-03-25T08:04:14.674Z"
   },
   {
    "duration": 17,
    "start_time": "2025-03-25T08:04:14.683Z"
   },
   {
    "duration": 14,
    "start_time": "2025-03-25T08:04:14.702Z"
   },
   {
    "duration": 72,
    "start_time": "2025-03-25T08:04:14.718Z"
   },
   {
    "duration": 43,
    "start_time": "2025-03-25T08:04:14.792Z"
   },
   {
    "duration": 25,
    "start_time": "2025-03-25T08:04:14.837Z"
   },
   {
    "duration": 10,
    "start_time": "2025-03-25T08:04:14.863Z"
   },
   {
    "duration": 30,
    "start_time": "2025-03-25T08:04:14.875Z"
   },
   {
    "duration": 36,
    "start_time": "2025-03-25T08:04:14.907Z"
   },
   {
    "duration": 124,
    "start_time": "2025-03-25T08:04:14.946Z"
   },
   {
    "duration": 192,
    "start_time": "2025-03-25T08:04:15.072Z"
   },
   {
    "duration": 48,
    "start_time": "2025-03-25T08:04:15.266Z"
   },
   {
    "duration": 46,
    "start_time": "2025-03-25T08:04:15.316Z"
   },
   {
    "duration": 64,
    "start_time": "2025-03-25T08:04:15.364Z"
   },
   {
    "duration": 267,
    "start_time": "2025-03-25T08:04:15.430Z"
   },
   {
    "duration": 6,
    "start_time": "2025-03-25T08:04:15.700Z"
   },
   {
    "duration": 16,
    "start_time": "2025-03-25T08:04:15.708Z"
   },
   {
    "duration": 80,
    "start_time": "2025-03-25T08:04:15.727Z"
   },
   {
    "duration": 29,
    "start_time": "2025-03-25T08:04:15.809Z"
   },
   {
    "duration": 14,
    "start_time": "2025-03-25T08:04:15.841Z"
   },
   {
    "duration": 7,
    "start_time": "2025-03-25T08:04:15.857Z"
   },
   {
    "duration": 6,
    "start_time": "2025-03-25T08:04:15.866Z"
   },
   {
    "duration": 9,
    "start_time": "2025-03-25T08:04:15.873Z"
   },
   {
    "duration": 34,
    "start_time": "2025-03-25T08:04:15.884Z"
   },
   {
    "duration": 180,
    "start_time": "2025-03-25T08:04:15.920Z"
   },
   {
    "duration": 13,
    "start_time": "2025-03-25T08:04:16.103Z"
   },
   {
    "duration": 3,
    "start_time": "2025-03-25T08:06:01.359Z"
   },
   {
    "duration": 3,
    "start_time": "2025-03-25T08:06:09.693Z"
   },
   {
    "duration": 3,
    "start_time": "2025-03-25T08:08:31.112Z"
   },
   {
    "duration": 3,
    "start_time": "2025-03-25T08:09:07.183Z"
   },
   {
    "duration": 7,
    "start_time": "2025-03-25T08:11:04.115Z"
   },
   {
    "duration": 6,
    "start_time": "2025-03-25T08:19:51.093Z"
   },
   {
    "duration": 5,
    "start_time": "2025-03-25T08:20:37.168Z"
   },
   {
    "duration": 6,
    "start_time": "2025-03-25T08:20:49.293Z"
   },
   {
    "duration": 3,
    "start_time": "2025-03-25T08:24:37.240Z"
   },
   {
    "duration": 2,
    "start_time": "2025-03-25T08:24:45.968Z"
   },
   {
    "duration": 3,
    "start_time": "2025-03-25T08:24:55.849Z"
   },
   {
    "duration": 1209,
    "start_time": "2025-03-25T08:34:59.136Z"
   },
   {
    "duration": 57,
    "start_time": "2025-03-25T08:35:00.347Z"
   },
   {
    "duration": 74,
    "start_time": "2025-03-25T08:35:00.406Z"
   },
   {
    "duration": 37,
    "start_time": "2025-03-25T08:35:00.483Z"
   },
   {
    "duration": 12,
    "start_time": "2025-03-25T08:35:00.522Z"
   },
   {
    "duration": 37,
    "start_time": "2025-03-25T08:35:00.536Z"
   },
   {
    "duration": 49,
    "start_time": "2025-03-25T08:35:00.575Z"
   },
   {
    "duration": 163,
    "start_time": "2025-03-25T08:35:00.626Z"
   },
   {
    "duration": 40,
    "start_time": "2025-03-25T08:35:00.792Z"
   },
   {
    "duration": 19,
    "start_time": "2025-03-25T08:35:00.835Z"
   },
   {
    "duration": 47,
    "start_time": "2025-03-25T08:35:00.856Z"
   },
   {
    "duration": 85,
    "start_time": "2025-03-25T08:35:00.905Z"
   },
   {
    "duration": 29,
    "start_time": "2025-03-25T08:35:00.992Z"
   },
   {
    "duration": 9,
    "start_time": "2025-03-25T08:35:01.023Z"
   },
   {
    "duration": 18,
    "start_time": "2025-03-25T08:35:01.034Z"
   },
   {
    "duration": 20,
    "start_time": "2025-03-25T08:35:01.054Z"
   },
   {
    "duration": 28,
    "start_time": "2025-03-25T08:35:01.076Z"
   },
   {
    "duration": 180,
    "start_time": "2025-03-25T08:35:01.106Z"
   },
   {
    "duration": 137,
    "start_time": "2025-03-25T08:35:01.288Z"
   },
   {
    "duration": 39,
    "start_time": "2025-03-25T08:35:01.427Z"
   },
   {
    "duration": 47,
    "start_time": "2025-03-25T08:35:01.467Z"
   },
   {
    "duration": 47,
    "start_time": "2025-03-25T08:35:01.516Z"
   },
   {
    "duration": 66,
    "start_time": "2025-03-25T08:35:01.564Z"
   },
   {
    "duration": 36,
    "start_time": "2025-03-25T08:35:01.632Z"
   },
   {
    "duration": 316,
    "start_time": "2025-03-25T08:35:01.670Z"
   },
   {
    "duration": 7,
    "start_time": "2025-03-25T08:35:01.988Z"
   },
   {
    "duration": 67,
    "start_time": "2025-03-25T08:35:01.997Z"
   },
   {
    "duration": 20,
    "start_time": "2025-03-25T08:35:02.072Z"
   },
   {
    "duration": 426,
    "start_time": "2025-03-25T08:35:02.094Z"
   },
   {
    "duration": 6,
    "start_time": "2025-03-25T08:35:02.522Z"
   },
   {
    "duration": 62,
    "start_time": "2025-03-25T08:35:02.529Z"
   },
   {
    "duration": 171,
    "start_time": "2025-03-25T08:35:02.593Z"
   },
   {
    "duration": 67,
    "start_time": "2025-03-25T08:35:02.766Z"
   },
   {
    "duration": 161,
    "start_time": "2025-03-25T08:35:02.834Z"
   },
   {
    "duration": 10,
    "start_time": "2025-03-25T08:35:02.996Z"
   },
   {
    "duration": 211,
    "start_time": "2025-03-25T08:35:03.007Z"
   },
   {
    "duration": 9,
    "start_time": "2025-03-25T08:35:03.219Z"
   },
   {
    "duration": 338,
    "start_time": "2025-03-25T08:35:03.229Z"
   },
   {
    "duration": 9,
    "start_time": "2025-03-25T08:35:03.569Z"
   },
   {
    "duration": 256,
    "start_time": "2025-03-25T08:35:03.580Z"
   },
   {
    "duration": 23,
    "start_time": "2025-03-25T08:35:03.839Z"
   },
   {
    "duration": 32,
    "start_time": "2025-03-25T08:35:03.864Z"
   },
   {
    "duration": 36,
    "start_time": "2025-03-25T08:35:03.897Z"
   },
   {
    "duration": 7,
    "start_time": "2025-03-25T08:35:03.935Z"
   },
   {
    "duration": 51,
    "start_time": "2025-03-25T08:35:03.943Z"
   },
   {
    "duration": 47,
    "start_time": "2025-03-25T08:35:03.996Z"
   },
   {
    "duration": 12,
    "start_time": "2025-03-25T08:35:04.045Z"
   },
   {
    "duration": 47,
    "start_time": "2025-03-25T08:35:04.059Z"
   },
   {
    "duration": 29,
    "start_time": "2025-03-25T08:35:04.108Z"
   },
   {
    "duration": 113,
    "start_time": "2025-03-25T08:35:04.139Z"
   },
   {
    "duration": 20,
    "start_time": "2025-03-25T08:35:04.254Z"
   },
   {
    "duration": 48,
    "start_time": "2025-03-25T08:35:04.276Z"
   },
   {
    "duration": 293,
    "start_time": "2025-03-25T08:35:04.325Z"
   },
   {
    "duration": 3,
    "start_time": "2025-03-25T08:35:04.620Z"
   },
   {
    "duration": 199,
    "start_time": "2025-03-25T08:35:04.626Z"
   },
   {
    "duration": 32,
    "start_time": "2025-03-25T08:35:04.827Z"
   },
   {
    "duration": 49,
    "start_time": "2025-03-25T08:35:04.861Z"
   },
   {
    "duration": 20,
    "start_time": "2025-03-25T08:35:04.912Z"
   },
   {
    "duration": 416,
    "start_time": "2025-03-25T08:35:04.934Z"
   },
   {
    "duration": 13,
    "start_time": "2025-03-25T08:35:05.351Z"
   },
   {
    "duration": 153,
    "start_time": "2025-03-25T08:35:05.367Z"
   },
   {
    "duration": 40,
    "start_time": "2025-03-25T08:35:05.522Z"
   },
   {
    "duration": 43,
    "start_time": "2025-03-25T08:35:05.564Z"
   },
   {
    "duration": 25,
    "start_time": "2025-03-25T08:35:05.608Z"
   },
   {
    "duration": 62,
    "start_time": "2025-03-25T08:35:05.635Z"
   },
   {
    "duration": 97,
    "start_time": "2025-03-25T08:35:05.699Z"
   },
   {
    "duration": 64,
    "start_time": "2025-03-25T08:35:05.798Z"
   },
   {
    "duration": 41,
    "start_time": "2025-03-25T08:35:05.864Z"
   },
   {
    "duration": 33,
    "start_time": "2025-03-25T08:35:05.907Z"
   },
   {
    "duration": 16,
    "start_time": "2025-03-25T08:35:05.942Z"
   },
   {
    "duration": 43,
    "start_time": "2025-03-25T08:35:05.960Z"
   },
   {
    "duration": 56,
    "start_time": "2025-03-25T08:35:06.004Z"
   },
   {
    "duration": 154,
    "start_time": "2025-03-25T08:35:06.062Z"
   },
   {
    "duration": 78,
    "start_time": "2025-03-25T08:35:06.218Z"
   },
   {
    "duration": 26,
    "start_time": "2025-03-25T08:35:06.298Z"
   },
   {
    "duration": 13,
    "start_time": "2025-03-25T08:35:06.326Z"
   },
   {
    "duration": 69,
    "start_time": "2025-03-25T08:35:06.341Z"
   },
   {
    "duration": 37,
    "start_time": "2025-03-25T08:35:06.412Z"
   },
   {
    "duration": 186,
    "start_time": "2025-03-25T08:35:06.451Z"
   },
   {
    "duration": 171,
    "start_time": "2025-03-25T08:35:06.639Z"
   },
   {
    "duration": 21,
    "start_time": "2025-03-25T08:35:06.812Z"
   },
   {
    "duration": 184,
    "start_time": "2025-03-25T08:35:06.840Z"
   },
   {
    "duration": 6,
    "start_time": "2025-03-25T08:35:07.026Z"
   },
   {
    "duration": 18,
    "start_time": "2025-03-25T08:35:07.033Z"
   },
   {
    "duration": 49,
    "start_time": "2025-03-25T08:35:07.053Z"
   },
   {
    "duration": 33,
    "start_time": "2025-03-25T08:35:07.104Z"
   },
   {
    "duration": 185,
    "start_time": "2025-03-25T08:35:07.139Z"
   },
   {
    "duration": 47,
    "start_time": "2025-03-25T08:35:07.326Z"
   },
   {
    "duration": 32,
    "start_time": "2025-03-25T08:35:07.375Z"
   },
   {
    "duration": 20,
    "start_time": "2025-03-25T08:35:07.408Z"
   },
   {
    "duration": 18,
    "start_time": "2025-03-25T08:35:07.430Z"
   },
   {
    "duration": 19,
    "start_time": "2025-03-25T08:35:07.451Z"
   },
   {
    "duration": 34,
    "start_time": "2025-03-25T08:35:07.473Z"
   },
   {
    "duration": 24,
    "start_time": "2025-03-25T08:35:07.509Z"
   },
   {
    "duration": 21,
    "start_time": "2025-03-25T08:35:07.535Z"
   },
   {
    "duration": 38,
    "start_time": "2025-03-25T08:35:07.558Z"
   },
   {
    "duration": 19,
    "start_time": "2025-03-25T08:35:07.598Z"
   },
   {
    "duration": 28,
    "start_time": "2025-03-25T08:35:07.619Z"
   },
   {
    "duration": 3,
    "start_time": "2025-03-25T08:35:07.649Z"
   },
   {
    "duration": 4,
    "start_time": "2025-03-25T08:35:07.654Z"
   },
   {
    "duration": 14,
    "start_time": "2025-03-25T08:35:07.660Z"
   },
   {
    "duration": 4,
    "start_time": "2025-03-25T08:36:44.293Z"
   },
   {
    "duration": 1189,
    "start_time": "2025-03-25T08:40:16.160Z"
   },
   {
    "duration": 58,
    "start_time": "2025-03-25T08:40:17.351Z"
   },
   {
    "duration": 72,
    "start_time": "2025-03-25T08:40:17.415Z"
   },
   {
    "duration": 48,
    "start_time": "2025-03-25T08:40:17.490Z"
   },
   {
    "duration": 15,
    "start_time": "2025-03-25T08:40:17.541Z"
   },
   {
    "duration": 31,
    "start_time": "2025-03-25T08:40:17.558Z"
   },
   {
    "duration": 35,
    "start_time": "2025-03-25T08:40:17.591Z"
   },
   {
    "duration": 11,
    "start_time": "2025-03-25T08:40:17.627Z"
   },
   {
    "duration": 27,
    "start_time": "2025-03-25T08:40:17.641Z"
   },
   {
    "duration": 33,
    "start_time": "2025-03-25T08:40:17.670Z"
   },
   {
    "duration": 23,
    "start_time": "2025-03-25T08:40:17.705Z"
   },
   {
    "duration": 8,
    "start_time": "2025-03-25T08:40:17.731Z"
   },
   {
    "duration": 14,
    "start_time": "2025-03-25T08:40:17.741Z"
   },
   {
    "duration": 26,
    "start_time": "2025-03-25T08:40:17.757Z"
   },
   {
    "duration": 38,
    "start_time": "2025-03-25T08:40:17.785Z"
   },
   {
    "duration": 18,
    "start_time": "2025-03-25T08:40:17.825Z"
   },
   {
    "duration": 27,
    "start_time": "2025-03-25T08:40:17.844Z"
   },
   {
    "duration": 24,
    "start_time": "2025-03-25T08:40:17.873Z"
   },
   {
    "duration": 18,
    "start_time": "2025-03-25T08:40:17.898Z"
   },
   {
    "duration": 39,
    "start_time": "2025-03-25T08:40:17.918Z"
   },
   {
    "duration": 10,
    "start_time": "2025-03-25T08:40:17.959Z"
   },
   {
    "duration": 29,
    "start_time": "2025-03-25T08:40:17.971Z"
   },
   {
    "duration": 22,
    "start_time": "2025-03-25T08:40:18.002Z"
   },
   {
    "duration": 30,
    "start_time": "2025-03-25T08:40:18.026Z"
   },
   {
    "duration": 177,
    "start_time": "2025-03-25T08:40:18.058Z"
   },
   {
    "duration": 6,
    "start_time": "2025-03-25T08:40:18.237Z"
   },
   {
    "duration": 15,
    "start_time": "2025-03-25T08:40:18.248Z"
   },
   {
    "duration": 7,
    "start_time": "2025-03-25T08:40:18.265Z"
   },
   {
    "duration": 203,
    "start_time": "2025-03-25T08:40:18.274Z"
   },
   {
    "duration": 5,
    "start_time": "2025-03-25T08:40:18.479Z"
   },
   {
    "duration": 11,
    "start_time": "2025-03-25T08:40:18.487Z"
   },
   {
    "duration": 16,
    "start_time": "2025-03-25T08:40:18.500Z"
   },
   {
    "duration": 16,
    "start_time": "2025-03-25T08:40:18.519Z"
   },
   {
    "duration": 171,
    "start_time": "2025-03-25T08:40:18.537Z"
   },
   {
    "duration": 9,
    "start_time": "2025-03-25T08:40:18.710Z"
   },
   {
    "duration": 260,
    "start_time": "2025-03-25T08:40:18.721Z"
   },
   {
    "duration": 9,
    "start_time": "2025-03-25T08:40:18.983Z"
   },
   {
    "duration": 215,
    "start_time": "2025-03-25T08:40:18.994Z"
   },
   {
    "duration": 11,
    "start_time": "2025-03-25T08:40:19.211Z"
   },
   {
    "duration": 366,
    "start_time": "2025-03-25T08:40:19.223Z"
   },
   {
    "duration": 11,
    "start_time": "2025-03-25T08:40:19.592Z"
   },
   {
    "duration": 24,
    "start_time": "2025-03-25T08:40:19.604Z"
   },
   {
    "duration": 27,
    "start_time": "2025-03-25T08:40:19.630Z"
   },
   {
    "duration": 22,
    "start_time": "2025-03-25T08:40:19.658Z"
   },
   {
    "duration": 18,
    "start_time": "2025-03-25T08:40:19.682Z"
   },
   {
    "duration": 7,
    "start_time": "2025-03-25T08:40:19.702Z"
   },
   {
    "duration": 17,
    "start_time": "2025-03-25T08:40:19.712Z"
   },
   {
    "duration": 16,
    "start_time": "2025-03-25T08:40:19.731Z"
   },
   {
    "duration": 21,
    "start_time": "2025-03-25T08:40:19.749Z"
   },
   {
    "duration": 9,
    "start_time": "2025-03-25T08:40:19.772Z"
   },
   {
    "duration": 2,
    "start_time": "2025-03-25T08:40:19.784Z"
   },
   {
    "duration": 15,
    "start_time": "2025-03-25T08:40:19.788Z"
   },
   {
    "duration": 305,
    "start_time": "2025-03-25T08:40:19.805Z"
   },
   {
    "duration": 3,
    "start_time": "2025-03-25T08:40:20.111Z"
   },
   {
    "duration": 29,
    "start_time": "2025-03-25T08:40:20.116Z"
   },
   {
    "duration": 3,
    "start_time": "2025-03-25T08:40:20.148Z"
   },
   {
    "duration": 104,
    "start_time": "2025-03-25T08:40:20.153Z"
   },
   {
    "duration": 3,
    "start_time": "2025-03-25T08:40:20.260Z"
   },
   {
    "duration": 397,
    "start_time": "2025-03-25T08:40:20.265Z"
   },
   {
    "duration": 14,
    "start_time": "2025-03-25T08:40:20.664Z"
   },
   {
    "duration": 126,
    "start_time": "2025-03-25T08:40:20.680Z"
   },
   {
    "duration": 28,
    "start_time": "2025-03-25T08:40:20.808Z"
   },
   {
    "duration": 7,
    "start_time": "2025-03-25T08:40:20.838Z"
   },
   {
    "duration": 57,
    "start_time": "2025-03-25T08:40:20.847Z"
   },
   {
    "duration": 34,
    "start_time": "2025-03-25T08:40:20.906Z"
   },
   {
    "duration": 20,
    "start_time": "2025-03-25T08:40:20.942Z"
   },
   {
    "duration": 39,
    "start_time": "2025-03-25T08:40:20.964Z"
   },
   {
    "duration": 83,
    "start_time": "2025-03-25T08:40:21.005Z"
   },
   {
    "duration": 43,
    "start_time": "2025-03-25T08:40:21.091Z"
   },
   {
    "duration": 6,
    "start_time": "2025-03-25T08:40:21.137Z"
   },
   {
    "duration": 23,
    "start_time": "2025-03-25T08:40:21.145Z"
   },
   {
    "duration": 17,
    "start_time": "2025-03-25T08:40:21.170Z"
   },
   {
    "duration": 33,
    "start_time": "2025-03-25T08:40:21.189Z"
   },
   {
    "duration": 15,
    "start_time": "2025-03-25T08:40:21.224Z"
   },
   {
    "duration": 6,
    "start_time": "2025-03-25T08:40:21.240Z"
   },
   {
    "duration": 8,
    "start_time": "2025-03-25T08:40:21.247Z"
   },
   {
    "duration": 47,
    "start_time": "2025-03-25T08:40:21.257Z"
   },
   {
    "duration": 35,
    "start_time": "2025-03-25T08:40:21.306Z"
   },
   {
    "duration": 6,
    "start_time": "2025-03-25T08:40:21.343Z"
   },
   {
    "duration": 7,
    "start_time": "2025-03-25T08:40:21.351Z"
   },
   {
    "duration": 19,
    "start_time": "2025-03-25T08:40:21.366Z"
   },
   {
    "duration": 225,
    "start_time": "2025-03-25T08:40:21.387Z"
   },
   {
    "duration": 6,
    "start_time": "2025-03-25T08:40:21.614Z"
   },
   {
    "duration": 16,
    "start_time": "2025-03-25T08:40:21.621Z"
   },
   {
    "duration": 37,
    "start_time": "2025-03-25T08:40:21.639Z"
   },
   {
    "duration": 30,
    "start_time": "2025-03-25T08:40:21.678Z"
   },
   {
    "duration": 28,
    "start_time": "2025-03-25T08:40:21.711Z"
   },
   {
    "duration": 16,
    "start_time": "2025-03-25T08:40:21.741Z"
   },
   {
    "duration": 10,
    "start_time": "2025-03-25T08:40:21.759Z"
   },
   {
    "duration": 15,
    "start_time": "2025-03-25T08:40:21.771Z"
   },
   {
    "duration": 31,
    "start_time": "2025-03-25T08:40:21.787Z"
   },
   {
    "duration": 33,
    "start_time": "2025-03-25T08:40:21.820Z"
   },
   {
    "duration": 23,
    "start_time": "2025-03-25T08:40:21.856Z"
   },
   {
    "duration": 11,
    "start_time": "2025-03-25T08:40:21.881Z"
   },
   {
    "duration": 20,
    "start_time": "2025-03-25T08:40:21.893Z"
   },
   {
    "duration": 12,
    "start_time": "2025-03-25T08:40:21.915Z"
   },
   {
    "duration": 15,
    "start_time": "2025-03-25T08:40:21.929Z"
   },
   {
    "duration": 9,
    "start_time": "2025-03-25T08:40:21.946Z"
   },
   {
    "duration": 29,
    "start_time": "2025-03-25T08:40:21.957Z"
   },
   {
    "duration": 18,
    "start_time": "2025-03-25T08:40:21.988Z"
   },
   {
    "duration": 19,
    "start_time": "2025-03-25T08:40:22.008Z"
   },
   {
    "duration": 10,
    "start_time": "2025-03-25T08:40:22.029Z"
   },
   {
    "duration": 4,
    "start_time": "2025-03-25T08:44:07.898Z"
   },
   {
    "duration": 5,
    "start_time": "2025-03-25T08:44:08.531Z"
   },
   {
    "duration": 5,
    "start_time": "2025-03-25T08:44:30.303Z"
   },
   {
    "duration": 6,
    "start_time": "2025-03-25T08:44:30.606Z"
   },
   {
    "duration": 3,
    "start_time": "2025-03-25T08:48:17.161Z"
   },
   {
    "duration": 6,
    "start_time": "2025-03-25T08:48:17.566Z"
   },
   {
    "duration": 5,
    "start_time": "2025-03-25T08:48:18.347Z"
   },
   {
    "duration": 6,
    "start_time": "2025-03-25T09:19:21.361Z"
   },
   {
    "duration": 5,
    "start_time": "2025-03-25T09:19:21.563Z"
   },
   {
    "duration": 1185,
    "start_time": "2025-03-25T09:33:39.490Z"
   },
   {
    "duration": 51,
    "start_time": "2025-03-25T09:33:40.677Z"
   },
   {
    "duration": 103,
    "start_time": "2025-03-25T09:33:40.729Z"
   },
   {
    "duration": 34,
    "start_time": "2025-03-25T09:33:40.834Z"
   },
   {
    "duration": 105,
    "start_time": "2025-03-25T09:33:40.869Z"
   },
   {
    "duration": 22,
    "start_time": "2025-03-25T09:33:40.976Z"
   },
   {
    "duration": 12,
    "start_time": "2025-03-25T09:33:41.001Z"
   },
   {
    "duration": 8,
    "start_time": "2025-03-25T09:33:41.016Z"
   },
   {
    "duration": 15,
    "start_time": "2025-03-25T09:33:41.026Z"
   },
   {
    "duration": 24,
    "start_time": "2025-03-25T09:33:41.044Z"
   },
   {
    "duration": 16,
    "start_time": "2025-03-25T09:33:41.070Z"
   },
   {
    "duration": 8,
    "start_time": "2025-03-25T09:33:41.088Z"
   },
   {
    "duration": 18,
    "start_time": "2025-03-25T09:33:41.098Z"
   },
   {
    "duration": 4,
    "start_time": "2025-03-25T09:33:41.118Z"
   },
   {
    "duration": 13,
    "start_time": "2025-03-25T09:33:41.124Z"
   },
   {
    "duration": 5,
    "start_time": "2025-03-25T09:33:41.163Z"
   },
   {
    "duration": 23,
    "start_time": "2025-03-25T09:33:41.170Z"
   },
   {
    "duration": 10,
    "start_time": "2025-03-25T09:33:41.195Z"
   },
   {
    "duration": 5,
    "start_time": "2025-03-25T09:33:41.207Z"
   },
   {
    "duration": 9,
    "start_time": "2025-03-25T09:33:41.262Z"
   },
   {
    "duration": 21,
    "start_time": "2025-03-25T09:33:41.273Z"
   },
   {
    "duration": 4,
    "start_time": "2025-03-25T09:33:41.295Z"
   },
   {
    "duration": 6,
    "start_time": "2025-03-25T09:33:41.300Z"
   },
   {
    "duration": 58,
    "start_time": "2025-03-25T09:33:41.308Z"
   },
   {
    "duration": 298,
    "start_time": "2025-03-25T09:33:41.367Z"
   },
   {
    "duration": 6,
    "start_time": "2025-03-25T09:33:41.667Z"
   },
   {
    "duration": 37,
    "start_time": "2025-03-25T09:33:41.675Z"
   },
   {
    "duration": 50,
    "start_time": "2025-03-25T09:33:41.717Z"
   },
   {
    "duration": 394,
    "start_time": "2025-03-25T09:33:41.768Z"
   },
   {
    "duration": 7,
    "start_time": "2025-03-25T09:33:42.164Z"
   },
   {
    "duration": 35,
    "start_time": "2025-03-25T09:33:42.172Z"
   },
   {
    "duration": 14,
    "start_time": "2025-03-25T09:33:42.209Z"
   },
   {
    "duration": 49,
    "start_time": "2025-03-25T09:33:42.225Z"
   },
   {
    "duration": 298,
    "start_time": "2025-03-25T09:33:42.276Z"
   },
   {
    "duration": 9,
    "start_time": "2025-03-25T09:33:42.576Z"
   },
   {
    "duration": 252,
    "start_time": "2025-03-25T09:33:42.587Z"
   },
   {
    "duration": 26,
    "start_time": "2025-03-25T09:33:42.841Z"
   },
   {
    "duration": 310,
    "start_time": "2025-03-25T09:33:42.869Z"
   },
   {
    "duration": 10,
    "start_time": "2025-03-25T09:33:43.181Z"
   },
   {
    "duration": 228,
    "start_time": "2025-03-25T09:33:43.193Z"
   },
   {
    "duration": 12,
    "start_time": "2025-03-25T09:33:43.423Z"
   },
   {
    "duration": 26,
    "start_time": "2025-03-25T09:33:43.437Z"
   },
   {
    "duration": 14,
    "start_time": "2025-03-25T09:33:43.465Z"
   },
   {
    "duration": 179,
    "start_time": "2025-03-25T09:33:43.480Z"
   },
   {
    "duration": 24,
    "start_time": "2025-03-25T09:33:43.661Z"
   },
   {
    "duration": 10,
    "start_time": "2025-03-25T09:33:43.687Z"
   },
   {
    "duration": 17,
    "start_time": "2025-03-25T09:33:43.698Z"
   },
   {
    "duration": 8,
    "start_time": "2025-03-25T09:33:43.717Z"
   },
   {
    "duration": 14,
    "start_time": "2025-03-25T09:33:43.726Z"
   },
   {
    "duration": 9,
    "start_time": "2025-03-25T09:33:43.763Z"
   },
   {
    "duration": 21,
    "start_time": "2025-03-25T09:33:43.774Z"
   },
   {
    "duration": 19,
    "start_time": "2025-03-25T09:33:43.797Z"
   },
   {
    "duration": 289,
    "start_time": "2025-03-25T09:33:43.818Z"
   },
   {
    "duration": 3,
    "start_time": "2025-03-25T09:33:44.108Z"
   },
   {
    "duration": 24,
    "start_time": "2025-03-25T09:33:44.113Z"
   },
   {
    "duration": 3,
    "start_time": "2025-03-25T09:33:44.139Z"
   },
   {
    "duration": 21,
    "start_time": "2025-03-25T09:33:44.144Z"
   },
   {
    "duration": 9,
    "start_time": "2025-03-25T09:33:44.167Z"
   },
   {
    "duration": 402,
    "start_time": "2025-03-25T09:33:44.177Z"
   },
   {
    "duration": 12,
    "start_time": "2025-03-25T09:33:44.582Z"
   },
   {
    "duration": 17,
    "start_time": "2025-03-25T09:33:44.596Z"
   },
   {
    "duration": 37,
    "start_time": "2025-03-25T09:33:44.615Z"
   },
   {
    "duration": 7,
    "start_time": "2025-03-25T09:33:44.655Z"
   },
   {
    "duration": 22,
    "start_time": "2025-03-25T09:33:44.664Z"
   },
   {
    "duration": 15,
    "start_time": "2025-03-25T09:33:44.688Z"
   },
   {
    "duration": 34,
    "start_time": "2025-03-25T09:33:44.706Z"
   },
   {
    "duration": 29,
    "start_time": "2025-03-25T09:33:44.742Z"
   },
   {
    "duration": 11,
    "start_time": "2025-03-25T09:33:44.772Z"
   },
   {
    "duration": 82,
    "start_time": "2025-03-25T09:33:44.784Z"
   },
   {
    "duration": 114,
    "start_time": "2025-03-25T09:33:44.868Z"
   },
   {
    "duration": 74,
    "start_time": "2025-03-25T09:33:44.984Z"
   },
   {
    "duration": 36,
    "start_time": "2025-03-25T09:33:45.060Z"
   },
   {
    "duration": 31,
    "start_time": "2025-03-25T09:33:45.098Z"
   },
   {
    "duration": 23,
    "start_time": "2025-03-25T09:33:45.132Z"
   },
   {
    "duration": 39,
    "start_time": "2025-03-25T09:33:45.157Z"
   },
   {
    "duration": 103,
    "start_time": "2025-03-25T09:33:45.198Z"
   },
   {
    "duration": 36,
    "start_time": "2025-03-25T09:33:45.303Z"
   },
   {
    "duration": 18,
    "start_time": "2025-03-25T09:33:45.341Z"
   },
   {
    "duration": 38,
    "start_time": "2025-03-25T09:33:45.361Z"
   },
   {
    "duration": 52,
    "start_time": "2025-03-25T09:33:45.401Z"
   },
   {
    "duration": 20,
    "start_time": "2025-03-25T09:33:45.455Z"
   },
   {
    "duration": 369,
    "start_time": "2025-03-25T09:33:45.482Z"
   },
   {
    "duration": 10,
    "start_time": "2025-03-25T09:33:45.853Z"
   },
   {
    "duration": 12,
    "start_time": "2025-03-25T09:33:45.865Z"
   },
   {
    "duration": 7,
    "start_time": "2025-03-25T09:33:45.878Z"
   },
   {
    "duration": 4,
    "start_time": "2025-03-25T09:33:45.886Z"
   },
   {
    "duration": 9,
    "start_time": "2025-03-25T09:33:45.892Z"
   },
   {
    "duration": 12,
    "start_time": "2025-03-25T09:33:45.902Z"
   },
   {
    "duration": 10,
    "start_time": "2025-03-25T09:33:45.916Z"
   },
   {
    "duration": 9,
    "start_time": "2025-03-25T09:33:45.928Z"
   },
   {
    "duration": 23,
    "start_time": "2025-03-25T09:33:45.939Z"
   },
   {
    "duration": 3,
    "start_time": "2025-03-25T09:33:45.964Z"
   },
   {
    "duration": 9,
    "start_time": "2025-03-25T09:33:45.968Z"
   },
   {
    "duration": 8,
    "start_time": "2025-03-25T09:33:45.979Z"
   },
   {
    "duration": 17,
    "start_time": "2025-03-25T09:33:45.988Z"
   },
   {
    "duration": 5,
    "start_time": "2025-03-25T09:33:46.007Z"
   },
   {
    "duration": 3,
    "start_time": "2025-03-25T09:33:46.014Z"
   },
   {
    "duration": 5,
    "start_time": "2025-03-25T09:33:46.019Z"
   },
   {
    "duration": 5,
    "start_time": "2025-03-25T09:33:46.025Z"
   },
   {
    "duration": 4,
    "start_time": "2025-03-25T09:33:46.032Z"
   },
   {
    "duration": 4,
    "start_time": "2025-03-25T09:33:46.063Z"
   },
   {
    "duration": 27,
    "start_time": "2025-03-25T09:33:46.069Z"
   },
   {
    "duration": 4,
    "start_time": "2025-03-25T09:33:46.098Z"
   },
   {
    "duration": 7,
    "start_time": "2025-03-25T09:33:46.104Z"
   },
   {
    "duration": 6,
    "start_time": "2025-03-25T09:35:04.052Z"
   },
   {
    "duration": 6,
    "start_time": "2025-03-25T09:35:19.761Z"
   },
   {
    "duration": 1230,
    "start_time": "2025-03-25T09:35:47.749Z"
   },
   {
    "duration": 58,
    "start_time": "2025-03-25T09:35:48.982Z"
   },
   {
    "duration": 670,
    "start_time": "2025-03-25T09:35:49.042Z"
   },
   {
    "duration": 28,
    "start_time": "2025-03-25T09:35:49.714Z"
   },
   {
    "duration": 31,
    "start_time": "2025-03-25T09:35:49.744Z"
   },
   {
    "duration": 17,
    "start_time": "2025-03-25T09:35:49.777Z"
   },
   {
    "duration": 19,
    "start_time": "2025-03-25T09:35:49.796Z"
   },
   {
    "duration": 19,
    "start_time": "2025-03-25T09:35:49.817Z"
   },
   {
    "duration": 18,
    "start_time": "2025-03-25T09:35:49.838Z"
   },
   {
    "duration": 21,
    "start_time": "2025-03-25T09:35:49.863Z"
   },
   {
    "duration": 35,
    "start_time": "2025-03-25T09:35:49.886Z"
   },
   {
    "duration": 11,
    "start_time": "2025-03-25T09:35:49.923Z"
   },
   {
    "duration": 33,
    "start_time": "2025-03-25T09:35:49.936Z"
   },
   {
    "duration": 31,
    "start_time": "2025-03-25T09:35:49.972Z"
   },
   {
    "duration": 25,
    "start_time": "2025-03-25T09:35:50.004Z"
   },
   {
    "duration": 46,
    "start_time": "2025-03-25T09:35:50.031Z"
   },
   {
    "duration": 18,
    "start_time": "2025-03-25T09:35:50.078Z"
   },
   {
    "duration": 20,
    "start_time": "2025-03-25T09:35:50.098Z"
   },
   {
    "duration": 49,
    "start_time": "2025-03-25T09:35:50.120Z"
   },
   {
    "duration": 18,
    "start_time": "2025-03-25T09:35:50.171Z"
   },
   {
    "duration": 9,
    "start_time": "2025-03-25T09:35:50.191Z"
   },
   {
    "duration": 24,
    "start_time": "2025-03-25T09:35:50.202Z"
   },
   {
    "duration": 19,
    "start_time": "2025-03-25T09:35:50.228Z"
   },
   {
    "duration": 44,
    "start_time": "2025-03-25T09:35:50.248Z"
   },
   {
    "duration": 207,
    "start_time": "2025-03-25T09:35:50.294Z"
   },
   {
    "duration": 7,
    "start_time": "2025-03-25T09:35:50.503Z"
   },
   {
    "duration": 41,
    "start_time": "2025-03-25T09:35:50.512Z"
   },
   {
    "duration": 9,
    "start_time": "2025-03-25T09:35:50.555Z"
   },
   {
    "duration": 192,
    "start_time": "2025-03-25T09:35:50.565Z"
   },
   {
    "duration": 6,
    "start_time": "2025-03-25T09:35:50.762Z"
   },
   {
    "duration": 100,
    "start_time": "2025-03-25T09:35:50.770Z"
   },
   {
    "duration": 135,
    "start_time": "2025-03-25T09:35:50.872Z"
   },
   {
    "duration": 33,
    "start_time": "2025-03-25T09:35:51.009Z"
   },
   {
    "duration": 140,
    "start_time": "2025-03-25T09:35:51.044Z"
   },
   {
    "duration": 9,
    "start_time": "2025-03-25T09:35:51.186Z"
   },
   {
    "duration": 201,
    "start_time": "2025-03-25T09:35:51.197Z"
   },
   {
    "duration": 10,
    "start_time": "2025-03-25T09:35:51.401Z"
   },
   {
    "duration": 209,
    "start_time": "2025-03-25T09:35:51.413Z"
   },
   {
    "duration": 10,
    "start_time": "2025-03-25T09:35:51.624Z"
   },
   {
    "duration": 258,
    "start_time": "2025-03-25T09:35:51.635Z"
   },
   {
    "duration": 11,
    "start_time": "2025-03-25T09:35:51.898Z"
   },
   {
    "duration": 31,
    "start_time": "2025-03-25T09:35:51.911Z"
   },
   {
    "duration": 13,
    "start_time": "2025-03-25T09:35:51.944Z"
   },
   {
    "duration": 12,
    "start_time": "2025-03-25T09:35:51.963Z"
   },
   {
    "duration": 51,
    "start_time": "2025-03-25T09:35:51.977Z"
   },
   {
    "duration": 9,
    "start_time": "2025-03-25T09:35:52.030Z"
   },
   {
    "duration": 13,
    "start_time": "2025-03-25T09:35:52.041Z"
   },
   {
    "duration": 37,
    "start_time": "2025-03-25T09:35:52.056Z"
   },
   {
    "duration": 18,
    "start_time": "2025-03-25T09:35:52.095Z"
   },
   {
    "duration": 31,
    "start_time": "2025-03-25T09:35:52.114Z"
   },
   {
    "duration": 22,
    "start_time": "2025-03-25T09:35:52.147Z"
   },
   {
    "duration": 13,
    "start_time": "2025-03-25T09:35:52.171Z"
   },
   {
    "duration": 267,
    "start_time": "2025-03-25T09:35:52.185Z"
   },
   {
    "duration": 3,
    "start_time": "2025-03-25T09:35:52.461Z"
   },
   {
    "duration": 31,
    "start_time": "2025-03-25T09:35:52.466Z"
   },
   {
    "duration": 2,
    "start_time": "2025-03-25T09:35:52.499Z"
   },
   {
    "duration": 32,
    "start_time": "2025-03-25T09:35:52.503Z"
   },
   {
    "duration": 6,
    "start_time": "2025-03-25T09:35:52.536Z"
   },
   {
    "duration": 398,
    "start_time": "2025-03-25T09:35:52.543Z"
   },
   {
    "duration": 19,
    "start_time": "2025-03-25T09:35:52.943Z"
   },
   {
    "duration": 28,
    "start_time": "2025-03-25T09:35:52.964Z"
   },
   {
    "duration": 30,
    "start_time": "2025-03-25T09:35:52.994Z"
   },
   {
    "duration": 5,
    "start_time": "2025-03-25T09:35:53.026Z"
   },
   {
    "duration": 8,
    "start_time": "2025-03-25T09:35:53.033Z"
   },
   {
    "duration": 8,
    "start_time": "2025-03-25T09:35:53.042Z"
   },
   {
    "duration": 15,
    "start_time": "2025-03-25T09:35:53.052Z"
   },
   {
    "duration": 32,
    "start_time": "2025-03-25T09:35:53.069Z"
   },
   {
    "duration": 47,
    "start_time": "2025-03-25T09:35:53.103Z"
   },
   {
    "duration": 29,
    "start_time": "2025-03-25T09:35:53.151Z"
   },
   {
    "duration": 14,
    "start_time": "2025-03-25T09:35:53.182Z"
   },
   {
    "duration": 9,
    "start_time": "2025-03-25T09:35:53.198Z"
   },
   {
    "duration": 16,
    "start_time": "2025-03-25T09:35:53.208Z"
   },
   {
    "duration": 21,
    "start_time": "2025-03-25T09:35:53.225Z"
   },
   {
    "duration": 9,
    "start_time": "2025-03-25T09:35:53.247Z"
   },
   {
    "duration": 36,
    "start_time": "2025-03-25T09:35:53.258Z"
   },
   {
    "duration": 23,
    "start_time": "2025-03-25T09:35:53.296Z"
   },
   {
    "duration": 19,
    "start_time": "2025-03-25T09:35:53.321Z"
   },
   {
    "duration": 16,
    "start_time": "2025-03-25T09:35:53.341Z"
   },
   {
    "duration": 9,
    "start_time": "2025-03-25T09:35:53.358Z"
   },
   {
    "duration": 26,
    "start_time": "2025-03-25T09:35:53.368Z"
   },
   {
    "duration": 40,
    "start_time": "2025-03-25T09:35:53.396Z"
   },
   {
    "duration": 230,
    "start_time": "2025-03-25T09:35:53.437Z"
   },
   {
    "duration": 47,
    "start_time": "2025-03-25T09:35:53.669Z"
   },
   {
    "duration": 14,
    "start_time": "2025-03-25T09:35:53.718Z"
   },
   {
    "duration": 24,
    "start_time": "2025-03-25T09:35:53.733Z"
   },
   {
    "duration": 17,
    "start_time": "2025-03-25T09:35:53.759Z"
   },
   {
    "duration": 21,
    "start_time": "2025-03-25T09:35:53.778Z"
   },
   {
    "duration": 29,
    "start_time": "2025-03-25T09:35:53.801Z"
   },
   {
    "duration": 17,
    "start_time": "2025-03-25T09:35:53.832Z"
   },
   {
    "duration": 21,
    "start_time": "2025-03-25T09:35:53.851Z"
   },
   {
    "duration": 20,
    "start_time": "2025-03-25T09:35:53.874Z"
   },
   {
    "duration": 30,
    "start_time": "2025-03-25T09:35:53.895Z"
   },
   {
    "duration": 13,
    "start_time": "2025-03-25T09:35:53.927Z"
   },
   {
    "duration": 7,
    "start_time": "2025-03-25T09:35:53.942Z"
   },
   {
    "duration": 12,
    "start_time": "2025-03-25T09:35:53.951Z"
   },
   {
    "duration": 4,
    "start_time": "2025-03-25T09:35:53.965Z"
   },
   {
    "duration": 4,
    "start_time": "2025-03-25T09:35:53.971Z"
   },
   {
    "duration": 17,
    "start_time": "2025-03-25T09:35:53.976Z"
   },
   {
    "duration": 7,
    "start_time": "2025-03-25T09:35:53.995Z"
   },
   {
    "duration": 8,
    "start_time": "2025-03-25T09:35:54.003Z"
   },
   {
    "duration": 9,
    "start_time": "2025-03-25T09:35:54.012Z"
   },
   {
    "duration": 7,
    "start_time": "2025-03-25T09:35:54.023Z"
   },
   {
    "duration": 6,
    "start_time": "2025-03-25T09:35:54.031Z"
   },
   {
    "duration": 4,
    "start_time": "2025-03-25T09:35:54.039Z"
   },
   {
    "duration": 990,
    "start_time": "2025-03-25T12:38:07.686Z"
   },
   {
    "duration": 79,
    "start_time": "2025-03-25T12:38:08.678Z"
   },
   {
    "duration": 57,
    "start_time": "2025-03-25T12:38:08.758Z"
   },
   {
    "duration": 30,
    "start_time": "2025-03-25T12:38:08.817Z"
   },
   {
    "duration": 11,
    "start_time": "2025-03-25T12:38:08.848Z"
   },
   {
    "duration": 12,
    "start_time": "2025-03-25T12:38:08.860Z"
   },
   {
    "duration": 10,
    "start_time": "2025-03-25T12:38:08.873Z"
   },
   {
    "duration": 8,
    "start_time": "2025-03-25T12:38:08.884Z"
   },
   {
    "duration": 10,
    "start_time": "2025-03-25T12:38:08.893Z"
   },
   {
    "duration": 12,
    "start_time": "2025-03-25T12:38:08.905Z"
   },
   {
    "duration": 22,
    "start_time": "2025-03-25T12:38:08.919Z"
   },
   {
    "duration": 17,
    "start_time": "2025-03-25T12:38:08.943Z"
   },
   {
    "duration": 11,
    "start_time": "2025-03-25T12:38:08.962Z"
   },
   {
    "duration": 16,
    "start_time": "2025-03-25T12:38:08.974Z"
   },
   {
    "duration": 9,
    "start_time": "2025-03-25T12:38:08.991Z"
   },
   {
    "duration": 9,
    "start_time": "2025-03-25T12:38:09.001Z"
   },
   {
    "duration": 12,
    "start_time": "2025-03-25T12:38:09.011Z"
   },
   {
    "duration": 9,
    "start_time": "2025-03-25T12:38:09.024Z"
   },
   {
    "duration": 5,
    "start_time": "2025-03-25T12:38:09.035Z"
   },
   {
    "duration": 19,
    "start_time": "2025-03-25T12:38:09.042Z"
   },
   {
    "duration": 10,
    "start_time": "2025-03-25T12:38:09.063Z"
   },
   {
    "duration": 2,
    "start_time": "2025-03-25T12:38:09.075Z"
   },
   {
    "duration": 19,
    "start_time": "2025-03-25T12:38:09.079Z"
   },
   {
    "duration": 11,
    "start_time": "2025-03-25T12:38:09.099Z"
   },
   {
    "duration": 120,
    "start_time": "2025-03-25T12:38:09.112Z"
   },
   {
    "duration": 5,
    "start_time": "2025-03-25T12:38:09.233Z"
   },
   {
    "duration": 5,
    "start_time": "2025-03-25T12:38:09.239Z"
   },
   {
    "duration": 5,
    "start_time": "2025-03-25T12:38:09.256Z"
   },
   {
    "duration": 149,
    "start_time": "2025-03-25T12:38:09.262Z"
   },
   {
    "duration": 4,
    "start_time": "2025-03-25T12:38:09.412Z"
   },
   {
    "duration": 83,
    "start_time": "2025-03-25T12:38:09.418Z"
   },
   {
    "duration": 10,
    "start_time": "2025-03-25T12:38:09.503Z"
   },
   {
    "duration": 7,
    "start_time": "2025-03-25T12:38:09.515Z"
   },
   {
    "duration": 106,
    "start_time": "2025-03-25T12:38:09.523Z"
   },
   {
    "duration": 7,
    "start_time": "2025-03-25T12:38:09.630Z"
   },
   {
    "duration": 155,
    "start_time": "2025-03-25T12:38:09.639Z"
   },
   {
    "duration": 7,
    "start_time": "2025-03-25T12:38:09.796Z"
   },
   {
    "duration": 171,
    "start_time": "2025-03-25T12:38:09.805Z"
   },
   {
    "duration": 8,
    "start_time": "2025-03-25T12:38:09.978Z"
   },
   {
    "duration": 170,
    "start_time": "2025-03-25T12:38:09.987Z"
   },
   {
    "duration": 10,
    "start_time": "2025-03-25T12:38:10.159Z"
   },
   {
    "duration": 135,
    "start_time": "2025-03-25T12:38:10.170Z"
   },
   {
    "duration": 19,
    "start_time": "2025-03-25T12:38:10.306Z"
   },
   {
    "duration": 135,
    "start_time": "2025-03-25T12:38:10.327Z"
   },
   {
    "duration": 32,
    "start_time": "2025-03-25T12:38:10.463Z"
   },
   {
    "duration": 104,
    "start_time": "2025-03-25T12:38:10.497Z"
   },
   {
    "duration": 11,
    "start_time": "2025-03-25T12:38:10.602Z"
   },
   {
    "duration": 22,
    "start_time": "2025-03-25T12:38:10.614Z"
   },
   {
    "duration": 28,
    "start_time": "2025-03-25T12:38:10.638Z"
   },
   {
    "duration": 14,
    "start_time": "2025-03-25T12:38:10.667Z"
   },
   {
    "duration": 12,
    "start_time": "2025-03-25T12:38:10.682Z"
   },
   {
    "duration": 18,
    "start_time": "2025-03-25T12:38:10.695Z"
   },
   {
    "duration": 217,
    "start_time": "2025-03-25T12:38:10.715Z"
   },
   {
    "duration": 2,
    "start_time": "2025-03-25T12:38:10.934Z"
   },
   {
    "duration": 19,
    "start_time": "2025-03-25T12:38:10.937Z"
   },
   {
    "duration": 13,
    "start_time": "2025-03-25T12:38:10.957Z"
   },
   {
    "duration": 11,
    "start_time": "2025-03-25T12:38:10.971Z"
   },
   {
    "duration": 4,
    "start_time": "2025-03-25T12:38:10.984Z"
   },
   {
    "duration": 309,
    "start_time": "2025-03-25T12:38:10.989Z"
   },
   {
    "duration": 10,
    "start_time": "2025-03-25T12:38:11.300Z"
   },
   {
    "duration": 9,
    "start_time": "2025-03-25T12:38:11.312Z"
   },
   {
    "duration": 22,
    "start_time": "2025-03-25T12:38:11.322Z"
   },
   {
    "duration": 12,
    "start_time": "2025-03-25T12:38:11.346Z"
   },
   {
    "duration": 23,
    "start_time": "2025-03-25T12:38:11.359Z"
   },
   {
    "duration": 22,
    "start_time": "2025-03-25T12:38:11.384Z"
   },
   {
    "duration": 121,
    "start_time": "2025-03-25T12:38:11.408Z"
   },
   {
    "duration": 14,
    "start_time": "2025-03-25T12:38:11.531Z"
   },
   {
    "duration": 9,
    "start_time": "2025-03-25T12:38:11.546Z"
   },
   {
    "duration": 7,
    "start_time": "2025-03-25T12:38:11.556Z"
   },
   {
    "duration": 9,
    "start_time": "2025-03-25T12:38:11.564Z"
   },
   {
    "duration": 23,
    "start_time": "2025-03-25T12:38:11.575Z"
   },
   {
    "duration": 12,
    "start_time": "2025-03-25T12:38:11.599Z"
   },
   {
    "duration": 24,
    "start_time": "2025-03-25T12:38:11.612Z"
   },
   {
    "duration": 7,
    "start_time": "2025-03-25T12:38:11.638Z"
   },
   {
    "duration": 21,
    "start_time": "2025-03-25T12:38:11.646Z"
   },
   {
    "duration": 9,
    "start_time": "2025-03-25T12:38:11.668Z"
   },
   {
    "duration": 10,
    "start_time": "2025-03-25T12:38:11.679Z"
   },
   {
    "duration": 17,
    "start_time": "2025-03-25T12:38:11.691Z"
   },
   {
    "duration": 5,
    "start_time": "2025-03-25T12:38:11.709Z"
   },
   {
    "duration": 5,
    "start_time": "2025-03-25T12:38:11.715Z"
   },
   {
    "duration": 15,
    "start_time": "2025-03-25T12:38:11.721Z"
   },
   {
    "duration": 146,
    "start_time": "2025-03-25T12:38:11.741Z"
   },
   {
    "duration": 4,
    "start_time": "2025-03-25T12:38:11.888Z"
   },
   {
    "duration": 18,
    "start_time": "2025-03-25T12:38:11.893Z"
   },
   {
    "duration": 14,
    "start_time": "2025-03-25T12:38:11.912Z"
   },
   {
    "duration": 6,
    "start_time": "2025-03-25T12:38:11.928Z"
   },
   {
    "duration": 5,
    "start_time": "2025-03-25T12:38:11.936Z"
   },
   {
    "duration": 4,
    "start_time": "2025-03-25T12:38:11.942Z"
   },
   {
    "duration": 25,
    "start_time": "2025-03-25T12:38:11.948Z"
   },
   {
    "duration": 11,
    "start_time": "2025-03-25T12:38:11.974Z"
   },
   {
    "duration": 4,
    "start_time": "2025-03-25T12:38:11.986Z"
   },
   {
    "duration": 6,
    "start_time": "2025-03-25T12:38:11.991Z"
   },
   {
    "duration": 15,
    "start_time": "2025-03-25T12:38:11.998Z"
   },
   {
    "duration": 5,
    "start_time": "2025-03-25T12:38:12.015Z"
   },
   {
    "duration": 7,
    "start_time": "2025-03-25T12:38:12.021Z"
   },
   {
    "duration": 15,
    "start_time": "2025-03-25T12:38:12.029Z"
   },
   {
    "duration": 8,
    "start_time": "2025-03-25T12:38:12.045Z"
   },
   {
    "duration": 41,
    "start_time": "2025-03-25T12:38:12.054Z"
   },
   {
    "duration": 167,
    "start_time": "2025-03-25T12:38:12.096Z"
   },
   {
    "duration": 17,
    "start_time": "2025-03-25T12:38:12.265Z"
   },
   {
    "duration": 6,
    "start_time": "2025-03-25T12:38:12.283Z"
   },
   {
    "duration": 15,
    "start_time": "2025-03-25T12:38:12.291Z"
   },
   {
    "duration": 3,
    "start_time": "2025-03-25T12:38:12.308Z"
   },
   {
    "duration": 3,
    "start_time": "2025-03-25T12:38:12.312Z"
   },
   {
    "duration": 75,
    "start_time": "2025-03-25T12:42:02.060Z"
   },
   {
    "duration": 5,
    "start_time": "2025-03-25T12:58:24.709Z"
   },
   {
    "duration": 50,
    "start_time": "2025-03-25T15:28:26.944Z"
   },
   {
    "duration": 1338,
    "start_time": "2025-03-25T15:28:32.000Z"
   },
   {
    "duration": 47,
    "start_time": "2025-03-25T15:28:33.340Z"
   },
   {
    "duration": 61,
    "start_time": "2025-03-25T15:28:33.388Z"
   },
   {
    "duration": 39,
    "start_time": "2025-03-25T15:28:33.451Z"
   },
   {
    "duration": 12,
    "start_time": "2025-03-25T15:28:33.491Z"
   },
   {
    "duration": 23,
    "start_time": "2025-03-25T15:28:33.505Z"
   },
   {
    "duration": 13,
    "start_time": "2025-03-25T15:28:33.530Z"
   },
   {
    "duration": 9,
    "start_time": "2025-03-25T15:28:33.544Z"
   },
   {
    "duration": 23,
    "start_time": "2025-03-25T15:28:33.555Z"
   },
   {
    "duration": 12,
    "start_time": "2025-03-25T15:28:33.582Z"
   },
   {
    "duration": 31,
    "start_time": "2025-03-25T15:28:33.595Z"
   },
   {
    "duration": 16,
    "start_time": "2025-03-25T15:28:33.628Z"
   },
   {
    "duration": 13,
    "start_time": "2025-03-25T15:28:33.645Z"
   },
   {
    "duration": 2,
    "start_time": "2025-03-25T15:28:33.659Z"
   },
   {
    "duration": 18,
    "start_time": "2025-03-25T15:28:33.663Z"
   },
   {
    "duration": 9,
    "start_time": "2025-03-25T15:28:33.683Z"
   },
   {
    "duration": 22,
    "start_time": "2025-03-25T15:28:33.693Z"
   },
   {
    "duration": 8,
    "start_time": "2025-03-25T15:28:33.717Z"
   },
   {
    "duration": 7,
    "start_time": "2025-03-25T15:28:33.727Z"
   },
   {
    "duration": 15,
    "start_time": "2025-03-25T15:28:33.736Z"
   },
   {
    "duration": 15,
    "start_time": "2025-03-25T15:28:33.752Z"
   },
   {
    "duration": 40,
    "start_time": "2025-03-25T15:28:33.768Z"
   },
   {
    "duration": 24,
    "start_time": "2025-03-25T15:28:33.810Z"
   },
   {
    "duration": 13,
    "start_time": "2025-03-25T15:28:33.836Z"
   },
   {
    "duration": 151,
    "start_time": "2025-03-25T15:28:33.851Z"
   },
   {
    "duration": 5,
    "start_time": "2025-03-25T15:28:34.004Z"
   },
   {
    "duration": 19,
    "start_time": "2025-03-25T15:28:34.011Z"
   },
   {
    "duration": 21,
    "start_time": "2025-03-25T15:28:34.034Z"
   },
   {
    "duration": 165,
    "start_time": "2025-03-25T15:28:34.056Z"
   },
   {
    "duration": 5,
    "start_time": "2025-03-25T15:28:34.222Z"
   },
   {
    "duration": 21,
    "start_time": "2025-03-25T15:28:34.228Z"
   },
   {
    "duration": 27,
    "start_time": "2025-03-25T15:28:34.250Z"
   },
   {
    "duration": 25,
    "start_time": "2025-03-25T15:28:34.279Z"
   },
   {
    "duration": 137,
    "start_time": "2025-03-25T15:28:34.306Z"
   },
   {
    "duration": 88,
    "start_time": "2025-03-25T15:28:34.445Z"
   },
   {
    "duration": 9,
    "start_time": "2025-03-25T15:28:34.535Z"
   },
   {
    "duration": 267,
    "start_time": "2025-03-25T15:28:34.546Z"
   },
   {
    "duration": 60,
    "start_time": "2025-03-25T15:28:34.815Z"
   },
   {
    "duration": 336,
    "start_time": "2025-03-25T15:28:34.877Z"
   },
   {
    "duration": 61,
    "start_time": "2025-03-25T15:28:35.214Z"
   },
   {
    "duration": 401,
    "start_time": "2025-03-25T15:28:35.277Z"
   },
   {
    "duration": 11,
    "start_time": "2025-03-25T15:28:35.679Z"
   },
   {
    "duration": 11,
    "start_time": "2025-03-25T15:28:35.692Z"
   },
   {
    "duration": 71,
    "start_time": "2025-03-25T15:28:35.705Z"
   },
   {
    "duration": 51,
    "start_time": "2025-03-25T15:28:35.778Z"
   },
   {
    "duration": 44,
    "start_time": "2025-03-25T15:28:35.830Z"
   },
   {
    "duration": 6,
    "start_time": "2025-03-25T15:28:35.875Z"
   },
   {
    "duration": 11,
    "start_time": "2025-03-25T15:28:35.883Z"
   },
   {
    "duration": 18,
    "start_time": "2025-03-25T15:28:35.895Z"
   },
   {
    "duration": 65,
    "start_time": "2025-03-25T15:28:35.914Z"
   },
   {
    "duration": 26,
    "start_time": "2025-03-25T15:28:35.980Z"
   },
   {
    "duration": 57,
    "start_time": "2025-03-25T15:28:36.007Z"
   },
   {
    "duration": 30,
    "start_time": "2025-03-25T15:28:36.066Z"
   },
   {
    "duration": 246,
    "start_time": "2025-03-25T15:28:36.097Z"
   },
   {
    "duration": 2,
    "start_time": "2025-03-25T15:28:36.345Z"
   },
   {
    "duration": 22,
    "start_time": "2025-03-25T15:28:36.348Z"
   },
   {
    "duration": 18,
    "start_time": "2025-03-25T15:28:36.373Z"
   },
   {
    "duration": 39,
    "start_time": "2025-03-25T15:28:36.392Z"
   },
   {
    "duration": 19,
    "start_time": "2025-03-25T15:28:36.433Z"
   },
   {
    "duration": 345,
    "start_time": "2025-03-25T15:28:36.454Z"
   },
   {
    "duration": 15,
    "start_time": "2025-03-25T15:28:36.801Z"
   },
   {
    "duration": 24,
    "start_time": "2025-03-25T15:28:36.818Z"
   },
   {
    "duration": 25,
    "start_time": "2025-03-25T15:28:36.844Z"
   },
   {
    "duration": 5,
    "start_time": "2025-03-25T15:28:36.872Z"
   },
   {
    "duration": 14,
    "start_time": "2025-03-25T15:28:36.878Z"
   },
   {
    "duration": 5,
    "start_time": "2025-03-25T15:28:36.894Z"
   },
   {
    "duration": 52,
    "start_time": "2025-03-25T15:28:36.900Z"
   },
   {
    "duration": 14,
    "start_time": "2025-03-25T15:28:36.953Z"
   },
   {
    "duration": 16,
    "start_time": "2025-03-25T15:28:36.968Z"
   },
   {
    "duration": 9,
    "start_time": "2025-03-25T15:28:36.985Z"
   },
   {
    "duration": 5,
    "start_time": "2025-03-25T15:28:36.996Z"
   },
   {
    "duration": 74,
    "start_time": "2025-03-25T15:28:37.003Z"
   },
   {
    "duration": 21,
    "start_time": "2025-03-25T15:28:37.078Z"
   },
   {
    "duration": 37,
    "start_time": "2025-03-25T15:28:37.100Z"
   },
   {
    "duration": 27,
    "start_time": "2025-03-25T15:28:37.139Z"
   },
   {
    "duration": 10,
    "start_time": "2025-03-25T15:28:37.168Z"
   },
   {
    "duration": 12,
    "start_time": "2025-03-25T15:28:37.180Z"
   },
   {
    "duration": 18,
    "start_time": "2025-03-25T15:28:37.194Z"
   },
   {
    "duration": 26,
    "start_time": "2025-03-25T15:28:37.213Z"
   },
   {
    "duration": 7,
    "start_time": "2025-03-25T15:28:37.240Z"
   },
   {
    "duration": 7,
    "start_time": "2025-03-25T15:28:37.249Z"
   },
   {
    "duration": 11,
    "start_time": "2025-03-25T15:28:37.261Z"
   },
   {
    "duration": 163,
    "start_time": "2025-03-25T15:28:37.274Z"
   },
   {
    "duration": 4,
    "start_time": "2025-03-25T15:28:37.438Z"
   },
   {
    "duration": 5,
    "start_time": "2025-03-25T15:28:37.443Z"
   },
   {
    "duration": 7,
    "start_time": "2025-03-25T15:28:37.449Z"
   },
   {
    "duration": 2,
    "start_time": "2025-03-25T15:28:37.474Z"
   },
   {
    "duration": 8,
    "start_time": "2025-03-25T15:28:37.478Z"
   },
   {
    "duration": 4,
    "start_time": "2025-03-25T15:28:37.488Z"
   },
   {
    "duration": 3,
    "start_time": "2025-03-25T15:28:37.493Z"
   },
   {
    "duration": 26,
    "start_time": "2025-03-25T15:28:37.497Z"
   },
   {
    "duration": 29,
    "start_time": "2025-03-25T15:28:37.525Z"
   },
   {
    "duration": 5,
    "start_time": "2025-03-25T15:28:37.555Z"
   },
   {
    "duration": 12,
    "start_time": "2025-03-25T15:28:37.561Z"
   },
   {
    "duration": 4,
    "start_time": "2025-03-25T15:28:37.575Z"
   },
   {
    "duration": 3,
    "start_time": "2025-03-25T15:28:37.581Z"
   },
   {
    "duration": 4,
    "start_time": "2025-03-25T15:28:37.585Z"
   },
   {
    "duration": 5,
    "start_time": "2025-03-25T15:28:37.590Z"
   },
   {
    "duration": 5,
    "start_time": "2025-03-25T15:28:37.596Z"
   },
   {
    "duration": 23,
    "start_time": "2025-03-25T15:28:37.603Z"
   },
   {
    "duration": 12,
    "start_time": "2025-03-25T15:28:37.627Z"
   },
   {
    "duration": 4,
    "start_time": "2025-03-25T15:28:37.640Z"
   },
   {
    "duration": 5,
    "start_time": "2025-03-25T15:28:37.645Z"
   },
   {
    "duration": 13,
    "start_time": "2025-03-25T15:28:37.651Z"
   },
   {
    "duration": 3,
    "start_time": "2025-03-25T15:28:37.666Z"
   },
   {
    "duration": 2,
    "start_time": "2025-03-25T15:28:37.670Z"
   },
   {
    "duration": 9,
    "start_time": "2025-03-25T15:28:37.674Z"
   },
   {
    "duration": 3,
    "start_time": "2025-03-25T15:29:46.896Z"
   },
   {
    "duration": 4,
    "start_time": "2025-03-25T15:29:48.217Z"
   },
   {
    "duration": 4,
    "start_time": "2025-03-25T15:30:06.943Z"
   },
   {
    "duration": 3,
    "start_time": "2025-03-25T15:30:07.958Z"
   },
   {
    "duration": 1357,
    "start_time": "2025-03-25T15:30:31.152Z"
   },
   {
    "duration": 117,
    "start_time": "2025-03-25T15:30:32.511Z"
   },
   {
    "duration": 76,
    "start_time": "2025-03-25T15:30:32.630Z"
   },
   {
    "duration": 66,
    "start_time": "2025-03-25T15:30:32.708Z"
   },
   {
    "duration": 17,
    "start_time": "2025-03-25T15:30:32.776Z"
   },
   {
    "duration": 32,
    "start_time": "2025-03-25T15:30:32.795Z"
   },
   {
    "duration": 54,
    "start_time": "2025-03-25T15:30:32.828Z"
   },
   {
    "duration": 11,
    "start_time": "2025-03-25T15:30:32.884Z"
   },
   {
    "duration": 32,
    "start_time": "2025-03-25T15:30:32.897Z"
   },
   {
    "duration": 7,
    "start_time": "2025-03-25T15:30:32.973Z"
   },
   {
    "duration": 27,
    "start_time": "2025-03-25T15:30:32.982Z"
   },
   {
    "duration": 7,
    "start_time": "2025-03-25T15:30:33.011Z"
   },
   {
    "duration": 56,
    "start_time": "2025-03-25T15:30:33.020Z"
   },
   {
    "duration": 29,
    "start_time": "2025-03-25T15:30:33.078Z"
   },
   {
    "duration": 28,
    "start_time": "2025-03-25T15:30:33.109Z"
   },
   {
    "duration": 35,
    "start_time": "2025-03-25T15:30:33.138Z"
   },
   {
    "duration": 22,
    "start_time": "2025-03-25T15:30:33.175Z"
   },
   {
    "duration": 18,
    "start_time": "2025-03-25T15:30:33.199Z"
   },
   {
    "duration": 22,
    "start_time": "2025-03-25T15:30:33.218Z"
   },
   {
    "duration": 8,
    "start_time": "2025-03-25T15:30:33.274Z"
   },
   {
    "duration": 10,
    "start_time": "2025-03-25T15:30:33.284Z"
   },
   {
    "duration": 23,
    "start_time": "2025-03-25T15:30:33.295Z"
   },
   {
    "duration": 6,
    "start_time": "2025-03-25T15:30:33.319Z"
   },
   {
    "duration": 50,
    "start_time": "2025-03-25T15:30:33.326Z"
   },
   {
    "duration": 299,
    "start_time": "2025-03-25T15:30:33.378Z"
   },
   {
    "duration": 6,
    "start_time": "2025-03-25T15:30:33.678Z"
   },
   {
    "duration": 15,
    "start_time": "2025-03-25T15:30:33.685Z"
   },
   {
    "duration": 21,
    "start_time": "2025-03-25T15:30:33.704Z"
   },
   {
    "duration": 190,
    "start_time": "2025-03-25T15:30:33.726Z"
   },
   {
    "duration": 6,
    "start_time": "2025-03-25T15:30:33.919Z"
   },
   {
    "duration": 8,
    "start_time": "2025-03-25T15:30:33.928Z"
   },
   {
    "duration": 7,
    "start_time": "2025-03-25T15:30:33.938Z"
   },
   {
    "duration": 27,
    "start_time": "2025-03-25T15:30:33.947Z"
   },
   {
    "duration": 141,
    "start_time": "2025-03-25T15:30:33.976Z"
   },
   {
    "duration": 92,
    "start_time": "2025-03-25T15:30:34.118Z"
   },
   {
    "duration": 7,
    "start_time": "2025-03-25T15:30:34.211Z"
   },
   {
    "duration": 174,
    "start_time": "2025-03-25T15:30:34.220Z"
   },
   {
    "duration": 8,
    "start_time": "2025-03-25T15:30:34.395Z"
   },
   {
    "duration": 208,
    "start_time": "2025-03-25T15:30:34.405Z"
   },
   {
    "duration": 62,
    "start_time": "2025-03-25T15:30:34.615Z"
   },
   {
    "duration": 403,
    "start_time": "2025-03-25T15:30:34.679Z"
   },
   {
    "duration": 11,
    "start_time": "2025-03-25T15:30:35.083Z"
   },
   {
    "duration": 10,
    "start_time": "2025-03-25T15:30:35.095Z"
   },
   {
    "duration": 74,
    "start_time": "2025-03-25T15:30:35.106Z"
   },
   {
    "duration": 12,
    "start_time": "2025-03-25T15:30:35.182Z"
   },
   {
    "duration": 31,
    "start_time": "2025-03-25T15:30:35.195Z"
   },
   {
    "duration": 49,
    "start_time": "2025-03-25T15:30:35.227Z"
   },
   {
    "duration": 11,
    "start_time": "2025-03-25T15:30:35.278Z"
   },
   {
    "duration": 31,
    "start_time": "2025-03-25T15:30:35.291Z"
   },
   {
    "duration": 59,
    "start_time": "2025-03-25T15:30:35.323Z"
   },
   {
    "duration": 19,
    "start_time": "2025-03-25T15:30:35.383Z"
   },
   {
    "duration": 18,
    "start_time": "2025-03-25T15:30:35.404Z"
   },
   {
    "duration": 54,
    "start_time": "2025-03-25T15:30:35.424Z"
   },
   {
    "duration": 472,
    "start_time": "2025-03-25T15:30:35.479Z"
   },
   {
    "duration": 3,
    "start_time": "2025-03-25T15:30:35.972Z"
   },
   {
    "duration": 45,
    "start_time": "2025-03-25T15:30:35.976Z"
   },
   {
    "duration": 2,
    "start_time": "2025-03-25T15:30:36.023Z"
   },
   {
    "duration": 18,
    "start_time": "2025-03-25T15:30:36.026Z"
   },
   {
    "duration": 8,
    "start_time": "2025-03-25T15:30:36.045Z"
   },
   {
    "duration": 345,
    "start_time": "2025-03-25T15:30:36.054Z"
   },
   {
    "duration": 12,
    "start_time": "2025-03-25T15:30:36.400Z"
   },
   {
    "duration": 67,
    "start_time": "2025-03-25T15:30:36.413Z"
   },
   {
    "duration": 48,
    "start_time": "2025-03-25T15:30:36.482Z"
   },
   {
    "duration": 5,
    "start_time": "2025-03-25T15:30:36.532Z"
   },
   {
    "duration": 19,
    "start_time": "2025-03-25T15:30:36.538Z"
   },
   {
    "duration": 10,
    "start_time": "2025-03-25T15:30:36.559Z"
   },
   {
    "duration": 26,
    "start_time": "2025-03-25T15:30:36.570Z"
   },
   {
    "duration": 43,
    "start_time": "2025-03-25T15:30:36.597Z"
   },
   {
    "duration": 17,
    "start_time": "2025-03-25T15:30:36.641Z"
   },
   {
    "duration": 7,
    "start_time": "2025-03-25T15:30:36.660Z"
   },
   {
    "duration": 11,
    "start_time": "2025-03-25T15:30:36.668Z"
   },
   {
    "duration": 25,
    "start_time": "2025-03-25T15:30:36.680Z"
   },
   {
    "duration": 21,
    "start_time": "2025-03-25T15:30:36.706Z"
   },
   {
    "duration": 22,
    "start_time": "2025-03-25T15:30:36.729Z"
   },
   {
    "duration": 8,
    "start_time": "2025-03-25T15:30:36.753Z"
   },
   {
    "duration": 4,
    "start_time": "2025-03-25T15:30:36.762Z"
   },
   {
    "duration": 20,
    "start_time": "2025-03-25T15:30:36.768Z"
   },
   {
    "duration": 28,
    "start_time": "2025-03-25T15:30:36.790Z"
   },
   {
    "duration": 101,
    "start_time": "2025-03-25T15:30:36.820Z"
   },
   {
    "duration": 31,
    "start_time": "2025-03-25T15:30:36.923Z"
   },
   {
    "duration": 57,
    "start_time": "2025-03-25T15:30:36.956Z"
   },
   {
    "duration": 40,
    "start_time": "2025-03-25T15:30:37.019Z"
   },
   {
    "duration": 169,
    "start_time": "2025-03-25T15:30:37.061Z"
   },
   {
    "duration": 4,
    "start_time": "2025-03-25T15:30:37.232Z"
   },
   {
    "duration": 14,
    "start_time": "2025-03-25T15:30:37.238Z"
   },
   {
    "duration": 5,
    "start_time": "2025-03-25T15:30:37.254Z"
   },
   {
    "duration": 13,
    "start_time": "2025-03-25T15:30:37.260Z"
   },
   {
    "duration": 12,
    "start_time": "2025-03-25T15:30:37.274Z"
   },
   {
    "duration": 3,
    "start_time": "2025-03-25T15:30:37.288Z"
   },
   {
    "duration": 3,
    "start_time": "2025-03-25T15:30:37.293Z"
   },
   {
    "duration": 10,
    "start_time": "2025-03-25T15:30:37.297Z"
   },
   {
    "duration": 27,
    "start_time": "2025-03-25T15:30:37.309Z"
   },
   {
    "duration": 15,
    "start_time": "2025-03-25T15:30:37.337Z"
   },
   {
    "duration": 8,
    "start_time": "2025-03-25T15:30:37.353Z"
   },
   {
    "duration": 3,
    "start_time": "2025-03-25T15:30:37.363Z"
   },
   {
    "duration": 4,
    "start_time": "2025-03-25T15:30:37.367Z"
   },
   {
    "duration": 14,
    "start_time": "2025-03-25T15:30:37.372Z"
   },
   {
    "duration": 4,
    "start_time": "2025-03-25T15:30:37.388Z"
   },
   {
    "duration": 2,
    "start_time": "2025-03-25T15:30:37.394Z"
   },
   {
    "duration": 29,
    "start_time": "2025-03-25T15:30:37.397Z"
   },
   {
    "duration": 14,
    "start_time": "2025-03-25T15:30:37.428Z"
   },
   {
    "duration": 16,
    "start_time": "2025-03-25T15:30:37.444Z"
   },
   {
    "duration": 8,
    "start_time": "2025-03-25T15:30:37.461Z"
   },
   {
    "duration": 11,
    "start_time": "2025-03-25T15:30:37.470Z"
   },
   {
    "duration": 15,
    "start_time": "2025-03-25T15:30:37.483Z"
   },
   {
    "duration": 14,
    "start_time": "2025-03-25T15:30:37.499Z"
   },
   {
    "duration": 15,
    "start_time": "2025-03-25T15:30:37.514Z"
   },
   {
    "duration": 2,
    "start_time": "2025-03-25T15:32:06.225Z"
   },
   {
    "duration": 3,
    "start_time": "2025-03-25T15:32:06.566Z"
   },
   {
    "duration": 4,
    "start_time": "2025-03-25T15:32:07.043Z"
   },
   {
    "duration": 4,
    "start_time": "2025-03-25T15:32:08.645Z"
   },
   {
    "duration": 4,
    "start_time": "2025-03-25T15:32:30.922Z"
   },
   {
    "duration": 3,
    "start_time": "2025-03-25T15:32:32.466Z"
   },
   {
    "duration": 3,
    "start_time": "2025-03-25T15:33:36.627Z"
   },
   {
    "duration": 4,
    "start_time": "2025-03-25T15:33:37.825Z"
   },
   {
    "duration": 3,
    "start_time": "2025-03-25T15:33:54.623Z"
   },
   {
    "duration": 1451,
    "start_time": "2025-03-25T15:36:02.459Z"
   },
   {
    "duration": 131,
    "start_time": "2025-03-25T15:36:03.913Z"
   },
   {
    "duration": 313,
    "start_time": "2025-03-25T15:36:04.073Z"
   },
   {
    "duration": 42,
    "start_time": "2025-03-25T15:36:04.388Z"
   },
   {
    "duration": 50,
    "start_time": "2025-03-25T15:36:04.432Z"
   },
   {
    "duration": 27,
    "start_time": "2025-03-25T15:36:04.484Z"
   },
   {
    "duration": 12,
    "start_time": "2025-03-25T15:36:04.512Z"
   },
   {
    "duration": 8,
    "start_time": "2025-03-25T15:36:04.525Z"
   },
   {
    "duration": 10,
    "start_time": "2025-03-25T15:36:04.535Z"
   },
   {
    "duration": 10,
    "start_time": "2025-03-25T15:36:04.548Z"
   },
   {
    "duration": 21,
    "start_time": "2025-03-25T15:36:04.559Z"
   },
   {
    "duration": 30,
    "start_time": "2025-03-25T15:36:04.581Z"
   },
   {
    "duration": 11,
    "start_time": "2025-03-25T15:36:04.613Z"
   },
   {
    "duration": 3,
    "start_time": "2025-03-25T15:36:04.625Z"
   },
   {
    "duration": 13,
    "start_time": "2025-03-25T15:36:04.630Z"
   },
   {
    "duration": 9,
    "start_time": "2025-03-25T15:36:04.645Z"
   },
   {
    "duration": 10,
    "start_time": "2025-03-25T15:36:04.656Z"
   },
   {
    "duration": 8,
    "start_time": "2025-03-25T15:36:04.667Z"
   },
   {
    "duration": 17,
    "start_time": "2025-03-25T15:36:04.677Z"
   },
   {
    "duration": 20,
    "start_time": "2025-03-25T15:36:04.696Z"
   },
   {
    "duration": 8,
    "start_time": "2025-03-25T15:36:04.718Z"
   },
   {
    "duration": 12,
    "start_time": "2025-03-25T15:36:04.727Z"
   },
   {
    "duration": 10,
    "start_time": "2025-03-25T15:36:04.741Z"
   },
   {
    "duration": 15,
    "start_time": "2025-03-25T15:36:04.753Z"
   },
   {
    "duration": 239,
    "start_time": "2025-03-25T15:36:04.770Z"
   },
   {
    "duration": 5,
    "start_time": "2025-03-25T15:36:05.011Z"
   },
   {
    "duration": 56,
    "start_time": "2025-03-25T15:36:05.017Z"
   },
   {
    "duration": 37,
    "start_time": "2025-03-25T15:36:05.078Z"
   },
   {
    "duration": 366,
    "start_time": "2025-03-25T15:36:05.116Z"
   },
   {
    "duration": 5,
    "start_time": "2025-03-25T15:36:05.483Z"
   },
   {
    "duration": 21,
    "start_time": "2025-03-25T15:36:05.489Z"
   },
   {
    "duration": 8,
    "start_time": "2025-03-25T15:36:05.512Z"
   },
   {
    "duration": 53,
    "start_time": "2025-03-25T15:36:05.521Z"
   },
   {
    "duration": 244,
    "start_time": "2025-03-25T15:36:05.576Z"
   },
   {
    "duration": 136,
    "start_time": "2025-03-25T15:36:05.874Z"
   },
   {
    "duration": 62,
    "start_time": "2025-03-25T15:36:06.012Z"
   },
   {
    "duration": 303,
    "start_time": "2025-03-25T15:36:06.076Z"
   },
   {
    "duration": 10,
    "start_time": "2025-03-25T15:36:06.380Z"
   },
   {
    "duration": 210,
    "start_time": "2025-03-25T15:36:06.391Z"
   },
   {
    "duration": 8,
    "start_time": "2025-03-25T15:36:06.602Z"
   },
   {
    "duration": 203,
    "start_time": "2025-03-25T15:36:06.612Z"
   },
   {
    "duration": 10,
    "start_time": "2025-03-25T15:36:06.817Z"
   },
   {
    "duration": 10,
    "start_time": "2025-03-25T15:36:06.829Z"
   },
   {
    "duration": 16,
    "start_time": "2025-03-25T15:36:06.840Z"
   },
   {
    "duration": 51,
    "start_time": "2025-03-25T15:36:06.857Z"
   },
   {
    "duration": 30,
    "start_time": "2025-03-25T15:36:06.909Z"
   },
   {
    "duration": 7,
    "start_time": "2025-03-25T15:36:06.940Z"
   },
   {
    "duration": 12,
    "start_time": "2025-03-25T15:36:06.948Z"
   },
   {
    "duration": 36,
    "start_time": "2025-03-25T15:36:06.962Z"
   },
   {
    "duration": 22,
    "start_time": "2025-03-25T15:36:07.000Z"
   },
   {
    "duration": 32,
    "start_time": "2025-03-25T15:36:07.023Z"
   },
   {
    "duration": 12,
    "start_time": "2025-03-25T15:36:07.057Z"
   },
   {
    "duration": 9,
    "start_time": "2025-03-25T15:36:07.070Z"
   },
   {
    "duration": 258,
    "start_time": "2025-03-25T15:36:07.080Z"
   },
   {
    "duration": 3,
    "start_time": "2025-03-25T15:36:07.339Z"
   },
   {
    "duration": 25,
    "start_time": "2025-03-25T15:36:07.343Z"
   },
   {
    "duration": 3,
    "start_time": "2025-03-25T15:36:07.369Z"
   },
   {
    "duration": 16,
    "start_time": "2025-03-25T15:36:07.373Z"
   },
   {
    "duration": 26,
    "start_time": "2025-03-25T15:36:07.390Z"
   },
   {
    "duration": 358,
    "start_time": "2025-03-25T15:36:07.417Z"
   },
   {
    "duration": 13,
    "start_time": "2025-03-25T15:36:07.776Z"
   },
   {
    "duration": 11,
    "start_time": "2025-03-25T15:36:07.790Z"
   },
   {
    "duration": 19,
    "start_time": "2025-03-25T15:36:07.802Z"
   },
   {
    "duration": 5,
    "start_time": "2025-03-25T15:36:07.823Z"
   },
   {
    "duration": 3,
    "start_time": "2025-03-25T15:36:07.829Z"
   },
   {
    "duration": 9,
    "start_time": "2025-03-25T15:36:07.834Z"
   },
   {
    "duration": 31,
    "start_time": "2025-03-25T15:36:07.845Z"
   },
   {
    "duration": 11,
    "start_time": "2025-03-25T15:36:07.877Z"
   },
   {
    "duration": 7,
    "start_time": "2025-03-25T15:36:07.890Z"
   },
   {
    "duration": 11,
    "start_time": "2025-03-25T15:36:07.898Z"
   },
   {
    "duration": 9,
    "start_time": "2025-03-25T15:36:07.911Z"
   },
   {
    "duration": 6,
    "start_time": "2025-03-25T15:36:07.921Z"
   },
   {
    "duration": 11,
    "start_time": "2025-03-25T15:36:07.929Z"
   },
   {
    "duration": 37,
    "start_time": "2025-03-25T15:36:07.941Z"
   },
   {
    "duration": 8,
    "start_time": "2025-03-25T15:36:07.980Z"
   },
   {
    "duration": 7,
    "start_time": "2025-03-25T15:36:07.989Z"
   },
   {
    "duration": 5,
    "start_time": "2025-03-25T15:36:07.997Z"
   },
   {
    "duration": 4,
    "start_time": "2025-03-25T15:36:08.003Z"
   },
   {
    "duration": 6,
    "start_time": "2025-03-25T15:36:08.008Z"
   },
   {
    "duration": 5,
    "start_time": "2025-03-25T15:36:08.016Z"
   },
   {
    "duration": 52,
    "start_time": "2025-03-25T15:36:08.022Z"
   },
   {
    "duration": 13,
    "start_time": "2025-03-25T15:36:08.079Z"
   },
   {
    "duration": 323,
    "start_time": "2025-03-25T15:36:08.094Z"
   },
   {
    "duration": 4,
    "start_time": "2025-03-25T15:36:08.473Z"
   },
   {
    "duration": 4,
    "start_time": "2025-03-25T15:36:08.479Z"
   },
   {
    "duration": 5,
    "start_time": "2025-03-25T15:36:08.484Z"
   },
   {
    "duration": 10,
    "start_time": "2025-03-25T15:36:08.490Z"
   },
   {
    "duration": 5,
    "start_time": "2025-03-25T15:36:08.501Z"
   },
   {
    "duration": 3,
    "start_time": "2025-03-25T15:36:08.507Z"
   },
   {
    "duration": 3,
    "start_time": "2025-03-25T15:36:08.512Z"
   },
   {
    "duration": 6,
    "start_time": "2025-03-25T15:36:08.516Z"
   },
   {
    "duration": 3,
    "start_time": "2025-03-25T15:36:08.523Z"
   },
   {
    "duration": 2,
    "start_time": "2025-03-25T15:36:08.574Z"
   },
   {
    "duration": 6,
    "start_time": "2025-03-25T15:36:08.577Z"
   },
   {
    "duration": 5,
    "start_time": "2025-03-25T15:36:08.584Z"
   },
   {
    "duration": 5,
    "start_time": "2025-03-25T15:36:08.590Z"
   },
   {
    "duration": 8,
    "start_time": "2025-03-25T15:36:08.597Z"
   },
   {
    "duration": 3,
    "start_time": "2025-03-25T15:36:08.607Z"
   },
   {
    "duration": 3,
    "start_time": "2025-03-25T15:36:08.612Z"
   },
   {
    "duration": 6,
    "start_time": "2025-03-25T15:36:08.616Z"
   },
   {
    "duration": 51,
    "start_time": "2025-03-25T15:36:08.623Z"
   },
   {
    "duration": 18,
    "start_time": "2025-03-25T15:36:08.676Z"
   },
   {
    "duration": 4,
    "start_time": "2025-03-25T15:36:08.696Z"
   },
   {
    "duration": 4,
    "start_time": "2025-03-25T15:36:08.702Z"
   },
   {
    "duration": 2,
    "start_time": "2025-03-25T15:36:08.708Z"
   },
   {
    "duration": 3,
    "start_time": "2025-03-25T15:36:08.711Z"
   },
   {
    "duration": 4,
    "start_time": "2025-03-25T15:36:08.715Z"
   },
   {
    "duration": 6,
    "start_time": "2025-03-25T15:45:22.211Z"
   },
   {
    "duration": 4,
    "start_time": "2025-03-25T15:45:22.898Z"
   },
   {
    "duration": 4,
    "start_time": "2025-03-25T15:45:25.779Z"
   },
   {
    "duration": 16,
    "start_time": "2025-03-25T15:46:09.774Z"
   },
   {
    "duration": 17,
    "start_time": "2025-03-25T15:46:15.305Z"
   },
   {
    "duration": 23,
    "start_time": "2025-03-25T15:46:22.939Z"
   },
   {
    "duration": 24,
    "start_time": "2025-03-25T15:46:34.685Z"
   },
   {
    "duration": 15,
    "start_time": "2025-03-25T15:46:40.531Z"
   },
   {
    "duration": 15,
    "start_time": "2025-03-25T15:46:50.103Z"
   },
   {
    "duration": 12,
    "start_time": "2025-03-25T15:47:09.490Z"
   },
   {
    "duration": 12,
    "start_time": "2025-03-25T15:47:25.690Z"
   },
   {
    "duration": 5,
    "start_time": "2025-03-25T15:48:21.578Z"
   },
   {
    "duration": 3,
    "start_time": "2025-03-25T15:48:22.157Z"
   },
   {
    "duration": 2,
    "start_time": "2025-03-25T15:50:46.694Z"
   },
   {
    "duration": 2,
    "start_time": "2025-03-25T15:50:59.656Z"
   },
   {
    "duration": 13,
    "start_time": "2025-03-25T15:54:39.152Z"
   },
   {
    "duration": 1480,
    "start_time": "2025-03-25T15:54:44.412Z"
   },
   {
    "duration": 79,
    "start_time": "2025-03-25T15:54:45.894Z"
   },
   {
    "duration": 111,
    "start_time": "2025-03-25T15:54:45.975Z"
   },
   {
    "duration": 88,
    "start_time": "2025-03-25T15:54:46.089Z"
   },
   {
    "duration": 16,
    "start_time": "2025-03-25T15:54:46.179Z"
   },
   {
    "duration": 17,
    "start_time": "2025-03-25T15:54:46.197Z"
   },
   {
    "duration": 63,
    "start_time": "2025-03-25T15:54:46.216Z"
   },
   {
    "duration": 9,
    "start_time": "2025-03-25T15:54:46.280Z"
   },
   {
    "duration": 11,
    "start_time": "2025-03-25T15:54:46.290Z"
   },
   {
    "duration": 6,
    "start_time": "2025-03-25T15:54:46.304Z"
   },
   {
    "duration": 10,
    "start_time": "2025-03-25T15:54:46.311Z"
   },
   {
    "duration": 8,
    "start_time": "2025-03-25T15:54:46.374Z"
   },
   {
    "duration": 7,
    "start_time": "2025-03-25T15:54:46.384Z"
   },
   {
    "duration": 4,
    "start_time": "2025-03-25T15:54:46.393Z"
   },
   {
    "duration": 7,
    "start_time": "2025-03-25T15:54:46.399Z"
   },
   {
    "duration": 5,
    "start_time": "2025-03-25T15:54:46.407Z"
   },
   {
    "duration": 8,
    "start_time": "2025-03-25T15:54:46.413Z"
   },
   {
    "duration": 6,
    "start_time": "2025-03-25T15:54:46.474Z"
   },
   {
    "duration": 5,
    "start_time": "2025-03-25T15:54:46.482Z"
   },
   {
    "duration": 8,
    "start_time": "2025-03-25T15:54:46.488Z"
   },
   {
    "duration": 8,
    "start_time": "2025-03-25T15:54:46.497Z"
   },
   {
    "duration": 3,
    "start_time": "2025-03-25T15:54:46.507Z"
   },
   {
    "duration": 63,
    "start_time": "2025-03-25T15:54:46.511Z"
   },
   {
    "duration": 9,
    "start_time": "2025-03-25T15:54:46.576Z"
   },
   {
    "duration": 317,
    "start_time": "2025-03-25T15:54:46.586Z"
   },
   {
    "duration": 5,
    "start_time": "2025-03-25T15:54:46.906Z"
   },
   {
    "duration": 5,
    "start_time": "2025-03-25T15:54:46.913Z"
   },
   {
    "duration": 24,
    "start_time": "2025-03-25T15:54:46.923Z"
   },
   {
    "duration": 178,
    "start_time": "2025-03-25T15:54:46.975Z"
   },
   {
    "duration": 5,
    "start_time": "2025-03-25T15:54:47.155Z"
   },
   {
    "duration": 16,
    "start_time": "2025-03-25T15:54:47.161Z"
   },
   {
    "duration": 21,
    "start_time": "2025-03-25T15:54:47.178Z"
   },
   {
    "duration": 34,
    "start_time": "2025-03-25T15:54:47.201Z"
   },
   {
    "duration": 129,
    "start_time": "2025-03-25T15:54:47.236Z"
   },
   {
    "duration": 76,
    "start_time": "2025-03-25T15:54:47.367Z"
   },
   {
    "duration": 8,
    "start_time": "2025-03-25T15:54:47.444Z"
   },
   {
    "duration": 186,
    "start_time": "2025-03-25T15:54:47.473Z"
   },
   {
    "duration": 17,
    "start_time": "2025-03-25T15:54:47.661Z"
   },
   {
    "duration": 195,
    "start_time": "2025-03-25T15:54:47.680Z"
   },
   {
    "duration": 9,
    "start_time": "2025-03-25T15:54:47.877Z"
   },
   {
    "duration": 200,
    "start_time": "2025-03-25T15:54:47.887Z"
   },
   {
    "duration": 12,
    "start_time": "2025-03-25T15:54:48.088Z"
   },
   {
    "duration": 10,
    "start_time": "2025-03-25T15:54:48.102Z"
   },
   {
    "duration": 12,
    "start_time": "2025-03-25T15:54:48.113Z"
   },
   {
    "duration": 4,
    "start_time": "2025-03-25T15:54:48.127Z"
   },
   {
    "duration": 50,
    "start_time": "2025-03-25T15:54:48.132Z"
   },
   {
    "duration": 7,
    "start_time": "2025-03-25T15:54:48.184Z"
   },
   {
    "duration": 11,
    "start_time": "2025-03-25T15:54:48.193Z"
   },
   {
    "duration": 5,
    "start_time": "2025-03-25T15:54:48.206Z"
   },
   {
    "duration": 11,
    "start_time": "2025-03-25T15:54:48.213Z"
   },
   {
    "duration": 8,
    "start_time": "2025-03-25T15:54:48.226Z"
   },
   {
    "duration": 3,
    "start_time": "2025-03-25T15:54:48.235Z"
   },
   {
    "duration": 7,
    "start_time": "2025-03-25T15:54:48.273Z"
   },
   {
    "duration": 272,
    "start_time": "2025-03-25T15:54:48.281Z"
   },
   {
    "duration": 3,
    "start_time": "2025-03-25T15:54:48.554Z"
   },
   {
    "duration": 22,
    "start_time": "2025-03-25T15:54:48.558Z"
   },
   {
    "duration": 3,
    "start_time": "2025-03-25T15:54:48.582Z"
   },
   {
    "duration": 11,
    "start_time": "2025-03-25T15:54:48.586Z"
   },
   {
    "duration": 2,
    "start_time": "2025-03-25T15:54:48.599Z"
   },
   {
    "duration": 375,
    "start_time": "2025-03-25T15:54:48.603Z"
   },
   {
    "duration": 13,
    "start_time": "2025-03-25T15:54:48.981Z"
   },
   {
    "duration": 8,
    "start_time": "2025-03-25T15:54:48.996Z"
   },
   {
    "duration": 35,
    "start_time": "2025-03-25T15:54:49.006Z"
   },
   {
    "duration": 5,
    "start_time": "2025-03-25T15:54:49.043Z"
   },
   {
    "duration": 8,
    "start_time": "2025-03-25T15:54:49.050Z"
   },
   {
    "duration": 15,
    "start_time": "2025-03-25T15:54:49.059Z"
   },
   {
    "duration": 13,
    "start_time": "2025-03-25T15:54:49.076Z"
   },
   {
    "duration": 18,
    "start_time": "2025-03-25T15:54:49.091Z"
   },
   {
    "duration": 11,
    "start_time": "2025-03-25T15:54:49.111Z"
   },
   {
    "duration": 15,
    "start_time": "2025-03-25T15:54:49.124Z"
   },
   {
    "duration": 13,
    "start_time": "2025-03-25T15:54:49.140Z"
   },
   {
    "duration": 10,
    "start_time": "2025-03-25T15:54:49.154Z"
   },
   {
    "duration": 16,
    "start_time": "2025-03-25T15:54:49.166Z"
   },
   {
    "duration": 19,
    "start_time": "2025-03-25T15:54:49.183Z"
   },
   {
    "duration": 11,
    "start_time": "2025-03-25T15:54:49.203Z"
   },
   {
    "duration": 9,
    "start_time": "2025-03-25T15:54:49.216Z"
   },
   {
    "duration": 15,
    "start_time": "2025-03-25T15:54:49.226Z"
   },
   {
    "duration": 16,
    "start_time": "2025-03-25T15:54:49.243Z"
   },
   {
    "duration": 26,
    "start_time": "2025-03-25T15:54:49.260Z"
   },
   {
    "duration": 17,
    "start_time": "2025-03-25T15:54:49.288Z"
   },
   {
    "duration": 5,
    "start_time": "2025-03-25T15:54:49.307Z"
   },
   {
    "duration": 20,
    "start_time": "2025-03-25T15:54:49.317Z"
   },
   {
    "duration": 183,
    "start_time": "2025-03-25T15:54:49.338Z"
   },
   {
    "duration": 4,
    "start_time": "2025-03-25T15:54:49.523Z"
   },
   {
    "duration": 21,
    "start_time": "2025-03-25T15:54:49.528Z"
   },
   {
    "duration": 5,
    "start_time": "2025-03-25T15:54:49.551Z"
   },
   {
    "duration": 4,
    "start_time": "2025-03-25T15:54:49.557Z"
   },
   {
    "duration": 11,
    "start_time": "2025-03-25T15:54:49.562Z"
   },
   {
    "duration": 8,
    "start_time": "2025-03-25T15:54:49.574Z"
   },
   {
    "duration": 5,
    "start_time": "2025-03-25T15:54:49.583Z"
   },
   {
    "duration": 5,
    "start_time": "2025-03-25T15:54:49.589Z"
   },
   {
    "duration": 7,
    "start_time": "2025-03-25T15:54:49.595Z"
   },
   {
    "duration": 11,
    "start_time": "2025-03-25T15:54:49.603Z"
   },
   {
    "duration": 6,
    "start_time": "2025-03-25T15:54:49.615Z"
   },
   {
    "duration": 3,
    "start_time": "2025-03-25T15:54:49.622Z"
   },
   {
    "duration": 4,
    "start_time": "2025-03-25T15:54:49.627Z"
   },
   {
    "duration": 4,
    "start_time": "2025-03-25T15:54:49.632Z"
   },
   {
    "duration": 35,
    "start_time": "2025-03-25T15:54:49.638Z"
   },
   {
    "duration": 3,
    "start_time": "2025-03-25T15:54:49.675Z"
   },
   {
    "duration": 3,
    "start_time": "2025-03-25T15:54:49.679Z"
   },
   {
    "duration": 12,
    "start_time": "2025-03-25T15:54:49.684Z"
   },
   {
    "duration": 12,
    "start_time": "2025-03-25T15:54:49.698Z"
   },
   {
    "duration": 2,
    "start_time": "2025-03-25T15:54:49.712Z"
   },
   {
    "duration": 8,
    "start_time": "2025-03-25T15:54:49.715Z"
   },
   {
    "duration": 15,
    "start_time": "2025-03-25T15:54:49.725Z"
   },
   {
    "duration": 5,
    "start_time": "2025-03-25T15:54:49.742Z"
   },
   {
    "duration": 3,
    "start_time": "2025-03-25T15:54:49.773Z"
   },
   {
    "duration": 3,
    "start_time": "2025-03-25T15:54:49.777Z"
   },
   {
    "duration": 3,
    "start_time": "2025-03-25T15:54:49.782Z"
   },
   {
    "duration": 4,
    "start_time": "2025-03-25T15:54:49.787Z"
   },
   {
    "duration": 3,
    "start_time": "2025-03-25T15:58:01.045Z"
   },
   {
    "duration": 4,
    "start_time": "2025-03-25T15:58:02.593Z"
   },
   {
    "duration": 4,
    "start_time": "2025-03-25T15:58:10.711Z"
   },
   {
    "duration": 1097,
    "start_time": "2025-03-25T15:59:15.137Z"
   },
   {
    "duration": 48,
    "start_time": "2025-03-25T15:59:16.236Z"
   },
   {
    "duration": 107,
    "start_time": "2025-03-25T15:59:16.285Z"
   },
   {
    "duration": 42,
    "start_time": "2025-03-25T15:59:16.394Z"
   },
   {
    "duration": 11,
    "start_time": "2025-03-25T15:59:16.438Z"
   },
   {
    "duration": 17,
    "start_time": "2025-03-25T15:59:16.451Z"
   },
   {
    "duration": 12,
    "start_time": "2025-03-25T15:59:16.470Z"
   },
   {
    "duration": 12,
    "start_time": "2025-03-25T15:59:16.484Z"
   },
   {
    "duration": 11,
    "start_time": "2025-03-25T15:59:16.497Z"
   },
   {
    "duration": 24,
    "start_time": "2025-03-25T15:59:16.511Z"
   },
   {
    "duration": 18,
    "start_time": "2025-03-25T15:59:16.537Z"
   },
   {
    "duration": 7,
    "start_time": "2025-03-25T15:59:16.557Z"
   },
   {
    "duration": 7,
    "start_time": "2025-03-25T15:59:16.573Z"
   },
   {
    "duration": 3,
    "start_time": "2025-03-25T15:59:16.582Z"
   },
   {
    "duration": 8,
    "start_time": "2025-03-25T15:59:16.586Z"
   },
   {
    "duration": 13,
    "start_time": "2025-03-25T15:59:16.595Z"
   },
   {
    "duration": 9,
    "start_time": "2025-03-25T15:59:16.609Z"
   },
   {
    "duration": 9,
    "start_time": "2025-03-25T15:59:16.619Z"
   },
   {
    "duration": 13,
    "start_time": "2025-03-25T15:59:16.629Z"
   },
   {
    "duration": 7,
    "start_time": "2025-03-25T15:59:16.644Z"
   },
   {
    "duration": 28,
    "start_time": "2025-03-25T15:59:16.652Z"
   },
   {
    "duration": 3,
    "start_time": "2025-03-25T15:59:16.681Z"
   },
   {
    "duration": 4,
    "start_time": "2025-03-25T15:59:16.686Z"
   },
   {
    "duration": 8,
    "start_time": "2025-03-25T15:59:16.691Z"
   },
   {
    "duration": 154,
    "start_time": "2025-03-25T15:59:16.700Z"
   },
   {
    "duration": 5,
    "start_time": "2025-03-25T15:59:16.856Z"
   },
   {
    "duration": 10,
    "start_time": "2025-03-25T15:59:16.863Z"
   },
   {
    "duration": 7,
    "start_time": "2025-03-25T15:59:16.877Z"
   },
   {
    "duration": 190,
    "start_time": "2025-03-25T15:59:16.885Z"
   },
   {
    "duration": 4,
    "start_time": "2025-03-25T15:59:17.077Z"
   },
   {
    "duration": 5,
    "start_time": "2025-03-25T15:59:17.083Z"
   },
   {
    "duration": 9,
    "start_time": "2025-03-25T15:59:17.090Z"
   },
   {
    "duration": 12,
    "start_time": "2025-03-25T15:59:17.101Z"
   },
   {
    "duration": 136,
    "start_time": "2025-03-25T15:59:17.115Z"
   },
   {
    "duration": 84,
    "start_time": "2025-03-25T15:59:17.252Z"
   },
   {
    "duration": 8,
    "start_time": "2025-03-25T15:59:17.338Z"
   },
   {
    "duration": 186,
    "start_time": "2025-03-25T15:59:17.348Z"
   },
   {
    "duration": 9,
    "start_time": "2025-03-25T15:59:17.535Z"
   },
   {
    "duration": 194,
    "start_time": "2025-03-25T15:59:17.545Z"
   },
   {
    "duration": 9,
    "start_time": "2025-03-25T15:59:17.741Z"
   },
   {
    "duration": 207,
    "start_time": "2025-03-25T15:59:17.751Z"
   },
   {
    "duration": 14,
    "start_time": "2025-03-25T15:59:17.959Z"
   },
   {
    "duration": 9,
    "start_time": "2025-03-25T15:59:17.975Z"
   },
   {
    "duration": 11,
    "start_time": "2025-03-25T15:59:17.985Z"
   },
   {
    "duration": 3,
    "start_time": "2025-03-25T15:59:17.998Z"
   },
   {
    "duration": 15,
    "start_time": "2025-03-25T15:59:18.002Z"
   },
   {
    "duration": 5,
    "start_time": "2025-03-25T15:59:18.019Z"
   },
   {
    "duration": 12,
    "start_time": "2025-03-25T15:59:18.026Z"
   },
   {
    "duration": 36,
    "start_time": "2025-03-25T15:59:18.039Z"
   },
   {
    "duration": 11,
    "start_time": "2025-03-25T15:59:18.076Z"
   },
   {
    "duration": 10,
    "start_time": "2025-03-25T15:59:18.088Z"
   },
   {
    "duration": 2,
    "start_time": "2025-03-25T15:59:18.099Z"
   },
   {
    "duration": 7,
    "start_time": "2025-03-25T15:59:18.103Z"
   },
   {
    "duration": 275,
    "start_time": "2025-03-25T15:59:18.111Z"
   },
   {
    "duration": 3,
    "start_time": "2025-03-25T15:59:18.387Z"
   },
   {
    "duration": 31,
    "start_time": "2025-03-25T15:59:18.391Z"
   },
   {
    "duration": 3,
    "start_time": "2025-03-25T15:59:18.423Z"
   },
   {
    "duration": 8,
    "start_time": "2025-03-25T15:59:18.427Z"
   },
   {
    "duration": 2,
    "start_time": "2025-03-25T15:59:18.437Z"
   },
   {
    "duration": 360,
    "start_time": "2025-03-25T15:59:18.440Z"
   },
   {
    "duration": 12,
    "start_time": "2025-03-25T15:59:18.801Z"
   },
   {
    "duration": 5,
    "start_time": "2025-03-25T15:59:18.814Z"
   },
   {
    "duration": 19,
    "start_time": "2025-03-25T15:59:18.820Z"
   },
   {
    "duration": 5,
    "start_time": "2025-03-25T15:59:18.840Z"
   },
   {
    "duration": 2,
    "start_time": "2025-03-25T15:59:18.847Z"
   },
   {
    "duration": 4,
    "start_time": "2025-03-25T15:59:18.873Z"
   },
   {
    "duration": 9,
    "start_time": "2025-03-25T15:59:18.878Z"
   },
   {
    "duration": 14,
    "start_time": "2025-03-25T15:59:18.888Z"
   },
   {
    "duration": 8,
    "start_time": "2025-03-25T15:59:18.903Z"
   },
   {
    "duration": 14,
    "start_time": "2025-03-25T15:59:18.913Z"
   },
   {
    "duration": 4,
    "start_time": "2025-03-25T15:59:18.929Z"
   },
   {
    "duration": 10,
    "start_time": "2025-03-25T15:59:18.934Z"
   },
   {
    "duration": 28,
    "start_time": "2025-03-25T15:59:18.946Z"
   },
   {
    "duration": 12,
    "start_time": "2025-03-25T15:59:18.975Z"
   },
   {
    "duration": 7,
    "start_time": "2025-03-25T15:59:18.989Z"
   },
   {
    "duration": 7,
    "start_time": "2025-03-25T15:59:18.998Z"
   },
   {
    "duration": 13,
    "start_time": "2025-03-25T15:59:19.006Z"
   },
   {
    "duration": 9,
    "start_time": "2025-03-25T15:59:19.020Z"
   },
   {
    "duration": 6,
    "start_time": "2025-03-25T15:59:19.030Z"
   },
   {
    "duration": 16,
    "start_time": "2025-03-25T15:59:19.037Z"
   },
   {
    "duration": 4,
    "start_time": "2025-03-25T15:59:19.054Z"
   },
   {
    "duration": 11,
    "start_time": "2025-03-25T15:59:19.064Z"
   },
   {
    "duration": 170,
    "start_time": "2025-03-25T15:59:19.076Z"
   },
   {
    "duration": 4,
    "start_time": "2025-03-25T15:59:19.248Z"
   },
   {
    "duration": 8,
    "start_time": "2025-03-25T15:59:19.253Z"
   },
   {
    "duration": 4,
    "start_time": "2025-03-25T15:59:19.273Z"
   },
   {
    "duration": 2,
    "start_time": "2025-03-25T15:59:19.278Z"
   },
   {
    "duration": 4,
    "start_time": "2025-03-25T15:59:19.282Z"
   },
   {
    "duration": 7,
    "start_time": "2025-03-25T15:59:19.287Z"
   },
   {
    "duration": 3,
    "start_time": "2025-03-25T15:59:19.295Z"
   },
   {
    "duration": 2,
    "start_time": "2025-03-25T15:59:19.300Z"
   },
   {
    "duration": 6,
    "start_time": "2025-03-25T15:59:19.304Z"
   },
   {
    "duration": 3,
    "start_time": "2025-03-25T15:59:19.311Z"
   },
   {
    "duration": 30,
    "start_time": "2025-03-25T15:59:19.315Z"
   },
   {
    "duration": 3,
    "start_time": "2025-03-25T15:59:19.346Z"
   },
   {
    "duration": 4,
    "start_time": "2025-03-25T15:59:19.350Z"
   },
   {
    "duration": 18,
    "start_time": "2025-03-25T15:59:19.355Z"
   },
   {
    "duration": 6,
    "start_time": "2025-03-25T15:59:19.375Z"
   },
   {
    "duration": 4,
    "start_time": "2025-03-25T15:59:19.383Z"
   },
   {
    "duration": 4,
    "start_time": "2025-03-25T15:59:19.388Z"
   },
   {
    "duration": 13,
    "start_time": "2025-03-25T15:59:19.393Z"
   },
   {
    "duration": 24,
    "start_time": "2025-03-25T15:59:19.407Z"
   },
   {
    "duration": 2,
    "start_time": "2025-03-25T15:59:19.433Z"
   },
   {
    "duration": 10,
    "start_time": "2025-03-25T15:59:19.437Z"
   },
   {
    "duration": 31,
    "start_time": "2025-03-25T15:59:19.449Z"
   },
   {
    "duration": 54,
    "start_time": "2025-03-25T15:59:19.481Z"
   },
   {
    "duration": 18,
    "start_time": "2025-03-25T15:59:19.537Z"
   },
   {
    "duration": 17,
    "start_time": "2025-03-25T15:59:19.557Z"
   },
   {
    "duration": 12,
    "start_time": "2025-03-25T15:59:19.576Z"
   },
   {
    "duration": 16,
    "start_time": "2025-03-25T15:59:19.590Z"
   },
   {
    "duration": 1159,
    "start_time": "2025-03-25T22:47:28.276Z"
   },
   {
    "duration": 55,
    "start_time": "2025-03-25T22:47:29.437Z"
   },
   {
    "duration": 117,
    "start_time": "2025-03-25T22:47:29.493Z"
   },
   {
    "duration": 49,
    "start_time": "2025-03-25T22:47:29.612Z"
   },
   {
    "duration": 11,
    "start_time": "2025-03-25T22:47:29.663Z"
   },
   {
    "duration": 12,
    "start_time": "2025-03-25T22:47:29.676Z"
   },
   {
    "duration": 11,
    "start_time": "2025-03-25T22:47:29.689Z"
   },
   {
    "duration": 10,
    "start_time": "2025-03-25T22:47:29.702Z"
   },
   {
    "duration": 17,
    "start_time": "2025-03-25T22:47:29.713Z"
   },
   {
    "duration": 25,
    "start_time": "2025-03-25T22:47:29.731Z"
   },
   {
    "duration": 17,
    "start_time": "2025-03-25T22:47:29.757Z"
   },
   {
    "duration": 7,
    "start_time": "2025-03-25T22:47:29.776Z"
   },
   {
    "duration": 7,
    "start_time": "2025-03-25T22:47:29.784Z"
   },
   {
    "duration": 5,
    "start_time": "2025-03-25T22:47:29.794Z"
   },
   {
    "duration": 8,
    "start_time": "2025-03-25T22:47:29.800Z"
   },
   {
    "duration": 6,
    "start_time": "2025-03-25T22:47:29.810Z"
   },
   {
    "duration": 8,
    "start_time": "2025-03-25T22:47:29.817Z"
   },
   {
    "duration": 5,
    "start_time": "2025-03-25T22:47:29.826Z"
   },
   {
    "duration": 41,
    "start_time": "2025-03-25T22:47:29.833Z"
   },
   {
    "duration": 8,
    "start_time": "2025-03-25T22:47:29.875Z"
   },
   {
    "duration": 7,
    "start_time": "2025-03-25T22:47:29.885Z"
   },
   {
    "duration": 3,
    "start_time": "2025-03-25T22:47:29.893Z"
   },
   {
    "duration": 13,
    "start_time": "2025-03-25T22:47:29.898Z"
   },
   {
    "duration": 14,
    "start_time": "2025-03-25T22:47:29.912Z"
   },
   {
    "duration": 162,
    "start_time": "2025-03-25T22:47:29.927Z"
   },
   {
    "duration": 5,
    "start_time": "2025-03-25T22:47:30.091Z"
   },
   {
    "duration": 29,
    "start_time": "2025-03-25T22:47:30.098Z"
   },
   {
    "duration": 55,
    "start_time": "2025-03-25T22:47:30.128Z"
   },
   {
    "duration": 193,
    "start_time": "2025-03-25T22:47:30.185Z"
   },
   {
    "duration": 5,
    "start_time": "2025-03-25T22:47:30.379Z"
   },
   {
    "duration": 51,
    "start_time": "2025-03-25T22:47:30.386Z"
   },
   {
    "duration": 11,
    "start_time": "2025-03-25T22:47:30.439Z"
   },
   {
    "duration": 3,
    "start_time": "2025-03-25T22:47:30.452Z"
   },
   {
    "duration": 125,
    "start_time": "2025-03-25T22:47:30.456Z"
   },
   {
    "duration": 75,
    "start_time": "2025-03-25T22:47:30.583Z"
   },
   {
    "duration": 18,
    "start_time": "2025-03-25T22:47:30.660Z"
   },
   {
    "duration": 180,
    "start_time": "2025-03-25T22:47:30.680Z"
   },
   {
    "duration": 16,
    "start_time": "2025-03-25T22:47:30.862Z"
   },
   {
    "duration": 195,
    "start_time": "2025-03-25T22:47:30.880Z"
   },
   {
    "duration": 9,
    "start_time": "2025-03-25T22:47:31.076Z"
   },
   {
    "duration": 218,
    "start_time": "2025-03-25T22:47:31.090Z"
   },
   {
    "duration": 11,
    "start_time": "2025-03-25T22:47:31.310Z"
   },
   {
    "duration": 10,
    "start_time": "2025-03-25T22:47:31.323Z"
   },
   {
    "duration": 14,
    "start_time": "2025-03-25T22:47:31.334Z"
   },
   {
    "duration": 26,
    "start_time": "2025-03-25T22:47:31.349Z"
   },
   {
    "duration": 15,
    "start_time": "2025-03-25T22:47:31.376Z"
   },
   {
    "duration": 10,
    "start_time": "2025-03-25T22:47:31.393Z"
   },
   {
    "duration": 24,
    "start_time": "2025-03-25T22:47:31.404Z"
   },
   {
    "duration": 11,
    "start_time": "2025-03-25T22:47:31.429Z"
   },
   {
    "duration": 12,
    "start_time": "2025-03-25T22:47:31.441Z"
   },
   {
    "duration": 30,
    "start_time": "2025-03-25T22:47:31.455Z"
   },
   {
    "duration": 9,
    "start_time": "2025-03-25T22:47:31.486Z"
   },
   {
    "duration": 24,
    "start_time": "2025-03-25T22:47:31.496Z"
   },
   {
    "duration": 258,
    "start_time": "2025-03-25T22:47:31.521Z"
   },
   {
    "duration": 3,
    "start_time": "2025-03-25T22:47:31.780Z"
   },
   {
    "duration": 36,
    "start_time": "2025-03-25T22:47:31.784Z"
   },
   {
    "duration": 2,
    "start_time": "2025-03-25T22:47:31.822Z"
   },
   {
    "duration": 9,
    "start_time": "2025-03-25T22:47:31.826Z"
   },
   {
    "duration": 2,
    "start_time": "2025-03-25T22:47:31.837Z"
   },
   {
    "duration": 356,
    "start_time": "2025-03-25T22:47:31.840Z"
   },
   {
    "duration": 12,
    "start_time": "2025-03-25T22:47:32.199Z"
   },
   {
    "duration": 7,
    "start_time": "2025-03-25T22:47:32.213Z"
   },
   {
    "duration": 24,
    "start_time": "2025-03-25T22:47:32.221Z"
   },
   {
    "duration": 27,
    "start_time": "2025-03-25T22:47:32.246Z"
   },
   {
    "duration": 4,
    "start_time": "2025-03-25T22:47:32.276Z"
   },
   {
    "duration": 22,
    "start_time": "2025-03-25T22:47:32.281Z"
   },
   {
    "duration": 39,
    "start_time": "2025-03-25T22:47:32.305Z"
   },
   {
    "duration": 18,
    "start_time": "2025-03-25T22:47:32.346Z"
   },
   {
    "duration": 8,
    "start_time": "2025-03-25T22:47:32.366Z"
   },
   {
    "duration": 36,
    "start_time": "2025-03-25T22:47:32.376Z"
   },
   {
    "duration": 6,
    "start_time": "2025-03-25T22:47:32.414Z"
   },
   {
    "duration": 8,
    "start_time": "2025-03-25T22:47:32.422Z"
   },
   {
    "duration": 20,
    "start_time": "2025-03-25T22:47:32.431Z"
   },
   {
    "duration": 25,
    "start_time": "2025-03-25T22:47:32.453Z"
   },
   {
    "duration": 36,
    "start_time": "2025-03-25T22:47:32.479Z"
   },
   {
    "duration": 27,
    "start_time": "2025-03-25T22:47:32.517Z"
   },
   {
    "duration": 3,
    "start_time": "2025-03-25T22:47:32.546Z"
   },
   {
    "duration": 21,
    "start_time": "2025-03-25T22:47:32.551Z"
   },
   {
    "duration": 7,
    "start_time": "2025-03-25T22:47:32.573Z"
   },
   {
    "duration": 25,
    "start_time": "2025-03-25T22:47:32.581Z"
   },
   {
    "duration": 25,
    "start_time": "2025-03-25T22:47:32.607Z"
   },
   {
    "duration": 12,
    "start_time": "2025-03-25T22:47:32.634Z"
   },
   {
    "duration": 186,
    "start_time": "2025-03-25T22:47:32.647Z"
   },
   {
    "duration": 5,
    "start_time": "2025-03-25T22:47:32.835Z"
   },
   {
    "duration": 54,
    "start_time": "2025-03-25T22:47:32.842Z"
   },
   {
    "duration": 23,
    "start_time": "2025-03-25T22:47:32.897Z"
   },
   {
    "duration": 2,
    "start_time": "2025-03-25T22:47:32.922Z"
   },
   {
    "duration": 6,
    "start_time": "2025-03-25T22:47:32.926Z"
   },
   {
    "duration": 4,
    "start_time": "2025-03-25T22:47:32.933Z"
   },
   {
    "duration": 3,
    "start_time": "2025-03-25T22:47:32.939Z"
   },
   {
    "duration": 10,
    "start_time": "2025-03-25T22:47:32.943Z"
   },
   {
    "duration": 8,
    "start_time": "2025-03-25T22:47:32.954Z"
   },
   {
    "duration": 5,
    "start_time": "2025-03-25T22:47:32.964Z"
   },
   {
    "duration": 4,
    "start_time": "2025-03-25T22:47:32.970Z"
   },
   {
    "duration": 4,
    "start_time": "2025-03-25T22:47:32.975Z"
   },
   {
    "duration": 11,
    "start_time": "2025-03-25T22:47:32.980Z"
   },
   {
    "duration": 23,
    "start_time": "2025-03-25T22:47:32.993Z"
   },
   {
    "duration": 19,
    "start_time": "2025-03-25T22:47:33.018Z"
   },
   {
    "duration": 5,
    "start_time": "2025-03-25T22:47:33.038Z"
   },
   {
    "duration": 9,
    "start_time": "2025-03-25T22:47:33.044Z"
   },
   {
    "duration": 18,
    "start_time": "2025-03-25T22:47:33.054Z"
   },
   {
    "duration": 11,
    "start_time": "2025-03-25T22:47:33.074Z"
   },
   {
    "duration": 16,
    "start_time": "2025-03-25T22:47:33.086Z"
   },
   {
    "duration": 7,
    "start_time": "2025-03-25T22:47:33.103Z"
   },
   {
    "duration": 29,
    "start_time": "2025-03-25T22:47:33.111Z"
   },
   {
    "duration": 7,
    "start_time": "2025-03-25T22:47:33.141Z"
   },
   {
    "duration": 4,
    "start_time": "2025-03-25T22:47:33.149Z"
   },
   {
    "duration": 7,
    "start_time": "2025-03-25T22:47:33.154Z"
   },
   {
    "duration": 12,
    "start_time": "2025-03-25T22:47:33.162Z"
   },
   {
    "duration": 6,
    "start_time": "2025-03-25T22:47:33.176Z"
   },
   {
    "duration": 1412,
    "start_time": "2025-10-16T07:30:31.348Z"
   },
   {
    "duration": 4,
    "start_time": "2025-10-16T07:30:57.958Z"
   },
   {
    "duration": 67,
    "start_time": "2025-10-16T07:31:01.446Z"
   },
   {
    "duration": 138,
    "start_time": "2025-10-16T07:31:02.540Z"
   },
   {
    "duration": 62,
    "start_time": "2025-10-16T07:31:02.686Z"
   },
   {
    "duration": 11,
    "start_time": "2025-10-16T07:31:07.070Z"
   },
   {
    "duration": 3,
    "start_time": "2025-10-16T07:31:45.217Z"
   },
   {
    "duration": 18,
    "start_time": "2025-10-16T07:32:04.816Z"
   },
   {
    "duration": 15,
    "start_time": "2025-10-16T07:33:38.147Z"
   },
   {
    "duration": 13,
    "start_time": "2025-10-16T07:33:52.467Z"
   },
   {
    "duration": 7,
    "start_time": "2025-10-16T07:34:57.067Z"
   },
   {
    "duration": 2,
    "start_time": "2025-10-16T07:35:01.041Z"
   },
   {
    "duration": 6,
    "start_time": "2025-10-16T07:35:01.919Z"
   },
   {
    "duration": 4,
    "start_time": "2025-10-16T07:35:04.653Z"
   },
   {
    "duration": 9,
    "start_time": "2025-10-16T07:35:09.495Z"
   },
   {
    "duration": 6,
    "start_time": "2025-10-16T07:35:19.725Z"
   },
   {
    "duration": 5,
    "start_time": "2025-10-16T07:35:20.172Z"
   },
   {
    "duration": 7,
    "start_time": "2025-10-16T07:35:20.672Z"
   },
   {
    "duration": 3,
    "start_time": "2025-10-16T07:36:14.470Z"
   },
   {
    "duration": 5,
    "start_time": "2025-10-16T07:36:15.735Z"
   },
   {
    "duration": 9,
    "start_time": "2025-10-16T07:36:21.420Z"
   },
   {
    "duration": 119,
    "start_time": "2025-10-16T07:36:31.963Z"
   },
   {
    "duration": 330,
    "start_time": "2025-10-16T07:37:15.576Z"
   },
   {
    "duration": 5,
    "start_time": "2025-10-16T07:37:54.295Z"
   },
   {
    "duration": 211,
    "start_time": "2025-10-16T07:37:58.471Z"
   },
   {
    "duration": 136,
    "start_time": "2025-10-16T07:40:16.338Z"
   },
   {
    "duration": 4,
    "start_time": "2025-10-16T07:40:54.811Z"
   },
   {
    "duration": 201,
    "start_time": "2025-10-16T07:40:58.370Z"
   },
   {
    "duration": 133,
    "start_time": "2025-10-16T07:41:07.429Z"
   },
   {
    "duration": 9,
    "start_time": "2025-10-16T07:41:35.331Z"
   },
   {
    "duration": 4,
    "start_time": "2025-10-16T07:42:42.069Z"
   },
   {
    "duration": 335,
    "start_time": "2025-10-16T07:43:03.951Z"
   },
   {
    "duration": 459,
    "start_time": "2025-10-16T07:47:49.534Z"
   },
   {
    "duration": 391,
    "start_time": "2025-10-16T07:50:19.594Z"
   }
  ],
  "kernelspec": {
   "display_name": "Python 3 (ipykernel)",
   "language": "python",
   "name": "python3"
  },
  "language_info": {
   "codemirror_mode": {
    "name": "ipython",
    "version": 3
   },
   "file_extension": ".py",
   "mimetype": "text/x-python",
   "name": "python",
   "nbconvert_exporter": "python",
   "pygments_lexer": "ipython3",
   "version": "3.12.7"
  },
  "toc": {
   "base_numbering": 1,
   "nav_menu": {},
   "number_sections": true,
   "sideBar": true,
   "skip_h1_title": true,
   "title_cell": "Table of Contents",
   "title_sidebar": "Contents",
   "toc_cell": false,
   "toc_position": {
    "height": "690px",
    "left": "22px",
    "top": "111.133px",
    "width": "409.55px"
   },
   "toc_section_display": true,
   "toc_window_display": true
  }
 },
 "nbformat": 4,
 "nbformat_minor": 5
}
